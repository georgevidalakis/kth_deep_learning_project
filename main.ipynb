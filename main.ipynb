{
 "cells": [
  {
   "cell_type": "code",
   "execution_count": 89,
   "metadata": {},
   "outputs": [],
   "source": [
    "import os\n",
    "from typing import Tuple\n",
    "\n",
    "import torch\n",
    "from PIL import Image\n",
    "import numpy as np\n",
    "import torch.nn as nn\n",
    "import torchvision\n",
    "import matplotlib.pyplot as plt"
   ]
  },
  {
   "cell_type": "code",
   "execution_count": 30,
   "metadata": {},
   "outputs": [],
   "source": [
    "def get_pretrained_model_with_trainable_last_layer():\n",
    "    model = torchvision.models.resnet34(weights=torchvision.models.ResNet34_Weights.IMAGENET1K_V1)\n",
    "\n",
    "    for param in model.parameters():\n",
    "        param.requires_grad = False\n",
    "\n",
    "    model.fc = nn.Linear(in_features=model.fc.in_features, out_features=2)\n",
    "\n",
    "    return model"
   ]
  },
  {
   "cell_type": "code",
   "execution_count": 92,
   "metadata": {},
   "outputs": [],
   "source": [
    "def load_dataset() -> Tuple[torch.Tensor, torch.Tensor]:\n",
    "    transformation = torchvision.models.ResNet34_Weights.IMAGENET1K_V1.transforms()\n",
    "    with open(os.path.join('annotations', 'list.txt'), encoding='utf-8') as f:\n",
    "        lines = f.read().split('\\n')\n",
    "    transformed_imgs = []\n",
    "    labels = []\n",
    "    for line in lines:\n",
    "        if line and not line.startswith('#'):\n",
    "            line_parts = line.split()\n",
    "            img_name = line_parts[0]\n",
    "            species_id = int(line_parts[2]) - 1\n",
    "            img = Image.open(os.path.join('images', f'{img_name}.jpg')).convert('RGB')\n",
    "            transformed_img = transformation(img)\n",
    "            transformed_imgs.append(transformed_img)\n",
    "            labels.append(species_id)\n",
    "    return torch.stack(transformed_imgs), torch.tensor(labels)"
   ]
  },
  {
   "cell_type": "code",
   "execution_count": 93,
   "metadata": {},
   "outputs": [],
   "source": [
    "model = get_pretrained_model_with_trainable_last_layer()"
   ]
  },
  {
   "cell_type": "code",
   "execution_count": 94,
   "metadata": {},
   "outputs": [],
   "source": [
    "X, y = load_dataset()"
   ]
  },
  {
   "cell_type": "code",
   "execution_count": 95,
   "metadata": {},
   "outputs": [
    {
     "data": {
      "text/plain": [
       "(torch.float32,\n",
       " torch.Size([7349, 3, 224, 224]),\n",
       " torch.int64,\n",
       " torch.Size([7349]))"
      ]
     },
     "execution_count": 95,
     "metadata": {},
     "output_type": "execute_result"
    }
   ],
   "source": [
    "X.dtype, X.shape, y.dtype, y.shape"
   ]
  },
  {
   "cell_type": "code",
   "execution_count": null,
   "metadata": {},
   "outputs": [],
   "source": []
  }
 ],
 "metadata": {
  "kernelspec": {
   "display_name": "kth_deep_learning_project",
   "language": "python",
   "name": "python3"
  },
  "language_info": {
   "codemirror_mode": {
    "name": "ipython",
    "version": 3
   },
   "file_extension": ".py",
   "mimetype": "text/x-python",
   "name": "python",
   "nbconvert_exporter": "python",
   "pygments_lexer": "ipython3",
   "version": "3.10.13"
  }
 },
 "nbformat": 4,
 "nbformat_minor": 2
}
