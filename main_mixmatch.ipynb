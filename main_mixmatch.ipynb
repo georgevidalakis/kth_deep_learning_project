{
  "cells": [
    {
      "cell_type": "code",
      "execution_count": 2,
      "metadata": {
        "colab": {
          "base_uri": "https://localhost:8080/"
        },
        "id": "KeuNd1kep518",
        "outputId": "dfe149e9-50f6-4b27-9270-953b64995760"
      },
      "outputs": [],
      "source": [
        "#!unzip drive/MyDrive/Pets-data/images.zip\n",
        "#!cp -r drive/MyDrive/Pets-data/annotations .\n",
        "#!ls"
      ]
    },
    {
      "cell_type": "code",
      "execution_count": 47,
      "metadata": {
        "id": "4ZFIkQokqENb"
      },
      "outputs": [],
      "source": [
        "import os\n",
        "import yaml\n",
        "from typing import Tuple, List\n",
        "\n",
        "import torch\n",
        "import torch.nn.functional as F\n",
        "import torchvision\n",
        "from tqdm import tqdm\n",
        "from PIL import Image\n",
        "import torch.nn as nn\n",
        "from pydantic import BaseModel\n",
        "import matplotlib.pyplot as plt\n",
        "from torchvision import transforms\n",
        "from torch.utils.data import Dataset, DataLoader\n",
        "from sklearn.model_selection import train_test_split\n",
        "import numpy as np\n",
        "import copy"
      ]
    },
    {
      "cell_type": "code",
      "execution_count": 91,
      "metadata": {
        "id": "ue8DGLNjqFoY"
      },
      "outputs": [],
      "source": [
        "# Define constants\n",
        "\n",
        "CONFIG_FILE_PATH = 'config-mixmatch.yaml'\n",
        "IMAGE_COL_IDX = 0\n",
        "CLASS_ID_COL_IDX = 1\n",
        "SPECIES_COL_IDX = 2\n",
        "POSSIBLE_NUM_CLASSES = {2, 37}\n",
        "T = 0.5"
      ]
    },
    {
      "cell_type": "code",
      "execution_count": 6,
      "metadata": {
        "id": "_ijqv1jpqHPc"
      },
      "outputs": [],
      "source": [
        "class AdamOptimizerConfig(BaseModel):\n",
        "    lr: float\n",
        "    weight_decay: float"
      ]
    },
    {
      "cell_type": "code",
      "execution_count": 52,
      "metadata": {
        "id": "oBGz4qw_qIs1"
      },
      "outputs": [],
      "source": [
        "class Config(BaseModel):\n",
        "    device: str\n",
        "    num_classes: int\n",
        "    batch_size: int\n",
        "    max_num_epochs: int\n",
        "    patience: int\n",
        "    adam_optimizer_config: AdamOptimizerConfig\n",
        "    num_batch_norm_layers_to_train_params: int\n",
        "    num_batch_norm_layers_to_update_running_stats: int\n",
        "    train_earlier_layers_delay: int\n",
        "    n_hidden_layers_to_train: int\n",
        "    labelled_data_ratio: float\n",
        "    ema_decay: float\n",
        "    lambda_u_epoch_max: int\n",
        "    alpha: float\n",
        "    lambda_u: float"
      ]
    },
    {
      "cell_type": "code",
      "execution_count": 101,
      "metadata": {
        "id": "9DLAgyNJqKXp"
      },
      "outputs": [],
      "source": [
        "with open(CONFIG_FILE_PATH, encoding='utf-8') as f:\n",
        "    config_dict = yaml.load(f, Loader=yaml.FullLoader)\n",
        "\n",
        "config = Config.model_validate(config_dict)\n",
        "\n",
        "assert config.num_classes in POSSIBLE_NUM_CLASSES\n",
        "assert 0 <= config.num_batch_norm_layers_to_train_params <= 36  # 36 batch norm layers in resnet34\n",
        "assert 0 <= config.num_batch_norm_layers_to_update_running_stats <= 36  # 36 batch norm layers in resnet34"
      ]
    },
    {
      "cell_type": "code",
      "execution_count": 59,
      "metadata": {
        "id": "RwJuQyvvxsl6"
      },
      "outputs": [],
      "source": [
        "# K = 2\n",
        "class TransformTwice(nn.Module):\n",
        "    def __init__(self, transformation):\n",
        "        super().__init__()\n",
        "        self.transformation = transformation\n",
        "\n",
        "    def __call__(self, data):\n",
        "        return self.transformation(data), self.transformation(data)"
      ]
    },
    {
      "cell_type": "code",
      "execution_count": 60,
      "metadata": {
        "id": "EkRmU3ItqM2B"
      },
      "outputs": [],
      "source": [
        "class LabelledImageDataset(Dataset):\n",
        "    def __init__(self, filenames: List[str], labels: List[int], use_augmentations: bool) -> None:\n",
        "        self.filenames = filenames\n",
        "        self.labels = labels\n",
        "        # self.transformation = torchvision.models.ResNet34_Weights.IMAGENET1K_V1.transforms()\n",
        "        self.transformation = (\n",
        "            transforms.Compose([\n",
        "                torchvision.models.ResNet34_Weights.IMAGENET1K_V1.transforms(),\n",
        "                # transforms.RandomCrop((what size, what other size)),\n",
        "                transforms.RandomHorizontalFlip(),\n",
        "                # transforms.RandomRotation((-10, 10)),\n",
        "                # transforms.RandomErasing(),\n",
        "            ])\n",
        "            if use_augmentations\n",
        "            else torchvision.models.ResNet34_Weights.IMAGENET1K_V1.transforms()\n",
        "        )\n",
        "\n",
        "    def __len__(self) -> int:\n",
        "        return len(self.filenames)\n",
        "\n",
        "    def __getitem__(self, idx: int) -> Tuple[torch.Tensor, torch.Tensor]:\n",
        "        image = Image.open(os.path.join('images', f'{self.filenames[idx]}.jpg')).convert('RGB')\n",
        "        label = self.labels[idx]\n",
        "\n",
        "        transformed_img = self.transformation(image)\n",
        "\n",
        "        return transformed_img.to(config.device), torch.tensor(label).to(config.device)"
      ]
    },
    {
      "cell_type": "code",
      "execution_count": 61,
      "metadata": {
        "id": "CvaT1RlFqRxu"
      },
      "outputs": [],
      "source": [
        "class UnlabelledImageDataset(Dataset):\n",
        "    def __init__(self, filenames: List[str], use_augmentations: bool) -> None:\n",
        "        self.filenames = filenames\n",
        "        # self.transformation = torchvision.models.ResNet34_Weights.IMAGENET1K_V1.transforms()\n",
        "        self.transformation = (\n",
        "            transforms.Compose([\n",
        "                torchvision.models.ResNet34_Weights.IMAGENET1K_V1.transforms(),\n",
        "                # transforms.RandomCrop((what size, what other size)),\n",
        "                TransformTwice(transforms.RandomHorizontalFlip()),\n",
        "                # transforms.RandomRotation((-10, 10)),\n",
        "                # transforms.RandomErasing(),\n",
        "            ])\n",
        "            if use_augmentations\n",
        "            else torchvision.models.ResNet34_Weights.IMAGENET1K_V1.transforms()\n",
        "        )\n",
        "\n",
        "    def __len__(self) -> int:\n",
        "        return len(self.filenames)\n",
        "\n",
        "    def __getitem__(self, idx: int) -> Tuple[torch.Tensor, torch.Tensor]:\n",
        "        image = Image.open(os.path.join('images', f'{self.filenames[idx]}.jpg')).convert('RGB')\n",
        "\n",
        "        transformed_img, transformed_img_2 = self.transformation(image)\n",
        "\n",
        "        return transformed_img.to(config.device), transformed_img_2.to(config.device)"
      ]
    },
    {
      "cell_type": "code",
      "execution_count": 62,
      "metadata": {
        "id": "fVgDOSF6qTXJ"
      },
      "outputs": [],
      "source": [
        "def get_image_names_and_labels(annotations_file_path: str, num_classes: int) -> Tuple[List[str], List[int]]:\n",
        "    filenames: List[str] = []\n",
        "    labels: List[int] = []\n",
        "\n",
        "    with open(annotations_file_path, encoding='utf-8') as f:\n",
        "        lines = f.readlines()\n",
        "\n",
        "    label_col_idx = SPECIES_COL_IDX if num_classes == 2 else CLASS_ID_COL_IDX\n",
        "\n",
        "    for line in lines:\n",
        "        line_split = line.split()\n",
        "        filenames.append(line_split[IMAGE_COL_IDX])\n",
        "        labels.append(int(line_split[label_col_idx]) - 1)\n",
        "\n",
        "    return filenames, labels"
      ]
    },
    {
      "cell_type": "code",
      "execution_count": 63,
      "metadata": {
        "id": "KYJDMrCnqUqG"
      },
      "outputs": [],
      "source": [
        "def get_batch_norm_layers(model: nn.Module) -> List[nn.Module]:\n",
        "    return [\n",
        "        module\n",
        "        for module in model.modules()\n",
        "        if isinstance(module, nn.BatchNorm2d)\n",
        "    ]"
      ]
    },
    {
      "cell_type": "code",
      "execution_count": 64,
      "metadata": {
        "id": "0tKAcH4UqWvH"
      },
      "outputs": [],
      "source": [
        "def get_pretrained_model_with_trainable_last_layer(num_batch_norm_layers_to_train_params: int) -> nn.Module:\n",
        "    model = torchvision.models.resnet34(weights=torchvision.models.ResNet34_Weights.IMAGENET1K_V1)\n",
        "\n",
        "    for param in model.parameters():\n",
        "        param.requires_grad = False\n",
        "\n",
        "    batch_norm_layers = get_batch_norm_layers(model)\n",
        "    batch_norm_layers_to_train_params = batch_norm_layers[-num_batch_norm_layers_to_train_params:] if num_batch_norm_layers_to_train_params else []\n",
        "\n",
        "    for batch_norm_layer in batch_norm_layers_to_train_params:\n",
        "        for param in batch_norm_layer.parameters():\n",
        "            param.requires_grad = True\n",
        "\n",
        "    model.fc = nn.Linear(in_features=model.fc.in_features, out_features=config.num_classes)\n",
        "\n",
        "    return model.to(config.device)"
      ]
    },
    {
      "cell_type": "code",
      "execution_count": 65,
      "metadata": {
        "id": "_u2PpOgAqZ5v"
      },
      "outputs": [],
      "source": [
        "def make_hidden_layers_trainable(model: nn.Module, number_of_hidden_layers_to_train: int) -> nn.Module:\n",
        "    trainable_layers = [layer for layer in model.modules() if not isinstance(layer, torchvision.models.resnet.ResNet) and not isinstance(layer, torchvision.models.resnet.BasicBlock) and not isinstance(layer, nn.Sequential) and not isinstance(layer, nn.Sequential) and len(list(layer.parameters())) > 0]\n",
        "    trainable_layers = list(reversed(trainable_layers[:-1]))\n",
        "\n",
        "    for l in trainable_layers[:number_of_hidden_layers_to_train]:\n",
        "        for p in l.parameters():\n",
        "            p.requires_grad = True\n",
        "\n",
        "    return model"
      ]
    },
    {
      "cell_type": "code",
      "execution_count": null,
      "metadata": {
        "id": "ANC6uOoPqb4i"
      },
      "outputs": [],
      "source": [
        "def get_model_accuracy(model: nn.Module, data_loader: DataLoader) -> float:\n",
        "    correct_predictions_cnt = 0\n",
        "    total_predictions_cnt = 0\n",
        "    model.eval()\n",
        "    with torch.no_grad():\n",
        "        for inputs, labels in tqdm(data_loader, desc='Computing accuracy'):\n",
        "            outputs = model(inputs)\n",
        "            correct_predictions_cnt += (torch.argmax(outputs, axis=1) == labels).sum()\n",
        "            total_predictions_cnt += len(outputs)\n",
        "    return correct_predictions_cnt / total_predictions_cnt"
      ]
    },
    {
      "cell_type": "code",
      "execution_count": 67,
      "metadata": {
        "id": "8P3w9B6L6eTt"
      },
      "outputs": [],
      "source": [
        "def mix_up(X_1, X_2, Y_1, Y_2):\n",
        "    assert X_1.shape == X_2.shape, 'mix_up: inputs must have same size'\n",
        "    X = []\n",
        "    Y = []\n",
        "    for i in range(len(X_1)):\n",
        "        x_1 = X_1[i]\n",
        "        x_2 = X_2[i]\n",
        "        y_1 = Y_1[i]\n",
        "        y_2 = Y_2[i]\n",
        "        l = np.random.beta(config.alpha, config.alpha)\n",
        "        l = max(l, (1-l))\n",
        "        x = l * x_1 + (1-l) * x_2\n",
        "        y = l * y_1 + (1-l) * y_2\n",
        "\n",
        "        X.append(x)\n",
        "        Y.append(y)\n",
        "    return torch.stack(X), torch.stack(Y)"
      ]
    },
    {
      "cell_type": "code",
      "execution_count": null,
      "metadata": {
        "id": "9nVtbGQxaXq9"
      },
      "outputs": [],
      "source": [
        "def linear_rampup(epoch):\n",
        "    return float(min(epoch / config.lambda_u_epoch_max, 1))"
      ]
    },
    {
      "cell_type": "code",
      "execution_count": null,
      "metadata": {
        "id": "PtlLiQaeZ93c"
      },
      "outputs": [],
      "source": [
        "class SemiLoss(object):\n",
        "    def __call__(self, outputs_x, targets_x, outputs_u, targets_u, epoch):\n",
        "        probs_u = torch.softmax(outputs_u, dim=1)\n",
        "\n",
        "        Lx = -torch.mean(torch.sum(F.log_softmax(outputs_x, dim=1) * targets_x, dim=1))\n",
        "        Lu = torch.mean((probs_u - targets_u)**2)\n",
        "\n",
        "        return Lx, Lu, config.lambda_u * linear_rampup(epoch)"
      ]
    },
    {
      "cell_type": "code",
      "execution_count": 70,
      "metadata": {},
      "outputs": [],
      "source": [
        "def update_ema_parameters(model, ema_model, ema_decay=0.999):\n",
        "    with torch.no_grad():\n",
        "        for ema_param, param in zip(ema_model.parameters(), model.parameters()):\n",
        "            ema_param.data.copy_(ema_param.data * ema_decay + (1 - ema_decay) * param.data)"
      ]
    },
    {
      "cell_type": "code",
      "execution_count": 93,
      "metadata": {
        "id": "GWrvHelqqgYU"
      },
      "outputs": [],
      "source": [
        "def infinite_batch_generator(loader: DataLoader):\n",
        "    while True:\n",
        "        for batch in loader:\n",
        "            yield batch\n",
        "\n",
        "\n",
        "def train_single_epoch(\n",
        "        model: nn.Module,\n",
        "        ema_model: nn.Module,        \n",
        "        train_data_loader: DataLoader,\n",
        "        unlabelled_train_data_loader: DataLoader,\n",
        "        criterion: SemiLoss,\n",
        "        optimizer: torch.optim.Optimizer,\n",
        "        num_batch_norm_layers_to_update_running_stats: int,\n",
        "        epoch: int,\n",
        "        ) -> float:\n",
        "    model.train()\n",
        "    batch_norm_layers = get_batch_norm_layers(model)\n",
        "    batch_norm_layers_to_not_update_running_stats = (\n",
        "        batch_norm_layers[:-num_batch_norm_layers_to_update_running_stats]\n",
        "        if num_batch_norm_layers_to_update_running_stats\n",
        "        else batch_norm_layers\n",
        "    )\n",
        "    for batch_norm_layer in batch_norm_layers_to_not_update_running_stats:\n",
        "        batch_norm_layer.eval()\n",
        "    train_loss_sum = 0.0\n",
        "    train_samples_cnt = 0\n",
        "\n",
        "    unlabelled_generator = infinite_batch_generator(unlabelled_train_data_loader)\n",
        "\n",
        "    for labelled_inputs, labelled_targets in tqdm(train_data_loader, desc='Training model'):\n",
        "\n",
        "        labelled_targets = F.one_hot(labelled_targets, config.num_classes)\n",
        "        unlabelled_inputs_1, unlabelled_inputs_2 = next(unlabelled_generator)\n",
        "        unlabelled_inputs = torch.cat([unlabelled_inputs_1, unlabelled_inputs_2])\n",
        "\n",
        "        # Calculated the pseudo label for each of the augmented unlabeled data point\n",
        "        with torch.no_grad():\n",
        "            u_o_1 = model(unlabelled_inputs_1)\n",
        "            u_o_2 = model(unlabelled_inputs_2)\n",
        "            unlabelled_targets = (F.softmax(u_o_1, dim=1) + F.softmax(u_o_2, dim=1)) / 2\n",
        "            unlabelled_targets = unlabelled_targets**(1/T)\n",
        "            unlabelled_targets = unlabelled_targets / unlabelled_targets.sum(dim=1, keepdim=True)\n",
        "\n",
        "        all_inputs = torch.cat([labelled_inputs, unlabelled_inputs_1, unlabelled_inputs_2])\n",
        "        all_targets = torch.cat([labelled_targets, unlabelled_targets, unlabelled_targets])\n",
        "        idxs = np.random.permutation(len(all_inputs))\n",
        "        all_inputs = all_inputs[idxs]\n",
        "        all_targets = all_targets[idxs]\n",
        "\n",
        "        X, targets_X = mix_up(labelled_inputs, all_inputs[:len(labelled_inputs)], labelled_targets, all_targets[:len(labelled_inputs)])\n",
        "        U, targets_U = mix_up(unlabelled_inputs, all_inputs[len(labelled_inputs):], torch.cat([unlabelled_targets, unlabelled_targets]), all_targets[len(labelled_inputs):])\n",
        "\n",
        "        outputs_X = model(X)\n",
        "        outputs_U = model(U)\n",
        "\n",
        "        LX, LU, lamb_u = criterion(outputs_X, targets_X, outputs_U, targets_U, epoch)\n",
        "\n",
        "        optimizer.zero_grad()\n",
        "        loss = LX + lamb_u * LU\n",
        "        loss.backward()\n",
        "        optimizer.step()\n",
        "        update_ema_parameters(model, ema_model, config.ema_decay)\n",
        "        train_loss_sum += loss.item() * (len(outputs_X) + len(outputs_U))\n",
        "        train_samples_cnt += len(outputs_X) + len(outputs_U)\n",
        "\n",
        "    return train_loss_sum / train_samples_cnt"
      ]
    },
    {
      "cell_type": "code",
      "execution_count": 72,
      "metadata": {
        "id": "E1dMuSYEqiGk"
      },
      "outputs": [],
      "source": [
        "def save_checkpoint(model: nn.Module, optimizer: torch.optim.Optimizer) -> Tuple[nn.Module, torch.optim.Optimizer]:\n",
        "    checkpoint = {\n",
        "        'model_state_dict': model.state_dict(),\n",
        "        'optimizer_state_dict': optimizer.state_dict(),\n",
        "    }\n",
        "    torch.save(checkpoint, 'checkpoint.pt')"
      ]
    },
    {
      "cell_type": "code",
      "execution_count": 73,
      "metadata": {
        "id": "eIMQWIWdqjng"
      },
      "outputs": [],
      "source": [
        "def load_checkpoint(model: nn.Module, optimizer: torch.optim.Optimizer) -> None:\n",
        "    checkpoint = torch.load('checkpoint.pt')\n",
        "    model.load_state_dict(checkpoint['model_state_dict'])\n",
        "    optimizer.load_state_dict(checkpoint['optimizer_state_dict'])"
      ]
    },
    {
      "cell_type": "code",
      "execution_count": 74,
      "metadata": {
        "id": "onXgk_1LqlwT"
      },
      "outputs": [],
      "source": [
        "filenames_trainval, labels_trainval = get_image_names_and_labels('annotations/trainval.txt', num_classes=config.num_classes)\n",
        "filenames_test, labels_test = get_image_names_and_labels('annotations/test.txt', num_classes=config.num_classes)\n",
        "filenames_train, filenames_val, labels_train, labels_val = train_test_split(filenames_trainval, labels_trainval, test_size=0.2, stratify=labels_trainval)\n",
        "\n",
        "filenames_train, unlabelled_filenames_train, labels_train, _ = train_test_split(filenames_train, labels_train, train_size=config.labelled_data_ratio, stratify=labels_train)\n",
        "dataset_train = LabelledImageDataset(filenames_train, labels_train, use_augmentations=True)\n",
        "unlabelled_dataset_train = UnlabelledImageDataset(unlabelled_filenames_train, use_augmentations=True)\n",
        "\n",
        "dataset_val = LabelledImageDataset(filenames_val, labels_val, use_augmentations=False)\n",
        "dataset_test = LabelledImageDataset(filenames_test, labels_test, use_augmentations=False)\n",
        "\n",
        "unlabelled_train_data_loader = DataLoader(unlabelled_dataset_train, batch_size=config.batch_size, shuffle=True)\n",
        "train_data_loader = DataLoader(dataset_train, batch_size=config.batch_size, shuffle=True)\n",
        "val_data_loader = DataLoader(dataset_val, batch_size=config.batch_size, shuffle=False)\n",
        "test_data_loader = DataLoader(dataset_test, batch_size=config.batch_size, shuffle=False)"
      ]
    },
    {
      "cell_type": "code",
      "execution_count": 100,
      "metadata": {
        "id": "xNm13T8YqqeN"
      },
      "outputs": [],
      "source": [
        "# Train using pseudo labelling\n",
        "def train_model():\n",
        "    model = get_pretrained_model_with_trainable_last_layer(config.num_batch_norm_layers_to_train_params)\n",
        "    ema_model = copy.deepcopy(model)\n",
        "\n",
        "    criterion = SemiLoss()\n",
        "    optimizer = torch.optim.Adam(model.parameters(), lr=config.adam_optimizer_config.lr, weight_decay=config.adam_optimizer_config.weight_decay)\n",
        "\n",
        "    max_val_accuracy = float('-inf')\n",
        "    argmax_epoch = -1\n",
        "\n",
        "    accuracies = []\n",
        "\n",
        "    for epoch in range(config.max_num_epochs):\n",
        "        print(f'Epoch #{epoch}:')\n",
        "        train_loss = train_single_epoch(model, ema_model, train_data_loader, unlabelled_train_data_loader, criterion, optimizer, config.num_batch_norm_layers_to_update_running_stats, epoch)\n",
        "        print(f'Train loss: {train_loss}')\n",
        "        val_accuracy = get_model_accuracy(ema_model, val_data_loader)\n",
        "        accuracies.append(val_accuracy)\n",
        "        if val_accuracy > max_val_accuracy:\n",
        "            print(f'Validation accuracy: {100 * val_accuracy:.2f}% (new best)')\n",
        "            max_val_accuracy = val_accuracy\n",
        "            argmax_epoch = epoch\n",
        "            save_checkpoint(ema_model, optimizer)\n",
        "            print('Checkpoint saved')\n",
        "        else:\n",
        "            print(f'Validation accuracy: {100 * val_accuracy:.2f}% (worse than {100 * max_val_accuracy:.2f}% of epoch {argmax_epoch})')\n",
        "            if epoch > argmax_epoch + config.patience:\n",
        "                print(f'Early stopping')\n",
        "                break\n",
        "        # Start training earlier layers\n",
        "        if epoch == config.train_earlier_layers_delay and config.n_hidden_layers_to_train > 0:\n",
        "            print (f'Making last {config.n_hidden_layers_to_train} hidden layers trainable')\n",
        "            make_hidden_layers_trainable(model, config.n_hidden_layers_to_train)\n",
        "            optimizer = torch.optim.Adam(model.parameters(), lr=config.adam_optimizer_config.lr / 100, weight_decay=config.adam_optimizer_config.weight_decay)\n",
        "        print()\n",
        "    return ema_model, optimizer, accuracies"
      ]
    },
    {
      "cell_type": "code",
      "execution_count": 102,
      "metadata": {
        "colab": {
          "base_uri": "https://localhost:8080/"
        },
        "id": "dKXzWiGxqsnA",
        "outputId": "5fafe2b2-dfce-4418-a505-287d5815ebfd"
      },
      "outputs": [
        {
          "name": "stderr",
          "output_type": "stream",
          "text": [
            "Training model: 100%|██████████| 10/10 [00:02<00:00,  3.63it/s]\n"
          ]
        },
        {
          "name": "stdout",
          "output_type": "stream",
          "text": [
            "Train loss: 1.545376811599323\n"
          ]
        },
        {
          "name": "stderr",
          "output_type": "stream",
          "text": [
            "Computing accuracy: 100%|██████████| 23/23 [00:02<00:00,  9.40it/s]\n"
          ]
        },
        {
          "name": "stdout",
          "output_type": "stream",
          "text": [
            "Validation accuracy: 61.41% (new best)\n",
            "Checkpoint saved\n",
            "\n",
            "Epoch #50:\n"
          ]
        },
        {
          "name": "stderr",
          "output_type": "stream",
          "text": [
            "Training model: 100%|██████████| 10/10 [00:02<00:00,  3.68it/s]\n"
          ]
        },
        {
          "name": "stdout",
          "output_type": "stream",
          "text": [
            "Train loss: 1.5353658255468854\n"
          ]
        },
        {
          "name": "stderr",
          "output_type": "stream",
          "text": [
            "Computing accuracy: 100%|██████████| 23/23 [00:02<00:00,  9.12it/s]\n"
          ]
        },
        {
          "name": "stdout",
          "output_type": "stream",
          "text": [
            "Validation accuracy: 62.77% (new best)\n",
            "Checkpoint saved\n",
            "\n",
            "Epoch #51:\n"
          ]
        },
        {
          "name": "stderr",
          "output_type": "stream",
          "text": [
            "Training model: 100%|██████████| 10/10 [00:02<00:00,  3.65it/s]\n"
          ]
        },
        {
          "name": "stdout",
          "output_type": "stream",
          "text": [
            "Train loss: 1.517876562776096\n"
          ]
        },
        {
          "name": "stderr",
          "output_type": "stream",
          "text": [
            "Computing accuracy: 100%|██████████| 23/23 [00:02<00:00,  9.37it/s]\n"
          ]
        },
        {
          "name": "stdout",
          "output_type": "stream",
          "text": [
            "Validation accuracy: 63.86% (new best)\n",
            "Checkpoint saved\n",
            "\n",
            "Epoch #52:\n"
          ]
        },
        {
          "name": "stderr",
          "output_type": "stream",
          "text": [
            "Training model: 100%|██████████| 10/10 [00:02<00:00,  3.66it/s]\n"
          ]
        },
        {
          "name": "stdout",
          "output_type": "stream",
          "text": [
            "Train loss: 1.4820751763513307\n"
          ]
        },
        {
          "name": "stderr",
          "output_type": "stream",
          "text": [
            "Computing accuracy: 100%|██████████| 23/23 [00:02<00:00,  9.15it/s]\n"
          ]
        },
        {
          "name": "stdout",
          "output_type": "stream",
          "text": [
            "Validation accuracy: 64.81% (new best)\n",
            "Checkpoint saved\n",
            "\n",
            "Epoch #53:\n"
          ]
        },
        {
          "name": "stderr",
          "output_type": "stream",
          "text": [
            "Training model: 100%|██████████| 10/10 [00:02<00:00,  3.71it/s]\n"
          ]
        },
        {
          "name": "stdout",
          "output_type": "stream",
          "text": [
            "Train loss: 1.4645052392681865\n"
          ]
        },
        {
          "name": "stderr",
          "output_type": "stream",
          "text": [
            "Computing accuracy: 100%|██████████| 23/23 [00:02<00:00,  9.28it/s]\n"
          ]
        },
        {
          "name": "stdout",
          "output_type": "stream",
          "text": [
            "Validation accuracy: 66.17% (new best)\n",
            "Checkpoint saved\n",
            "\n",
            "Epoch #54:\n"
          ]
        },
        {
          "name": "stderr",
          "output_type": "stream",
          "text": [
            "Training model: 100%|██████████| 10/10 [00:02<00:00,  3.57it/s]\n"
          ]
        },
        {
          "name": "stdout",
          "output_type": "stream",
          "text": [
            "Train loss: 1.3684705393727892\n"
          ]
        },
        {
          "name": "stderr",
          "output_type": "stream",
          "text": [
            "Computing accuracy: 100%|██████████| 23/23 [00:02<00:00,  9.60it/s]\n"
          ]
        },
        {
          "name": "stdout",
          "output_type": "stream",
          "text": [
            "Validation accuracy: 67.53% (new best)\n",
            "Checkpoint saved\n",
            "\n",
            "Epoch #55:\n"
          ]
        },
        {
          "name": "stderr",
          "output_type": "stream",
          "text": [
            "Training model: 100%|██████████| 10/10 [00:02<00:00,  3.65it/s]\n"
          ]
        },
        {
          "name": "stdout",
          "output_type": "stream",
          "text": [
            "Train loss: 1.4650118820672373\n"
          ]
        },
        {
          "name": "stderr",
          "output_type": "stream",
          "text": [
            "Computing accuracy: 100%|██████████| 23/23 [00:02<00:00,  9.29it/s]\n"
          ]
        },
        {
          "name": "stdout",
          "output_type": "stream",
          "text": [
            "Validation accuracy: 68.75% (new best)\n",
            "Checkpoint saved\n",
            "\n",
            "Epoch #56:\n"
          ]
        },
        {
          "name": "stderr",
          "output_type": "stream",
          "text": [
            "Training model: 100%|██████████| 10/10 [00:02<00:00,  3.58it/s]\n"
          ]
        },
        {
          "name": "stdout",
          "output_type": "stream",
          "text": [
            "Train loss: 1.486402016380359\n"
          ]
        },
        {
          "name": "stderr",
          "output_type": "stream",
          "text": [
            "Computing accuracy: 100%|██████████| 23/23 [00:02<00:00,  9.70it/s]\n"
          ]
        },
        {
          "name": "stdout",
          "output_type": "stream",
          "text": [
            "Validation accuracy: 70.38% (new best)\n",
            "Checkpoint saved\n",
            "\n",
            "Epoch #57:\n"
          ]
        },
        {
          "name": "stderr",
          "output_type": "stream",
          "text": [
            "Training model: 100%|██████████| 10/10 [00:02<00:00,  3.68it/s]\n"
          ]
        },
        {
          "name": "stdout",
          "output_type": "stream",
          "text": [
            "Train loss: 1.4357058718577187\n"
          ]
        },
        {
          "name": "stderr",
          "output_type": "stream",
          "text": [
            "Computing accuracy:  70%|██████▉   | 16/23 [00:01<00:00,  9.15it/s]"
          ]
        }
      ],
      "source": [
        "# Train the model\n",
        "model, optimizer, accuracies = train_model()\n"
      ]
    },
    {
      "cell_type": "code",
      "execution_count": 99,
      "metadata": {},
      "outputs": [
        {
          "data": {
            "image/png": "[encoded data removed]",
            "text/plain": [
              "<Figure size 640x480 with 1 Axes>"
            ]
          },
          "metadata": {},
          "output_type": "display_data"
        }
      ],
      "source": [
        "plt.title('Validation accuracies')\n",
        "plt.ylabel('Accuracy')\n",
        "plt.xlabel('Epoch')\n",
        "plt.plot(torch.tensor(accuracies).cpu().numpy())\n",
        "\n",
        "plt.show()"
      ]
    },
    {
      "cell_type": "code",
      "execution_count": 90,
      "metadata": {
        "colab": {
          "base_uri": "https://localhost:8080/"
        },
        "id": "k3RkV005quy6",
        "outputId": "0838222e-b0f2-4e6e-a225-3f85c432f40c"
      },
      "outputs": [
        {
          "name": "stdout",
          "output_type": "stream",
          "text": [
            "Checkpoint loaded\n"
          ]
        },
        {
          "name": "stderr",
          "output_type": "stream",
          "text": [
            "Computing accuracy: 100%|██████████| 115/115 [00:14<00:00,  8.06it/s]"
          ]
        },
        {
          "name": "stdout",
          "output_type": "stream",
          "text": [
            "Test accuracy: 86.35%\n"
          ]
        },
        {
          "name": "stderr",
          "output_type": "stream",
          "text": [
            "\n"
          ]
        }
      ],
      "source": [
        "load_checkpoint(model, optimizer)\n",
        "print('Checkpoint loaded')\n",
        "\n",
        "test_accuracy = get_model_accuracy(model, test_data_loader)\n",
        "\n",
        "print(f'Test accuracy: {100 * test_accuracy:.2f}%')"
      ]
    }
  ],
  "metadata": {
    "accelerator": "GPU",
    "colab": {
      "gpuType": "A100",
      "machine_shape": "hm",
      "provenance": []
    },
    "kernelspec": {
      "display_name": "Python 3",
      "name": "python3"
    },
    "language_info": {
      "codemirror_mode": {
        "name": "ipython",
        "version": 3
      },
      "file_extension": ".py",
      "mimetype": "text/x-python",
      "name": "python",
      "nbconvert_exporter": "python",
      "pygments_lexer": "ipython3",
      "version": "3.12.3"
    }
  },
  "nbformat": 4,
  "nbformat_minor": 0
}
