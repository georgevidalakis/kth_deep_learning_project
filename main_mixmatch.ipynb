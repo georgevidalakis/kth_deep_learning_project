{
  "cells": [
    {
      "cell_type": "code",
      "execution_count": null,
      "metadata": {
        "colab": {
          "base_uri": "https://localhost:8080/"
        },
        "id": "KeuNd1kep518",
        "outputId": "dfe149e9-50f6-4b27-9270-953b64995760"
      },
      "outputs": [
        {
          "name": "stdout",
          "output_type": "stream",
          "text": [
            "Archive:  drive/MyDrive/Pets-data/images.zip\n",
            "  inflating: images/Abyssinian_1.jpg  \n",
            "  inflating: images/Abyssinian_10.jpg  \n",
            "  inflating: images/Abyssinian_100.jpg  \n",
            "  inflating: images/Abyssinian_100.mat  \n",
            "  inflating: images/Abyssinian_101.jpg  \n",
            "  inflating: images/Abyssinian_101.mat  \n",
            "  inflating: images/Abyssinian_102.jpg  \n",
            "  inflating: images/Abyssinian_102.mat  \n",
            "  inflating: images/Abyssinian_103.jpg  \n",
            "  inflating: images/Abyssinian_104.jpg  \n",
            "  inflating: images/Abyssinian_105.jpg  \n",
            "  inflating: images/Abyssinian_106.jpg  \n",
            "  inflating: images/Abyssinian_107.jpg  \n",
            "  inflating: images/Abyssinian_108.jpg  \n",
            "  inflating: images/Abyssinian_109.jpg  \n",
            "  inflating: images/Abyssinian_11.jpg  \n",
            "  inflating: images/Abyssinian_110.jpg  \n",
            "  inflating: images/Abyssinian_111.jpg  \n",
            "  inflating: images/Abyssinian_112.jpg  \n",
            "  inflating: images/Abyssinian_113.jpg  \n",
            "  inflating: images/Abyssinian_114.jpg  \n",
            "  inflating: images/Abyssinian_115.jpg  \n",
            "  inflating: images/Abyssinian_116.jpg  \n",
            "  inflating: images/Abyssinian_117.jpg  \n",
            "  inflating: images/Abyssinian_118.jpg  \n",
            "  inflating: images/Abyssinian_119.jpg  \n",
            "  inflating: images/Abyssinian_12.jpg  \n",
            "  inflating: images/Abyssinian_120.jpg  \n",
            "  inflating: images/Abyssinian_121.jpg  \n",
            "  inflating: images/Abyssinian_122.jpg  \n",
            "  inflating: images/Abyssinian_123.jpg  \n",
            "  inflating: images/Abyssinian_124.jpg  \n",
            "  inflating: images/Abyssinian_125.jpg  \n",
            "  inflating: images/Abyssinian_126.jpg  \n",
            "  inflating: images/Abyssinian_127.jpg  \n",
            "  inflating: images/Abyssinian_128.jpg  \n",
            "  inflating: images/Abyssinian_129.jpg  \n",
            "  inflating: images/Abyssinian_13.jpg  \n",
            "  inflating: images/Abyssinian_130.jpg  \n",
            "  inflating: images/Abyssinian_131.jpg  \n",
            "  inflating: images/Abyssinian_132.jpg  \n",
            "  inflating: images/Abyssinian_133.jpg  \n",
            "  inflating: images/Abyssinian_134.jpg  \n",
            "  inflating: images/Abyssinian_135.jpg  \n",
            "  inflating: images/Abyssinian_136.jpg  \n",
            "  inflating: images/Abyssinian_137.jpg  \n",
            "  inflating: images/Abyssinian_138.jpg  \n",
            "  inflating: images/Abyssinian_139.jpg  \n",
            "  inflating: images/Abyssinian_14.jpg  \n",
            "  inflating: images/Abyssinian_140.jpg  \n",
            "  inflating: images/Abyssinian_141.jpg  \n",
            "  inflating: images/Abyssinian_142.jpg  \n",
            "  inflating: images/Abyssinian_143.jpg  \n",
            "  inflating: images/Abyssinian_144.jpg  \n",
            "  inflating: images/Abyssinian_145.jpg  \n",
            "  inflating: images/Abyssinian_146.jpg  \n",
            "  inflating: images/Abyssinian_148.jpg  \n",
            "  inflating: images/Abyssinian_149.jpg  \n",
            "  inflating: images/Abyssinian_15.jpg  \n",
            "  inflating: images/Abyssinian_150.jpg  \n",
            "  inflating: images/Abyssinian_151.jpg  \n",
            "  inflating: images/Abyssinian_152.jpg  \n",
            "  inflating: images/Abyssinian_153.jpg  \n",
            "  inflating: images/Abyssinian_154.jpg  \n",
            "  inflating: images/Abyssinian_155.jpg  \n",
            "  inflating: images/Abyssinian_156.jpg  \n",
            "  inflating: images/Abyssinian_157.jpg  \n",
            "  inflating: images/Abyssinian_158.jpg  \n",
            "  inflating: images/Abyssinian_159.jpg  \n",
            "  inflating: images/Abyssinian_16.jpg  \n",
            "  inflating: images/Abyssinian_160.jpg  \n",
            "  inflating: images/Abyssinian_161.jpg  \n",
            "  inflating: images/Abyssinian_164.jpg  \n",
            "  inflating: images/Abyssinian_165.jpg  \n",
            "  inflating: images/Abyssinian_166.jpg  \n",
            "  inflating: images/Abyssinian_167.jpg  \n",
            "  inflating: images/Abyssinian_168.jpg  \n",
            "  inflating: images/Abyssinian_169.jpg  \n",
            "  inflating: images/Abyssinian_17.jpg  \n",
            "  inflating: images/Abyssinian_170.jpg  \n",
            "  inflating: images/Abyssinian_172.jpg  \n",
            "  inflating: images/Abyssinian_173.jpg  \n",
            "  inflating: images/Abyssinian_174.jpg  \n",
            "  inflating: images/Abyssinian_175.jpg  \n",
            "  inflating: images/Abyssinian_176.jpg  \n",
            "  inflating: images/Abyssinian_177.jpg  \n",
            "  inflating: images/Abyssinian_178.jpg  \n",
            "  inflating: images/Abyssinian_179.jpg  \n",
            "  inflating: images/Abyssinian_18.jpg  \n",
            "  inflating: images/Abyssinian_180.jpg  \n",
            "  inflating: images/Abyssinian_181.jpg  \n",
            "  inflating: images/Abyssinian_182.jpg  \n",
            "  inflating: images/Abyssinian_183.jpg  \n",
            "  inflating: images/Abyssinian_184.jpg  \n",
            "  inflating: images/Abyssinian_185.jpg  \n",
            "  inflating: images/Abyssinian_19.jpg  \n",
            "  inflating: images/Abyssinian_190.jpg  \n",
            "  inflating: images/Abyssinian_191.jpg  \n",
            "  inflating: images/Abyssinian_192.jpg  \n",
            "  inflating: images/Abyssinian_193.jpg  \n",
            "  inflating: images/Abyssinian_195.jpg  \n",
            "  inflating: images/Abyssinian_196.jpg  \n",
            "  inflating: images/Abyssinian_197.jpg  \n",
            "  inflating: images/Abyssinian_2.jpg  \n",
            "  inflating: images/Abyssinian_20.jpg  \n",
            "  inflating: images/Abyssinian_201.jpg  \n",
            "  inflating: images/Abyssinian_202.jpg  \n",
            "  inflating: images/Abyssinian_204.jpg  \n",
            "  inflating: images/Abyssinian_205.jpg  \n",
            "  inflating: images/Abyssinian_206.jpg  \n",
            "  inflating: images/Abyssinian_207.jpg  \n",
            "  inflating: images/Abyssinian_21.jpg  \n",
            "  inflating: images/Abyssinian_210.jpg  \n",
            "  inflating: images/Abyssinian_212.jpg  \n",
            "  inflating: images/Abyssinian_213.jpg  \n",
            "  inflating: images/Abyssinian_215.jpg  \n",
            "  inflating: images/Abyssinian_216.jpg  \n",
            "  inflating: images/Abyssinian_217.jpg  \n",
            "  inflating: images/Abyssinian_219.jpg  \n",
            "  inflating: images/Abyssinian_22.jpg  \n",
            "  inflating: images/Abyssinian_220.jpg  \n",
            "  inflating: images/Abyssinian_221.jpg  \n",
            "  inflating: images/Abyssinian_223.jpg  \n",
            "  inflating: images/Abyssinian_224.jpg  \n",
            "  inflating: images/Abyssinian_225.jpg  \n",
            "  inflating: images/Abyssinian_226.jpg  \n",
            "  inflating: images/Abyssinian_228.jpg  \n",
            "  inflating: images/Abyssinian_230.jpg  \n",
            "  inflating: images/Abyssinian_232.jpg  \n",
            "  inflating: images/Abyssinian_24.jpg  \n",
            "  inflating: images/Abyssinian_25.jpg  \n",
            "  inflating: images/Abyssinian_26.jpg  \n",
            "  inflating: images/Abyssinian_27.jpg  \n",
            "  inflating: images/Abyssinian_29.jpg  \n",
            "  inflating: images/Abyssinian_3.jpg  \n",
            "  inflating: images/Abyssinian_30.jpg  \n",
            "  inflating: images/Abyssinian_31.jpg  \n",
            "  inflating: images/Abyssinian_32.jpg  \n",
            "  inflating: images/Abyssinian_33.jpg  \n",
            "  inflating: images/Abyssinian_34.jpg  \n",
            "  inflating: images/Abyssinian_36.jpg  \n",
            "  inflating: images/Abyssinian_37.jpg  \n",
            "  inflating: images/Abyssinian_4.jpg  \n",
            "  inflating: images/Abyssinian_40.jpg  \n",
            "  inflating: images/Abyssinian_43.jpg  \n",
            "  inflating: images/Abyssinian_44.jpg  \n",
            "  inflating: images/Abyssinian_45.jpg  \n",
            "  inflating: images/Abyssinian_46.jpg  \n",
            "  inflating: images/Abyssinian_47.jpg  \n",
            "  inflating: images/Abyssinian_48.jpg  \n",
            "  inflating: images/Abyssinian_49.jpg  \n",
            "  inflating: images/Abyssinian_5.jpg  \n",
            "  inflating: images/Abyssinian_50.jpg  \n",
            "  inflating: images/Abyssinian_51.jpg  \n",
            "  inflating: images/Abyssinian_52.jpg  \n",
            "  inflating: images/Abyssinian_54.jpg  \n",
            "  inflating: images/Abyssinian_55.jpg  \n",
            "  inflating: images/Abyssinian_56.jpg  \n",
            "  inflating: images/Abyssinian_57.jpg  \n",
            "  inflating: images/Abyssinian_58.jpg  \n",
            "  inflating: images/Abyssinian_6.jpg  \n",
            "  inflating: images/Abyssinian_60.jpg  \n",
            "  inflating: images/Abyssinian_61.jpg  \n",
            "  inflating: images/Abyssinian_62.jpg  \n",
            "  inflating: images/Abyssinian_63.jpg  \n",
            "  inflating: images/Abyssinian_65.jpg  \n",
            "  inflating: images/Abyssinian_66.jpg  \n",
            "  inflating: images/Abyssinian_67.jpg  \n",
            "  inflating: images/Abyssinian_68.jpg  \n",
            "  inflating: images/Abyssinian_69.jpg  \n",
            "  inflating: images/Abyssinian_7.jpg  \n",
            "  inflating: images/Abyssinian_70.jpg  \n",
            "  inflating: images/Abyssinian_71.jpg  \n",
            "  inflating: images/Abyssinian_72.jpg  \n",
            "  inflating: images/Abyssinian_73.jpg  \n",
            "  inflating: images/Abyssinian_74.jpg  \n",
            "  inflating: images/Abyssinian_75.jpg  \n",
            "  inflating: images/Abyssinian_76.jpg  \n",
            "  inflating: images/Abyssinian_77.jpg  \n",
            "  inflating: images/Abyssinian_78.jpg  \n",
            "  inflating: images/Abyssinian_79.jpg  \n",
            "  inflating: images/Abyssinian_8.jpg  \n",
            "  inflating: images/Abyssinian_80.jpg  \n",
            "  inflating: images/Abyssinian_81.jpg  \n",
            "  inflating: images/Abyssinian_82.jpg  \n",
            "  inflating: images/Abyssinian_83.jpg  \n",
            "  inflating: images/Abyssinian_84.jpg  \n",
            "  inflating: images/Abyssinian_85.jpg  \n",
            "  inflating: images/Abyssinian_86.jpg  \n",
            "  inflating: images/Abyssinian_87.jpg  \n",
            "  inflating: images/Abyssinian_88.jpg  \n",
            "  inflating: images/Abyssinian_89.jpg  \n",
            "  inflating: images/Abyssinian_9.jpg  \n",
            "  inflating: images/Abyssinian_90.jpg  \n",
            "  inflating: images/Abyssinian_91.jpg  \n",
            "  inflating: images/Abyssinian_92.jpg  \n",
            "  inflating: images/Abyssinian_93.jpg  \n",
            "  inflating: images/Abyssinian_94.jpg  \n",
            "  inflating: images/Abyssinian_95.jpg  \n",
            "  inflating: images/Abyssinian_96.jpg  \n",
            "  inflating: images/Abyssinian_97.jpg  \n",
            "  inflating: images/Abyssinian_98.jpg  \n",
            "  inflating: images/Abyssinian_99.jpg  \n",
            "  inflating: images/american_bulldog_10.jpg  \n",
            "  inflating: images/american_bulldog_100.jpg  \n",
            "  inflating: images/american_bulldog_101.jpg  \n",
            "  inflating: images/american_bulldog_102.jpg  \n",
            "  inflating: images/american_bulldog_103.jpg  \n",
            "  inflating: images/american_bulldog_104.jpg  \n",
            "  inflating: images/american_bulldog_105.jpg  \n",
            "  inflating: images/american_bulldog_106.jpg  \n",
            "  inflating: images/american_bulldog_107.jpg  \n",
            "  inflating: images/american_bulldog_108.jpg  \n",
            "  inflating: images/american_bulldog_109.jpg  \n",
            "  inflating: images/american_bulldog_11.jpg  \n",
            "  inflating: images/american_bulldog_110.jpg  \n",
            "  inflating: images/american_bulldog_111.jpg  \n",
            "  inflating: images/american_bulldog_112.jpg  \n",
            "  inflating: images/american_bulldog_113.jpg  \n",
            "  inflating: images/american_bulldog_114.jpg  \n",
            "  inflating: images/american_bulldog_115.jpg  \n",
            "  inflating: images/american_bulldog_116.jpg  \n",
            "  inflating: images/american_bulldog_117.jpg  \n",
            "  inflating: images/american_bulldog_118.jpg  \n",
            "  inflating: images/american_bulldog_119.jpg  \n",
            "  inflating: images/american_bulldog_12.jpg  \n",
            "  inflating: images/american_bulldog_120.jpg  \n",
            "  inflating: images/american_bulldog_121.jpg  \n",
            "  inflating: images/american_bulldog_122.jpg  \n",
            "  inflating: images/american_bulldog_123.jpg  \n",
            "  inflating: images/american_bulldog_124.jpg  \n",
            "  inflating: images/american_bulldog_125.jpg  \n",
            "  inflating: images/american_bulldog_126.jpg  \n",
            "  inflating: images/american_bulldog_127.jpg  \n",
            "  inflating: images/american_bulldog_128.jpg  \n",
            "  inflating: images/american_bulldog_129.jpg  \n",
            "  inflating: images/american_bulldog_13.jpg  \n",
            "  inflating: images/american_bulldog_130.jpg  \n",
            "  inflating: images/american_bulldog_131.jpg  \n",
            "  inflating: images/american_bulldog_132.jpg  \n",
            "  inflating: images/american_bulldog_133.jpg  \n",
            "  inflating: images/american_bulldog_134.jpg  \n",
            "  inflating: images/american_bulldog_135.jpg  \n",
            "  inflating: images/american_bulldog_136.jpg  \n",
            "  inflating: images/american_bulldog_137.jpg  \n",
            "  inflating: images/american_bulldog_138.jpg  \n",
            "  inflating: images/american_bulldog_139.jpg  \n",
            "  inflating: images/american_bulldog_14.jpg  \n",
            "  inflating: images/american_bulldog_140.jpg  \n",
            "  inflating: images/american_bulldog_141.jpg  \n",
            "  inflating: images/american_bulldog_142.jpg  \n",
            "  inflating: images/american_bulldog_143.jpg  \n",
            "  inflating: images/american_bulldog_144.jpg  \n",
            "  inflating: images/american_bulldog_146.jpg  \n",
            "  inflating: images/american_bulldog_147.jpg  \n",
            "  inflating: images/american_bulldog_148.jpg  \n",
            "  inflating: images/american_bulldog_149.jpg  \n",
            "  inflating: images/american_bulldog_15.jpg  \n",
            "  inflating: images/american_bulldog_150.jpg  \n",
            "  inflating: images/american_bulldog_151.jpg  \n",
            "  inflating: images/american_bulldog_152.jpg  \n",
            "  inflating: images/american_bulldog_153.jpg  \n",
            "  inflating: images/american_bulldog_158.jpg  \n",
            "  inflating: images/american_bulldog_16.jpg  \n",
            "  inflating: images/american_bulldog_161.jpg  \n",
            "  inflating: images/american_bulldog_164.jpg  \n",
            "  inflating: images/american_bulldog_166.jpg  \n",
            "  inflating: images/american_bulldog_167.jpg  \n",
            "  inflating: images/american_bulldog_168.jpg  \n",
            "  inflating: images/american_bulldog_169.jpg  \n",
            "  inflating: images/american_bulldog_171.jpg  \n",
            "  inflating: images/american_bulldog_172.jpg  \n",
            "  inflating: images/american_bulldog_173.jpg  \n",
            "  inflating: images/american_bulldog_174.jpg  \n",
            "  inflating: images/american_bulldog_175.jpg  \n",
            "  inflating: images/american_bulldog_176.jpg  \n",
            "  inflating: images/american_bulldog_177.jpg  \n",
            "  inflating: images/american_bulldog_178.jpg  \n",
            "  inflating: images/american_bulldog_179.jpg  \n",
            "  inflating: images/american_bulldog_18.jpg  \n",
            "  inflating: images/american_bulldog_180.jpg  \n",
            "  inflating: images/american_bulldog_181.jpg  \n",
            "  inflating: images/american_bulldog_182.jpg  \n",
            "  inflating: images/american_bulldog_183.jpg  \n",
            "  inflating: images/american_bulldog_184.jpg  \n",
            "  inflating: images/american_bulldog_185.jpg  \n",
            "  inflating: images/american_bulldog_186.jpg  \n",
            "  inflating: images/american_bulldog_187.jpg  \n",
            "  inflating: images/american_bulldog_188.jpg  \n",
            "  inflating: images/american_bulldog_189.jpg  \n",
            "  inflating: images/american_bulldog_19.jpg  \n",
            "  inflating: images/american_bulldog_190.jpg  \n",
            "  inflating: images/american_bulldog_191.jpg  \n",
            "  inflating: images/american_bulldog_192.jpg  \n",
            "  inflating: images/american_bulldog_193.jpg  \n",
            "  inflating: images/american_bulldog_194.jpg  \n",
            "  inflating: images/american_bulldog_196.jpg  \n",
            "  inflating: images/american_bulldog_197.jpg  \n",
            "  inflating: images/american_bulldog_198.jpg  \n",
            "  inflating: images/american_bulldog_199.jpg  \n",
            "  inflating: images/american_bulldog_2.jpg  \n",
            "  inflating: images/american_bulldog_20.jpg  \n",
            "  inflating: images/american_bulldog_200.jpg  \n",
            "  inflating: images/american_bulldog_201.jpg  \n",
            "  inflating: images/american_bulldog_202.jpg  \n",
            "  inflating: images/american_bulldog_203.jpg  \n",
            "  inflating: images/american_bulldog_205.jpg  \n",
            "  inflating: images/american_bulldog_207.jpg  \n",
            "  inflating: images/american_bulldog_208.jpg  \n",
            "  inflating: images/american_bulldog_209.jpg  \n",
            "  inflating: images/american_bulldog_21.jpg  \n",
            "  inflating: images/american_bulldog_211.jpg  \n",
            "  inflating: images/american_bulldog_212.jpg  \n",
            "  inflating: images/american_bulldog_214.jpg  \n",
            "  inflating: images/american_bulldog_216.jpg  \n",
            "  inflating: images/american_bulldog_217.jpg  \n",
            "  inflating: images/american_bulldog_218.jpg  \n",
            "  inflating: images/american_bulldog_22.jpg  \n",
            "  inflating: images/american_bulldog_220.jpg  \n",
            "  inflating: images/american_bulldog_221.jpg  \n",
            "  inflating: images/american_bulldog_224.jpg  \n",
            "  inflating: images/american_bulldog_23.jpg  \n",
            "  inflating: images/american_bulldog_24.jpg  \n",
            "  inflating: images/american_bulldog_25.jpg  \n",
            "  inflating: images/american_bulldog_26.jpg  \n",
            "  inflating: images/american_bulldog_27.jpg  \n",
            "  inflating: images/american_bulldog_28.jpg  \n",
            "  inflating: images/american_bulldog_29.jpg  \n",
            "  inflating: images/american_bulldog_3.jpg  \n",
            "  inflating: images/american_bulldog_30.jpg  \n",
            "  inflating: images/american_bulldog_31.jpg  \n",
            "  inflating: images/american_bulldog_32.jpg  \n",
            "  inflating: images/american_bulldog_33.jpg  \n",
            "  inflating: images/american_bulldog_34.jpg  \n",
            "  inflating: images/american_bulldog_35.jpg  \n",
            "  inflating: images/american_bulldog_36.jpg  \n",
            "  inflating: images/american_bulldog_37.jpg  \n",
            "  inflating: images/american_bulldog_38.jpg  \n",
            "  inflating: images/american_bulldog_39.jpg  \n",
            "  inflating: images/american_bulldog_40.jpg  \n",
            "  inflating: images/american_bulldog_41.jpg  \n",
            "  inflating: images/american_bulldog_42.jpg  \n",
            "  inflating: images/american_bulldog_43.jpg  \n",
            "  inflating: images/american_bulldog_44.jpg  \n",
            "  inflating: images/american_bulldog_45.jpg  \n",
            "  inflating: images/american_bulldog_46.jpg  \n",
            "  inflating: images/american_bulldog_47.jpg  \n",
            "  inflating: images/american_bulldog_48.jpg  \n",
            "  inflating: images/american_bulldog_49.jpg  \n",
            "  inflating: images/american_bulldog_5.jpg  \n",
            "  inflating: images/american_bulldog_50.jpg  \n",
            "  inflating: images/american_bulldog_51.jpg  \n",
            "  inflating: images/american_bulldog_52.jpg  \n",
            "  inflating: images/american_bulldog_53.jpg  \n",
            "  inflating: images/american_bulldog_54.jpg  \n",
            "  inflating: images/american_bulldog_55.jpg  \n",
            "  inflating: images/american_bulldog_56.jpg  \n",
            "  inflating: images/american_bulldog_57.jpg  \n",
            "  inflating: images/american_bulldog_58.jpg  \n",
            "  inflating: images/american_bulldog_59.jpg  \n",
            "  inflating: images/american_bulldog_6.jpg  \n",
            "  inflating: images/american_bulldog_60.jpg  \n",
            "  inflating: images/american_bulldog_61.jpg  \n",
            "  inflating: images/american_bulldog_62.jpg  \n",
            "  inflating: images/american_bulldog_63.jpg  \n",
            "  inflating: images/american_bulldog_64.jpg  \n",
            "  inflating: images/american_bulldog_65.jpg  \n",
            "  inflating: images/american_bulldog_66.jpg  \n",
            "  inflating: images/american_bulldog_67.jpg  \n",
            "  inflating: images/american_bulldog_68.jpg  \n",
            "  inflating: images/american_bulldog_69.jpg  \n",
            "  inflating: images/american_bulldog_7.jpg  \n",
            "  inflating: images/american_bulldog_70.jpg  \n",
            "  inflating: images/american_bulldog_71.jpg  \n",
            "  inflating: images/american_bulldog_72.jpg  \n",
            "  inflating: images/american_bulldog_73.jpg  \n",
            "  inflating: images/american_bulldog_74.jpg  \n",
            "  inflating: images/american_bulldog_75.jpg  \n",
            "  inflating: images/american_bulldog_76.jpg  \n",
            "  inflating: images/american_bulldog_77.jpg  \n",
            "  inflating: images/american_bulldog_78.jpg  \n",
            "  inflating: images/american_bulldog_79.jpg  \n",
            "  inflating: images/american_bulldog_8.jpg  \n",
            "  inflating: images/american_bulldog_80.jpg  \n",
            "  inflating: images/american_bulldog_81.jpg  \n",
            "  inflating: images/american_bulldog_82.jpg  \n",
            "  inflating: images/american_bulldog_83.jpg  \n",
            "  inflating: images/american_bulldog_84.jpg  \n",
            "  inflating: images/american_bulldog_85.jpg  \n",
            "  inflating: images/american_bulldog_86.jpg  \n",
            "  inflating: images/american_bulldog_87.jpg  \n",
            "  inflating: images/american_bulldog_89.jpg  \n",
            "  inflating: images/american_bulldog_9.jpg  \n",
            "  inflating: images/american_bulldog_90.jpg  \n",
            "  inflating: images/american_bulldog_91.jpg  \n",
            "  inflating: images/american_bulldog_92.jpg  \n",
            "  inflating: images/american_bulldog_93.jpg  \n",
            "  inflating: images/american_bulldog_94.jpg  \n",
            "  inflating: images/american_bulldog_95.jpg  \n",
            "  inflating: images/american_bulldog_96.jpg  \n",
            "  inflating: images/american_bulldog_97.jpg  \n",
            "  inflating: images/american_bulldog_98.jpg  \n",
            "  inflating: images/american_bulldog_99.jpg  \n",
            "  inflating: images/american_pit_bull_terrier_1.jpg  \n",
            "  inflating: images/american_pit_bull_terrier_10.jpg  \n",
            "  inflating: images/american_pit_bull_terrier_100.jpg  \n",
            "  inflating: images/american_pit_bull_terrier_101.jpg  \n",
            "  inflating: images/american_pit_bull_terrier_102.jpg  \n",
            "  inflating: images/american_pit_bull_terrier_103.jpg  \n",
            "  inflating: images/american_pit_bull_terrier_104.jpg  \n",
            "  inflating: images/american_pit_bull_terrier_105.jpg  \n",
            "  inflating: images/american_pit_bull_terrier_106.jpg  \n",
            "  inflating: images/american_pit_bull_terrier_107.jpg  \n",
            "  inflating: images/american_pit_bull_terrier_108.jpg  \n",
            "  inflating: images/american_pit_bull_terrier_109.jpg  \n",
            "  inflating: images/american_pit_bull_terrier_11.jpg  \n",
            "  inflating: images/american_pit_bull_terrier_110.jpg  \n",
            "  inflating: images/american_pit_bull_terrier_111.jpg  \n",
            "  inflating: images/american_pit_bull_terrier_112.jpg  \n",
            "  inflating: images/american_pit_bull_terrier_113.jpg  \n",
            "  inflating: images/american_pit_bull_terrier_114.jpg  \n",
            "  inflating: images/american_pit_bull_terrier_115.jpg  \n",
            "  inflating: images/american_pit_bull_terrier_116.jpg  \n",
            "  inflating: images/american_pit_bull_terrier_117.jpg  \n",
            "  inflating: images/american_pit_bull_terrier_118.jpg  \n",
            "  inflating: images/american_pit_bull_terrier_119.jpg  \n",
            "  inflating: images/american_pit_bull_terrier_12.jpg  \n",
            "  inflating: images/american_pit_bull_terrier_120.jpg  \n",
            "  inflating: images/american_pit_bull_terrier_121.jpg  \n",
            "  inflating: images/american_pit_bull_terrier_122.jpg  \n",
            "  inflating: images/american_pit_bull_terrier_123.jpg  \n",
            "  inflating: images/american_pit_bull_terrier_124.jpg  \n",
            "  inflating: images/american_pit_bull_terrier_125.jpg  \n",
            "  inflating: images/american_pit_bull_terrier_126.jpg  \n",
            "  inflating: images/american_pit_bull_terrier_127.jpg  \n",
            "  inflating: images/american_pit_bull_terrier_128.jpg  \n",
            "  inflating: images/american_pit_bull_terrier_129.jpg  \n",
            "  inflating: images/american_pit_bull_terrier_13.jpg  \n",
            "  inflating: images/american_pit_bull_terrier_130.jpg  \n",
            "  inflating: images/american_pit_bull_terrier_131.jpg  \n",
            "  inflating: images/american_pit_bull_terrier_132.jpg  \n",
            "  inflating: images/american_pit_bull_terrier_133.jpg  \n",
            "  inflating: images/american_pit_bull_terrier_134.jpg  \n",
            "  inflating: images/american_pit_bull_terrier_135.jpg  \n",
            "  inflating: images/american_pit_bull_terrier_136.jpg  \n",
            "  inflating: images/american_pit_bull_terrier_137.jpg  \n",
            "  inflating: images/american_pit_bull_terrier_138.jpg  \n",
            "  inflating: images/american_pit_bull_terrier_139.jpg  \n",
            "  inflating: images/american_pit_bull_terrier_14.jpg  \n",
            "  inflating: images/american_pit_bull_terrier_140.jpg  \n",
            "  inflating: images/american_pit_bull_terrier_141.jpg  \n",
            "  inflating: images/american_pit_bull_terrier_142.jpg  \n",
            "  inflating: images/american_pit_bull_terrier_143.jpg  \n",
            "  inflating: images/american_pit_bull_terrier_144.jpg  \n",
            "  inflating: images/american_pit_bull_terrier_145.jpg  \n",
            "  inflating: images/american_pit_bull_terrier_146.jpg  \n",
            "  inflating: images/american_pit_bull_terrier_147.jpg  \n",
            "  inflating: images/american_pit_bull_terrier_148.jpg  \n",
            "  inflating: images/american_pit_bull_terrier_149.jpg  \n",
            "  inflating: images/american_pit_bull_terrier_15.jpg  \n",
            "  inflating: images/american_pit_bull_terrier_150.jpg  \n",
            "  inflating: images/american_pit_bull_terrier_151.jpg  \n",
            "  inflating: images/american_pit_bull_terrier_152.jpg  \n",
            "  inflating: images/american_pit_bull_terrier_153.jpg  \n",
            "  inflating: images/american_pit_bull_terrier_154.jpg  \n",
            "  inflating: images/american_pit_bull_terrier_155.jpg  \n",
            "  inflating: images/american_pit_bull_terrier_156.jpg  \n",
            "  inflating: images/american_pit_bull_terrier_157.jpg  \n",
            "  inflating: images/american_pit_bull_terrier_158.jpg  \n",
            "  inflating: images/american_pit_bull_terrier_159.jpg  \n",
            "  inflating: images/american_pit_bull_terrier_16.jpg  \n",
            "  inflating: images/american_pit_bull_terrier_160.jpg  \n",
            "  inflating: images/american_pit_bull_terrier_161.jpg  \n",
            "  inflating: images/american_pit_bull_terrier_162.jpg  \n",
            "  inflating: images/american_pit_bull_terrier_163.jpg  \n",
            "  inflating: images/american_pit_bull_terrier_164.jpg  \n",
            "  inflating: images/american_pit_bull_terrier_165.jpg  \n",
            "  inflating: images/american_pit_bull_terrier_166.jpg  \n",
            "  inflating: images/american_pit_bull_terrier_167.jpg  \n",
            "  inflating: images/american_pit_bull_terrier_168.jpg  \n",
            "  inflating: images/american_pit_bull_terrier_169.jpg  \n",
            "  inflating: images/american_pit_bull_terrier_17.jpg  \n",
            "  inflating: images/american_pit_bull_terrier_170.jpg  \n",
            "  inflating: images/american_pit_bull_terrier_171.jpg  \n",
            "  inflating: images/american_pit_bull_terrier_172.jpg  \n",
            "  inflating: images/american_pit_bull_terrier_173.jpg  \n",
            "  inflating: images/american_pit_bull_terrier_174.jpg  \n",
            "  inflating: images/american_pit_bull_terrier_175.jpg  \n",
            "  inflating: images/american_pit_bull_terrier_176.jpg  \n",
            "  inflating: images/american_pit_bull_terrier_177.jpg  \n",
            "  inflating: images/american_pit_bull_terrier_178.jpg  \n",
            "  inflating: images/american_pit_bull_terrier_179.jpg  \n",
            "  inflating: images/american_pit_bull_terrier_18.jpg  \n",
            "  inflating: images/american_pit_bull_terrier_180.jpg  \n",
            "  inflating: images/american_pit_bull_terrier_181.jpg  \n",
            "  inflating: images/american_pit_bull_terrier_182.jpg  \n",
            "  inflating: images/american_pit_bull_terrier_183.jpg  \n",
            "  inflating: images/american_pit_bull_terrier_184.jpg  \n",
            "  inflating: images/american_pit_bull_terrier_185.jpg  \n",
            "  inflating: images/american_pit_bull_terrier_186.jpg  \n",
            "  inflating: images/american_pit_bull_terrier_187.jpg  \n",
            "  inflating: images/american_pit_bull_terrier_188.jpg  \n",
            "  inflating: images/american_pit_bull_terrier_189.jpg  \n",
            "  inflating: images/american_pit_bull_terrier_19.jpg  \n",
            "  inflating: images/american_pit_bull_terrier_190.jpg  \n",
            "  inflating: images/american_pit_bull_terrier_191.jpg  \n",
            "  inflating: images/american_pit_bull_terrier_192.jpg  \n",
            "  inflating: images/american_pit_bull_terrier_193.jpg  \n",
            "  inflating: images/american_pit_bull_terrier_194.jpg  \n",
            "  inflating: images/american_pit_bull_terrier_195.jpg  \n",
            "  inflating: images/american_pit_bull_terrier_196.jpg  \n",
            "  inflating: images/american_pit_bull_terrier_197.jpg  \n",
            "  inflating: images/american_pit_bull_terrier_198.jpg  \n",
            "  inflating: images/american_pit_bull_terrier_199.jpg  \n",
            "  inflating: images/american_pit_bull_terrier_2.jpg  \n",
            "  inflating: images/american_pit_bull_terrier_20.jpg  \n",
            "  inflating: images/american_pit_bull_terrier_200.jpg  \n",
            "  inflating: images/american_pit_bull_terrier_201.jpg  \n",
            "  inflating: images/american_pit_bull_terrier_202.jpg  \n",
            "  inflating: images/american_pit_bull_terrier_203.jpg  \n",
            "  inflating: images/american_pit_bull_terrier_204.jpg  \n",
            "  inflating: images/american_pit_bull_terrier_21.jpg  \n",
            "  inflating: images/american_pit_bull_terrier_22.jpg  \n",
            "  inflating: images/american_pit_bull_terrier_23.jpg  \n",
            "  inflating: images/american_pit_bull_terrier_24.jpg  \n",
            "  inflating: images/american_pit_bull_terrier_25.jpg  \n",
            "  inflating: images/american_pit_bull_terrier_26.jpg  \n",
            "  inflating: images/american_pit_bull_terrier_27.jpg  \n",
            "  inflating: images/american_pit_bull_terrier_28.jpg  \n",
            "  inflating: images/american_pit_bull_terrier_29.jpg  \n",
            "  inflating: images/american_pit_bull_terrier_30.jpg  \n",
            "  inflating: images/american_pit_bull_terrier_31.jpg  \n",
            "  inflating: images/american_pit_bull_terrier_32.jpg  \n",
            "  inflating: images/american_pit_bull_terrier_33.jpg  \n",
            "  inflating: images/american_pit_bull_terrier_35.jpg  \n",
            "  inflating: images/american_pit_bull_terrier_36.jpg  \n",
            "  inflating: images/american_pit_bull_terrier_37.jpg  \n",
            "  inflating: images/american_pit_bull_terrier_38.jpg  \n",
            "  inflating: images/american_pit_bull_terrier_39.jpg  \n",
            "  inflating: images/american_pit_bull_terrier_4.jpg  \n",
            "  inflating: images/american_pit_bull_terrier_40.jpg  \n",
            "  inflating: images/american_pit_bull_terrier_41.jpg  \n",
            "  inflating: images/american_pit_bull_terrier_42.jpg  \n",
            "  inflating: images/american_pit_bull_terrier_43.jpg  \n",
            "  inflating: images/american_pit_bull_terrier_44.jpg  \n",
            "  inflating: images/american_pit_bull_terrier_45.jpg  \n",
            "  inflating: images/american_pit_bull_terrier_46.jpg  \n",
            "  inflating: images/american_pit_bull_terrier_47.jpg  \n",
            "  inflating: images/american_pit_bull_terrier_48.jpg  \n",
            "  inflating: images/american_pit_bull_terrier_49.jpg  \n",
            "  inflating: images/american_pit_bull_terrier_5.jpg  \n",
            "  inflating: images/american_pit_bull_terrier_50.jpg  \n",
            "  inflating: images/american_pit_bull_terrier_51.jpg  \n",
            "  inflating: images/american_pit_bull_terrier_52.jpg  \n",
            "  inflating: images/american_pit_bull_terrier_53.jpg  \n",
            "  inflating: images/american_pit_bull_terrier_54.jpg  \n",
            "  inflating: images/american_pit_bull_terrier_55.jpg  \n",
            "  inflating: images/american_pit_bull_terrier_56.jpg  \n",
            "  inflating: images/american_pit_bull_terrier_57.jpg  \n",
            "  inflating: images/american_pit_bull_terrier_58.jpg  \n",
            "  inflating: images/american_pit_bull_terrier_59.jpg  \n",
            "  inflating: images/american_pit_bull_terrier_6.jpg  \n",
            "  inflating: images/american_pit_bull_terrier_60.jpg  \n",
            "  inflating: images/american_pit_bull_terrier_61.jpg  \n",
            "  inflating: images/american_pit_bull_terrier_62.jpg  \n",
            "  inflating: images/american_pit_bull_terrier_63.jpg  \n",
            "  inflating: images/american_pit_bull_terrier_64.jpg  \n",
            "  inflating: images/american_pit_bull_terrier_65.jpg  \n",
            "  inflating: images/american_pit_bull_terrier_66.jpg  \n",
            "  inflating: images/american_pit_bull_terrier_67.jpg  \n",
            "  inflating: images/american_pit_bull_terrier_68.jpg  \n",
            "  inflating: images/american_pit_bull_terrier_69.jpg  \n",
            "  inflating: images/american_pit_bull_terrier_7.jpg  \n",
            "  inflating: images/american_pit_bull_terrier_70.jpg  \n",
            "  inflating: images/american_pit_bull_terrier_71.jpg  \n",
            "  inflating: images/american_pit_bull_terrier_72.jpg  \n",
            "  inflating: images/american_pit_bull_terrier_73.jpg  \n",
            "  inflating: images/american_pit_bull_terrier_74.jpg  \n",
            "  inflating: images/american_pit_bull_terrier_75.jpg  \n",
            "  inflating: images/american_pit_bull_terrier_76.jpg  \n",
            "  inflating: images/american_pit_bull_terrier_77.jpg  \n",
            "  inflating: images/american_pit_bull_terrier_78.jpg  \n",
            "  inflating: images/american_pit_bull_terrier_79.jpg  \n",
            "  inflating: images/american_pit_bull_terrier_8.jpg  \n",
            "  inflating: images/american_pit_bull_terrier_80.jpg  \n",
            "  inflating: images/american_pit_bull_terrier_81.jpg  \n",
            "  inflating: images/american_pit_bull_terrier_82.jpg  \n",
            "  inflating: images/american_pit_bull_terrier_84.jpg  \n",
            "  inflating: images/american_pit_bull_terrier_86.jpg  \n",
            "  inflating: images/american_pit_bull_terrier_87.jpg  \n",
            "  inflating: images/american_pit_bull_terrier_88.jpg  \n",
            "  inflating: images/american_pit_bull_terrier_89.jpg  \n",
            "  inflating: images/american_pit_bull_terrier_9.jpg  \n",
            "  inflating: images/american_pit_bull_terrier_90.jpg  \n",
            "  inflating: images/american_pit_bull_terrier_91.jpg  \n",
            "  inflating: images/american_pit_bull_terrier_92.jpg  \n",
            "  inflating: images/american_pit_bull_terrier_93.jpg  \n",
            "  inflating: images/american_pit_bull_terrier_94.jpg  \n",
            "  inflating: images/american_pit_bull_terrier_95.jpg  \n",
            "  inflating: images/american_pit_bull_terrier_96.jpg  \n",
            "  inflating: images/american_pit_bull_terrier_97.jpg  \n",
            "  inflating: images/american_pit_bull_terrier_98.jpg  \n",
            "  inflating: images/american_pit_bull_terrier_99.jpg  \n",
            "  inflating: images/basset_hound_1.jpg  \n",
            "  inflating: images/basset_hound_10.jpg  \n",
            "  inflating: images/basset_hound_100.jpg  \n",
            "  inflating: images/basset_hound_101.jpg  \n",
            "  inflating: images/basset_hound_102.jpg  \n",
            "  inflating: images/basset_hound_103.jpg  \n",
            "  inflating: images/basset_hound_104.jpg  \n",
            "  inflating: images/basset_hound_105.jpg  \n",
            "  inflating: images/basset_hound_106.jpg  \n",
            "  inflating: images/basset_hound_107.jpg  \n",
            "  inflating: images/basset_hound_108.jpg  \n",
            "  inflating: images/basset_hound_109.jpg  \n",
            "  inflating: images/basset_hound_11.jpg  \n",
            "  inflating: images/basset_hound_110.jpg  \n",
            "  inflating: images/basset_hound_111.jpg  \n",
            "  inflating: images/basset_hound_112.jpg  \n",
            "  inflating: images/basset_hound_113.jpg  \n",
            "  inflating: images/basset_hound_114.jpg  \n",
            "  inflating: images/basset_hound_115.jpg  \n",
            "  inflating: images/basset_hound_116.jpg  \n",
            "  inflating: images/basset_hound_117.jpg  \n",
            "  inflating: images/basset_hound_118.jpg  \n",
            "  inflating: images/basset_hound_119.jpg  \n",
            "  inflating: images/basset_hound_12.jpg  \n",
            "  inflating: images/basset_hound_120.jpg  \n",
            "  inflating: images/basset_hound_121.jpg  \n",
            "  inflating: images/basset_hound_122.jpg  \n",
            "  inflating: images/basset_hound_123.jpg  \n",
            "  inflating: images/basset_hound_124.jpg  \n",
            "  inflating: images/basset_hound_125.jpg  \n",
            "  inflating: images/basset_hound_126.jpg  \n",
            "  inflating: images/basset_hound_127.jpg  \n",
            "  inflating: images/basset_hound_128.jpg  \n",
            "  inflating: images/basset_hound_129.jpg  \n",
            "  inflating: images/basset_hound_13.jpg  \n",
            "  inflating: images/basset_hound_130.jpg  \n",
            "  inflating: images/basset_hound_131.jpg  \n",
            "  inflating: images/basset_hound_132.jpg  \n",
            "  inflating: images/basset_hound_133.jpg  \n",
            "  inflating: images/basset_hound_134.jpg  \n",
            "  inflating: images/basset_hound_135.jpg  \n",
            "  inflating: images/basset_hound_136.jpg  \n",
            "  inflating: images/basset_hound_137.jpg  \n",
            "  inflating: images/basset_hound_138.jpg  \n",
            "  inflating: images/basset_hound_139.jpg  \n",
            "  inflating: images/basset_hound_14.jpg  \n",
            "  inflating: images/basset_hound_140.jpg  \n",
            "  inflating: images/basset_hound_141.jpg  \n",
            "  inflating: images/basset_hound_142.jpg  \n",
            "  inflating: images/basset_hound_143.jpg  \n",
            "  inflating: images/basset_hound_144.jpg  \n",
            "  inflating: images/basset_hound_145.jpg  \n",
            "  inflating: images/basset_hound_146.jpg  \n",
            "  inflating: images/basset_hound_147.jpg  \n",
            "  inflating: images/basset_hound_148.jpg  \n",
            "  inflating: images/basset_hound_149.jpg  \n",
            "  inflating: images/basset_hound_15.jpg  \n",
            "  inflating: images/basset_hound_150.jpg  \n",
            "  inflating: images/basset_hound_151.jpg  \n",
            "  inflating: images/basset_hound_152.jpg  \n",
            "  inflating: images/basset_hound_153.jpg  \n",
            "  inflating: images/basset_hound_154.jpg  \n",
            "  inflating: images/basset_hound_155.jpg  \n",
            "  inflating: images/basset_hound_156.jpg  \n",
            "  inflating: images/basset_hound_157.jpg  \n",
            "  inflating: images/basset_hound_158.jpg  \n",
            "  inflating: images/basset_hound_159.jpg  \n",
            "  inflating: images/basset_hound_16.jpg  \n",
            "  inflating: images/basset_hound_160.jpg  \n",
            "  inflating: images/basset_hound_161.jpg  \n",
            "  inflating: images/basset_hound_162.jpg  \n",
            "  inflating: images/basset_hound_163.jpg  \n",
            "  inflating: images/basset_hound_164.jpg  \n",
            "  inflating: images/basset_hound_165.jpg  \n",
            "  inflating: images/basset_hound_166.jpg  \n",
            "  inflating: images/basset_hound_167.jpg  \n",
            "  inflating: images/basset_hound_168.jpg  \n",
            "  inflating: images/basset_hound_169.jpg  \n",
            "  inflating: images/basset_hound_17.jpg  \n",
            "  inflating: images/basset_hound_170.jpg  \n",
            "  inflating: images/basset_hound_171.jpg  \n",
            "  inflating: images/basset_hound_172.jpg  \n",
            "  inflating: images/basset_hound_173.jpg  \n",
            "  inflating: images/basset_hound_174.jpg  \n",
            "  inflating: images/basset_hound_175.jpg  \n",
            "  inflating: images/basset_hound_176.jpg  \n",
            "  inflating: images/basset_hound_177.jpg  \n",
            "  inflating: images/basset_hound_178.jpg  \n",
            "  inflating: images/basset_hound_179.jpg  \n",
            "  inflating: images/basset_hound_18.jpg  \n",
            "  inflating: images/basset_hound_180.jpg  \n",
            "  inflating: images/basset_hound_181.jpg  \n",
            "  inflating: images/basset_hound_182.jpg  \n",
            "  inflating: images/basset_hound_183.jpg  \n",
            "  inflating: images/basset_hound_184.jpg  \n",
            "  inflating: images/basset_hound_185.jpg  \n",
            "  inflating: images/basset_hound_186.jpg  \n",
            "  inflating: images/basset_hound_187.jpg  \n",
            "  inflating: images/basset_hound_188.jpg  \n",
            "  inflating: images/basset_hound_189.jpg  \n",
            "  inflating: images/basset_hound_19.jpg  \n",
            "  inflating: images/basset_hound_190.jpg  \n",
            "  inflating: images/basset_hound_191.jpg  \n",
            "  inflating: images/basset_hound_192.jpg  \n",
            "  inflating: images/basset_hound_193.jpg  \n",
            "  inflating: images/basset_hound_194.jpg  \n",
            "  inflating: images/basset_hound_195.jpg  \n",
            "  inflating: images/basset_hound_196.jpg  \n",
            "  inflating: images/basset_hound_197.jpg  \n",
            "  inflating: images/basset_hound_198.jpg  \n",
            "  inflating: images/basset_hound_199.jpg  \n",
            "  inflating: images/basset_hound_2.jpg  \n",
            "  inflating: images/basset_hound_20.jpg  \n",
            "  inflating: images/basset_hound_200.jpg  \n",
            "  inflating: images/basset_hound_21.jpg  \n",
            "  inflating: images/basset_hound_22.jpg  \n",
            "  inflating: images/basset_hound_23.jpg  \n",
            "  inflating: images/basset_hound_24.jpg  \n",
            "  inflating: images/basset_hound_25.jpg  \n",
            "  inflating: images/basset_hound_26.jpg  \n",
            "  inflating: images/basset_hound_27.jpg  \n",
            "  inflating: images/basset_hound_28.jpg  \n",
            "  inflating: images/basset_hound_29.jpg  \n",
            "  inflating: images/basset_hound_3.jpg  \n",
            "  inflating: images/basset_hound_30.jpg  \n",
            "  inflating: images/basset_hound_31.jpg  \n",
            "  inflating: images/basset_hound_32.jpg  \n",
            "  inflating: images/basset_hound_33.jpg  \n",
            "  inflating: images/basset_hound_34.jpg  \n",
            "  inflating: images/basset_hound_35.jpg  \n",
            "  inflating: images/basset_hound_36.jpg  \n",
            "  inflating: images/basset_hound_37.jpg  \n",
            "  inflating: images/basset_hound_38.jpg  \n",
            "  inflating: images/basset_hound_39.jpg  \n",
            "  inflating: images/basset_hound_4.jpg  \n",
            "  inflating: images/basset_hound_40.jpg  \n",
            "  inflating: images/basset_hound_41.jpg  \n",
            "  inflating: images/basset_hound_42.jpg  \n",
            "  inflating: images/basset_hound_43.jpg  \n",
            "  inflating: images/basset_hound_44.jpg  \n",
            "  inflating: images/basset_hound_45.jpg  \n",
            "  inflating: images/basset_hound_46.jpg  \n",
            "  inflating: images/basset_hound_47.jpg  \n",
            "  inflating: images/basset_hound_48.jpg  \n",
            "  inflating: images/basset_hound_49.jpg  \n",
            "  inflating: images/basset_hound_5.jpg  \n",
            "  inflating: images/basset_hound_50.jpg  \n",
            "  inflating: images/basset_hound_51.jpg  \n",
            "  inflating: images/basset_hound_52.jpg  \n",
            "  inflating: images/basset_hound_53.jpg  \n",
            "  inflating: images/basset_hound_54.jpg  \n",
            "  inflating: images/basset_hound_55.jpg  \n",
            "  inflating: images/basset_hound_56.jpg  \n",
            "  inflating: images/basset_hound_57.jpg  \n",
            "  inflating: images/basset_hound_58.jpg  \n",
            "  inflating: images/basset_hound_59.jpg  \n",
            "  inflating: images/basset_hound_6.jpg  \n",
            "  inflating: images/basset_hound_60.jpg  \n",
            "  inflating: images/basset_hound_61.jpg  \n",
            "  inflating: images/basset_hound_62.jpg  \n",
            "  inflating: images/basset_hound_63.jpg  \n",
            "  inflating: images/basset_hound_64.jpg  \n",
            "  inflating: images/basset_hound_65.jpg  \n",
            "  inflating: images/basset_hound_66.jpg  \n",
            "  inflating: images/basset_hound_67.jpg  \n",
            "  inflating: images/basset_hound_68.jpg  \n",
            "  inflating: images/basset_hound_69.jpg  \n",
            "  inflating: images/basset_hound_7.jpg  \n",
            "  inflating: images/basset_hound_70.jpg  \n",
            "  inflating: images/basset_hound_71.jpg  \n",
            "  inflating: images/basset_hound_72.jpg  \n",
            "  inflating: images/basset_hound_73.jpg  \n",
            "  inflating: images/basset_hound_74.jpg  \n",
            "  inflating: images/basset_hound_75.jpg  \n",
            "  inflating: images/basset_hound_76.jpg  \n",
            "  inflating: images/basset_hound_77.jpg  \n",
            "  inflating: images/basset_hound_78.jpg  \n",
            "  inflating: images/basset_hound_79.jpg  \n",
            "  inflating: images/basset_hound_8.jpg  \n",
            "  inflating: images/basset_hound_80.jpg  \n",
            "  inflating: images/basset_hound_81.jpg  \n",
            "  inflating: images/basset_hound_82.jpg  \n",
            "  inflating: images/basset_hound_83.jpg  \n",
            "  inflating: images/basset_hound_84.jpg  \n",
            "  inflating: images/basset_hound_85.jpg  \n",
            "  inflating: images/basset_hound_86.jpg  \n",
            "  inflating: images/basset_hound_87.jpg  \n",
            "  inflating: images/basset_hound_88.jpg  \n",
            "  inflating: images/basset_hound_89.jpg  \n",
            "  inflating: images/basset_hound_9.jpg  \n",
            "  inflating: images/basset_hound_90.jpg  \n",
            "  inflating: images/basset_hound_91.jpg  \n",
            "  inflating: images/basset_hound_92.jpg  \n",
            "  inflating: images/basset_hound_93.jpg  \n",
            "  inflating: images/basset_hound_94.jpg  \n",
            "  inflating: images/basset_hound_95.jpg  \n",
            "  inflating: images/basset_hound_96.jpg  \n",
            "  inflating: images/basset_hound_97.jpg  \n",
            "  inflating: images/basset_hound_98.jpg  \n",
            "  inflating: images/basset_hound_99.jpg  \n",
            "  inflating: images/beagle_1.jpg     \n",
            "  inflating: images/beagle_10.jpg    \n",
            "  inflating: images/beagle_100.jpg   \n",
            "  inflating: images/beagle_101.jpg   \n",
            "  inflating: images/beagle_102.jpg   \n",
            "  inflating: images/beagle_103.jpg   \n",
            "  inflating: images/beagle_104.jpg   \n",
            "  inflating: images/beagle_105.jpg   \n",
            "  inflating: images/beagle_107.jpg   \n",
            "  inflating: images/beagle_108.jpg   \n",
            "  inflating: images/beagle_109.jpg   \n",
            "  inflating: images/beagle_110.jpg   \n",
            "  inflating: images/beagle_111.jpg   \n",
            "  inflating: images/beagle_112.jpg   \n",
            "  inflating: images/beagle_113.jpg   \n",
            "  inflating: images/beagle_114.jpg   \n",
            "  inflating: images/beagle_115.jpg   \n",
            "  inflating: images/beagle_116.jpg   \n",
            "  inflating: images/beagle_117.jpg   \n",
            "  inflating: images/beagle_118.jpg   \n",
            "  inflating: images/beagle_119.jpg   \n",
            "  inflating: images/beagle_12.jpg    \n",
            "  inflating: images/beagle_120.jpg   \n",
            "  inflating: images/beagle_121.jpg   \n",
            "  inflating: images/beagle_122.jpg   \n",
            "  inflating: images/beagle_123.jpg   \n",
            "  inflating: images/beagle_124.jpg   \n",
            "  inflating: images/beagle_125.jpg   \n",
            "  inflating: images/beagle_126.jpg   \n",
            "  inflating: images/beagle_127.jpg   \n",
            "  inflating: images/beagle_128.jpg   \n",
            "  inflating: images/beagle_129.jpg   \n",
            "  inflating: images/beagle_13.jpg    \n",
            "  inflating: images/beagle_130.jpg   \n",
            "  inflating: images/beagle_131.jpg   \n",
            "  inflating: images/beagle_133.jpg   \n",
            "  inflating: images/beagle_134.jpg   \n",
            "  inflating: images/beagle_135.jpg   \n",
            "  inflating: images/beagle_136.jpg   \n",
            "  inflating: images/beagle_137.jpg   \n",
            "  inflating: images/beagle_138.jpg   \n",
            "  inflating: images/beagle_139.jpg   \n",
            "  inflating: images/beagle_14.jpg    \n",
            "  inflating: images/beagle_140.jpg   \n",
            "  inflating: images/beagle_141.jpg   \n",
            "  inflating: images/beagle_142.jpg   \n",
            "  inflating: images/beagle_143.jpg   \n",
            "  inflating: images/beagle_144.jpg   \n",
            "  inflating: images/beagle_145.jpg   \n",
            "  inflating: images/beagle_146.jpg   \n",
            "  inflating: images/beagle_147.jpg   \n",
            "  inflating: images/beagle_148.jpg   \n",
            "  inflating: images/beagle_149.jpg   \n",
            "  inflating: images/beagle_15.jpg    \n",
            "  inflating: images/beagle_150.jpg   \n",
            "  inflating: images/beagle_151.jpg   \n",
            "  inflating: images/beagle_152.jpg   \n",
            "  inflating: images/beagle_153.jpg   \n",
            "  inflating: images/beagle_154.jpg   \n",
            "  inflating: images/beagle_155.jpg   \n",
            "  inflating: images/beagle_156.jpg   \n",
            "  inflating: images/beagle_157.jpg   \n",
            "  inflating: images/beagle_158.jpg   \n",
            "  inflating: images/beagle_16.jpg    \n",
            "  inflating: images/beagle_160.jpg   \n",
            "  inflating: images/beagle_161.jpg   \n",
            "  inflating: images/beagle_162.jpg   \n",
            "  inflating: images/beagle_163.jpg   \n",
            "  inflating: images/beagle_164.jpg   \n",
            "  inflating: images/beagle_165.jpg   \n",
            "  inflating: images/beagle_166.jpg   \n",
            "  inflating: images/beagle_167.jpg   \n",
            "  inflating: images/beagle_168.jpg   \n",
            "  inflating: images/beagle_169.jpg   \n",
            "  inflating: images/beagle_17.jpg    \n",
            "  inflating: images/beagle_170.jpg   \n",
            "  inflating: images/beagle_171.jpg   \n",
            "  inflating: images/beagle_172.jpg   \n",
            "  inflating: images/beagle_173.jpg   \n",
            "  inflating: images/beagle_174.jpg   \n",
            "  inflating: images/beagle_175.jpg   \n",
            "  inflating: images/beagle_176.jpg   \n",
            "  inflating: images/beagle_177.jpg   \n",
            "  inflating: images/beagle_178.jpg   \n",
            "  inflating: images/beagle_179.jpg   \n",
            "  inflating: images/beagle_18.jpg    \n",
            "  inflating: images/beagle_180.jpg   \n",
            "  inflating: images/beagle_181.jpg   \n",
            "  inflating: images/beagle_182.jpg   \n",
            "  inflating: images/beagle_183.jpg   \n",
            "  inflating: images/beagle_184.jpg   \n",
            "  inflating: images/beagle_185.jpg   \n",
            "  inflating: images/beagle_186.jpg   \n",
            "  inflating: images/beagle_187.jpg   \n",
            "  inflating: images/beagle_188.jpg   \n",
            "  inflating: images/beagle_189.jpg   \n",
            "  inflating: images/beagle_19.jpg    \n",
            "  inflating: images/beagle_190.jpg   \n",
            "  inflating: images/beagle_191.jpg   \n",
            "  inflating: images/beagle_192.jpg   \n",
            "  inflating: images/beagle_193.jpg   \n",
            "  inflating: images/beagle_194.jpg   \n",
            "  inflating: images/beagle_195.jpg   \n",
            "  inflating: images/beagle_196.jpg   \n",
            "  inflating: images/beagle_197.jpg   \n",
            "  inflating: images/beagle_198.jpg   \n",
            "  inflating: images/beagle_199.jpg   \n",
            "  inflating: images/beagle_2.jpg     \n",
            "  inflating: images/beagle_20.jpg    \n",
            "  inflating: images/beagle_200.jpg   \n",
            "  inflating: images/beagle_201.jpg   \n",
            "  inflating: images/beagle_202.jpg   \n",
            "  inflating: images/beagle_203.jpg   \n",
            "  inflating: images/beagle_204.jpg   \n",
            "  inflating: images/beagle_21.jpg    \n",
            "  inflating: images/beagle_22.jpg    \n",
            "  inflating: images/beagle_23.jpg    \n",
            "  inflating: images/beagle_24.jpg    \n",
            "  inflating: images/beagle_25.jpg    \n",
            "  inflating: images/beagle_26.jpg    \n",
            "  inflating: images/beagle_27.jpg    \n",
            "  inflating: images/beagle_28.jpg    \n",
            "  inflating: images/beagle_29.jpg    \n",
            "  inflating: images/beagle_3.jpg     \n",
            "  inflating: images/beagle_30.jpg    \n",
            "  inflating: images/beagle_31.jpg    \n",
            "  inflating: images/beagle_32.jpg    \n",
            "  inflating: images/beagle_33.jpg    \n",
            "  inflating: images/beagle_34.jpg    \n",
            "  inflating: images/beagle_35.jpg    \n",
            "  inflating: images/beagle_36.jpg    \n",
            "  inflating: images/beagle_37.jpg    \n",
            "  inflating: images/beagle_38.jpg    \n",
            "  inflating: images/beagle_39.jpg    \n",
            "  inflating: images/beagle_4.jpg     \n",
            "  inflating: images/beagle_40.jpg    \n",
            "  inflating: images/beagle_41.jpg    \n",
            "  inflating: images/beagle_42.jpg    \n",
            "  inflating: images/beagle_43.jpg    \n",
            "  inflating: images/beagle_44.jpg    \n",
            "  inflating: images/beagle_45.jpg    \n",
            "  inflating: images/beagle_46.jpg    \n",
            "  inflating: images/beagle_47.jpg    \n",
            "  inflating: images/beagle_48.jpg    \n",
            "  inflating: images/beagle_49.jpg    \n",
            "  inflating: images/beagle_5.jpg     \n",
            "  inflating: images/beagle_50.jpg    \n",
            "  inflating: images/beagle_51.jpg    \n",
            "  inflating: images/beagle_52.jpg    \n",
            "  inflating: images/beagle_53.jpg    \n",
            "  inflating: images/beagle_54.jpg    \n",
            "  inflating: images/beagle_55.jpg    \n",
            "  inflating: images/beagle_56.jpg    \n",
            "  inflating: images/beagle_57.jpg    \n",
            "  inflating: images/beagle_58.jpg    \n",
            "  inflating: images/beagle_59.jpg    \n",
            "  inflating: images/beagle_6.jpg     \n",
            "  inflating: images/beagle_60.jpg    \n",
            "  inflating: images/beagle_61.jpg    \n",
            "  inflating: images/beagle_62.jpg    \n",
            "  inflating: images/beagle_63.jpg    \n",
            "  inflating: images/beagle_64.jpg    \n",
            "  inflating: images/beagle_65.jpg    \n",
            "  inflating: images/beagle_66.jpg    \n",
            "  inflating: images/beagle_67.jpg    \n",
            "  inflating: images/beagle_68.jpg    \n",
            "  inflating: images/beagle_69.jpg    \n",
            "  inflating: images/beagle_7.jpg     \n",
            "  inflating: images/beagle_70.jpg    \n",
            "  inflating: images/beagle_71.jpg    \n",
            "  inflating: images/beagle_72.jpg    \n",
            "  inflating: images/beagle_73.jpg    \n",
            "  inflating: images/beagle_74.jpg    \n",
            "  inflating: images/beagle_75.jpg    \n",
            "  inflating: images/beagle_76.jpg    \n",
            "  inflating: images/beagle_77.jpg    \n",
            "  inflating: images/beagle_78.jpg    \n",
            "  inflating: images/beagle_79.jpg    \n",
            "  inflating: images/beagle_8.jpg     \n",
            "  inflating: images/beagle_80.jpg    \n",
            "  inflating: images/beagle_81.jpg    \n",
            "  inflating: images/beagle_82.jpg    \n",
            "  inflating: images/beagle_83.jpg    \n",
            "  inflating: images/beagle_84.jpg    \n",
            "  inflating: images/beagle_85.jpg    \n",
            "  inflating: images/beagle_86.jpg    \n",
            "  inflating: images/beagle_87.jpg    \n",
            "  inflating: images/beagle_88.jpg    \n",
            "  inflating: images/beagle_89.jpg    \n",
            "  inflating: images/beagle_9.jpg     \n",
            "  inflating: images/beagle_90.jpg    \n",
            "  inflating: images/beagle_91.jpg    \n",
            "  inflating: images/beagle_92.jpg    \n",
            "  inflating: images/beagle_93.jpg    \n",
            "  inflating: images/beagle_94.jpg    \n",
            "  inflating: images/beagle_95.jpg    \n",
            "  inflating: images/beagle_96.jpg    \n",
            "  inflating: images/beagle_97.jpg    \n",
            "  inflating: images/beagle_98.jpg    \n",
            "  inflating: images/beagle_99.jpg    \n",
            "  inflating: images/Bengal_1.jpg     \n",
            "  inflating: images/Bengal_10.jpg    \n",
            "  inflating: images/Bengal_100.jpg   \n",
            "  inflating: images/Bengal_101.jpg   \n",
            "  inflating: images/Bengal_102.jpg   \n",
            "  inflating: images/Bengal_103.jpg   \n",
            "  inflating: images/Bengal_104.jpg   \n",
            "  inflating: images/Bengal_105.jpg   \n",
            "  inflating: images/Bengal_106.jpg   \n",
            "  inflating: images/Bengal_107.jpg   \n",
            "  inflating: images/Bengal_108.jpg   \n",
            "  inflating: images/Bengal_109.jpg   \n",
            "  inflating: images/Bengal_11.jpg    \n",
            "  inflating: images/Bengal_110.jpg   \n",
            "  inflating: images/Bengal_111.jpg   \n",
            "  inflating: images/Bengal_112.jpg   \n",
            "  inflating: images/Bengal_113.jpg   \n",
            "  inflating: images/Bengal_114.jpg   \n",
            "  inflating: images/Bengal_115.jpg   \n",
            "  inflating: images/Bengal_116.jpg   \n",
            "  inflating: images/Bengal_117.jpg   \n",
            "  inflating: images/Bengal_118.jpg   \n",
            "  inflating: images/Bengal_119.jpg   \n",
            "  inflating: images/Bengal_12.jpg    \n",
            "  inflating: images/Bengal_120.jpg   \n",
            "  inflating: images/Bengal_121.jpg   \n",
            "  inflating: images/Bengal_122.jpg   \n",
            "  inflating: images/Bengal_123.jpg   \n",
            "  inflating: images/Bengal_124.jpg   \n",
            "  inflating: images/Bengal_125.jpg   \n",
            "  inflating: images/Bengal_126.jpg   \n",
            "  inflating: images/Bengal_127.jpg   \n",
            "  inflating: images/Bengal_128.jpg   \n",
            "  inflating: images/Bengal_129.jpg   \n",
            "  inflating: images/Bengal_13.jpg    \n",
            "  inflating: images/Bengal_130.jpg   \n",
            "  inflating: images/Bengal_131.jpg   \n",
            "  inflating: images/Bengal_132.jpg   \n",
            "  inflating: images/Bengal_133.jpg   \n",
            "  inflating: images/Bengal_134.jpg   \n",
            "  inflating: images/Bengal_135.jpg   \n",
            "  inflating: images/Bengal_136.jpg   \n",
            "  inflating: images/Bengal_137.jpg   \n",
            "  inflating: images/Bengal_138.jpg   \n",
            "  inflating: images/Bengal_139.jpg   \n",
            "  inflating: images/Bengal_14.jpg    \n",
            "  inflating: images/Bengal_140.jpg   \n",
            "  inflating: images/Bengal_141.jpg   \n",
            "  inflating: images/Bengal_142.jpg   \n",
            "  inflating: images/Bengal_143.jpg   \n",
            "  inflating: images/Bengal_144.jpg   \n",
            "  inflating: images/Bengal_145.jpg   \n",
            "  inflating: images/Bengal_146.jpg   \n",
            "  inflating: images/Bengal_147.jpg   \n",
            "  inflating: images/Bengal_148.jpg   \n",
            "  inflating: images/Bengal_149.jpg   \n",
            "  inflating: images/Bengal_15.jpg    \n",
            "  inflating: images/Bengal_150.jpg   \n",
            "  inflating: images/Bengal_151.jpg   \n",
            "  inflating: images/Bengal_152.jpg   \n",
            "  inflating: images/Bengal_153.jpg   \n",
            "  inflating: images/Bengal_154.jpg   \n",
            "  inflating: images/Bengal_155.jpg   \n",
            "  inflating: images/Bengal_156.jpg   \n",
            "  inflating: images/Bengal_157.jpg   \n",
            "  inflating: images/Bengal_158.jpg   \n",
            "  inflating: images/Bengal_159.jpg   \n",
            "  inflating: images/Bengal_16.jpg    \n",
            "  inflating: images/Bengal_160.jpg   \n",
            "  inflating: images/Bengal_161.jpg   \n",
            "  inflating: images/Bengal_162.jpg   \n",
            "  inflating: images/Bengal_163.jpg   \n",
            "  inflating: images/Bengal_164.jpg   \n",
            "  inflating: images/Bengal_165.jpg   \n",
            "  inflating: images/Bengal_166.jpg   \n",
            "  inflating: images/Bengal_167.jpg   \n",
            "  inflating: images/Bengal_168.jpg   \n",
            "  inflating: images/Bengal_169.jpg   \n",
            "  inflating: images/Bengal_17.jpg    \n",
            "  inflating: images/Bengal_170.jpg   \n",
            "  inflating: images/Bengal_171.jpg   \n",
            "  inflating: images/Bengal_172.jpg   \n",
            "  inflating: images/Bengal_173.jpg   \n",
            "  inflating: images/Bengal_174.jpg   \n",
            "  inflating: images/Bengal_175.jpg   \n",
            "  inflating: images/Bengal_176.jpg   \n",
            "  inflating: images/Bengal_177.jpg   \n",
            "  inflating: images/Bengal_178.jpg   \n",
            "  inflating: images/Bengal_179.jpg   \n",
            "  inflating: images/Bengal_18.jpg    \n",
            "  inflating: images/Bengal_180.jpg   \n",
            "  inflating: images/Bengal_182.jpg   \n",
            "  inflating: images/Bengal_183.jpg   \n",
            "  inflating: images/Bengal_184.jpg   \n",
            "  inflating: images/Bengal_185.jpg   \n",
            "  inflating: images/Bengal_186.jpg   \n",
            "  inflating: images/Bengal_187.jpg   \n",
            "  inflating: images/Bengal_188.jpg   \n",
            "  inflating: images/Bengal_189.jpg   \n",
            "  inflating: images/Bengal_19.jpg    \n",
            "  inflating: images/Bengal_190.jpg   \n",
            "  inflating: images/Bengal_191.jpg   \n",
            "  inflating: images/Bengal_192.jpg   \n",
            "  inflating: images/Bengal_193.jpg   \n",
            "  inflating: images/Bengal_194.jpg   \n",
            "  inflating: images/Bengal_195.jpg   \n",
            "  inflating: images/Bengal_196.jpg   \n",
            "  inflating: images/Bengal_197.jpg   \n",
            "  inflating: images/Bengal_198.jpg   \n",
            "  inflating: images/Bengal_199.jpg   \n",
            "  inflating: images/Bengal_2.jpg     \n",
            "  inflating: images/Bengal_20.jpg    \n",
            "  inflating: images/Bengal_200.jpg   \n",
            "  inflating: images/Bengal_201.jpg   \n",
            "  inflating: images/Bengal_21.jpg    \n",
            "  inflating: images/Bengal_22.jpg    \n",
            "  inflating: images/Bengal_23.jpg    \n",
            "  inflating: images/Bengal_24.jpg    \n",
            "  inflating: images/Bengal_25.jpg    \n",
            "  inflating: images/Bengal_26.jpg    \n",
            "  inflating: images/Bengal_27.jpg    \n",
            "  inflating: images/Bengal_28.jpg    \n",
            "  inflating: images/Bengal_29.jpg    \n",
            "  inflating: images/Bengal_3.jpg     \n",
            "  inflating: images/Bengal_30.jpg    \n",
            "  inflating: images/Bengal_31.jpg    \n",
            "  inflating: images/Bengal_32.jpg    \n",
            "  inflating: images/Bengal_33.jpg    \n",
            "  inflating: images/Bengal_34.jpg    \n",
            "  inflating: images/Bengal_35.jpg    \n",
            "  inflating: images/Bengal_36.jpg    \n",
            "  inflating: images/Bengal_37.jpg    \n",
            "  inflating: images/Bengal_38.jpg    \n",
            "  inflating: images/Bengal_39.jpg    \n",
            "  inflating: images/Bengal_4.jpg     \n",
            "  inflating: images/Bengal_40.jpg    \n",
            "  inflating: images/Bengal_41.jpg    \n",
            "  inflating: images/Bengal_42.jpg    \n",
            "  inflating: images/Bengal_43.jpg    \n",
            "  inflating: images/Bengal_44.jpg    \n",
            "  inflating: images/Bengal_45.jpg    \n",
            "  inflating: images/Bengal_46.jpg    \n",
            "  inflating: images/Bengal_47.jpg    \n",
            "  inflating: images/Bengal_48.jpg    \n",
            "  inflating: images/Bengal_49.jpg    \n",
            "  inflating: images/Bengal_5.jpg     \n",
            "  inflating: images/Bengal_50.jpg    \n",
            "  inflating: images/Bengal_51.jpg    \n",
            "  inflating: images/Bengal_52.jpg    \n",
            "  inflating: images/Bengal_53.jpg    \n",
            "  inflating: images/Bengal_54.jpg    \n",
            "  inflating: images/Bengal_55.jpg    \n",
            "  inflating: images/Bengal_56.jpg    \n",
            "  inflating: images/Bengal_57.jpg    \n",
            "  inflating: images/Bengal_58.jpg    \n",
            "  inflating: images/Bengal_59.jpg    \n",
            "  inflating: images/Bengal_6.jpg     \n",
            "  inflating: images/Bengal_60.jpg    \n",
            "  inflating: images/Bengal_61.jpg    \n",
            "  inflating: images/Bengal_62.jpg    \n",
            "  inflating: images/Bengal_63.jpg    \n",
            "  inflating: images/Bengal_64.jpg    \n",
            "  inflating: images/Bengal_65.jpg    \n",
            "  inflating: images/Bengal_66.jpg    \n",
            "  inflating: images/Bengal_67.jpg    \n",
            "  inflating: images/Bengal_68.jpg    \n",
            "  inflating: images/Bengal_69.jpg    \n",
            "  inflating: images/Bengal_7.jpg     \n",
            "  inflating: images/Bengal_70.jpg    \n",
            "  inflating: images/Bengal_71.jpg    \n",
            "  inflating: images/Bengal_72.jpg    \n",
            "  inflating: images/Bengal_73.jpg    \n",
            "  inflating: images/Bengal_74.jpg    \n",
            "  inflating: images/Bengal_75.jpg    \n",
            "  inflating: images/Bengal_76.jpg    \n",
            "  inflating: images/Bengal_77.jpg    \n",
            "  inflating: images/Bengal_78.jpg    \n",
            "  inflating: images/Bengal_79.jpg    \n",
            "  inflating: images/Bengal_8.jpg     \n",
            "  inflating: images/Bengal_80.jpg    \n",
            "  inflating: images/Bengal_81.jpg    \n",
            "  inflating: images/Bengal_82.jpg    \n",
            "  inflating: images/Bengal_83.jpg    \n",
            "  inflating: images/Bengal_84.jpg    \n",
            "  inflating: images/Bengal_85.jpg    \n",
            "  inflating: images/Bengal_86.jpg    \n",
            "  inflating: images/Bengal_87.jpg    \n",
            "  inflating: images/Bengal_88.jpg    \n",
            "  inflating: images/Bengal_89.jpg    \n",
            "  inflating: images/Bengal_9.jpg     \n",
            "  inflating: images/Bengal_90.jpg    \n",
            "  inflating: images/Bengal_91.jpg    \n",
            "  inflating: images/Bengal_92.jpg    \n",
            "  inflating: images/Bengal_93.jpg    \n",
            "  inflating: images/Bengal_94.jpg    \n",
            "  inflating: images/Bengal_95.jpg    \n",
            "  inflating: images/Bengal_96.jpg    \n",
            "  inflating: images/Bengal_97.jpg    \n",
            "  inflating: images/Bengal_98.jpg    \n",
            "  inflating: images/Bengal_99.jpg    \n",
            "  inflating: images/Birman_1.jpg     \n",
            "  inflating: images/Birman_10.jpg    \n",
            "  inflating: images/Birman_100.jpg   \n",
            "  inflating: images/Birman_101.jpg   \n",
            "  inflating: images/Birman_102.jpg   \n",
            "  inflating: images/Birman_103.jpg   \n",
            "  inflating: images/Birman_104.jpg   \n",
            "  inflating: images/Birman_105.jpg   \n",
            "  inflating: images/Birman_106.jpg   \n",
            "  inflating: images/Birman_107.jpg   \n",
            "  inflating: images/Birman_108.jpg   \n",
            "  inflating: images/Birman_109.jpg   \n",
            "  inflating: images/Birman_11.jpg    \n",
            "  inflating: images/Birman_110.jpg   \n",
            "  inflating: images/Birman_111.jpg   \n",
            "  inflating: images/Birman_112.jpg   \n",
            "  inflating: images/Birman_113.jpg   \n",
            "  inflating: images/Birman_114.jpg   \n",
            "  inflating: images/Birman_115.jpg   \n",
            "  inflating: images/Birman_116.jpg   \n",
            "  inflating: images/Birman_117.jpg   \n",
            "  inflating: images/Birman_118.jpg   \n",
            "  inflating: images/Birman_119.jpg   \n",
            "  inflating: images/Birman_12.jpg    \n",
            "  inflating: images/Birman_120.jpg   \n",
            "  inflating: images/Birman_121.jpg   \n",
            "  inflating: images/Birman_122.jpg   \n",
            "  inflating: images/Birman_123.jpg   \n",
            "  inflating: images/Birman_124.jpg   \n",
            "  inflating: images/Birman_125.jpg   \n",
            "  inflating: images/Birman_126.jpg   \n",
            "  inflating: images/Birman_127.jpg   \n",
            "  inflating: images/Birman_128.jpg   \n",
            "  inflating: images/Birman_129.jpg   \n",
            "  inflating: images/Birman_13.jpg    \n",
            "  inflating: images/Birman_130.jpg   \n",
            "  inflating: images/Birman_131.jpg   \n",
            "  inflating: images/Birman_132.jpg   \n",
            "  inflating: images/Birman_133.jpg   \n",
            "  inflating: images/Birman_134.jpg   \n",
            "  inflating: images/Birman_135.jpg   \n",
            "  inflating: images/Birman_136.jpg   \n",
            "  inflating: images/Birman_137.jpg   \n",
            "  inflating: images/Birman_138.jpg   \n",
            "  inflating: images/Birman_139.jpg   \n",
            "  inflating: images/Birman_14.jpg    \n",
            "  inflating: images/Birman_140.jpg   \n",
            "  inflating: images/Birman_141.jpg   \n",
            "  inflating: images/Birman_142.jpg   \n",
            "  inflating: images/Birman_143.jpg   \n",
            "  inflating: images/Birman_144.jpg   \n",
            "  inflating: images/Birman_145.jpg   \n",
            "  inflating: images/Birman_146.jpg   \n",
            "  inflating: images/Birman_147.jpg   \n",
            "  inflating: images/Birman_148.jpg   \n",
            "  inflating: images/Birman_149.jpg   \n",
            "  inflating: images/Birman_15.jpg    \n",
            "  inflating: images/Birman_150.jpg   \n",
            "  inflating: images/Birman_151.jpg   \n",
            "  inflating: images/Birman_152.jpg   \n",
            "  inflating: images/Birman_153.jpg   \n",
            "  inflating: images/Birman_154.jpg   \n",
            "  inflating: images/Birman_155.jpg   \n",
            "  inflating: images/Birman_156.jpg   \n",
            "  inflating: images/Birman_157.jpg   \n",
            "  inflating: images/Birman_158.jpg   \n",
            "  inflating: images/Birman_159.jpg   \n",
            "  inflating: images/Birman_16.jpg    \n",
            "  inflating: images/Birman_160.jpg   \n",
            "  inflating: images/Birman_161.jpg   \n",
            "  inflating: images/Birman_162.jpg   \n",
            "  inflating: images/Birman_163.jpg   \n",
            "  inflating: images/Birman_164.jpg   \n",
            "  inflating: images/Birman_165.jpg   \n",
            "  inflating: images/Birman_166.jpg   \n",
            "  inflating: images/Birman_167.jpg   \n",
            "  inflating: images/Birman_168.jpg   \n",
            "  inflating: images/Birman_169.jpg   \n",
            "  inflating: images/Birman_17.jpg    \n",
            "  inflating: images/Birman_170.jpg   \n",
            "  inflating: images/Birman_171.jpg   \n",
            "  inflating: images/Birman_172.jpg   \n",
            "  inflating: images/Birman_173.jpg   \n",
            "  inflating: images/Birman_174.jpg   \n",
            "  inflating: images/Birman_175.jpg   \n",
            "  inflating: images/Birman_176.jpg   \n",
            "  inflating: images/Birman_177.jpg   \n",
            "  inflating: images/Birman_178.jpg   \n",
            "  inflating: images/Birman_179.jpg   \n",
            "  inflating: images/Birman_18.jpg    \n",
            "  inflating: images/Birman_180.jpg   \n",
            "  inflating: images/Birman_181.jpg   \n",
            "  inflating: images/Birman_182.jpg   \n",
            "  inflating: images/Birman_183.jpg   \n",
            "  inflating: images/Birman_184.jpg   \n",
            "  inflating: images/Birman_185.jpg   \n",
            "  inflating: images/Birman_186.jpg   \n",
            "  inflating: images/Birman_187.jpg   \n",
            "  inflating: images/Birman_188.jpg   \n",
            "  inflating: images/Birman_189.jpg   \n",
            "  inflating: images/Birman_19.jpg    \n",
            "  inflating: images/Birman_190.jpg   \n",
            "  inflating: images/Birman_191.jpg   \n",
            "  inflating: images/Birman_192.jpg   \n",
            "  inflating: images/Birman_193.jpg   \n",
            "  inflating: images/Birman_194.jpg   \n",
            "  inflating: images/Birman_196.jpg   \n",
            "  inflating: images/Birman_197.jpg   \n",
            "  inflating: images/Birman_198.jpg   \n",
            "  inflating: images/Birman_199.jpg   \n",
            "  inflating: images/Birman_2.jpg     \n",
            "  inflating: images/Birman_20.jpg    \n",
            "  inflating: images/Birman_200.jpg   \n",
            "  inflating: images/Birman_201.jpg   \n",
            "  inflating: images/Birman_21.jpg    \n",
            "  inflating: images/Birman_22.jpg    \n",
            "  inflating: images/Birman_23.jpg    \n",
            "  inflating: images/Birman_24.jpg    \n",
            "  inflating: images/Birman_25.jpg    \n",
            "  inflating: images/Birman_26.jpg    \n",
            "  inflating: images/Birman_27.jpg    \n",
            "  inflating: images/Birman_28.jpg    \n",
            "  inflating: images/Birman_29.jpg    \n",
            "  inflating: images/Birman_3.jpg     \n",
            "  inflating: images/Birman_30.jpg    \n",
            "  inflating: images/Birman_31.jpg    \n",
            "  inflating: images/Birman_32.jpg    \n",
            "  inflating: images/Birman_33.jpg    \n",
            "  inflating: images/Birman_34.jpg    \n",
            "  inflating: images/Birman_35.jpg    \n",
            "  inflating: images/Birman_36.jpg    \n",
            "  inflating: images/Birman_37.jpg    \n",
            "  inflating: images/Birman_38.jpg    \n",
            "  inflating: images/Birman_39.jpg    \n",
            "  inflating: images/Birman_4.jpg     \n",
            "  inflating: images/Birman_40.jpg    \n",
            "  inflating: images/Birman_41.jpg    \n",
            "  inflating: images/Birman_42.jpg    \n",
            "  inflating: images/Birman_43.jpg    \n",
            "  inflating: images/Birman_44.jpg    \n",
            "  inflating: images/Birman_45.jpg    \n",
            "  inflating: images/Birman_46.jpg    \n",
            "  inflating: images/Birman_47.jpg    \n",
            "  inflating: images/Birman_48.jpg    \n",
            "  inflating: images/Birman_49.jpg    \n",
            "  inflating: images/Birman_5.jpg     \n",
            "  inflating: images/Birman_50.jpg    \n",
            "  inflating: images/Birman_51.jpg    \n",
            "  inflating: images/Birman_52.jpg    \n",
            "  inflating: images/Birman_53.jpg    \n",
            "  inflating: images/Birman_54.jpg    \n",
            "  inflating: images/Birman_55.jpg    \n",
            "  inflating: images/Birman_56.jpg    \n",
            "  inflating: images/Birman_57.jpg    \n",
            "  inflating: images/Birman_58.jpg    \n",
            "  inflating: images/Birman_59.jpg    \n",
            "  inflating: images/Birman_6.jpg     \n",
            "  inflating: images/Birman_60.jpg    \n",
            "  inflating: images/Birman_61.jpg    \n",
            "  inflating: images/Birman_62.jpg    \n",
            "  inflating: images/Birman_63.jpg    \n",
            "  inflating: images/Birman_64.jpg    \n",
            "  inflating: images/Birman_65.jpg    \n",
            "  inflating: images/Birman_66.jpg    \n",
            "  inflating: images/Birman_67.jpg    \n",
            "  inflating: images/Birman_68.jpg    \n",
            "  inflating: images/Birman_69.jpg    \n",
            "  inflating: images/Birman_7.jpg     \n",
            "  inflating: images/Birman_70.jpg    \n",
            "  inflating: images/Birman_71.jpg    \n",
            "  inflating: images/Birman_72.jpg    \n",
            "  inflating: images/Birman_73.jpg    \n",
            "  inflating: images/Birman_74.jpg    \n",
            "  inflating: images/Birman_75.jpg    \n",
            "  inflating: images/Birman_76.jpg    \n",
            "  inflating: images/Birman_77.jpg    \n",
            "  inflating: images/Birman_78.jpg    \n",
            "  inflating: images/Birman_79.jpg    \n",
            "  inflating: images/Birman_8.jpg     \n",
            "  inflating: images/Birman_80.jpg    \n",
            "  inflating: images/Birman_81.jpg    \n",
            "  inflating: images/Birman_82.jpg    \n",
            "  inflating: images/Birman_83.jpg    \n",
            "  inflating: images/Birman_84.jpg    \n",
            "  inflating: images/Birman_85.jpg    \n",
            "  inflating: images/Birman_86.jpg    \n",
            "  inflating: images/Birman_87.jpg    \n",
            "  inflating: images/Birman_88.jpg    \n",
            "  inflating: images/Birman_89.jpg    \n",
            "  inflating: images/Birman_9.jpg     \n",
            "  inflating: images/Birman_90.jpg    \n",
            "  inflating: images/Birman_91.jpg    \n",
            "  inflating: images/Birman_92.jpg    \n",
            "  inflating: images/Birman_93.jpg    \n",
            "  inflating: images/Birman_94.jpg    \n",
            "  inflating: images/Birman_95.jpg    \n",
            "  inflating: images/Birman_96.jpg    \n",
            "  inflating: images/Birman_97.jpg    \n",
            "  inflating: images/Birman_98.jpg    \n",
            "  inflating: images/Birman_99.jpg    \n",
            "  inflating: images/Bombay_1.jpg     \n",
            "  inflating: images/Bombay_10.jpg    \n",
            "  inflating: images/Bombay_100.jpg   \n",
            "  inflating: images/Bombay_101.jpg   \n",
            "  inflating: images/Bombay_102.jpg   \n",
            "  inflating: images/Bombay_103.jpg   \n",
            "  inflating: images/Bombay_104.jpg   \n",
            "  inflating: images/Bombay_105.jpg   \n",
            "  inflating: images/Bombay_106.jpg   \n",
            "  inflating: images/Bombay_107.jpg   \n",
            "  inflating: images/Bombay_108.jpg   \n",
            "  inflating: images/Bombay_109.jpg   \n",
            "  inflating: images/Bombay_11.jpg    \n",
            "  inflating: images/Bombay_110.jpg   \n",
            "  inflating: images/Bombay_111.jpg   \n",
            "  inflating: images/Bombay_112.jpg   \n",
            "  inflating: images/Bombay_113.jpg   \n",
            "  inflating: images/Bombay_114.jpg   \n",
            "  inflating: images/Bombay_115.jpg   \n",
            "  inflating: images/Bombay_116.jpg   \n",
            "  inflating: images/Bombay_117.jpg   \n",
            "  inflating: images/Bombay_118.jpg   \n",
            "  inflating: images/Bombay_119.jpg   \n",
            "  inflating: images/Bombay_12.jpg    \n",
            "  inflating: images/Bombay_120.jpg   \n",
            "  inflating: images/Bombay_121.jpg   \n",
            "  inflating: images/Bombay_122.jpg   \n",
            "  inflating: images/Bombay_123.jpg   \n",
            "  inflating: images/Bombay_125.jpg   \n",
            "  inflating: images/Bombay_126.jpg   \n",
            "  inflating: images/Bombay_127.jpg   \n",
            "  inflating: images/Bombay_128.jpg   \n",
            "  inflating: images/Bombay_129.jpg   \n",
            "  inflating: images/Bombay_13.jpg    \n",
            "  inflating: images/Bombay_130.jpg   \n",
            "  inflating: images/Bombay_131.jpg   \n",
            "  inflating: images/Bombay_132.jpg   \n",
            "  inflating: images/Bombay_133.jpg   \n",
            "  inflating: images/Bombay_134.jpg   \n",
            "  inflating: images/Bombay_135.jpg   \n",
            "  inflating: images/Bombay_136.jpg   \n",
            "  inflating: images/Bombay_137.jpg   \n",
            "  inflating: images/Bombay_138.jpg   \n",
            "  inflating: images/Bombay_139.jpg   \n",
            "  inflating: images/Bombay_14.jpg    \n",
            "  inflating: images/Bombay_140.jpg   \n",
            "  inflating: images/Bombay_141.jpg   \n",
            "  inflating: images/Bombay_143.jpg   \n",
            "  inflating: images/Bombay_144.jpg   \n",
            "  inflating: images/Bombay_145.jpg   \n",
            "  inflating: images/Bombay_146.jpg   \n",
            "  inflating: images/Bombay_148.jpg   \n",
            "  inflating: images/Bombay_15.jpg    \n",
            "  inflating: images/Bombay_150.jpg   \n",
            "  inflating: images/Bombay_151.jpg   \n",
            "  inflating: images/Bombay_152.jpg   \n",
            "  inflating: images/Bombay_153.jpg   \n",
            "  inflating: images/Bombay_154.jpg   \n",
            "  inflating: images/Bombay_155.jpg   \n",
            "  inflating: images/Bombay_156.jpg   \n",
            "  inflating: images/Bombay_157.jpg   \n",
            "  inflating: images/Bombay_158.jpg   \n",
            "  inflating: images/Bombay_159.jpg   \n",
            "  inflating: images/Bombay_16.jpg    \n",
            "  inflating: images/Bombay_160.jpg   \n",
            "  inflating: images/Bombay_161.jpg   \n",
            "  inflating: images/Bombay_162.jpg   \n",
            "  inflating: images/Bombay_163.jpg   \n",
            "  inflating: images/Bombay_164.jpg   \n",
            "  inflating: images/Bombay_166.jpg   \n",
            "  inflating: images/Bombay_167.jpg   \n",
            "  inflating: images/Bombay_168.jpg   \n",
            "  inflating: images/Bombay_169.jpg   \n",
            "  inflating: images/Bombay_170.jpg   \n",
            "  inflating: images/Bombay_171.jpg   \n",
            "  inflating: images/Bombay_172.jpg   \n",
            "  inflating: images/Bombay_173.jpg   \n",
            "  inflating: images/Bombay_174.jpg   \n",
            "  inflating: images/Bombay_175.jpg   \n",
            "  inflating: images/Bombay_176.jpg   \n",
            "  inflating: images/Bombay_177.jpg   \n",
            "  inflating: images/Bombay_178.jpg   \n",
            "  inflating: images/Bombay_179.jpg   \n",
            "  inflating: images/Bombay_18.jpg    \n",
            "  inflating: images/Bombay_180.jpg   \n",
            "  inflating: images/Bombay_181.jpg   \n",
            "  inflating: images/Bombay_182.jpg   \n",
            "  inflating: images/Bombay_183.jpg   \n",
            "  inflating: images/Bombay_184.jpg   \n",
            "  inflating: images/Bombay_185.jpg   \n",
            "  inflating: images/Bombay_186.jpg   \n",
            "  inflating: images/Bombay_188.jpg   \n",
            "  inflating: images/Bombay_189.jpg   \n",
            "  inflating: images/Bombay_19.jpg    \n",
            "  inflating: images/Bombay_190.jpg   \n",
            "  inflating: images/Bombay_191.jpg   \n",
            "  inflating: images/Bombay_192.jpg   \n",
            "  inflating: images/Bombay_193.jpg   \n",
            "  inflating: images/Bombay_194.jpg   \n",
            "  inflating: images/Bombay_198.jpg   \n",
            "  inflating: images/Bombay_2.jpg     \n",
            "  inflating: images/Bombay_20.jpg    \n",
            "  inflating: images/Bombay_200.jpg   \n",
            "  inflating: images/Bombay_201.jpg   \n",
            "  inflating: images/Bombay_202.jpg   \n",
            "  inflating: images/Bombay_203.jpg   \n",
            "  inflating: images/Bombay_204.jpg   \n",
            "  inflating: images/Bombay_205.jpg   \n",
            "  inflating: images/Bombay_206.jpg   \n",
            "  inflating: images/Bombay_208.jpg   \n",
            "  inflating: images/Bombay_209.jpg   \n",
            "  inflating: images/Bombay_21.jpg    \n",
            "  inflating: images/Bombay_210.jpg   \n",
            "  inflating: images/Bombay_213.jpg   \n",
            "  inflating: images/Bombay_214.jpg   \n",
            "  inflating: images/Bombay_215.jpg   \n",
            "  inflating: images/Bombay_217.jpg   \n",
            "  inflating: images/Bombay_22.jpg    \n",
            "  inflating: images/Bombay_220.jpg   \n",
            "  inflating: images/Bombay_221.jpg   \n",
            "  inflating: images/Bombay_23.jpg    \n",
            "  inflating: images/Bombay_24.jpg    \n",
            "  inflating: images/Bombay_25.jpg    \n",
            "  inflating: images/Bombay_26.jpg    \n",
            "  inflating: images/Bombay_27.jpg    \n",
            "  inflating: images/Bombay_29.jpg    \n",
            "  inflating: images/Bombay_3.jpg     \n",
            "  inflating: images/Bombay_30.jpg    \n",
            "  inflating: images/Bombay_31.jpg    \n",
            "  inflating: images/Bombay_32.jpg    \n",
            "  inflating: images/Bombay_33.jpg    \n",
            "  inflating: images/Bombay_34.jpg    \n",
            "  inflating: images/Bombay_36.jpg    \n",
            "  inflating: images/Bombay_37.jpg    \n",
            "  inflating: images/Bombay_38.jpg    \n",
            "  inflating: images/Bombay_39.jpg    \n",
            "  inflating: images/Bombay_4.jpg     \n",
            "  inflating: images/Bombay_40.jpg    \n",
            "  inflating: images/Bombay_41.jpg    \n",
            "  inflating: images/Bombay_42.jpg    \n",
            "  inflating: images/Bombay_43.jpg    \n",
            "  inflating: images/Bombay_45.jpg    \n",
            "  inflating: images/Bombay_46.jpg    \n",
            "  inflating: images/Bombay_47.jpg    \n",
            "  inflating: images/Bombay_48.jpg    \n",
            "  inflating: images/Bombay_49.jpg    \n",
            "  inflating: images/Bombay_5.jpg     \n",
            "  inflating: images/Bombay_50.jpg    \n",
            "  inflating: images/Bombay_52.jpg    \n",
            "  inflating: images/Bombay_53.jpg    \n",
            "  inflating: images/Bombay_54.jpg    \n",
            "  inflating: images/Bombay_55.jpg    \n",
            "  inflating: images/Bombay_56.jpg    \n",
            "  inflating: images/Bombay_57.jpg    \n",
            "  inflating: images/Bombay_58.jpg    \n",
            "  inflating: images/Bombay_59.jpg    \n",
            "  inflating: images/Bombay_6.jpg     \n",
            "  inflating: images/Bombay_60.jpg    \n",
            "  inflating: images/Bombay_61.jpg    \n",
            "  inflating: images/Bombay_62.jpg    \n",
            "  inflating: images/Bombay_63.jpg    \n",
            "  inflating: images/Bombay_64.jpg    \n",
            "  inflating: images/Bombay_65.jpg    \n",
            "  inflating: images/Bombay_66.jpg    \n",
            "  inflating: images/Bombay_67.jpg    \n",
            "  inflating: images/Bombay_68.jpg    \n",
            "  inflating: images/Bombay_69.jpg    \n",
            "  inflating: images/Bombay_7.jpg     \n",
            "  inflating: images/Bombay_70.jpg    \n",
            "  inflating: images/Bombay_71.jpg    \n",
            "  inflating: images/Bombay_72.jpg    \n",
            "  inflating: images/Bombay_73.jpg    \n",
            "  inflating: images/Bombay_74.jpg    \n",
            "  inflating: images/Bombay_75.jpg    \n",
            "  inflating: images/Bombay_76.jpg    \n",
            "  inflating: images/Bombay_77.jpg    \n",
            "  inflating: images/Bombay_78.jpg    \n",
            "  inflating: images/Bombay_79.jpg    \n",
            "  inflating: images/Bombay_8.jpg     \n",
            "  inflating: images/Bombay_80.jpg    \n",
            "  inflating: images/Bombay_81.jpg    \n",
            "  inflating: images/Bombay_82.jpg    \n",
            "  inflating: images/Bombay_83.jpg    \n",
            "  inflating: images/Bombay_84.jpg    \n",
            "  inflating: images/Bombay_85.jpg    \n",
            "  inflating: images/Bombay_86.jpg    \n",
            "  inflating: images/Bombay_87.jpg    \n",
            "  inflating: images/Bombay_88.jpg    \n",
            "  inflating: images/Bombay_89.jpg    \n",
            "  inflating: images/Bombay_9.jpg     \n",
            "  inflating: images/Bombay_90.jpg    \n",
            "  inflating: images/Bombay_91.jpg    \n",
            "  inflating: images/Bombay_92.jpg    \n",
            "  inflating: images/Bombay_93.jpg    \n",
            "  inflating: images/Bombay_94.jpg    \n",
            "  inflating: images/Bombay_95.jpg    \n",
            "  inflating: images/Bombay_96.jpg    \n",
            "  inflating: images/Bombay_97.jpg    \n",
            "  inflating: images/Bombay_98.jpg    \n",
            "  inflating: images/Bombay_99.jpg    \n",
            "  inflating: images/boxer_1.jpg      \n",
            "  inflating: images/boxer_10.jpg     \n",
            "  inflating: images/boxer_100.jpg    \n",
            "  inflating: images/boxer_101.jpg    \n",
            "  inflating: images/boxer_102.jpg    \n",
            "  inflating: images/boxer_103.jpg    \n",
            "  inflating: images/boxer_104.jpg    \n",
            "  inflating: images/boxer_105.jpg    \n",
            "  inflating: images/boxer_106.jpg    \n",
            "  inflating: images/boxer_107.jpg    \n",
            "  inflating: images/boxer_108.jpg    \n",
            "  inflating: images/boxer_109.jpg    \n",
            "  inflating: images/boxer_11.jpg     \n",
            "  inflating: images/boxer_110.jpg    \n",
            "  inflating: images/boxer_111.jpg    \n",
            "  inflating: images/boxer_112.jpg    \n",
            "  inflating: images/boxer_113.jpg    \n",
            "  inflating: images/boxer_114.jpg    \n",
            "  inflating: images/boxer_115.jpg    \n",
            "  inflating: images/boxer_116.jpg    \n",
            "  inflating: images/boxer_117.jpg    \n",
            "  inflating: images/boxer_118.jpg    \n",
            "  inflating: images/boxer_119.jpg    \n",
            "  inflating: images/boxer_12.jpg     \n",
            "  inflating: images/boxer_120.jpg    \n",
            "  inflating: images/boxer_121.jpg    \n",
            "  inflating: images/boxer_122.jpg    \n",
            "  inflating: images/boxer_123.jpg    \n",
            "  inflating: images/boxer_124.jpg    \n",
            "  inflating: images/boxer_125.jpg    \n",
            "  inflating: images/boxer_126.jpg    \n",
            "  inflating: images/boxer_127.jpg    \n",
            "  inflating: images/boxer_128.jpg    \n",
            "  inflating: images/boxer_129.jpg    \n",
            "  inflating: images/boxer_13.jpg     \n",
            "  inflating: images/boxer_130.jpg    \n",
            "  inflating: images/boxer_131.jpg    \n",
            "  inflating: images/boxer_132.jpg    \n",
            "  inflating: images/boxer_133.jpg    \n",
            "  inflating: images/boxer_134.jpg    \n",
            "  inflating: images/boxer_135.jpg    \n",
            "  inflating: images/boxer_136.jpg    \n",
            "  inflating: images/boxer_137.jpg    \n",
            "  inflating: images/boxer_138.jpg    \n",
            "  inflating: images/boxer_139.jpg    \n",
            "  inflating: images/boxer_14.jpg     \n",
            "  inflating: images/boxer_140.jpg    \n",
            "  inflating: images/boxer_141.jpg    \n",
            "  inflating: images/boxer_142.jpg    \n",
            "  inflating: images/boxer_143.jpg    \n",
            "  inflating: images/boxer_144.jpg    \n",
            "  inflating: images/boxer_145.jpg    \n",
            "  inflating: images/boxer_146.jpg    \n",
            "  inflating: images/boxer_147.jpg    \n",
            "  inflating: images/boxer_148.jpg    \n",
            "  inflating: images/boxer_149.jpg    \n",
            "  inflating: images/boxer_15.jpg     \n",
            "  inflating: images/boxer_150.jpg    \n",
            "  inflating: images/boxer_151.jpg    \n",
            "  inflating: images/boxer_152.jpg    \n",
            "  inflating: images/boxer_153.jpg    \n",
            "  inflating: images/boxer_154.jpg    \n",
            "  inflating: images/boxer_155.jpg    \n",
            "  inflating: images/boxer_156.jpg    \n",
            "  inflating: images/boxer_157.jpg    \n",
            "  inflating: images/boxer_158.jpg    \n",
            "  inflating: images/boxer_159.jpg    \n",
            "  inflating: images/boxer_16.jpg     \n",
            "  inflating: images/boxer_160.jpg    \n",
            "  inflating: images/boxer_161.jpg    \n",
            "  inflating: images/boxer_162.jpg    \n",
            "  inflating: images/boxer_163.jpg    \n",
            "  inflating: images/boxer_164.jpg    \n",
            "  inflating: images/boxer_165.jpg    \n",
            "  inflating: images/boxer_166.jpg    \n",
            "  inflating: images/boxer_167.jpg    \n",
            "  inflating: images/boxer_168.jpg    \n",
            "  inflating: images/boxer_169.jpg    \n",
            "  inflating: images/boxer_17.jpg     \n",
            "  inflating: images/boxer_170.jpg    \n",
            "  inflating: images/boxer_171.jpg    \n",
            "  inflating: images/boxer_172.jpg    \n",
            "  inflating: images/boxer_173.jpg    \n",
            "  inflating: images/boxer_174.jpg    \n",
            "  inflating: images/boxer_175.jpg    \n",
            "  inflating: images/boxer_176.jpg    \n",
            "  inflating: images/boxer_177.jpg    \n",
            "  inflating: images/boxer_178.jpg    \n",
            "  inflating: images/boxer_179.jpg    \n",
            "  inflating: images/boxer_18.jpg     \n",
            "  inflating: images/boxer_180.jpg    \n",
            "  inflating: images/boxer_181.jpg    \n",
            "  inflating: images/boxer_182.jpg    \n",
            "  inflating: images/boxer_183.jpg    \n",
            "  inflating: images/boxer_184.jpg    \n",
            "  inflating: images/boxer_185.jpg    \n",
            "  inflating: images/boxer_186.jpg    \n",
            "  inflating: images/boxer_187.jpg    \n",
            "  inflating: images/boxer_188.jpg    \n",
            "  inflating: images/boxer_189.jpg    \n",
            "  inflating: images/boxer_19.jpg     \n",
            "  inflating: images/boxer_190.jpg    \n",
            "  inflating: images/boxer_191.jpg    \n",
            "  inflating: images/boxer_192.jpg    \n",
            "  inflating: images/boxer_193.jpg    \n",
            "  inflating: images/boxer_194.jpg    \n",
            "  inflating: images/boxer_195.jpg    \n",
            "  inflating: images/boxer_196.jpg    \n",
            "  inflating: images/boxer_197.jpg    \n",
            "  inflating: images/boxer_198.jpg    \n",
            "  inflating: images/boxer_199.jpg    \n",
            "  inflating: images/boxer_2.jpg      \n",
            "  inflating: images/boxer_20.jpg     \n",
            "  inflating: images/boxer_200.jpg    \n",
            "  inflating: images/boxer_21.jpg     \n",
            "  inflating: images/boxer_22.jpg     \n",
            "  inflating: images/boxer_23.jpg     \n",
            "  inflating: images/boxer_24.jpg     \n",
            "  inflating: images/boxer_25.jpg     \n",
            "  inflating: images/boxer_26.jpg     \n",
            "  inflating: images/boxer_27.jpg     \n",
            "  inflating: images/boxer_28.jpg     \n",
            "  inflating: images/boxer_29.jpg     \n",
            "  inflating: images/boxer_3.jpg      \n",
            "  inflating: images/boxer_30.jpg     \n",
            "  inflating: images/boxer_31.jpg     \n",
            "  inflating: images/boxer_32.jpg     \n",
            "  inflating: images/boxer_33.jpg     \n",
            "  inflating: images/boxer_34.jpg     \n",
            "  inflating: images/boxer_35.jpg     \n",
            "  inflating: images/boxer_36.jpg     \n",
            "  inflating: images/boxer_37.jpg     \n",
            "  inflating: images/boxer_38.jpg     \n",
            "  inflating: images/boxer_39.jpg     \n",
            "  inflating: images/boxer_4.jpg      \n",
            "  inflating: images/boxer_40.jpg     \n",
            "  inflating: images/boxer_41.jpg     \n",
            "  inflating: images/boxer_42.jpg     \n",
            "  inflating: images/boxer_43.jpg     \n",
            "  inflating: images/boxer_44.jpg     \n",
            "  inflating: images/boxer_45.jpg     \n",
            "  inflating: images/boxer_46.jpg     \n",
            "  inflating: images/boxer_47.jpg     \n",
            "  inflating: images/boxer_48.jpg     \n",
            "  inflating: images/boxer_49.jpg     \n",
            "  inflating: images/boxer_5.jpg      \n",
            "  inflating: images/boxer_50.jpg     \n",
            "  inflating: images/boxer_51.jpg     \n",
            "  inflating: images/boxer_52.jpg     \n",
            "  inflating: images/boxer_53.jpg     \n",
            "  inflating: images/boxer_54.jpg     \n",
            "  inflating: images/boxer_55.jpg     \n",
            "  inflating: images/boxer_56.jpg     \n",
            "  inflating: images/boxer_57.jpg     \n",
            "  inflating: images/boxer_58.jpg     \n",
            "  inflating: images/boxer_59.jpg     \n",
            "  inflating: images/boxer_6.jpg      \n",
            "  inflating: images/boxer_60.jpg     \n",
            "  inflating: images/boxer_61.jpg     \n",
            "  inflating: images/boxer_62.jpg     \n",
            "  inflating: images/boxer_63.jpg     \n",
            "  inflating: images/boxer_64.jpg     \n",
            "  inflating: images/boxer_65.jpg     \n",
            "  inflating: images/boxer_66.jpg     \n",
            "  inflating: images/boxer_67.jpg     \n",
            "  inflating: images/boxer_68.jpg     \n",
            "  inflating: images/boxer_69.jpg     \n",
            "  inflating: images/boxer_7.jpg      \n",
            "  inflating: images/boxer_70.jpg     \n",
            "  inflating: images/boxer_71.jpg     \n",
            "  inflating: images/boxer_72.jpg     \n",
            "  inflating: images/boxer_73.jpg     \n",
            "  inflating: images/boxer_74.jpg     \n",
            "  inflating: images/boxer_75.jpg     \n",
            "  inflating: images/boxer_76.jpg     \n",
            "  inflating: images/boxer_77.jpg     \n",
            "  inflating: images/boxer_78.jpg     \n",
            "  inflating: images/boxer_79.jpg     \n",
            "  inflating: images/boxer_8.jpg      \n",
            "  inflating: images/boxer_80.jpg     \n",
            "  inflating: images/boxer_81.jpg     \n",
            "  inflating: images/boxer_82.jpg     \n",
            "  inflating: images/boxer_83.jpg     \n",
            "  inflating: images/boxer_84.jpg     \n",
            "  inflating: images/boxer_85.jpg     \n",
            "  inflating: images/boxer_86.jpg     \n",
            "  inflating: images/boxer_87.jpg     \n",
            "  inflating: images/boxer_88.jpg     \n",
            "  inflating: images/boxer_89.jpg     \n",
            "  inflating: images/boxer_9.jpg      \n",
            "  inflating: images/boxer_90.jpg     \n",
            "  inflating: images/boxer_91.jpg     \n",
            "  inflating: images/boxer_92.jpg     \n",
            "  inflating: images/boxer_93.jpg     \n",
            "  inflating: images/boxer_94.jpg     \n",
            "  inflating: images/boxer_95.jpg     \n",
            "  inflating: images/boxer_96.jpg     \n",
            "  inflating: images/boxer_97.jpg     \n",
            "  inflating: images/boxer_98.jpg     \n",
            "  inflating: images/boxer_99.jpg     \n",
            "  inflating: images/British_Shorthair_10.jpg  \n",
            "  inflating: images/British_Shorthair_100.jpg  \n",
            "  inflating: images/British_Shorthair_101.jpg  \n",
            "  inflating: images/British_Shorthair_102.jpg  \n",
            "  inflating: images/British_Shorthair_103.jpg  \n",
            "  inflating: images/British_Shorthair_104.jpg  \n",
            "  inflating: images/British_Shorthair_105.jpg  \n",
            "  inflating: images/British_Shorthair_106.jpg  \n",
            "  inflating: images/British_Shorthair_107.jpg  \n",
            "  inflating: images/British_Shorthair_108.jpg  \n",
            "  inflating: images/British_Shorthair_109.jpg  \n",
            "  inflating: images/British_Shorthair_110.jpg  \n",
            "  inflating: images/British_Shorthair_111.jpg  \n",
            "  inflating: images/British_Shorthair_112.jpg  \n",
            "  inflating: images/British_Shorthair_113.jpg  \n",
            "  inflating: images/British_Shorthair_114.jpg  \n",
            "  inflating: images/British_Shorthair_115.jpg  \n",
            "  inflating: images/British_Shorthair_116.jpg  \n",
            "  inflating: images/British_Shorthair_117.jpg  \n",
            "  inflating: images/British_Shorthair_118.jpg  \n",
            "  inflating: images/British_Shorthair_119.jpg  \n",
            "  inflating: images/British_Shorthair_120.jpg  \n",
            "  inflating: images/British_Shorthair_121.jpg  \n",
            "  inflating: images/British_Shorthair_122.jpg  \n",
            "  inflating: images/British_Shorthair_123.jpg  \n",
            "  inflating: images/British_Shorthair_124.jpg  \n",
            "  inflating: images/British_Shorthair_125.jpg  \n",
            "  inflating: images/British_Shorthair_126.jpg  \n",
            "  inflating: images/British_Shorthair_127.jpg  \n",
            "  inflating: images/British_Shorthair_128.jpg  \n",
            "  inflating: images/British_Shorthair_129.jpg  \n",
            "  inflating: images/British_Shorthair_130.jpg  \n",
            "  inflating: images/British_Shorthair_133.jpg  \n",
            "  inflating: images/British_Shorthair_134.jpg  \n",
            "  inflating: images/British_Shorthair_135.jpg  \n",
            "  inflating: images/British_Shorthair_136.jpg  \n",
            "  inflating: images/British_Shorthair_137.jpg  \n",
            "  inflating: images/British_Shorthair_139.jpg  \n",
            "  inflating: images/British_Shorthair_140.jpg  \n",
            "  inflating: images/British_Shorthair_141.jpg  \n",
            "  inflating: images/British_Shorthair_144.jpg  \n",
            "  inflating: images/British_Shorthair_145.jpg  \n",
            "  inflating: images/British_Shorthair_148.jpg  \n",
            "  inflating: images/British_Shorthair_149.jpg  \n",
            "  inflating: images/British_Shorthair_15.jpg  \n",
            "  inflating: images/British_Shorthair_151.jpg  \n",
            "  inflating: images/British_Shorthair_153.jpg  \n",
            "  inflating: images/British_Shorthair_154.jpg  \n",
            "  inflating: images/British_Shorthair_155.jpg  \n",
            "  inflating: images/British_Shorthair_156.jpg  \n",
            "  inflating: images/British_Shorthair_157.jpg  \n",
            "  inflating: images/British_Shorthair_158.jpg  \n",
            "  inflating: images/British_Shorthair_159.jpg  \n",
            "  inflating: images/British_Shorthair_16.jpg  \n",
            "  inflating: images/British_Shorthair_160.jpg  \n",
            "  inflating: images/British_Shorthair_161.jpg  \n",
            "  inflating: images/British_Shorthair_162.jpg  \n",
            "  inflating: images/British_Shorthair_163.jpg  \n",
            "  inflating: images/British_Shorthair_164.jpg  \n",
            "  inflating: images/British_Shorthair_165.jpg  \n",
            "  inflating: images/British_Shorthair_166.jpg  \n",
            "  inflating: images/British_Shorthair_167.jpg  \n",
            "  inflating: images/British_Shorthair_168.jpg  \n",
            "  inflating: images/British_Shorthair_169.jpg  \n",
            "  inflating: images/British_Shorthair_17.jpg  \n",
            "  inflating: images/British_Shorthair_170.jpg  \n",
            "  inflating: images/British_Shorthair_172.jpg  \n",
            "  inflating: images/British_Shorthair_173.jpg  \n",
            "  inflating: images/British_Shorthair_174.jpg  \n",
            "  inflating: images/British_Shorthair_175.jpg  \n",
            "  inflating: images/British_Shorthair_176.jpg  \n",
            "  inflating: images/British_Shorthair_177.jpg  \n",
            "  inflating: images/British_Shorthair_178.jpg  \n",
            "  inflating: images/British_Shorthair_179.jpg  \n",
            "  inflating: images/British_Shorthair_18.jpg  \n",
            "  inflating: images/British_Shorthair_180.jpg  \n",
            "  inflating: images/British_Shorthair_181.jpg  \n",
            "  inflating: images/British_Shorthair_182.jpg  \n",
            "  inflating: images/British_Shorthair_183.jpg  \n",
            "  inflating: images/British_Shorthair_184.jpg  \n",
            "  inflating: images/British_Shorthair_185.jpg  \n",
            "  inflating: images/British_Shorthair_186.jpg  \n",
            "  inflating: images/British_Shorthair_187.jpg  \n",
            "  inflating: images/British_Shorthair_188.jpg  \n",
            "  inflating: images/British_Shorthair_189.jpg  \n",
            "  inflating: images/British_Shorthair_190.jpg  \n",
            "  inflating: images/British_Shorthair_193.jpg  \n",
            "  inflating: images/British_Shorthair_195.jpg  \n",
            "  inflating: images/British_Shorthair_196.jpg  \n",
            "  inflating: images/British_Shorthair_197.jpg  \n",
            "  inflating: images/British_Shorthair_198.jpg  \n",
            "  inflating: images/British_Shorthair_199.jpg  \n",
            "  inflating: images/British_Shorthair_2.jpg  \n",
            "  inflating: images/British_Shorthair_200.jpg  \n",
            "  inflating: images/British_Shorthair_201.jpg  \n",
            "  inflating: images/British_Shorthair_203.jpg  \n",
            "  inflating: images/British_Shorthair_204.jpg  \n",
            "  inflating: images/British_Shorthair_205.jpg  \n",
            "  inflating: images/British_Shorthair_207.jpg  \n",
            "  inflating: images/British_Shorthair_209.jpg  \n",
            "  inflating: images/British_Shorthair_21.jpg  \n",
            "  inflating: images/British_Shorthair_210.jpg  \n",
            "  inflating: images/British_Shorthair_212.jpg  \n",
            "  inflating: images/British_Shorthair_213.jpg  \n",
            "  inflating: images/British_Shorthair_218.jpg  \n",
            "  inflating: images/British_Shorthair_22.jpg  \n",
            "  inflating: images/British_Shorthair_223.jpg  \n",
            "  inflating: images/British_Shorthair_230.jpg  \n",
            "  inflating: images/British_Shorthair_239.jpg  \n",
            "  inflating: images/British_Shorthair_241.jpg  \n",
            "  inflating: images/British_Shorthair_248.jpg  \n",
            "  inflating: images/British_Shorthair_25.jpg  \n",
            "  inflating: images/British_Shorthair_258.jpg  \n",
            "  inflating: images/British_Shorthair_26.jpg  \n",
            "  inflating: images/British_Shorthair_263.jpg  \n",
            "  inflating: images/British_Shorthair_265.jpg  \n",
            "  inflating: images/British_Shorthair_266.jpg  \n",
            "  inflating: images/British_Shorthair_267.jpg  \n",
            "  inflating: images/British_Shorthair_268.jpg  \n",
            "  inflating: images/British_Shorthair_269.jpg  \n",
            "  inflating: images/British_Shorthair_27.jpg  \n",
            "  inflating: images/British_Shorthair_270.jpg  \n",
            "  inflating: images/British_Shorthair_271.jpg  \n",
            "  inflating: images/British_Shorthair_272.jpg  \n",
            "  inflating: images/British_Shorthair_273.jpg  \n",
            "  inflating: images/British_Shorthair_274.jpg  \n",
            "  inflating: images/British_Shorthair_275.jpg  \n",
            "  inflating: images/British_Shorthair_276.jpg  \n",
            "  inflating: images/British_Shorthair_277.jpg  \n",
            "  inflating: images/British_Shorthair_278.jpg  \n",
            "  inflating: images/British_Shorthair_28.jpg  \n",
            "  inflating: images/British_Shorthair_29.jpg  \n",
            "  inflating: images/British_Shorthair_3.jpg  \n",
            "  inflating: images/British_Shorthair_30.jpg  \n",
            "  inflating: images/British_Shorthair_31.jpg  \n",
            "  inflating: images/British_Shorthair_32.jpg  \n",
            "  inflating: images/British_Shorthair_33.jpg  \n",
            "  inflating: images/British_Shorthair_34.jpg  \n",
            "  inflating: images/British_Shorthair_36.jpg  \n",
            "  inflating: images/British_Shorthair_37.jpg  \n",
            "  inflating: images/British_Shorthair_38.jpg  \n",
            "  inflating: images/British_Shorthair_39.jpg  \n",
            "  inflating: images/British_Shorthair_40.jpg  \n",
            "  inflating: images/British_Shorthair_41.jpg  \n",
            "  inflating: images/British_Shorthair_42.jpg  \n",
            "  inflating: images/British_Shorthair_43.jpg  \n",
            "  inflating: images/British_Shorthair_44.jpg  \n",
            "  inflating: images/British_Shorthair_45.jpg  \n",
            "  inflating: images/British_Shorthair_46.jpg  \n",
            "  inflating: images/British_Shorthair_47.jpg  \n",
            "  inflating: images/British_Shorthair_48.jpg  \n",
            "  inflating: images/British_Shorthair_49.jpg  \n",
            "  inflating: images/British_Shorthair_50.jpg  \n",
            "  inflating: images/British_Shorthair_51.jpg  \n",
            "  inflating: images/British_Shorthair_52.jpg  \n",
            "  inflating: images/British_Shorthair_53.jpg  \n",
            "  inflating: images/British_Shorthair_54.jpg  \n",
            "  inflating: images/British_Shorthair_55.jpg  \n",
            "  inflating: images/British_Shorthair_56.jpg  \n",
            "  inflating: images/British_Shorthair_57.jpg  \n",
            "  inflating: images/British_Shorthair_58.jpg  \n",
            "  inflating: images/British_Shorthair_59.jpg  \n",
            "  inflating: images/British_Shorthair_6.jpg  \n",
            "  inflating: images/British_Shorthair_60.jpg  \n",
            "  inflating: images/British_Shorthair_61.jpg  \n",
            "  inflating: images/British_Shorthair_62.jpg  \n",
            "  inflating: images/British_Shorthair_63.jpg  \n",
            "  inflating: images/British_Shorthair_64.jpg  \n",
            "  inflating: images/British_Shorthair_65.jpg  \n",
            "  inflating: images/British_Shorthair_66.jpg  \n",
            "  inflating: images/British_Shorthair_67.jpg  \n",
            "  inflating: images/British_Shorthair_68.jpg  \n",
            "  inflating: images/British_Shorthair_70.jpg  \n",
            "  inflating: images/British_Shorthair_71.jpg  \n",
            "  inflating: images/British_Shorthair_72.jpg  \n",
            "  inflating: images/British_Shorthair_74.jpg  \n",
            "  inflating: images/British_Shorthair_75.jpg  \n",
            "  inflating: images/British_Shorthair_77.jpg  \n",
            "  inflating: images/British_Shorthair_78.jpg  \n",
            "  inflating: images/British_Shorthair_79.jpg  \n",
            "  inflating: images/British_Shorthair_8.jpg  \n",
            "  inflating: images/British_Shorthair_82.jpg  \n",
            "  inflating: images/British_Shorthair_83.jpg  \n",
            "  inflating: images/British_Shorthair_84.jpg  \n",
            "  inflating: images/British_Shorthair_85.jpg  \n",
            "  inflating: images/British_Shorthair_86.jpg  \n",
            "  inflating: images/British_Shorthair_87.jpg  \n",
            "  inflating: images/British_Shorthair_88.jpg  \n",
            "  inflating: images/British_Shorthair_89.jpg  \n",
            "  inflating: images/British_Shorthair_9.jpg  \n",
            "  inflating: images/British_Shorthair_90.jpg  \n",
            "  inflating: images/British_Shorthair_91.jpg  \n",
            "  inflating: images/British_Shorthair_92.jpg  \n",
            "  inflating: images/British_Shorthair_93.jpg  \n",
            "  inflating: images/British_Shorthair_94.jpg  \n",
            "  inflating: images/British_Shorthair_95.jpg  \n",
            "  inflating: images/British_Shorthair_96.jpg  \n",
            "  inflating: images/British_Shorthair_97.jpg  \n",
            "  inflating: images/British_Shorthair_98.jpg  \n",
            "  inflating: images/British_Shorthair_99.jpg  \n",
            "  inflating: images/chihuahua_1.jpg  \n",
            "  inflating: images/chihuahua_10.jpg  \n",
            "  inflating: images/chihuahua_100.jpg  \n",
            "  inflating: images/chihuahua_101.jpg  \n",
            "  inflating: images/chihuahua_102.jpg  \n",
            "  inflating: images/chihuahua_103.jpg  \n",
            "  inflating: images/chihuahua_104.jpg  \n",
            "  inflating: images/chihuahua_105.jpg  \n",
            "  inflating: images/chihuahua_106.jpg  \n",
            "  inflating: images/chihuahua_107.jpg  \n",
            "  inflating: images/chihuahua_108.jpg  \n",
            "  inflating: images/chihuahua_109.jpg  \n",
            "  inflating: images/chihuahua_11.jpg  \n",
            "  inflating: images/chihuahua_110.jpg  \n",
            "  inflating: images/chihuahua_111.jpg  \n",
            "  inflating: images/chihuahua_112.jpg  \n",
            "  inflating: images/chihuahua_113.jpg  \n",
            "  inflating: images/chihuahua_114.jpg  \n",
            "  inflating: images/chihuahua_115.jpg  \n",
            "  inflating: images/chihuahua_116.jpg  \n",
            "  inflating: images/chihuahua_117.jpg  \n",
            "  inflating: images/chihuahua_118.jpg  \n",
            "  inflating: images/chihuahua_119.jpg  \n",
            "  inflating: images/chihuahua_12.jpg  \n",
            "  inflating: images/chihuahua_120.jpg  \n",
            "  inflating: images/chihuahua_121.jpg  \n",
            "  inflating: images/chihuahua_122.jpg  \n",
            "  inflating: images/chihuahua_123.jpg  \n",
            "  inflating: images/chihuahua_124.jpg  \n",
            "  inflating: images/chihuahua_125.jpg  \n",
            "  inflating: images/chihuahua_126.jpg  \n",
            "  inflating: images/chihuahua_127.jpg  \n",
            "  inflating: images/chihuahua_128.jpg  \n",
            "  inflating: images/chihuahua_129.jpg  \n",
            "  inflating: images/chihuahua_13.jpg  \n",
            "  inflating: images/chihuahua_130.jpg  \n",
            "  inflating: images/chihuahua_131.jpg  \n",
            "  inflating: images/chihuahua_132.jpg  \n",
            "  inflating: images/chihuahua_133.jpg  \n",
            "  inflating: images/chihuahua_134.jpg  \n",
            "  inflating: images/chihuahua_135.jpg  \n",
            "  inflating: images/chihuahua_136.jpg  \n",
            "  inflating: images/chihuahua_137.jpg  \n",
            "  inflating: images/chihuahua_138.jpg  \n",
            "  inflating: images/chihuahua_139.jpg  \n",
            "  inflating: images/chihuahua_14.jpg  \n",
            "  inflating: images/chihuahua_140.jpg  \n",
            "  inflating: images/chihuahua_141.jpg  \n",
            "  inflating: images/chihuahua_142.jpg  \n",
            "  inflating: images/chihuahua_143.jpg  \n",
            "  inflating: images/chihuahua_144.jpg  \n",
            "  inflating: images/chihuahua_145.jpg  \n",
            "  inflating: images/chihuahua_146.jpg  \n",
            "  inflating: images/chihuahua_147.jpg  \n",
            "  inflating: images/chihuahua_148.jpg  \n",
            "  inflating: images/chihuahua_149.jpg  \n",
            "  inflating: images/chihuahua_15.jpg  \n",
            "  inflating: images/chihuahua_150.jpg  \n",
            "  inflating: images/chihuahua_151.jpg  \n",
            "  inflating: images/chihuahua_152.jpg  \n",
            "  inflating: images/chihuahua_153.jpg  \n",
            "  inflating: images/chihuahua_154.jpg  \n",
            "  inflating: images/chihuahua_155.jpg  \n",
            "  inflating: images/chihuahua_156.jpg  \n",
            "  inflating: images/chihuahua_157.jpg  \n",
            "  inflating: images/chihuahua_158.jpg  \n",
            "  inflating: images/chihuahua_159.jpg  \n",
            "  inflating: images/chihuahua_16.jpg  \n",
            "  inflating: images/chihuahua_160.jpg  \n",
            "  inflating: images/chihuahua_161.jpg  \n",
            "  inflating: images/chihuahua_162.jpg  \n",
            "  inflating: images/chihuahua_163.jpg  \n",
            "  inflating: images/chihuahua_164.jpg  \n",
            "  inflating: images/chihuahua_165.jpg  \n",
            "  inflating: images/chihuahua_166.jpg  \n",
            "  inflating: images/chihuahua_167.jpg  \n",
            "  inflating: images/chihuahua_168.jpg  \n",
            "  inflating: images/chihuahua_169.jpg  \n",
            "  inflating: images/chihuahua_17.jpg  \n",
            "  inflating: images/chihuahua_170.jpg  \n",
            "  inflating: images/chihuahua_171.jpg  \n",
            "  inflating: images/chihuahua_172.jpg  \n",
            "  inflating: images/chihuahua_173.jpg  \n",
            "  inflating: images/chihuahua_174.jpg  \n",
            "  inflating: images/chihuahua_175.jpg  \n",
            "  inflating: images/chihuahua_176.jpg  \n",
            "  inflating: images/chihuahua_177.jpg  \n",
            "  inflating: images/chihuahua_178.jpg  \n",
            "  inflating: images/chihuahua_179.jpg  \n",
            "  inflating: images/chihuahua_18.jpg  \n",
            "  inflating: images/chihuahua_180.jpg  \n",
            "  inflating: images/chihuahua_181.jpg  \n",
            "  inflating: images/chihuahua_182.jpg  \n",
            "  inflating: images/chihuahua_183.jpg  \n",
            "  inflating: images/chihuahua_184.jpg  \n",
            "  inflating: images/chihuahua_185.jpg  \n",
            "  inflating: images/chihuahua_186.jpg  \n",
            "  inflating: images/chihuahua_187.jpg  \n",
            "  inflating: images/chihuahua_188.jpg  \n",
            "  inflating: images/chihuahua_189.jpg  \n",
            "  inflating: images/chihuahua_19.jpg  \n",
            "  inflating: images/chihuahua_190.jpg  \n",
            "  inflating: images/chihuahua_191.jpg  \n",
            "  inflating: images/chihuahua_192.jpg  \n",
            "  inflating: images/chihuahua_193.jpg  \n",
            "  inflating: images/chihuahua_194.jpg  \n",
            "  inflating: images/chihuahua_195.jpg  \n",
            "  inflating: images/chihuahua_196.jpg  \n",
            "  inflating: images/chihuahua_197.jpg  \n",
            "  inflating: images/chihuahua_198.jpg  \n",
            "  inflating: images/chihuahua_199.jpg  \n",
            "  inflating: images/chihuahua_2.jpg  \n",
            "  inflating: images/chihuahua_20.jpg  \n",
            "  inflating: images/chihuahua_200.jpg  \n",
            "  inflating: images/chihuahua_21.jpg  \n",
            "  inflating: images/chihuahua_22.jpg  \n",
            "  inflating: images/chihuahua_23.jpg  \n",
            "  inflating: images/chihuahua_24.jpg  \n",
            "  inflating: images/chihuahua_25.jpg  \n",
            "  inflating: images/chihuahua_26.jpg  \n",
            "  inflating: images/chihuahua_27.jpg  \n",
            "  inflating: images/chihuahua_28.jpg  \n",
            "  inflating: images/chihuahua_29.jpg  \n",
            "  inflating: images/chihuahua_3.jpg  \n",
            "  inflating: images/chihuahua_30.jpg  \n",
            "  inflating: images/chihuahua_31.jpg  \n",
            "  inflating: images/chihuahua_32.jpg  \n",
            "  inflating: images/chihuahua_33.jpg  \n",
            "  inflating: images/chihuahua_34.jpg  \n",
            "  inflating: images/chihuahua_35.jpg  \n",
            "  inflating: images/chihuahua_36.jpg  \n",
            "  inflating: images/chihuahua_37.jpg  \n",
            "  inflating: images/chihuahua_38.jpg  \n",
            "  inflating: images/chihuahua_39.jpg  \n",
            "  inflating: images/chihuahua_4.jpg  \n",
            "  inflating: images/chihuahua_40.jpg  \n",
            "  inflating: images/chihuahua_41.jpg  \n",
            "  inflating: images/chihuahua_42.jpg  \n",
            "  inflating: images/chihuahua_43.jpg  \n",
            "  inflating: images/chihuahua_44.jpg  \n",
            "  inflating: images/chihuahua_45.jpg  \n",
            "  inflating: images/chihuahua_46.jpg  \n",
            "  inflating: images/chihuahua_47.jpg  \n",
            "  inflating: images/chihuahua_48.jpg  \n",
            "  inflating: images/chihuahua_49.jpg  \n",
            "  inflating: images/chihuahua_5.jpg  \n",
            "  inflating: images/chihuahua_50.jpg  \n",
            "  inflating: images/chihuahua_51.jpg  \n",
            "  inflating: images/chihuahua_52.jpg  \n",
            "  inflating: images/chihuahua_53.jpg  \n",
            "  inflating: images/chihuahua_54.jpg  \n",
            "  inflating: images/chihuahua_55.jpg  \n",
            "  inflating: images/chihuahua_56.jpg  \n",
            "  inflating: images/chihuahua_57.jpg  \n",
            "  inflating: images/chihuahua_58.jpg  \n",
            "  inflating: images/chihuahua_59.jpg  \n",
            "  inflating: images/chihuahua_6.jpg  \n",
            "  inflating: images/chihuahua_60.jpg  \n",
            "  inflating: images/chihuahua_61.jpg  \n",
            "  inflating: images/chihuahua_62.jpg  \n",
            "  inflating: images/chihuahua_63.jpg  \n",
            "  inflating: images/chihuahua_64.jpg  \n",
            "  inflating: images/chihuahua_65.jpg  \n",
            "  inflating: images/chihuahua_66.jpg  \n",
            "  inflating: images/chihuahua_67.jpg  \n",
            "  inflating: images/chihuahua_68.jpg  \n",
            "  inflating: images/chihuahua_69.jpg  \n",
            "  inflating: images/chihuahua_7.jpg  \n",
            "  inflating: images/chihuahua_70.jpg  \n",
            "  inflating: images/chihuahua_71.jpg  \n",
            "  inflating: images/chihuahua_72.jpg  \n",
            "  inflating: images/chihuahua_73.jpg  \n",
            "  inflating: images/chihuahua_74.jpg  \n",
            "  inflating: images/chihuahua_75.jpg  \n",
            "  inflating: images/chihuahua_76.jpg  \n",
            "  inflating: images/chihuahua_77.jpg  \n",
            "  inflating: images/chihuahua_78.jpg  \n",
            "  inflating: images/chihuahua_79.jpg  \n",
            "  inflating: images/chihuahua_8.jpg  \n",
            "  inflating: images/chihuahua_80.jpg  \n",
            "  inflating: images/chihuahua_81.jpg  \n",
            "  inflating: images/chihuahua_82.jpg  \n",
            "  inflating: images/chihuahua_83.jpg  \n",
            "  inflating: images/chihuahua_84.jpg  \n",
            "  inflating: images/chihuahua_85.jpg  \n",
            "  inflating: images/chihuahua_86.jpg  \n",
            "  inflating: images/chihuahua_87.jpg  \n",
            "  inflating: images/chihuahua_88.jpg  \n",
            "  inflating: images/chihuahua_89.jpg  \n",
            "  inflating: images/chihuahua_9.jpg  \n",
            "  inflating: images/chihuahua_90.jpg  \n",
            "  inflating: images/chihuahua_91.jpg  \n",
            "  inflating: images/chihuahua_92.jpg  \n",
            "  inflating: images/chihuahua_93.jpg  \n",
            "  inflating: images/chihuahua_94.jpg  \n",
            "  inflating: images/chihuahua_95.jpg  \n",
            "  inflating: images/chihuahua_96.jpg  \n",
            "  inflating: images/chihuahua_97.jpg  \n",
            "  inflating: images/chihuahua_98.jpg  \n",
            "  inflating: images/chihuahua_99.jpg  \n",
            "  inflating: images/Egyptian_Mau_1.jpg  \n",
            "  inflating: images/Egyptian_Mau_10.jpg  \n",
            "  inflating: images/Egyptian_Mau_100.jpg  \n",
            "  inflating: images/Egyptian_Mau_101.jpg  \n",
            "  inflating: images/Egyptian_Mau_102.jpg  \n",
            "  inflating: images/Egyptian_Mau_103.jpg  \n",
            "  inflating: images/Egyptian_Mau_104.jpg  \n",
            "  inflating: images/Egyptian_Mau_105.jpg  \n",
            "  inflating: images/Egyptian_Mau_106.jpg  \n",
            "  inflating: images/Egyptian_Mau_107.jpg  \n",
            "  inflating: images/Egyptian_Mau_108.jpg  \n",
            "  inflating: images/Egyptian_Mau_109.jpg  \n",
            "  inflating: images/Egyptian_Mau_11.jpg  \n",
            "  inflating: images/Egyptian_Mau_110.jpg  \n",
            "  inflating: images/Egyptian_Mau_111.jpg  \n",
            "  inflating: images/Egyptian_Mau_112.jpg  \n",
            "  inflating: images/Egyptian_Mau_113.jpg  \n",
            "  inflating: images/Egyptian_Mau_114.jpg  \n",
            "  inflating: images/Egyptian_Mau_115.jpg  \n",
            "  inflating: images/Egyptian_Mau_116.jpg  \n",
            "  inflating: images/Egyptian_Mau_117.jpg  \n",
            "  inflating: images/Egyptian_Mau_118.jpg  \n",
            "  inflating: images/Egyptian_Mau_119.jpg  \n",
            "  inflating: images/Egyptian_Mau_12.jpg  \n",
            "  inflating: images/Egyptian_Mau_120.jpg  \n",
            "  inflating: images/Egyptian_Mau_121.jpg  \n",
            "  inflating: images/Egyptian_Mau_122.jpg  \n",
            "  inflating: images/Egyptian_Mau_123.jpg  \n",
            "  inflating: images/Egyptian_Mau_124.jpg  \n",
            "  inflating: images/Egyptian_Mau_125.jpg  \n",
            "  inflating: images/Egyptian_Mau_126.jpg  \n",
            "  inflating: images/Egyptian_Mau_127.jpg  \n",
            "  inflating: images/Egyptian_Mau_128.jpg  \n",
            "  inflating: images/Egyptian_Mau_129.jpg  \n",
            "  inflating: images/Egyptian_Mau_13.jpg  \n",
            "  inflating: images/Egyptian_Mau_130.jpg  \n",
            "  inflating: images/Egyptian_Mau_131.jpg  \n",
            "  inflating: images/Egyptian_Mau_132.jpg  \n",
            "  inflating: images/Egyptian_Mau_133.jpg  \n",
            "  inflating: images/Egyptian_Mau_134.jpg  \n",
            "  inflating: images/Egyptian_Mau_136.jpg  \n",
            "  inflating: images/Egyptian_Mau_138.jpg  \n",
            "  inflating: images/Egyptian_Mau_139.jpg  \n",
            "  inflating: images/Egyptian_Mau_14.jpg  \n",
            "  inflating: images/Egyptian_Mau_140.jpg  \n",
            "  inflating: images/Egyptian_Mau_141.jpg  \n",
            "  inflating: images/Egyptian_Mau_142.jpg  \n",
            "  inflating: images/Egyptian_Mau_143.jpg  \n",
            "  inflating: images/Egyptian_Mau_144.jpg  \n",
            "  inflating: images/Egyptian_Mau_145.jpg  \n",
            "  inflating: images/Egyptian_Mau_146.jpg  \n",
            "  inflating: images/Egyptian_Mau_147.jpg  \n",
            "  inflating: images/Egyptian_Mau_148.jpg  \n",
            "  inflating: images/Egyptian_Mau_149.jpg  \n",
            "  inflating: images/Egyptian_Mau_15.jpg  \n",
            "  inflating: images/Egyptian_Mau_150.jpg  \n",
            "  inflating: images/Egyptian_Mau_151.jpg  \n",
            "  inflating: images/Egyptian_Mau_152.jpg  \n",
            "  inflating: images/Egyptian_Mau_153.jpg  \n",
            "  inflating: images/Egyptian_Mau_154.jpg  \n",
            "  inflating: images/Egyptian_Mau_155.jpg  \n",
            "  inflating: images/Egyptian_Mau_156.jpg  \n",
            "  inflating: images/Egyptian_Mau_157.jpg  \n",
            "  inflating: images/Egyptian_Mau_16.jpg  \n",
            "  inflating: images/Egyptian_Mau_160.jpg  \n",
            "  inflating: images/Egyptian_Mau_161.jpg  \n",
            "  inflating: images/Egyptian_Mau_162.jpg  \n",
            "  inflating: images/Egyptian_Mau_163.jpg  \n",
            "  inflating: images/Egyptian_Mau_164.jpg  \n",
            "  inflating: images/Egyptian_Mau_165.jpg  \n",
            "  inflating: images/Egyptian_Mau_167.jpg  \n",
            "  inflating: images/Egyptian_Mau_168.jpg  \n",
            "  inflating: images/Egyptian_Mau_170.jpg  \n",
            "  inflating: images/Egyptian_Mau_171.jpg  \n",
            "  inflating: images/Egyptian_Mau_172.jpg  \n",
            "  inflating: images/Egyptian_Mau_173.jpg  \n",
            "  inflating: images/Egyptian_Mau_174.jpg  \n",
            "  inflating: images/Egyptian_Mau_175.jpg  \n",
            "  inflating: images/Egyptian_Mau_176.jpg  \n",
            "  inflating: images/Egyptian_Mau_177.jpg  \n",
            "  inflating: images/Egyptian_Mau_178.jpg  \n",
            "  inflating: images/Egyptian_Mau_179.jpg  \n",
            "  inflating: images/Egyptian_Mau_18.jpg  \n",
            "  inflating: images/Egyptian_Mau_180.jpg  \n",
            "  inflating: images/Egyptian_Mau_181.jpg  \n",
            "  inflating: images/Egyptian_Mau_182.jpg  \n",
            "  inflating: images/Egyptian_Mau_183.jpg  \n",
            "  inflating: images/Egyptian_Mau_184.jpg  \n",
            "  inflating: images/Egyptian_Mau_185.jpg  \n",
            "  inflating: images/Egyptian_Mau_186.jpg  \n",
            "  inflating: images/Egyptian_Mau_187.jpg  \n",
            "  inflating: images/Egyptian_Mau_188.jpg  \n",
            "  inflating: images/Egyptian_Mau_189.jpg  \n",
            "  inflating: images/Egyptian_Mau_19.jpg  \n",
            "  inflating: images/Egyptian_Mau_190.jpg  \n",
            "  inflating: images/Egyptian_Mau_191.jpg  \n",
            "  inflating: images/Egyptian_Mau_192.jpg  \n",
            "  inflating: images/Egyptian_Mau_193.jpg  \n",
            "  inflating: images/Egyptian_Mau_194.jpg  \n",
            "  inflating: images/Egyptian_Mau_195.jpg  \n",
            "  inflating: images/Egyptian_Mau_196.jpg  \n",
            "  inflating: images/Egyptian_Mau_197.jpg  \n",
            "  inflating: images/Egyptian_Mau_198.jpg  \n",
            "  inflating: images/Egyptian_Mau_199.jpg  \n",
            "  inflating: images/Egyptian_Mau_2.jpg  \n",
            "  inflating: images/Egyptian_Mau_20.jpg  \n",
            "  inflating: images/Egyptian_Mau_201.jpg  \n",
            "  inflating: images/Egyptian_Mau_202.jpg  \n",
            "  inflating: images/Egyptian_Mau_204.jpg  \n",
            "  inflating: images/Egyptian_Mau_207.jpg  \n",
            "  inflating: images/Egyptian_Mau_209.jpg  \n",
            "  inflating: images/Egyptian_Mau_21.jpg  \n",
            "  inflating: images/Egyptian_Mau_210.jpg  \n",
            "  inflating: images/Egyptian_Mau_212.jpg  \n",
            "  inflating: images/Egyptian_Mau_213.jpg  \n",
            "  inflating: images/Egyptian_Mau_214.jpg  \n",
            "  inflating: images/Egyptian_Mau_215.jpg  \n",
            "  inflating: images/Egyptian_Mau_218.jpg  \n",
            "  inflating: images/Egyptian_Mau_219.jpg  \n",
            "  inflating: images/Egyptian_Mau_22.jpg  \n",
            "  inflating: images/Egyptian_Mau_220.jpg  \n",
            "  inflating: images/Egyptian_Mau_221.jpg  \n",
            "  inflating: images/Egyptian_Mau_222.jpg  \n",
            "  inflating: images/Egyptian_Mau_223.jpg  \n",
            "  inflating: images/Egyptian_Mau_224.jpg  \n",
            "  inflating: images/Egyptian_Mau_23.jpg  \n",
            "  inflating: images/Egyptian_Mau_25.jpg  \n",
            "  inflating: images/Egyptian_Mau_26.jpg  \n",
            "  inflating: images/Egyptian_Mau_27.jpg  \n",
            "  inflating: images/Egyptian_Mau_28.jpg  \n",
            "  inflating: images/Egyptian_Mau_29.jpg  \n",
            "  inflating: images/Egyptian_Mau_3.jpg  \n",
            "  inflating: images/Egyptian_Mau_30.jpg  \n",
            "  inflating: images/Egyptian_Mau_31.jpg  \n",
            "  inflating: images/Egyptian_Mau_33.jpg  \n",
            "  inflating: images/Egyptian_Mau_34.jpg  \n",
            "  inflating: images/Egyptian_Mau_35.jpg  \n",
            "  inflating: images/Egyptian_Mau_36.jpg  \n",
            "  inflating: images/Egyptian_Mau_39.jpg  \n",
            "  inflating: images/Egyptian_Mau_4.jpg  \n",
            "  inflating: images/Egyptian_Mau_40.jpg  \n",
            "  inflating: images/Egyptian_Mau_41.jpg  \n",
            "  inflating: images/Egyptian_Mau_42.jpg  \n",
            "  inflating: images/Egyptian_Mau_43.jpg  \n",
            "  inflating: images/Egyptian_Mau_44.jpg  \n",
            "  inflating: images/Egyptian_Mau_45.jpg  \n",
            "  inflating: images/Egyptian_Mau_46.jpg  \n",
            "  inflating: images/Egyptian_Mau_47.jpg  \n",
            "  inflating: images/Egyptian_Mau_48.jpg  \n",
            "  inflating: images/Egyptian_Mau_49.jpg  \n",
            "  inflating: images/Egyptian_Mau_5.jpg  \n",
            "  inflating: images/Egyptian_Mau_50.jpg  \n",
            "  inflating: images/Egyptian_Mau_51.jpg  \n",
            "  inflating: images/Egyptian_Mau_52.jpg  \n",
            "  inflating: images/Egyptian_Mau_53.jpg  \n",
            "  inflating: images/Egyptian_Mau_54.jpg  \n",
            "  inflating: images/Egyptian_Mau_56.jpg  \n",
            "  inflating: images/Egyptian_Mau_57.jpg  \n",
            "  inflating: images/Egyptian_Mau_58.jpg  \n",
            "  inflating: images/Egyptian_Mau_59.jpg  \n",
            "  inflating: images/Egyptian_Mau_6.jpg  \n",
            "  inflating: images/Egyptian_Mau_60.jpg  \n",
            "  inflating: images/Egyptian_Mau_61.jpg  \n",
            "  inflating: images/Egyptian_Mau_62.jpg  \n",
            "  inflating: images/Egyptian_Mau_63.jpg  \n",
            "  inflating: images/Egyptian_Mau_67.jpg  \n",
            "  inflating: images/Egyptian_Mau_68.jpg  \n",
            "  inflating: images/Egyptian_Mau_69.jpg  \n",
            "  inflating: images/Egyptian_Mau_7.jpg  \n",
            "  inflating: images/Egyptian_Mau_70.jpg  \n",
            "  inflating: images/Egyptian_Mau_71.jpg  \n",
            "  inflating: images/Egyptian_Mau_73.jpg  \n",
            "  inflating: images/Egyptian_Mau_74.jpg  \n",
            "  inflating: images/Egyptian_Mau_75.jpg  \n",
            "  inflating: images/Egyptian_Mau_76.jpg  \n",
            "  inflating: images/Egyptian_Mau_77.jpg  \n",
            "  inflating: images/Egyptian_Mau_78.jpg  \n",
            "  inflating: images/Egyptian_Mau_79.jpg  \n",
            "  inflating: images/Egyptian_Mau_8.jpg  \n",
            "  inflating: images/Egyptian_Mau_80.jpg  \n",
            "  inflating: images/Egyptian_Mau_81.jpg  \n",
            "  inflating: images/Egyptian_Mau_82.jpg  \n",
            "  inflating: images/Egyptian_Mau_83.jpg  \n",
            "  inflating: images/Egyptian_Mau_84.jpg  \n",
            "  inflating: images/Egyptian_Mau_85.jpg  \n",
            "  inflating: images/Egyptian_Mau_86.jpg  \n",
            "  inflating: images/Egyptian_Mau_87.jpg  \n",
            "  inflating: images/Egyptian_Mau_88.jpg  \n",
            "  inflating: images/Egyptian_Mau_89.jpg  \n",
            "  inflating: images/Egyptian_Mau_9.jpg  \n",
            "  inflating: images/Egyptian_Mau_90.jpg  \n",
            "  inflating: images/Egyptian_Mau_91.jpg  \n",
            "  inflating: images/Egyptian_Mau_92.jpg  \n",
            "  inflating: images/Egyptian_Mau_93.jpg  \n",
            "  inflating: images/Egyptian_Mau_94.jpg  \n",
            "  inflating: images/Egyptian_Mau_95.jpg  \n",
            "  inflating: images/Egyptian_Mau_96.jpg  \n",
            "  inflating: images/Egyptian_Mau_97.jpg  \n",
            "  inflating: images/Egyptian_Mau_98.jpg  \n",
            "  inflating: images/Egyptian_Mau_99.jpg  \n",
            "  inflating: images/english_cocker_spaniel_1.jpg  \n",
            "  inflating: images/english_cocker_spaniel_10.jpg  \n",
            "  inflating: images/english_cocker_spaniel_100.jpg  \n",
            "  inflating: images/english_cocker_spaniel_101.jpg  \n",
            "  inflating: images/english_cocker_spaniel_102.jpg  \n",
            "  inflating: images/english_cocker_spaniel_103.jpg  \n",
            "  inflating: images/english_cocker_spaniel_104.jpg  \n",
            "  inflating: images/english_cocker_spaniel_105.jpg  \n",
            "  inflating: images/english_cocker_spaniel_106.jpg  \n",
            "  inflating: images/english_cocker_spaniel_107.jpg  \n",
            "  inflating: images/english_cocker_spaniel_108.jpg  \n",
            "  inflating: images/english_cocker_spaniel_109.jpg  \n",
            "  inflating: images/english_cocker_spaniel_11.jpg  \n",
            "  inflating: images/english_cocker_spaniel_110.jpg  \n",
            "  inflating: images/english_cocker_spaniel_111.jpg  \n",
            "  inflating: images/english_cocker_spaniel_112.jpg  \n",
            "  inflating: images/english_cocker_spaniel_113.jpg  \n",
            "  inflating: images/english_cocker_spaniel_114.jpg  \n",
            "  inflating: images/english_cocker_spaniel_115.jpg  \n",
            "  inflating: images/english_cocker_spaniel_116.jpg  \n",
            "  inflating: images/english_cocker_spaniel_117.jpg  \n",
            "  inflating: images/english_cocker_spaniel_118.jpg  \n",
            "  inflating: images/english_cocker_spaniel_119.jpg  \n",
            "  inflating: images/english_cocker_spaniel_12.jpg  \n",
            "  inflating: images/english_cocker_spaniel_120.jpg  \n",
            "  inflating: images/english_cocker_spaniel_121.jpg  \n",
            "  inflating: images/english_cocker_spaniel_122.jpg  \n",
            "  inflating: images/english_cocker_spaniel_123.jpg  \n",
            "  inflating: images/english_cocker_spaniel_124.jpg  \n",
            "  inflating: images/english_cocker_spaniel_125.jpg  \n",
            "  inflating: images/english_cocker_spaniel_126.jpg  \n",
            "  inflating: images/english_cocker_spaniel_127.jpg  \n",
            "  inflating: images/english_cocker_spaniel_128.jpg  \n",
            "  inflating: images/english_cocker_spaniel_129.jpg  \n",
            "  inflating: images/english_cocker_spaniel_13.jpg  \n",
            "  inflating: images/english_cocker_spaniel_130.jpg  \n",
            "  inflating: images/english_cocker_spaniel_131.jpg  \n",
            "  inflating: images/english_cocker_spaniel_132.jpg  \n",
            "  inflating: images/english_cocker_spaniel_133.jpg  \n",
            "  inflating: images/english_cocker_spaniel_134.jpg  \n",
            "  inflating: images/english_cocker_spaniel_135.jpg  \n",
            "  inflating: images/english_cocker_spaniel_136.jpg  \n",
            "  inflating: images/english_cocker_spaniel_137.jpg  \n",
            "  inflating: images/english_cocker_spaniel_138.jpg  \n",
            "  inflating: images/english_cocker_spaniel_139.jpg  \n",
            "  inflating: images/english_cocker_spaniel_14.jpg  \n",
            "  inflating: images/english_cocker_spaniel_140.jpg  \n",
            "  inflating: images/english_cocker_spaniel_141.jpg  \n",
            "  inflating: images/english_cocker_spaniel_142.jpg  \n",
            "  inflating: images/english_cocker_spaniel_143.jpg  \n",
            "  inflating: images/english_cocker_spaniel_144.jpg  \n",
            "  inflating: images/english_cocker_spaniel_145.jpg  \n",
            "  inflating: images/english_cocker_spaniel_146.jpg  \n",
            "  inflating: images/english_cocker_spaniel_147.jpg  \n",
            "  inflating: images/english_cocker_spaniel_148.jpg  \n",
            "  inflating: images/english_cocker_spaniel_149.jpg  \n",
            "  inflating: images/english_cocker_spaniel_15.jpg  \n",
            "  inflating: images/english_cocker_spaniel_150.jpg  \n",
            "  inflating: images/english_cocker_spaniel_151.jpg  \n",
            "  inflating: images/english_cocker_spaniel_152.jpg  \n",
            "  inflating: images/english_cocker_spaniel_153.jpg  \n",
            "  inflating: images/english_cocker_spaniel_154.jpg  \n",
            "  inflating: images/english_cocker_spaniel_155.jpg  \n",
            "  inflating: images/english_cocker_spaniel_156.jpg  \n",
            "  inflating: images/english_cocker_spaniel_157.jpg  \n",
            "  inflating: images/english_cocker_spaniel_158.jpg  \n",
            "  inflating: images/english_cocker_spaniel_159.jpg  \n",
            "  inflating: images/english_cocker_spaniel_16.jpg  \n",
            "  inflating: images/english_cocker_spaniel_160.jpg  \n",
            "  inflating: images/english_cocker_spaniel_161.jpg  \n",
            "  inflating: images/english_cocker_spaniel_162.jpg  \n",
            "  inflating: images/english_cocker_spaniel_163.jpg  \n",
            "  inflating: images/english_cocker_spaniel_164.jpg  \n",
            "  inflating: images/english_cocker_spaniel_165.jpg  \n",
            "  inflating: images/english_cocker_spaniel_166.jpg  \n",
            "  inflating: images/english_cocker_spaniel_167.jpg  \n",
            "  inflating: images/english_cocker_spaniel_168.jpg  \n",
            "  inflating: images/english_cocker_spaniel_169.jpg  \n",
            "  inflating: images/english_cocker_spaniel_17.jpg  \n",
            "  inflating: images/english_cocker_spaniel_170.jpg  \n",
            "  inflating: images/english_cocker_spaniel_171.jpg  \n",
            "  inflating: images/english_cocker_spaniel_172.jpg  \n",
            "  inflating: images/english_cocker_spaniel_173.jpg  \n",
            "  inflating: images/english_cocker_spaniel_174.jpg  \n",
            "  inflating: images/english_cocker_spaniel_175.jpg  \n",
            "  inflating: images/english_cocker_spaniel_176.jpg  \n",
            "  inflating: images/english_cocker_spaniel_177.jpg  \n",
            "  inflating: images/english_cocker_spaniel_178.jpg  \n",
            "  inflating: images/english_cocker_spaniel_179.jpg  \n",
            "  inflating: images/english_cocker_spaniel_18.jpg  \n",
            "  inflating: images/english_cocker_spaniel_180.jpg  \n",
            "  inflating: images/english_cocker_spaniel_181.jpg  \n",
            "  inflating: images/english_cocker_spaniel_182.jpg  \n",
            "  inflating: images/english_cocker_spaniel_183.jpg  \n",
            "  inflating: images/english_cocker_spaniel_184.jpg  \n",
            "  inflating: images/english_cocker_spaniel_185.jpg  \n",
            "  inflating: images/english_cocker_spaniel_186.jpg  \n",
            "  inflating: images/english_cocker_spaniel_187.jpg  \n",
            "  inflating: images/english_cocker_spaniel_188.jpg  \n",
            "  inflating: images/english_cocker_spaniel_189.jpg  \n",
            "  inflating: images/english_cocker_spaniel_19.jpg  \n",
            "  inflating: images/english_cocker_spaniel_190.jpg  \n",
            "  inflating: images/english_cocker_spaniel_191.jpg  \n",
            "  inflating: images/english_cocker_spaniel_192.jpg  \n",
            "  inflating: images/english_cocker_spaniel_193.jpg  \n",
            "  inflating: images/english_cocker_spaniel_194.jpg  \n",
            "  inflating: images/english_cocker_spaniel_195.jpg  \n",
            "  inflating: images/english_cocker_spaniel_196.jpg  \n",
            "  inflating: images/english_cocker_spaniel_197.jpg  \n",
            "  inflating: images/english_cocker_spaniel_198.jpg  \n",
            "  inflating: images/english_cocker_spaniel_199.jpg  \n",
            "  inflating: images/english_cocker_spaniel_2.jpg  \n",
            "  inflating: images/english_cocker_spaniel_20.jpg  \n",
            "  inflating: images/english_cocker_spaniel_200.jpg  \n",
            "  inflating: images/english_cocker_spaniel_21.jpg  \n",
            "  inflating: images/english_cocker_spaniel_22.jpg  \n",
            "  inflating: images/english_cocker_spaniel_23.jpg  \n",
            "  inflating: images/english_cocker_spaniel_24.jpg  \n",
            "  inflating: images/english_cocker_spaniel_25.jpg  \n",
            "  inflating: images/english_cocker_spaniel_26.jpg  \n",
            "  inflating: images/english_cocker_spaniel_27.jpg  \n",
            "  inflating: images/english_cocker_spaniel_28.jpg  \n",
            "  inflating: images/english_cocker_spaniel_29.jpg  \n",
            "  inflating: images/english_cocker_spaniel_3.jpg  \n",
            "  inflating: images/english_cocker_spaniel_30.jpg  \n",
            "  inflating: images/english_cocker_spaniel_31.jpg  \n",
            "  inflating: images/english_cocker_spaniel_32.jpg  \n",
            "  inflating: images/english_cocker_spaniel_33.jpg  \n",
            "  inflating: images/english_cocker_spaniel_34.jpg  \n",
            "  inflating: images/english_cocker_spaniel_35.jpg  \n",
            "  inflating: images/english_cocker_spaniel_36.jpg  \n",
            "  inflating: images/english_cocker_spaniel_37.jpg  \n",
            "  inflating: images/english_cocker_spaniel_38.jpg  \n",
            "  inflating: images/english_cocker_spaniel_39.jpg  \n",
            "  inflating: images/english_cocker_spaniel_4.jpg  \n",
            "  inflating: images/english_cocker_spaniel_40.jpg  \n",
            "  inflating: images/english_cocker_spaniel_41.jpg  \n",
            "  inflating: images/english_cocker_spaniel_42.jpg  \n",
            "  inflating: images/english_cocker_spaniel_43.jpg  \n",
            "  inflating: images/english_cocker_spaniel_44.jpg  \n",
            "  inflating: images/english_cocker_spaniel_45.jpg  \n",
            "  inflating: images/english_cocker_spaniel_46.jpg  \n",
            "  inflating: images/english_cocker_spaniel_47.jpg  \n",
            "  inflating: images/english_cocker_spaniel_48.jpg  \n",
            "  inflating: images/english_cocker_spaniel_49.jpg  \n",
            "  inflating: images/english_cocker_spaniel_5.jpg  \n",
            "  inflating: images/english_cocker_spaniel_50.jpg  \n",
            "  inflating: images/english_cocker_spaniel_51.jpg  \n",
            "  inflating: images/english_cocker_spaniel_52.jpg  \n",
            "  inflating: images/english_cocker_spaniel_53.jpg  \n",
            "  inflating: images/english_cocker_spaniel_54.jpg  \n",
            "  inflating: images/english_cocker_spaniel_55.jpg  \n",
            "  inflating: images/english_cocker_spaniel_56.jpg  \n",
            "  inflating: images/english_cocker_spaniel_57.jpg  \n",
            "  inflating: images/english_cocker_spaniel_58.jpg  \n",
            "  inflating: images/english_cocker_spaniel_59.jpg  \n",
            "  inflating: images/english_cocker_spaniel_6.jpg  \n",
            "  inflating: images/english_cocker_spaniel_60.jpg  \n",
            "  inflating: images/english_cocker_spaniel_61.jpg  \n",
            "  inflating: images/english_cocker_spaniel_62.jpg  \n",
            "  inflating: images/english_cocker_spaniel_63.jpg  \n",
            "  inflating: images/english_cocker_spaniel_64.jpg  \n",
            "  inflating: images/english_cocker_spaniel_65.jpg  \n",
            "  inflating: images/english_cocker_spaniel_66.jpg  \n",
            "  inflating: images/english_cocker_spaniel_67.jpg  \n",
            "  inflating: images/english_cocker_spaniel_68.jpg  \n",
            "  inflating: images/english_cocker_spaniel_69.jpg  \n",
            "  inflating: images/english_cocker_spaniel_7.jpg  \n",
            "  inflating: images/english_cocker_spaniel_70.jpg  \n",
            "  inflating: images/english_cocker_spaniel_71.jpg  \n",
            "  inflating: images/english_cocker_spaniel_72.jpg  \n",
            "  inflating: images/english_cocker_spaniel_73.jpg  \n",
            "  inflating: images/english_cocker_spaniel_74.jpg  \n",
            "  inflating: images/english_cocker_spaniel_75.jpg  \n",
            "  inflating: images/english_cocker_spaniel_76.jpg  \n",
            "  inflating: images/english_cocker_spaniel_77.jpg  \n",
            "  inflating: images/english_cocker_spaniel_78.jpg  \n",
            "  inflating: images/english_cocker_spaniel_79.jpg  \n",
            "  inflating: images/english_cocker_spaniel_8.jpg  \n",
            "  inflating: images/english_cocker_spaniel_80.jpg  \n",
            "  inflating: images/english_cocker_spaniel_81.jpg  \n",
            "  inflating: images/english_cocker_spaniel_82.jpg  \n",
            "  inflating: images/english_cocker_spaniel_83.jpg  \n",
            "  inflating: images/english_cocker_spaniel_84.jpg  \n",
            "  inflating: images/english_cocker_spaniel_85.jpg  \n",
            "  inflating: images/english_cocker_spaniel_86.jpg  \n",
            "  inflating: images/english_cocker_spaniel_87.jpg  \n",
            "  inflating: images/english_cocker_spaniel_88.jpg  \n",
            "  inflating: images/english_cocker_spaniel_89.jpg  \n",
            "  inflating: images/english_cocker_spaniel_9.jpg  \n",
            "  inflating: images/english_cocker_spaniel_90.jpg  \n",
            "  inflating: images/english_cocker_spaniel_91.jpg  \n",
            "  inflating: images/english_cocker_spaniel_92.jpg  \n",
            "  inflating: images/english_cocker_spaniel_93.jpg  \n",
            "  inflating: images/english_cocker_spaniel_94.jpg  \n",
            "  inflating: images/english_cocker_spaniel_95.jpg  \n",
            "  inflating: images/english_cocker_spaniel_96.jpg  \n",
            "  inflating: images/english_cocker_spaniel_97.jpg  \n",
            "  inflating: images/english_cocker_spaniel_98.jpg  \n",
            "  inflating: images/english_cocker_spaniel_99.jpg  \n",
            "  inflating: images/english_setter_1.jpg  \n",
            "  inflating: images/english_setter_10.jpg  \n",
            "  inflating: images/english_setter_100.jpg  \n",
            "  inflating: images/english_setter_101.jpg  \n",
            "  inflating: images/english_setter_102.jpg  \n",
            "  inflating: images/english_setter_103.jpg  \n",
            "  inflating: images/english_setter_104.jpg  \n",
            "  inflating: images/english_setter_105.jpg  \n",
            "  inflating: images/english_setter_106.jpg  \n",
            "  inflating: images/english_setter_107.jpg  \n",
            "  inflating: images/english_setter_108.jpg  \n",
            "  inflating: images/english_setter_109.jpg  \n",
            "  inflating: images/english_setter_11.jpg  \n",
            "  inflating: images/english_setter_110.jpg  \n",
            "  inflating: images/english_setter_111.jpg  \n",
            "  inflating: images/english_setter_112.jpg  \n",
            "  inflating: images/english_setter_113.jpg  \n",
            "  inflating: images/english_setter_114.jpg  \n",
            "  inflating: images/english_setter_115.jpg  \n",
            "  inflating: images/english_setter_116.jpg  \n",
            "  inflating: images/english_setter_117.jpg  \n",
            "  inflating: images/english_setter_118.jpg  \n",
            "  inflating: images/english_setter_119.jpg  \n",
            "  inflating: images/english_setter_12.jpg  \n",
            "  inflating: images/english_setter_120.jpg  \n",
            "  inflating: images/english_setter_121.jpg  \n",
            "  inflating: images/english_setter_122.jpg  \n",
            "  inflating: images/english_setter_123.jpg  \n",
            "  inflating: images/english_setter_124.jpg  \n",
            "  inflating: images/english_setter_125.jpg  \n",
            "  inflating: images/english_setter_126.jpg  \n",
            "  inflating: images/english_setter_127.jpg  \n",
            "  inflating: images/english_setter_128.jpg  \n",
            "  inflating: images/english_setter_129.jpg  \n",
            "  inflating: images/english_setter_13.jpg  \n",
            "  inflating: images/english_setter_130.jpg  \n",
            "  inflating: images/english_setter_131.jpg  \n",
            "  inflating: images/english_setter_132.jpg  \n",
            "  inflating: images/english_setter_133.jpg  \n",
            "  inflating: images/english_setter_134.jpg  \n",
            "  inflating: images/english_setter_135.jpg  \n",
            "  inflating: images/english_setter_136.jpg  \n",
            "  inflating: images/english_setter_137.jpg  \n",
            "  inflating: images/english_setter_138.jpg  \n",
            "  inflating: images/english_setter_139.jpg  \n",
            "  inflating: images/english_setter_14.jpg  \n",
            "  inflating: images/english_setter_140.jpg  \n",
            "  inflating: images/english_setter_141.jpg  \n",
            "  inflating: images/english_setter_142.jpg  \n",
            "  inflating: images/english_setter_143.jpg  \n",
            "  inflating: images/english_setter_144.jpg  \n",
            "  inflating: images/english_setter_145.jpg  \n",
            "  inflating: images/english_setter_146.jpg  \n",
            "  inflating: images/english_setter_147.jpg  \n",
            "  inflating: images/english_setter_148.jpg  \n",
            "  inflating: images/english_setter_149.jpg  \n",
            "  inflating: images/english_setter_15.jpg  \n",
            "  inflating: images/english_setter_150.jpg  \n",
            "  inflating: images/english_setter_151.jpg  \n",
            "  inflating: images/english_setter_152.jpg  \n",
            "  inflating: images/english_setter_153.jpg  \n",
            "  inflating: images/english_setter_154.jpg  \n",
            "  inflating: images/english_setter_155.jpg  \n",
            "  inflating: images/english_setter_156.jpg  \n",
            "  inflating: images/english_setter_157.jpg  \n",
            "  inflating: images/english_setter_158.jpg  \n",
            "  inflating: images/english_setter_159.jpg  \n",
            "  inflating: images/english_setter_16.jpg  \n",
            "  inflating: images/english_setter_160.jpg  \n",
            "  inflating: images/english_setter_161.jpg  \n",
            "  inflating: images/english_setter_162.jpg  \n",
            "  inflating: images/english_setter_163.jpg  \n",
            "  inflating: images/english_setter_164.jpg  \n",
            "  inflating: images/english_setter_165.jpg  \n",
            "  inflating: images/english_setter_166.jpg  \n",
            "  inflating: images/english_setter_167.jpg  \n",
            "  inflating: images/english_setter_168.jpg  \n",
            "  inflating: images/english_setter_169.jpg  \n",
            "  inflating: images/english_setter_17.jpg  \n",
            "  inflating: images/english_setter_170.jpg  \n",
            "  inflating: images/english_setter_171.jpg  \n",
            "  inflating: images/english_setter_172.jpg  \n",
            "  inflating: images/english_setter_173.jpg  \n",
            "  inflating: images/english_setter_174.jpg  \n",
            "  inflating: images/english_setter_175.jpg  \n",
            "  inflating: images/english_setter_176.jpg  \n",
            "  inflating: images/english_setter_177.jpg  \n",
            "  inflating: images/english_setter_178.jpg  \n",
            "  inflating: images/english_setter_179.jpg  \n",
            "  inflating: images/english_setter_18.jpg  \n",
            "  inflating: images/english_setter_180.jpg  \n",
            "  inflating: images/english_setter_181.jpg  \n",
            "  inflating: images/english_setter_182.jpg  \n",
            "  inflating: images/english_setter_183.jpg  \n",
            "  inflating: images/english_setter_184.jpg  \n",
            "  inflating: images/english_setter_185.jpg  \n",
            "  inflating: images/english_setter_186.jpg  \n",
            "  inflating: images/english_setter_187.jpg  \n",
            "  inflating: images/english_setter_188.jpg  \n",
            "  inflating: images/english_setter_189.jpg  \n",
            "  inflating: images/english_setter_19.jpg  \n",
            "  inflating: images/english_setter_190.jpg  \n",
            "  inflating: images/english_setter_191.jpg  \n",
            "  inflating: images/english_setter_192.jpg  \n",
            "  inflating: images/english_setter_193.jpg  \n",
            "  inflating: images/english_setter_194.jpg  \n",
            "  inflating: images/english_setter_195.jpg  \n",
            "  inflating: images/english_setter_196.jpg  \n",
            "  inflating: images/english_setter_197.jpg  \n",
            "  inflating: images/english_setter_198.jpg  \n",
            "  inflating: images/english_setter_199.jpg  \n",
            "  inflating: images/english_setter_2.jpg  \n",
            "  inflating: images/english_setter_20.jpg  \n",
            "  inflating: images/english_setter_200.jpg  \n",
            "  inflating: images/english_setter_21.jpg  \n",
            "  inflating: images/english_setter_22.jpg  \n",
            "  inflating: images/english_setter_23.jpg  \n",
            "  inflating: images/english_setter_24.jpg  \n",
            "  inflating: images/english_setter_25.jpg  \n",
            "  inflating: images/english_setter_26.jpg  \n",
            "  inflating: images/english_setter_27.jpg  \n",
            "  inflating: images/english_setter_28.jpg  \n",
            "  inflating: images/english_setter_29.jpg  \n",
            "  inflating: images/english_setter_3.jpg  \n",
            "  inflating: images/english_setter_30.jpg  \n",
            "  inflating: images/english_setter_31.jpg  \n",
            "  inflating: images/english_setter_32.jpg  \n",
            "  inflating: images/english_setter_33.jpg  \n",
            "  inflating: images/english_setter_34.jpg  \n",
            "  inflating: images/english_setter_35.jpg  \n",
            "  inflating: images/english_setter_36.jpg  \n",
            "  inflating: images/english_setter_37.jpg  \n",
            "  inflating: images/english_setter_38.jpg  \n",
            "  inflating: images/english_setter_39.jpg  \n",
            "  inflating: images/english_setter_4.jpg  \n",
            "  inflating: images/english_setter_40.jpg  \n",
            "  inflating: images/english_setter_41.jpg  \n",
            "  inflating: images/english_setter_42.jpg  \n",
            "  inflating: images/english_setter_43.jpg  \n",
            "  inflating: images/english_setter_44.jpg  \n",
            "  inflating: images/english_setter_45.jpg  \n",
            "  inflating: images/english_setter_46.jpg  \n",
            "  inflating: images/english_setter_47.jpg  \n",
            "  inflating: images/english_setter_48.jpg  \n",
            "  inflating: images/english_setter_49.jpg  \n",
            "  inflating: images/english_setter_5.jpg  \n",
            "  inflating: images/english_setter_50.jpg  \n",
            "  inflating: images/english_setter_51.jpg  \n",
            "  inflating: images/english_setter_52.jpg  \n",
            "  inflating: images/english_setter_53.jpg  \n",
            "  inflating: images/english_setter_54.jpg  \n",
            "  inflating: images/english_setter_55.jpg  \n",
            "  inflating: images/english_setter_56.jpg  \n",
            "  inflating: images/english_setter_57.jpg  \n",
            "  inflating: images/english_setter_58.jpg  \n",
            "  inflating: images/english_setter_59.jpg  \n",
            "  inflating: images/english_setter_6.jpg  \n",
            "  inflating: images/english_setter_60.jpg  \n",
            "  inflating: images/english_setter_61.jpg  \n",
            "  inflating: images/english_setter_62.jpg  \n",
            "  inflating: images/english_setter_63.jpg  \n",
            "  inflating: images/english_setter_64.jpg  \n",
            "  inflating: images/english_setter_65.jpg  \n",
            "  inflating: images/english_setter_66.jpg  \n",
            "  inflating: images/english_setter_67.jpg  \n",
            "  inflating: images/english_setter_68.jpg  \n",
            "  inflating: images/english_setter_69.jpg  \n",
            "  inflating: images/english_setter_7.jpg  \n",
            "  inflating: images/english_setter_70.jpg  \n",
            "  inflating: images/english_setter_71.jpg  \n",
            "  inflating: images/english_setter_72.jpg  \n",
            "  inflating: images/english_setter_73.jpg  \n",
            "  inflating: images/english_setter_74.jpg  \n",
            "  inflating: images/english_setter_75.jpg  \n",
            "  inflating: images/english_setter_76.jpg  \n",
            "  inflating: images/english_setter_77.jpg  \n",
            "  inflating: images/english_setter_78.jpg  \n",
            "  inflating: images/english_setter_79.jpg  \n",
            "  inflating: images/english_setter_8.jpg  \n",
            "  inflating: images/english_setter_80.jpg  \n",
            "  inflating: images/english_setter_81.jpg  \n",
            "  inflating: images/english_setter_82.jpg  \n",
            "  inflating: images/english_setter_83.jpg  \n",
            "  inflating: images/english_setter_84.jpg  \n",
            "  inflating: images/english_setter_85.jpg  \n",
            "  inflating: images/english_setter_86.jpg  \n",
            "  inflating: images/english_setter_87.jpg  \n",
            "  inflating: images/english_setter_88.jpg  \n",
            "  inflating: images/english_setter_89.jpg  \n",
            "  inflating: images/english_setter_9.jpg  \n",
            "  inflating: images/english_setter_90.jpg  \n",
            "  inflating: images/english_setter_91.jpg  \n",
            "  inflating: images/english_setter_92.jpg  \n",
            "  inflating: images/english_setter_93.jpg  \n",
            "  inflating: images/english_setter_94.jpg  \n",
            "  inflating: images/english_setter_95.jpg  \n",
            "  inflating: images/english_setter_96.jpg  \n",
            "  inflating: images/english_setter_97.jpg  \n",
            "  inflating: images/english_setter_98.jpg  \n",
            "  inflating: images/english_setter_99.jpg  \n",
            "  inflating: images/german_shorthaired_1.jpg  \n",
            "  inflating: images/german_shorthaired_10.jpg  \n",
            "  inflating: images/german_shorthaired_100.jpg  \n",
            "  inflating: images/german_shorthaired_101.jpg  \n",
            "  inflating: images/german_shorthaired_102.jpg  \n",
            "  inflating: images/german_shorthaired_103.jpg  \n",
            "  inflating: images/german_shorthaired_104.jpg  \n",
            "  inflating: images/german_shorthaired_105.jpg  \n",
            "  inflating: images/german_shorthaired_106.jpg  \n",
            "  inflating: images/german_shorthaired_107.jpg  \n",
            "  inflating: images/german_shorthaired_108.jpg  \n",
            "  inflating: images/german_shorthaired_109.jpg  \n",
            "  inflating: images/german_shorthaired_11.jpg  \n",
            "  inflating: images/german_shorthaired_110.jpg  \n",
            "  inflating: images/german_shorthaired_111.jpg  \n",
            "  inflating: images/german_shorthaired_112.jpg  \n",
            "  inflating: images/german_shorthaired_113.jpg  \n",
            "  inflating: images/german_shorthaired_114.jpg  \n",
            "  inflating: images/german_shorthaired_115.jpg  \n",
            "  inflating: images/german_shorthaired_116.jpg  \n",
            "  inflating: images/german_shorthaired_117.jpg  \n",
            "  inflating: images/german_shorthaired_118.jpg  \n",
            "  inflating: images/german_shorthaired_119.jpg  \n",
            "  inflating: images/german_shorthaired_12.jpg  \n",
            "  inflating: images/german_shorthaired_120.jpg  \n",
            "  inflating: images/german_shorthaired_121.jpg  \n",
            "  inflating: images/german_shorthaired_122.jpg  \n",
            "  inflating: images/german_shorthaired_123.jpg  \n",
            "  inflating: images/german_shorthaired_124.jpg  \n",
            "  inflating: images/german_shorthaired_125.jpg  \n",
            "  inflating: images/german_shorthaired_126.jpg  \n",
            "  inflating: images/german_shorthaired_127.jpg  \n",
            "  inflating: images/german_shorthaired_128.jpg  \n",
            "  inflating: images/german_shorthaired_129.jpg  \n",
            "  inflating: images/german_shorthaired_13.jpg  \n",
            "  inflating: images/german_shorthaired_130.jpg  \n",
            "  inflating: images/german_shorthaired_131.jpg  \n",
            "  inflating: images/german_shorthaired_132.jpg  \n",
            "  inflating: images/german_shorthaired_133.jpg  \n",
            "  inflating: images/german_shorthaired_134.jpg  \n",
            "  inflating: images/german_shorthaired_135.jpg  \n",
            "  inflating: images/german_shorthaired_136.jpg  \n",
            "  inflating: images/german_shorthaired_137.jpg  \n",
            "  inflating: images/german_shorthaired_138.jpg  \n",
            "  inflating: images/german_shorthaired_139.jpg  \n",
            "  inflating: images/german_shorthaired_14.jpg  \n",
            "  inflating: images/german_shorthaired_140.jpg  \n",
            "  inflating: images/german_shorthaired_141.jpg  \n",
            "  inflating: images/german_shorthaired_142.jpg  \n",
            "  inflating: images/german_shorthaired_143.jpg  \n",
            "  inflating: images/german_shorthaired_144.jpg  \n",
            "  inflating: images/german_shorthaired_145.jpg  \n",
            "  inflating: images/german_shorthaired_146.jpg  \n",
            "  inflating: images/german_shorthaired_147.jpg  \n",
            "  inflating: images/german_shorthaired_148.jpg  \n",
            "  inflating: images/german_shorthaired_149.jpg  \n",
            "  inflating: images/german_shorthaired_15.jpg  \n",
            "  inflating: images/german_shorthaired_150.jpg  \n",
            "  inflating: images/german_shorthaired_151.jpg  \n",
            "  inflating: images/german_shorthaired_152.jpg  \n",
            "  inflating: images/german_shorthaired_153.jpg  \n",
            "  inflating: images/german_shorthaired_154.jpg  \n",
            "  inflating: images/german_shorthaired_155.jpg  \n",
            "  inflating: images/german_shorthaired_156.jpg  \n",
            "  inflating: images/german_shorthaired_157.jpg  \n",
            "  inflating: images/german_shorthaired_158.jpg  \n",
            "  inflating: images/german_shorthaired_159.jpg  \n",
            "  inflating: images/german_shorthaired_16.jpg  \n",
            "  inflating: images/german_shorthaired_160.jpg  \n",
            "  inflating: images/german_shorthaired_161.jpg  \n",
            "  inflating: images/german_shorthaired_162.jpg  \n",
            "  inflating: images/german_shorthaired_163.jpg  \n",
            "  inflating: images/german_shorthaired_164.jpg  \n",
            "  inflating: images/german_shorthaired_165.jpg  \n",
            "  inflating: images/german_shorthaired_166.jpg  \n",
            "  inflating: images/german_shorthaired_167.jpg  \n",
            "  inflating: images/german_shorthaired_168.jpg  \n",
            "  inflating: images/german_shorthaired_169.jpg  \n",
            "  inflating: images/german_shorthaired_17.jpg  \n",
            "  inflating: images/german_shorthaired_170.jpg  \n",
            "  inflating: images/german_shorthaired_171.jpg  \n",
            "  inflating: images/german_shorthaired_172.jpg  \n",
            "  inflating: images/german_shorthaired_173.jpg  \n",
            "  inflating: images/german_shorthaired_174.jpg  \n",
            "  inflating: images/german_shorthaired_175.jpg  \n",
            "  inflating: images/german_shorthaired_176.jpg  \n",
            "  inflating: images/german_shorthaired_177.jpg  \n",
            "  inflating: images/german_shorthaired_178.jpg  \n",
            "  inflating: images/german_shorthaired_179.jpg  \n",
            "  inflating: images/german_shorthaired_18.jpg  \n",
            "  inflating: images/german_shorthaired_180.jpg  \n",
            "  inflating: images/german_shorthaired_181.jpg  \n",
            "  inflating: images/german_shorthaired_182.jpg  \n",
            "  inflating: images/german_shorthaired_183.jpg  \n",
            "  inflating: images/german_shorthaired_184.jpg  \n",
            "  inflating: images/german_shorthaired_185.jpg  \n",
            "  inflating: images/german_shorthaired_186.jpg  \n",
            "  inflating: images/german_shorthaired_187.jpg  \n",
            "  inflating: images/german_shorthaired_188.jpg  \n",
            "  inflating: images/german_shorthaired_189.jpg  \n",
            "  inflating: images/german_shorthaired_19.jpg  \n",
            "  inflating: images/german_shorthaired_190.jpg  \n",
            "  inflating: images/german_shorthaired_191.jpg  \n",
            "  inflating: images/german_shorthaired_192.jpg  \n",
            "  inflating: images/german_shorthaired_193.jpg  \n",
            "  inflating: images/german_shorthaired_194.jpg  \n",
            "  inflating: images/german_shorthaired_195.jpg  \n",
            "  inflating: images/german_shorthaired_196.jpg  \n",
            "  inflating: images/german_shorthaired_197.jpg  \n",
            "  inflating: images/german_shorthaired_198.jpg  \n",
            "  inflating: images/german_shorthaired_199.jpg  \n",
            "  inflating: images/german_shorthaired_2.jpg  \n",
            "  inflating: images/german_shorthaired_20.jpg  \n",
            "  inflating: images/german_shorthaired_200.jpg  \n",
            "  inflating: images/german_shorthaired_21.jpg  \n",
            "  inflating: images/german_shorthaired_22.jpg  \n",
            "  inflating: images/german_shorthaired_23.jpg  \n",
            "  inflating: images/german_shorthaired_24.jpg  \n",
            "  inflating: images/german_shorthaired_25.jpg  \n",
            "  inflating: images/german_shorthaired_26.jpg  \n",
            "  inflating: images/german_shorthaired_27.jpg  \n",
            "  inflating: images/german_shorthaired_28.jpg  \n",
            "  inflating: images/german_shorthaired_29.jpg  \n",
            "  inflating: images/german_shorthaired_3.jpg  \n",
            "  inflating: images/german_shorthaired_30.jpg  \n",
            "  inflating: images/german_shorthaired_31.jpg  \n",
            "  inflating: images/german_shorthaired_32.jpg  \n",
            "  inflating: images/german_shorthaired_33.jpg  \n",
            "  inflating: images/german_shorthaired_34.jpg  \n",
            "  inflating: images/german_shorthaired_35.jpg  \n",
            "  inflating: images/german_shorthaired_36.jpg  \n",
            "  inflating: images/german_shorthaired_37.jpg  \n",
            "  inflating: images/german_shorthaired_38.jpg  \n",
            "  inflating: images/german_shorthaired_39.jpg  \n",
            "  inflating: images/german_shorthaired_4.jpg  \n",
            "  inflating: images/german_shorthaired_40.jpg  \n",
            "  inflating: images/german_shorthaired_41.jpg  \n",
            "  inflating: images/german_shorthaired_42.jpg  \n",
            "  inflating: images/german_shorthaired_43.jpg  \n",
            "  inflating: images/german_shorthaired_44.jpg  \n",
            "  inflating: images/german_shorthaired_45.jpg  \n",
            "  inflating: images/german_shorthaired_46.jpg  \n",
            "  inflating: images/german_shorthaired_47.jpg  \n",
            "  inflating: images/german_shorthaired_48.jpg  \n",
            "  inflating: images/german_shorthaired_49.jpg  \n",
            "  inflating: images/german_shorthaired_5.jpg  \n",
            "  inflating: images/german_shorthaired_50.jpg  \n",
            "  inflating: images/german_shorthaired_51.jpg  \n",
            "  inflating: images/german_shorthaired_52.jpg  \n",
            "  inflating: images/german_shorthaired_53.jpg  \n",
            "  inflating: images/german_shorthaired_54.jpg  \n",
            "  inflating: images/german_shorthaired_55.jpg  \n",
            "  inflating: images/german_shorthaired_56.jpg  \n",
            "  inflating: images/german_shorthaired_57.jpg  \n",
            "  inflating: images/german_shorthaired_58.jpg  \n",
            "  inflating: images/german_shorthaired_59.jpg  \n",
            "  inflating: images/german_shorthaired_6.jpg  \n",
            "  inflating: images/german_shorthaired_60.jpg  \n",
            "  inflating: images/german_shorthaired_61.jpg  \n",
            "  inflating: images/german_shorthaired_62.jpg  \n",
            "  inflating: images/german_shorthaired_63.jpg  \n",
            "  inflating: images/german_shorthaired_64.jpg  \n",
            "  inflating: images/german_shorthaired_65.jpg  \n",
            "  inflating: images/german_shorthaired_66.jpg  \n",
            "  inflating: images/german_shorthaired_67.jpg  \n",
            "  inflating: images/german_shorthaired_68.jpg  \n",
            "  inflating: images/german_shorthaired_69.jpg  \n",
            "  inflating: images/german_shorthaired_7.jpg  \n",
            "  inflating: images/german_shorthaired_70.jpg  \n",
            "  inflating: images/german_shorthaired_71.jpg  \n",
            "  inflating: images/german_shorthaired_72.jpg  \n",
            "  inflating: images/german_shorthaired_73.jpg  \n",
            "  inflating: images/german_shorthaired_74.jpg  \n",
            "  inflating: images/german_shorthaired_75.jpg  \n",
            "  inflating: images/german_shorthaired_76.jpg  \n",
            "  inflating: images/german_shorthaired_77.jpg  \n",
            "  inflating: images/german_shorthaired_78.jpg  \n",
            "  inflating: images/german_shorthaired_79.jpg  \n",
            "  inflating: images/german_shorthaired_8.jpg  \n",
            "  inflating: images/german_shorthaired_80.jpg  \n",
            "  inflating: images/german_shorthaired_81.jpg  \n",
            "  inflating: images/german_shorthaired_82.jpg  \n",
            "  inflating: images/german_shorthaired_83.jpg  \n",
            "  inflating: images/german_shorthaired_84.jpg  \n",
            "  inflating: images/german_shorthaired_85.jpg  \n",
            "  inflating: images/german_shorthaired_86.jpg  \n",
            "  inflating: images/german_shorthaired_87.jpg  \n",
            "  inflating: images/german_shorthaired_88.jpg  \n",
            "  inflating: images/german_shorthaired_89.jpg  \n",
            "  inflating: images/german_shorthaired_9.jpg  \n",
            "  inflating: images/german_shorthaired_90.jpg  \n",
            "  inflating: images/german_shorthaired_91.jpg  \n",
            "  inflating: images/german_shorthaired_92.jpg  \n",
            "  inflating: images/german_shorthaired_93.jpg  \n",
            "  inflating: images/german_shorthaired_94.jpg  \n",
            "  inflating: images/german_shorthaired_95.jpg  \n",
            "  inflating: images/german_shorthaired_96.jpg  \n",
            "  inflating: images/german_shorthaired_97.jpg  \n",
            "  inflating: images/german_shorthaired_98.jpg  \n",
            "  inflating: images/german_shorthaired_99.jpg  \n",
            "  inflating: images/great_pyrenees_1.jpg  \n",
            "  inflating: images/great_pyrenees_10.jpg  \n",
            "  inflating: images/great_pyrenees_100.jpg  \n",
            "  inflating: images/great_pyrenees_101.jpg  \n",
            "  inflating: images/great_pyrenees_102.jpg  \n",
            "  inflating: images/great_pyrenees_103.jpg  \n",
            "  inflating: images/great_pyrenees_104.jpg  \n",
            "  inflating: images/great_pyrenees_105.jpg  \n",
            "  inflating: images/great_pyrenees_106.jpg  \n",
            "  inflating: images/great_pyrenees_107.jpg  \n",
            "  inflating: images/great_pyrenees_108.jpg  \n",
            "  inflating: images/great_pyrenees_109.jpg  \n",
            "  inflating: images/great_pyrenees_11.jpg  \n",
            "  inflating: images/great_pyrenees_110.jpg  \n",
            "  inflating: images/great_pyrenees_111.jpg  \n",
            "  inflating: images/great_pyrenees_112.jpg  \n",
            "  inflating: images/great_pyrenees_113.jpg  \n",
            "  inflating: images/great_pyrenees_114.jpg  \n",
            "  inflating: images/great_pyrenees_115.jpg  \n",
            "  inflating: images/great_pyrenees_116.jpg  \n",
            "  inflating: images/great_pyrenees_117.jpg  \n",
            "  inflating: images/great_pyrenees_118.jpg  \n",
            "  inflating: images/great_pyrenees_119.jpg  \n",
            "  inflating: images/great_pyrenees_12.jpg  \n",
            "  inflating: images/great_pyrenees_120.jpg  \n",
            "  inflating: images/great_pyrenees_121.jpg  \n",
            "  inflating: images/great_pyrenees_122.jpg  \n",
            "  inflating: images/great_pyrenees_123.jpg  \n",
            "  inflating: images/great_pyrenees_124.jpg  \n",
            "  inflating: images/great_pyrenees_125.jpg  \n",
            "  inflating: images/great_pyrenees_126.jpg  \n",
            "  inflating: images/great_pyrenees_127.jpg  \n",
            "  inflating: images/great_pyrenees_128.jpg  \n",
            "  inflating: images/great_pyrenees_129.jpg  \n",
            "  inflating: images/great_pyrenees_13.jpg  \n",
            "  inflating: images/great_pyrenees_130.jpg  \n",
            "  inflating: images/great_pyrenees_131.jpg  \n",
            "  inflating: images/great_pyrenees_132.jpg  \n",
            "  inflating: images/great_pyrenees_133.jpg  \n",
            "  inflating: images/great_pyrenees_134.jpg  \n",
            "  inflating: images/great_pyrenees_135.jpg  \n",
            "  inflating: images/great_pyrenees_136.jpg  \n",
            "  inflating: images/great_pyrenees_137.jpg  \n",
            "  inflating: images/great_pyrenees_138.jpg  \n",
            "  inflating: images/great_pyrenees_139.jpg  \n",
            "  inflating: images/great_pyrenees_14.jpg  \n",
            "  inflating: images/great_pyrenees_140.jpg  \n",
            "  inflating: images/great_pyrenees_141.jpg  \n",
            "  inflating: images/great_pyrenees_142.jpg  \n",
            "  inflating: images/great_pyrenees_143.jpg  \n",
            "  inflating: images/great_pyrenees_144.jpg  \n",
            "  inflating: images/great_pyrenees_145.jpg  \n",
            "  inflating: images/great_pyrenees_146.jpg  \n",
            "  inflating: images/great_pyrenees_147.jpg  \n",
            "  inflating: images/great_pyrenees_148.jpg  \n",
            "  inflating: images/great_pyrenees_149.jpg  \n",
            "  inflating: images/great_pyrenees_15.jpg  \n",
            "  inflating: images/great_pyrenees_150.jpg  \n",
            "  inflating: images/great_pyrenees_151.jpg  \n",
            "  inflating: images/great_pyrenees_152.jpg  \n",
            "  inflating: images/great_pyrenees_153.jpg  \n",
            "  inflating: images/great_pyrenees_154.jpg  \n",
            "  inflating: images/great_pyrenees_155.jpg  \n",
            "  inflating: images/great_pyrenees_156.jpg  \n",
            "  inflating: images/great_pyrenees_157.jpg  \n",
            "  inflating: images/great_pyrenees_158.jpg  \n",
            "  inflating: images/great_pyrenees_159.jpg  \n",
            "  inflating: images/great_pyrenees_16.jpg  \n",
            "  inflating: images/great_pyrenees_160.jpg  \n",
            "  inflating: images/great_pyrenees_161.jpg  \n",
            "  inflating: images/great_pyrenees_162.jpg  \n",
            "  inflating: images/great_pyrenees_163.jpg  \n",
            "  inflating: images/great_pyrenees_164.jpg  \n",
            "  inflating: images/great_pyrenees_165.jpg  \n",
            "  inflating: images/great_pyrenees_166.jpg  \n",
            "  inflating: images/great_pyrenees_167.jpg  \n",
            "  inflating: images/great_pyrenees_168.jpg  \n",
            "  inflating: images/great_pyrenees_169.jpg  \n",
            "  inflating: images/great_pyrenees_17.jpg  \n",
            "  inflating: images/great_pyrenees_170.jpg  \n",
            "  inflating: images/great_pyrenees_171.jpg  \n",
            "  inflating: images/great_pyrenees_172.jpg  \n",
            "  inflating: images/great_pyrenees_173.jpg  \n",
            "  inflating: images/great_pyrenees_174.jpg  \n",
            "  inflating: images/great_pyrenees_175.jpg  \n",
            "  inflating: images/great_pyrenees_176.jpg  \n",
            "  inflating: images/great_pyrenees_177.jpg  \n",
            "  inflating: images/great_pyrenees_178.jpg  \n",
            "  inflating: images/great_pyrenees_179.jpg  \n",
            "  inflating: images/great_pyrenees_18.jpg  \n",
            "  inflating: images/great_pyrenees_180.jpg  \n",
            "  inflating: images/great_pyrenees_181.jpg  \n",
            "  inflating: images/great_pyrenees_182.jpg  \n",
            "  inflating: images/great_pyrenees_183.jpg  \n",
            "  inflating: images/great_pyrenees_184.jpg  \n",
            "  inflating: images/great_pyrenees_185.jpg  \n",
            "  inflating: images/great_pyrenees_186.jpg  \n",
            "  inflating: images/great_pyrenees_187.jpg  \n",
            "  inflating: images/great_pyrenees_188.jpg  \n",
            "  inflating: images/great_pyrenees_189.jpg  \n",
            "  inflating: images/great_pyrenees_19.jpg  \n",
            "  inflating: images/great_pyrenees_190.jpg  \n",
            "  inflating: images/great_pyrenees_191.jpg  \n",
            "  inflating: images/great_pyrenees_192.jpg  \n",
            "  inflating: images/great_pyrenees_193.jpg  \n",
            "  inflating: images/great_pyrenees_194.jpg  \n",
            "  inflating: images/great_pyrenees_195.jpg  \n",
            "  inflating: images/great_pyrenees_196.jpg  \n",
            "  inflating: images/great_pyrenees_197.jpg  \n",
            "  inflating: images/great_pyrenees_198.jpg  \n",
            "  inflating: images/great_pyrenees_199.jpg  \n",
            "  inflating: images/great_pyrenees_2.jpg  \n",
            "  inflating: images/great_pyrenees_20.jpg  \n",
            "  inflating: images/great_pyrenees_200.jpg  \n",
            "  inflating: images/great_pyrenees_21.jpg  \n",
            "  inflating: images/great_pyrenees_22.jpg  \n",
            "  inflating: images/great_pyrenees_23.jpg  \n",
            "  inflating: images/great_pyrenees_24.jpg  \n",
            "  inflating: images/great_pyrenees_25.jpg  \n",
            "  inflating: images/great_pyrenees_26.jpg  \n",
            "  inflating: images/great_pyrenees_27.jpg  \n",
            "  inflating: images/great_pyrenees_28.jpg  \n",
            "  inflating: images/great_pyrenees_29.jpg  \n",
            "  inflating: images/great_pyrenees_3.jpg  \n",
            "  inflating: images/great_pyrenees_30.jpg  \n",
            "  inflating: images/great_pyrenees_31.jpg  \n",
            "  inflating: images/great_pyrenees_32.jpg  \n",
            "  inflating: images/great_pyrenees_33.jpg  \n",
            "  inflating: images/great_pyrenees_34.jpg  \n",
            "  inflating: images/great_pyrenees_35.jpg  \n",
            "  inflating: images/great_pyrenees_36.jpg  \n",
            "  inflating: images/great_pyrenees_37.jpg  \n",
            "  inflating: images/great_pyrenees_38.jpg  \n",
            "  inflating: images/great_pyrenees_39.jpg  \n",
            "  inflating: images/great_pyrenees_4.jpg  \n",
            "  inflating: images/great_pyrenees_40.jpg  \n",
            "  inflating: images/great_pyrenees_41.jpg  \n",
            "  inflating: images/great_pyrenees_42.jpg  \n",
            "  inflating: images/great_pyrenees_43.jpg  \n",
            "  inflating: images/great_pyrenees_44.jpg  \n",
            "  inflating: images/great_pyrenees_45.jpg  \n",
            "  inflating: images/great_pyrenees_46.jpg  \n",
            "  inflating: images/great_pyrenees_47.jpg  \n",
            "  inflating: images/great_pyrenees_48.jpg  \n",
            "  inflating: images/great_pyrenees_49.jpg  \n",
            "  inflating: images/great_pyrenees_5.jpg  \n",
            "  inflating: images/great_pyrenees_50.jpg  \n",
            "  inflating: images/great_pyrenees_51.jpg  \n",
            "  inflating: images/great_pyrenees_52.jpg  \n",
            "  inflating: images/great_pyrenees_53.jpg  \n",
            "  inflating: images/great_pyrenees_54.jpg  \n",
            "  inflating: images/great_pyrenees_55.jpg  \n",
            "  inflating: images/great_pyrenees_56.jpg  \n",
            "  inflating: images/great_pyrenees_57.jpg  \n",
            "  inflating: images/great_pyrenees_58.jpg  \n",
            "  inflating: images/great_pyrenees_59.jpg  \n",
            "  inflating: images/great_pyrenees_6.jpg  \n",
            "  inflating: images/great_pyrenees_60.jpg  \n",
            "  inflating: images/great_pyrenees_61.jpg  \n",
            "  inflating: images/great_pyrenees_62.jpg  \n",
            "  inflating: images/great_pyrenees_63.jpg  \n",
            "  inflating: images/great_pyrenees_64.jpg  \n",
            "  inflating: images/great_pyrenees_65.jpg  \n",
            "  inflating: images/great_pyrenees_66.jpg  \n",
            "  inflating: images/great_pyrenees_67.jpg  \n",
            "  inflating: images/great_pyrenees_68.jpg  \n",
            "  inflating: images/great_pyrenees_69.jpg  \n",
            "  inflating: images/great_pyrenees_7.jpg  \n",
            "  inflating: images/great_pyrenees_70.jpg  \n",
            "  inflating: images/great_pyrenees_71.jpg  \n",
            "  inflating: images/great_pyrenees_72.jpg  \n",
            "  inflating: images/great_pyrenees_73.jpg  \n",
            "  inflating: images/great_pyrenees_74.jpg  \n",
            "  inflating: images/great_pyrenees_75.jpg  \n",
            "  inflating: images/great_pyrenees_76.jpg  \n",
            "  inflating: images/great_pyrenees_77.jpg  \n",
            "  inflating: images/great_pyrenees_78.jpg  \n",
            "  inflating: images/great_pyrenees_79.jpg  \n",
            "  inflating: images/great_pyrenees_8.jpg  \n",
            "  inflating: images/great_pyrenees_80.jpg  \n",
            "  inflating: images/great_pyrenees_81.jpg  \n",
            "  inflating: images/great_pyrenees_82.jpg  \n",
            "  inflating: images/great_pyrenees_83.jpg  \n",
            "  inflating: images/great_pyrenees_84.jpg  \n",
            "  inflating: images/great_pyrenees_85.jpg  \n",
            "  inflating: images/great_pyrenees_86.jpg  \n",
            "  inflating: images/great_pyrenees_87.jpg  \n",
            "  inflating: images/great_pyrenees_88.jpg  \n",
            "  inflating: images/great_pyrenees_89.jpg  \n",
            "  inflating: images/great_pyrenees_9.jpg  \n",
            "  inflating: images/great_pyrenees_90.jpg  \n",
            "  inflating: images/great_pyrenees_91.jpg  \n",
            "  inflating: images/great_pyrenees_92.jpg  \n",
            "  inflating: images/great_pyrenees_93.jpg  \n",
            "  inflating: images/great_pyrenees_94.jpg  \n",
            "  inflating: images/great_pyrenees_95.jpg  \n",
            "  inflating: images/great_pyrenees_96.jpg  \n",
            "  inflating: images/great_pyrenees_97.jpg  \n",
            "  inflating: images/great_pyrenees_98.jpg  \n",
            "  inflating: images/great_pyrenees_99.jpg  \n",
            "  inflating: images/havanese_1.jpg   \n",
            "  inflating: images/havanese_10.jpg  \n",
            "  inflating: images/havanese_100.jpg  \n",
            "  inflating: images/havanese_101.jpg  \n",
            "  inflating: images/havanese_102.jpg  \n",
            "  inflating: images/havanese_103.jpg  \n",
            "  inflating: images/havanese_104.jpg  \n",
            "  inflating: images/havanese_105.jpg  \n",
            "  inflating: images/havanese_106.jpg  \n",
            "  inflating: images/havanese_107.jpg  \n",
            "  inflating: images/havanese_108.jpg  \n",
            "  inflating: images/havanese_109.jpg  \n",
            "  inflating: images/havanese_11.jpg  \n",
            "  inflating: images/havanese_110.jpg  \n",
            "  inflating: images/havanese_111.jpg  \n",
            "  inflating: images/havanese_112.jpg  \n",
            "  inflating: images/havanese_113.jpg  \n",
            "  inflating: images/havanese_114.jpg  \n",
            "  inflating: images/havanese_115.jpg  \n",
            "  inflating: images/havanese_116.jpg  \n",
            "  inflating: images/havanese_117.jpg  \n",
            "  inflating: images/havanese_118.jpg  \n",
            "  inflating: images/havanese_119.jpg  \n",
            "  inflating: images/havanese_12.jpg  \n",
            "  inflating: images/havanese_120.jpg  \n",
            "  inflating: images/havanese_121.jpg  \n",
            "  inflating: images/havanese_122.jpg  \n",
            "  inflating: images/havanese_123.jpg  \n",
            "  inflating: images/havanese_124.jpg  \n",
            "  inflating: images/havanese_125.jpg  \n",
            "  inflating: images/havanese_126.jpg  \n",
            "  inflating: images/havanese_127.jpg  \n",
            "  inflating: images/havanese_128.jpg  \n",
            "  inflating: images/havanese_129.jpg  \n",
            "  inflating: images/havanese_13.jpg  \n",
            "  inflating: images/havanese_130.jpg  \n",
            "  inflating: images/havanese_131.jpg  \n",
            "  inflating: images/havanese_132.jpg  \n",
            "  inflating: images/havanese_133.jpg  \n",
            "  inflating: images/havanese_134.jpg  \n",
            "  inflating: images/havanese_135.jpg  \n",
            "  inflating: images/havanese_136.jpg  \n",
            "  inflating: images/havanese_137.jpg  \n",
            "  inflating: images/havanese_138.jpg  \n",
            "  inflating: images/havanese_139.jpg  \n",
            "  inflating: images/havanese_14.jpg  \n",
            "  inflating: images/havanese_140.jpg  \n",
            "  inflating: images/havanese_141.jpg  \n",
            "  inflating: images/havanese_142.jpg  \n",
            "  inflating: images/havanese_143.jpg  \n",
            "  inflating: images/havanese_144.jpg  \n",
            "  inflating: images/havanese_145.jpg  \n",
            "  inflating: images/havanese_146.jpg  \n",
            "  inflating: images/havanese_147.jpg  \n",
            "  inflating: images/havanese_148.jpg  \n",
            "  inflating: images/havanese_149.jpg  \n",
            "  inflating: images/havanese_15.jpg  \n",
            "  inflating: images/havanese_150.jpg  \n",
            "  inflating: images/havanese_151.jpg  \n",
            "  inflating: images/havanese_152.jpg  \n",
            "  inflating: images/havanese_153.jpg  \n",
            "  inflating: images/havanese_154.jpg  \n",
            "  inflating: images/havanese_155.jpg  \n",
            "  inflating: images/havanese_156.jpg  \n",
            "  inflating: images/havanese_157.jpg  \n",
            "  inflating: images/havanese_158.jpg  \n",
            "  inflating: images/havanese_159.jpg  \n",
            "  inflating: images/havanese_16.jpg  \n",
            "  inflating: images/havanese_160.jpg  \n",
            "  inflating: images/havanese_161.jpg  \n",
            "  inflating: images/havanese_162.jpg  \n",
            "  inflating: images/havanese_163.jpg  \n",
            "  inflating: images/havanese_164.jpg  \n",
            "  inflating: images/havanese_165.jpg  \n",
            "  inflating: images/havanese_166.jpg  \n",
            "  inflating: images/havanese_167.jpg  \n",
            "  inflating: images/havanese_168.jpg  \n",
            "  inflating: images/havanese_169.jpg  \n",
            "  inflating: images/havanese_17.jpg  \n",
            "  inflating: images/havanese_170.jpg  \n",
            "  inflating: images/havanese_171.jpg  \n",
            "  inflating: images/havanese_172.jpg  \n",
            "  inflating: images/havanese_173.jpg  \n",
            "  inflating: images/havanese_174.jpg  \n",
            "  inflating: images/havanese_175.jpg  \n",
            "  inflating: images/havanese_176.jpg  \n",
            "  inflating: images/havanese_177.jpg  \n",
            "  inflating: images/havanese_178.jpg  \n",
            "  inflating: images/havanese_179.jpg  \n",
            "  inflating: images/havanese_18.jpg  \n",
            "  inflating: images/havanese_180.jpg  \n",
            "  inflating: images/havanese_181.jpg  \n",
            "  inflating: images/havanese_182.jpg  \n",
            "  inflating: images/havanese_183.jpg  \n",
            "  inflating: images/havanese_184.jpg  \n",
            "  inflating: images/havanese_185.jpg  \n",
            "  inflating: images/havanese_186.jpg  \n",
            "  inflating: images/havanese_187.jpg  \n",
            "  inflating: images/havanese_188.jpg  \n",
            "  inflating: images/havanese_189.jpg  \n",
            "  inflating: images/havanese_19.jpg  \n",
            "  inflating: images/havanese_190.jpg  \n",
            "  inflating: images/havanese_191.jpg  \n",
            "  inflating: images/havanese_192.jpg  \n",
            "  inflating: images/havanese_193.jpg  \n",
            "  inflating: images/havanese_194.jpg  \n",
            "  inflating: images/havanese_195.jpg  \n",
            "  inflating: images/havanese_196.jpg  \n",
            "  inflating: images/havanese_197.jpg  \n",
            "  inflating: images/havanese_198.jpg  \n",
            "  inflating: images/havanese_199.jpg  \n",
            "  inflating: images/havanese_2.jpg   \n",
            "  inflating: images/havanese_20.jpg  \n",
            "  inflating: images/havanese_200.jpg  \n",
            "  inflating: images/havanese_21.jpg  \n",
            "  inflating: images/havanese_22.jpg  \n",
            "  inflating: images/havanese_23.jpg  \n",
            "  inflating: images/havanese_24.jpg  \n",
            "  inflating: images/havanese_25.jpg  \n",
            "  inflating: images/havanese_26.jpg  \n",
            "  inflating: images/havanese_27.jpg  \n",
            "  inflating: images/havanese_28.jpg  \n",
            "  inflating: images/havanese_29.jpg  \n",
            "  inflating: images/havanese_3.jpg   \n",
            "  inflating: images/havanese_30.jpg  \n",
            "  inflating: images/havanese_31.jpg  \n",
            "  inflating: images/havanese_32.jpg  \n",
            "  inflating: images/havanese_33.jpg  \n",
            "  inflating: images/havanese_34.jpg  \n",
            "  inflating: images/havanese_35.jpg  \n",
            "  inflating: images/havanese_36.jpg  \n",
            "  inflating: images/havanese_37.jpg  \n",
            "  inflating: images/havanese_38.jpg  \n",
            "  inflating: images/havanese_39.jpg  \n",
            "  inflating: images/havanese_4.jpg   \n",
            "  inflating: images/havanese_40.jpg  \n",
            "  inflating: images/havanese_41.jpg  \n",
            "  inflating: images/havanese_42.jpg  \n",
            "  inflating: images/havanese_43.jpg  \n",
            "  inflating: images/havanese_44.jpg  \n",
            "  inflating: images/havanese_45.jpg  \n",
            "  inflating: images/havanese_46.jpg  \n",
            "  inflating: images/havanese_47.jpg  \n",
            "  inflating: images/havanese_48.jpg  \n",
            "  inflating: images/havanese_49.jpg  \n",
            "  inflating: images/havanese_5.jpg   \n",
            "  inflating: images/havanese_50.jpg  \n",
            "  inflating: images/havanese_51.jpg  \n",
            "  inflating: images/havanese_52.jpg  \n",
            "  inflating: images/havanese_53.jpg  \n",
            "  inflating: images/havanese_54.jpg  \n",
            "  inflating: images/havanese_55.jpg  \n",
            "  inflating: images/havanese_56.jpg  \n",
            "  inflating: images/havanese_57.jpg  \n",
            "  inflating: images/havanese_58.jpg  \n",
            "  inflating: images/havanese_59.jpg  \n",
            "  inflating: images/havanese_6.jpg   \n",
            "  inflating: images/havanese_60.jpg  \n",
            "  inflating: images/havanese_61.jpg  \n",
            "  inflating: images/havanese_62.jpg  \n",
            "  inflating: images/havanese_63.jpg  \n",
            "  inflating: images/havanese_64.jpg  \n",
            "  inflating: images/havanese_65.jpg  \n",
            "  inflating: images/havanese_66.jpg  \n",
            "  inflating: images/havanese_67.jpg  \n",
            "  inflating: images/havanese_68.jpg  \n",
            "  inflating: images/havanese_69.jpg  \n",
            "  inflating: images/havanese_7.jpg   \n",
            "  inflating: images/havanese_70.jpg  \n",
            "  inflating: images/havanese_71.jpg  \n",
            "  inflating: images/havanese_72.jpg  \n",
            "  inflating: images/havanese_73.jpg  \n",
            "  inflating: images/havanese_74.jpg  \n",
            "  inflating: images/havanese_75.jpg  \n",
            "  inflating: images/havanese_76.jpg  \n",
            "  inflating: images/havanese_77.jpg  \n",
            "  inflating: images/havanese_78.jpg  \n",
            "  inflating: images/havanese_79.jpg  \n",
            "  inflating: images/havanese_8.jpg   \n",
            "  inflating: images/havanese_80.jpg  \n",
            "  inflating: images/havanese_81.jpg  \n",
            "  inflating: images/havanese_82.jpg  \n",
            "  inflating: images/havanese_83.jpg  \n",
            "  inflating: images/havanese_84.jpg  \n",
            "  inflating: images/havanese_85.jpg  \n",
            "  inflating: images/havanese_86.jpg  \n",
            "  inflating: images/havanese_87.jpg  \n",
            "  inflating: images/havanese_88.jpg  \n",
            "  inflating: images/havanese_89.jpg  \n",
            "  inflating: images/havanese_9.jpg   \n",
            "  inflating: images/havanese_90.jpg  \n",
            "  inflating: images/havanese_91.jpg  \n",
            "  inflating: images/havanese_92.jpg  \n",
            "  inflating: images/havanese_93.jpg  \n",
            "  inflating: images/havanese_94.jpg  \n",
            "  inflating: images/havanese_95.jpg  \n",
            "  inflating: images/havanese_96.jpg  \n",
            "  inflating: images/havanese_97.jpg  \n",
            "  inflating: images/havanese_98.jpg  \n",
            "  inflating: images/havanese_99.jpg  \n",
            "  inflating: images/japanese_chin_1.jpg  \n",
            "  inflating: images/japanese_chin_10.jpg  \n",
            "  inflating: images/japanese_chin_100.jpg  \n",
            "  inflating: images/japanese_chin_101.jpg  \n",
            "  inflating: images/japanese_chin_102.jpg  \n",
            "  inflating: images/japanese_chin_103.jpg  \n",
            "  inflating: images/japanese_chin_104.jpg  \n",
            "  inflating: images/japanese_chin_105.jpg  \n",
            "  inflating: images/japanese_chin_106.jpg  \n",
            "  inflating: images/japanese_chin_107.jpg  \n",
            "  inflating: images/japanese_chin_108.jpg  \n",
            "  inflating: images/japanese_chin_109.jpg  \n",
            "  inflating: images/japanese_chin_11.jpg  \n",
            "  inflating: images/japanese_chin_110.jpg  \n",
            "  inflating: images/japanese_chin_111.jpg  \n",
            "  inflating: images/japanese_chin_112.jpg  \n",
            "  inflating: images/japanese_chin_113.jpg  \n",
            "  inflating: images/japanese_chin_114.jpg  \n",
            "  inflating: images/japanese_chin_115.jpg  \n",
            "  inflating: images/japanese_chin_116.jpg  \n",
            "  inflating: images/japanese_chin_117.jpg  \n",
            "  inflating: images/japanese_chin_118.jpg  \n",
            "  inflating: images/japanese_chin_119.jpg  \n",
            "  inflating: images/japanese_chin_12.jpg  \n",
            "  inflating: images/japanese_chin_120.jpg  \n",
            "  inflating: images/japanese_chin_121.jpg  \n",
            "  inflating: images/japanese_chin_122.jpg  \n",
            "  inflating: images/japanese_chin_123.jpg  \n",
            "  inflating: images/japanese_chin_124.jpg  \n",
            "  inflating: images/japanese_chin_125.jpg  \n",
            "  inflating: images/japanese_chin_126.jpg  \n",
            "  inflating: images/japanese_chin_127.jpg  \n",
            "  inflating: images/japanese_chin_128.jpg  \n",
            "  inflating: images/japanese_chin_129.jpg  \n",
            "  inflating: images/japanese_chin_13.jpg  \n",
            "  inflating: images/japanese_chin_130.jpg  \n",
            "  inflating: images/japanese_chin_131.jpg  \n",
            "  inflating: images/japanese_chin_132.jpg  \n",
            "  inflating: images/japanese_chin_133.jpg  \n",
            "  inflating: images/japanese_chin_134.jpg  \n",
            "  inflating: images/japanese_chin_135.jpg  \n",
            "  inflating: images/japanese_chin_136.jpg  \n",
            "  inflating: images/japanese_chin_137.jpg  \n",
            "  inflating: images/japanese_chin_138.jpg  \n",
            "  inflating: images/japanese_chin_139.jpg  \n",
            "  inflating: images/japanese_chin_14.jpg  \n",
            "  inflating: images/japanese_chin_140.jpg  \n",
            "  inflating: images/japanese_chin_141.jpg  \n",
            "  inflating: images/japanese_chin_142.jpg  \n",
            "  inflating: images/japanese_chin_143.jpg  \n",
            "  inflating: images/japanese_chin_144.jpg  \n",
            "  inflating: images/japanese_chin_145.jpg  \n",
            "  inflating: images/japanese_chin_146.jpg  \n",
            "  inflating: images/japanese_chin_147.jpg  \n",
            "  inflating: images/japanese_chin_148.jpg  \n",
            "  inflating: images/japanese_chin_149.jpg  \n",
            "  inflating: images/japanese_chin_15.jpg  \n",
            "  inflating: images/japanese_chin_150.jpg  \n",
            "  inflating: images/japanese_chin_151.jpg  \n",
            "  inflating: images/japanese_chin_152.jpg  \n",
            "  inflating: images/japanese_chin_153.jpg  \n",
            "  inflating: images/japanese_chin_154.jpg  \n",
            "  inflating: images/japanese_chin_155.jpg  \n",
            "  inflating: images/japanese_chin_156.jpg  \n",
            "  inflating: images/japanese_chin_157.jpg  \n",
            "  inflating: images/japanese_chin_158.jpg  \n",
            "  inflating: images/japanese_chin_159.jpg  \n",
            "  inflating: images/japanese_chin_16.jpg  \n",
            "  inflating: images/japanese_chin_160.jpg  \n",
            "  inflating: images/japanese_chin_161.jpg  \n",
            "  inflating: images/japanese_chin_162.jpg  \n",
            "  inflating: images/japanese_chin_163.jpg  \n",
            "  inflating: images/japanese_chin_164.jpg  \n",
            "  inflating: images/japanese_chin_165.jpg  \n",
            "  inflating: images/japanese_chin_166.jpg  \n",
            "  inflating: images/japanese_chin_167.jpg  \n",
            "  inflating: images/japanese_chin_168.jpg  \n",
            "  inflating: images/japanese_chin_169.jpg  \n",
            "  inflating: images/japanese_chin_17.jpg  \n",
            "  inflating: images/japanese_chin_170.jpg  \n",
            "  inflating: images/japanese_chin_171.jpg  \n",
            "  inflating: images/japanese_chin_172.jpg  \n",
            "  inflating: images/japanese_chin_173.jpg  \n",
            "  inflating: images/japanese_chin_174.jpg  \n",
            "  inflating: images/japanese_chin_175.jpg  \n",
            "  inflating: images/japanese_chin_176.jpg  \n",
            "  inflating: images/japanese_chin_177.jpg  \n",
            "  inflating: images/japanese_chin_178.jpg  \n",
            "  inflating: images/japanese_chin_179.jpg  \n",
            "  inflating: images/japanese_chin_18.jpg  \n",
            "  inflating: images/japanese_chin_180.jpg  \n",
            "  inflating: images/japanese_chin_181.jpg  \n",
            "  inflating: images/japanese_chin_182.jpg  \n",
            "  inflating: images/japanese_chin_183.jpg  \n",
            "  inflating: images/japanese_chin_184.jpg  \n",
            "  inflating: images/japanese_chin_185.jpg  \n",
            "  inflating: images/japanese_chin_186.jpg  \n",
            "  inflating: images/japanese_chin_187.jpg  \n",
            "  inflating: images/japanese_chin_188.jpg  \n",
            "  inflating: images/japanese_chin_189.jpg  \n",
            "  inflating: images/japanese_chin_19.jpg  \n",
            "  inflating: images/japanese_chin_190.jpg  \n",
            "  inflating: images/japanese_chin_191.jpg  \n",
            "  inflating: images/japanese_chin_192.jpg  \n",
            "  inflating: images/japanese_chin_193.jpg  \n",
            "  inflating: images/japanese_chin_194.jpg  \n",
            "  inflating: images/japanese_chin_195.jpg  \n",
            "  inflating: images/japanese_chin_196.jpg  \n",
            "  inflating: images/japanese_chin_197.jpg  \n",
            "  inflating: images/japanese_chin_198.jpg  \n",
            "  inflating: images/japanese_chin_199.jpg  \n",
            "  inflating: images/japanese_chin_2.jpg  \n",
            "  inflating: images/japanese_chin_20.jpg  \n",
            "  inflating: images/japanese_chin_200.jpg  \n",
            "  inflating: images/japanese_chin_21.jpg  \n",
            "  inflating: images/japanese_chin_22.jpg  \n",
            "  inflating: images/japanese_chin_23.jpg  \n",
            "  inflating: images/japanese_chin_24.jpg  \n",
            "  inflating: images/japanese_chin_25.jpg  \n",
            "  inflating: images/japanese_chin_26.jpg  \n",
            "  inflating: images/japanese_chin_27.jpg  \n",
            "  inflating: images/japanese_chin_28.jpg  \n",
            "  inflating: images/japanese_chin_29.jpg  \n",
            "  inflating: images/japanese_chin_3.jpg  \n",
            "  inflating: images/japanese_chin_30.jpg  \n",
            "  inflating: images/japanese_chin_31.jpg  \n",
            "  inflating: images/japanese_chin_32.jpg  \n",
            "  inflating: images/japanese_chin_33.jpg  \n",
            "  inflating: images/japanese_chin_34.jpg  \n",
            "  inflating: images/japanese_chin_35.jpg  \n",
            "  inflating: images/japanese_chin_36.jpg  \n",
            "  inflating: images/japanese_chin_37.jpg  \n",
            "  inflating: images/japanese_chin_38.jpg  \n",
            "  inflating: images/japanese_chin_39.jpg  \n",
            "  inflating: images/japanese_chin_4.jpg  \n",
            "  inflating: images/japanese_chin_40.jpg  \n",
            "  inflating: images/japanese_chin_41.jpg  \n",
            "  inflating: images/japanese_chin_42.jpg  \n",
            "  inflating: images/japanese_chin_43.jpg  \n",
            "  inflating: images/japanese_chin_44.jpg  \n",
            "  inflating: images/japanese_chin_45.jpg  \n",
            "  inflating: images/japanese_chin_46.jpg  \n",
            "  inflating: images/japanese_chin_47.jpg  \n",
            "  inflating: images/japanese_chin_48.jpg  \n",
            "  inflating: images/japanese_chin_49.jpg  \n",
            "  inflating: images/japanese_chin_5.jpg  \n",
            "  inflating: images/japanese_chin_50.jpg  \n",
            "  inflating: images/japanese_chin_51.jpg  \n",
            "  inflating: images/japanese_chin_52.jpg  \n",
            "  inflating: images/japanese_chin_53.jpg  \n",
            "  inflating: images/japanese_chin_54.jpg  \n",
            "  inflating: images/japanese_chin_55.jpg  \n",
            "  inflating: images/japanese_chin_56.jpg  \n",
            "  inflating: images/japanese_chin_57.jpg  \n",
            "  inflating: images/japanese_chin_58.jpg  \n",
            "  inflating: images/japanese_chin_59.jpg  \n",
            "  inflating: images/japanese_chin_6.jpg  \n",
            "  inflating: images/japanese_chin_60.jpg  \n",
            "  inflating: images/japanese_chin_61.jpg  \n",
            "  inflating: images/japanese_chin_62.jpg  \n",
            "  inflating: images/japanese_chin_63.jpg  \n",
            "  inflating: images/japanese_chin_64.jpg  \n",
            "  inflating: images/japanese_chin_65.jpg  \n",
            "  inflating: images/japanese_chin_66.jpg  \n",
            "  inflating: images/japanese_chin_67.jpg  \n",
            "  inflating: images/japanese_chin_68.jpg  \n",
            "  inflating: images/japanese_chin_69.jpg  \n",
            "  inflating: images/japanese_chin_7.jpg  \n",
            "  inflating: images/japanese_chin_70.jpg  \n",
            "  inflating: images/japanese_chin_71.jpg  \n",
            "  inflating: images/japanese_chin_72.jpg  \n",
            "  inflating: images/japanese_chin_73.jpg  \n",
            "  inflating: images/japanese_chin_74.jpg  \n",
            "  inflating: images/japanese_chin_75.jpg  \n",
            "  inflating: images/japanese_chin_76.jpg  \n",
            "  inflating: images/japanese_chin_77.jpg  \n",
            "  inflating: images/japanese_chin_78.jpg  \n",
            "  inflating: images/japanese_chin_79.jpg  \n",
            "  inflating: images/japanese_chin_8.jpg  \n",
            "  inflating: images/japanese_chin_80.jpg  \n",
            "  inflating: images/japanese_chin_81.jpg  \n",
            "  inflating: images/japanese_chin_82.jpg  \n",
            "  inflating: images/japanese_chin_83.jpg  \n",
            "  inflating: images/japanese_chin_84.jpg  \n",
            "  inflating: images/japanese_chin_85.jpg  \n",
            "  inflating: images/japanese_chin_86.jpg  \n",
            "  inflating: images/japanese_chin_87.jpg  \n",
            "  inflating: images/japanese_chin_88.jpg  \n",
            "  inflating: images/japanese_chin_89.jpg  \n",
            "  inflating: images/japanese_chin_9.jpg  \n",
            "  inflating: images/japanese_chin_90.jpg  \n",
            "  inflating: images/japanese_chin_91.jpg  \n",
            "  inflating: images/japanese_chin_92.jpg  \n",
            "  inflating: images/japanese_chin_93.jpg  \n",
            "  inflating: images/japanese_chin_94.jpg  \n",
            "  inflating: images/japanese_chin_95.jpg  \n",
            "  inflating: images/japanese_chin_96.jpg  \n",
            "  inflating: images/japanese_chin_97.jpg  \n",
            "  inflating: images/japanese_chin_98.jpg  \n",
            "  inflating: images/japanese_chin_99.jpg  \n",
            "  inflating: images/keeshond_1.jpg   \n",
            "  inflating: images/keeshond_10.jpg  \n",
            "  inflating: images/keeshond_100.jpg  \n",
            "  inflating: images/keeshond_101.jpg  \n",
            "  inflating: images/keeshond_102.jpg  \n",
            "  inflating: images/keeshond_103.jpg  \n",
            "  inflating: images/keeshond_104.jpg  \n",
            "  inflating: images/keeshond_105.jpg  \n",
            "  inflating: images/keeshond_106.jpg  \n",
            "  inflating: images/keeshond_107.jpg  \n",
            "  inflating: images/keeshond_108.jpg  \n",
            "  inflating: images/keeshond_109.jpg  \n",
            "  inflating: images/keeshond_11.jpg  \n",
            "  inflating: images/keeshond_110.jpg  \n",
            "  inflating: images/keeshond_111.jpg  \n",
            "  inflating: images/keeshond_112.jpg  \n",
            "  inflating: images/keeshond_113.jpg  \n",
            "  inflating: images/keeshond_114.jpg  \n",
            "  inflating: images/keeshond_115.jpg  \n",
            "  inflating: images/keeshond_116.jpg  \n",
            "  inflating: images/keeshond_117.jpg  \n",
            "  inflating: images/keeshond_118.jpg  \n",
            "  inflating: images/keeshond_119.jpg  \n",
            "  inflating: images/keeshond_12.jpg  \n",
            "  inflating: images/keeshond_120.jpg  \n",
            "  inflating: images/keeshond_121.jpg  \n",
            "  inflating: images/keeshond_122.jpg  \n",
            "  inflating: images/keeshond_123.jpg  \n",
            "  inflating: images/keeshond_124.jpg  \n",
            "  inflating: images/keeshond_125.jpg  \n",
            "  inflating: images/keeshond_126.jpg  \n",
            "  inflating: images/keeshond_127.jpg  \n",
            "  inflating: images/keeshond_128.jpg  \n",
            "  inflating: images/keeshond_129.jpg  \n",
            "  inflating: images/keeshond_13.jpg  \n",
            "  inflating: images/keeshond_130.jpg  \n",
            "  inflating: images/keeshond_131.jpg  \n",
            "  inflating: images/keeshond_132.jpg  \n",
            "  inflating: images/keeshond_133.jpg  \n",
            "  inflating: images/keeshond_134.jpg  \n",
            "  inflating: images/keeshond_135.jpg  \n",
            "  inflating: images/keeshond_136.jpg  \n",
            "  inflating: images/keeshond_137.jpg  \n",
            "  inflating: images/keeshond_138.jpg  \n",
            "  inflating: images/keeshond_139.jpg  \n",
            "  inflating: images/keeshond_14.jpg  \n",
            "  inflating: images/keeshond_140.jpg  \n",
            "  inflating: images/keeshond_141.jpg  \n",
            "  inflating: images/keeshond_142.jpg  \n",
            "  inflating: images/keeshond_143.jpg  \n",
            "  inflating: images/keeshond_144.jpg  \n",
            "  inflating: images/keeshond_145.jpg  \n",
            "  inflating: images/keeshond_146.jpg  \n",
            "  inflating: images/keeshond_147.jpg  \n",
            "  inflating: images/keeshond_148.jpg  \n",
            "  inflating: images/keeshond_149.jpg  \n",
            "  inflating: images/keeshond_15.jpg  \n",
            "  inflating: images/keeshond_150.jpg  \n",
            "  inflating: images/keeshond_151.jpg  \n",
            "  inflating: images/keeshond_152.jpg  \n",
            "  inflating: images/keeshond_153.jpg  \n",
            "  inflating: images/keeshond_154.jpg  \n",
            "  inflating: images/keeshond_155.jpg  \n",
            "  inflating: images/keeshond_156.jpg  \n",
            "  inflating: images/keeshond_157.jpg  \n",
            "  inflating: images/keeshond_158.jpg  \n",
            "  inflating: images/keeshond_159.jpg  \n",
            "  inflating: images/keeshond_16.jpg  \n",
            "  inflating: images/keeshond_160.jpg  \n",
            "  inflating: images/keeshond_161.jpg  \n",
            "  inflating: images/keeshond_162.jpg  \n",
            "  inflating: images/keeshond_163.jpg  \n",
            "  inflating: images/keeshond_164.jpg  \n",
            "  inflating: images/keeshond_165.jpg  \n",
            "  inflating: images/keeshond_166.jpg  \n",
            "  inflating: images/keeshond_167.jpg  \n",
            "  inflating: images/keeshond_168.jpg  \n",
            "  inflating: images/keeshond_169.jpg  \n",
            "  inflating: images/keeshond_17.jpg  \n",
            "  inflating: images/keeshond_170.jpg  \n",
            "  inflating: images/keeshond_171.jpg  \n",
            "  inflating: images/keeshond_172.jpg  \n",
            "  inflating: images/keeshond_173.jpg  \n",
            "  inflating: images/keeshond_174.jpg  \n",
            "  inflating: images/keeshond_175.jpg  \n",
            "  inflating: images/keeshond_176.jpg  \n",
            "  inflating: images/keeshond_177.jpg  \n",
            "  inflating: images/keeshond_178.jpg  \n",
            "  inflating: images/keeshond_179.jpg  \n",
            "  inflating: images/keeshond_18.jpg  \n",
            "  inflating: images/keeshond_180.jpg  \n",
            "  inflating: images/keeshond_181.jpg  \n",
            "  inflating: images/keeshond_182.jpg  \n",
            "  inflating: images/keeshond_183.jpg  \n",
            "  inflating: images/keeshond_184.jpg  \n",
            "  inflating: images/keeshond_185.jpg  \n",
            "  inflating: images/keeshond_186.jpg  \n",
            "  inflating: images/keeshond_187.jpg  \n",
            "  inflating: images/keeshond_188.jpg  \n",
            "  inflating: images/keeshond_189.jpg  \n",
            "  inflating: images/keeshond_19.jpg  \n",
            "  inflating: images/keeshond_190.jpg  \n",
            "  inflating: images/keeshond_191.jpg  \n",
            "  inflating: images/keeshond_192.jpg  \n",
            "  inflating: images/keeshond_193.jpg  \n",
            "  inflating: images/keeshond_194.jpg  \n",
            "  inflating: images/keeshond_195.jpg  \n",
            "  inflating: images/keeshond_196.jpg  \n",
            "  inflating: images/keeshond_197.jpg  \n",
            "  inflating: images/keeshond_198.jpg  \n",
            "  inflating: images/keeshond_199.jpg  \n",
            "  inflating: images/keeshond_2.jpg   \n",
            "  inflating: images/keeshond_20.jpg  \n",
            "  inflating: images/keeshond_200.jpg  \n",
            "  inflating: images/keeshond_21.jpg  \n",
            "  inflating: images/keeshond_22.jpg  \n",
            "  inflating: images/keeshond_23.jpg  \n",
            "  inflating: images/keeshond_24.jpg  \n",
            "  inflating: images/keeshond_25.jpg  \n",
            "  inflating: images/keeshond_26.jpg  \n",
            "  inflating: images/keeshond_27.jpg  \n",
            "  inflating: images/keeshond_28.jpg  \n",
            "  inflating: images/keeshond_29.jpg  \n",
            "  inflating: images/keeshond_3.jpg   \n",
            "  inflating: images/keeshond_30.jpg  \n",
            "  inflating: images/keeshond_31.jpg  \n",
            "  inflating: images/keeshond_32.jpg  \n",
            "  inflating: images/keeshond_33.jpg  \n",
            "  inflating: images/keeshond_34.jpg  \n",
            "  inflating: images/keeshond_35.jpg  \n",
            "  inflating: images/keeshond_36.jpg  \n",
            "  inflating: images/keeshond_37.jpg  \n",
            "  inflating: images/keeshond_38.jpg  \n",
            "  inflating: images/keeshond_39.jpg  \n",
            "  inflating: images/keeshond_4.jpg   \n",
            "  inflating: images/keeshond_40.jpg  \n",
            "  inflating: images/keeshond_41.jpg  \n",
            "  inflating: images/keeshond_42.jpg  \n",
            "  inflating: images/keeshond_43.jpg  \n",
            "  inflating: images/keeshond_44.jpg  \n",
            "  inflating: images/keeshond_45.jpg  \n",
            "  inflating: images/keeshond_46.jpg  \n",
            "  inflating: images/keeshond_47.jpg  \n",
            "  inflating: images/keeshond_48.jpg  \n",
            "  inflating: images/keeshond_49.jpg  \n",
            "  inflating: images/keeshond_5.jpg   \n",
            "  inflating: images/keeshond_50.jpg  \n",
            "  inflating: images/keeshond_51.jpg  \n",
            "  inflating: images/keeshond_52.jpg  \n",
            "  inflating: images/keeshond_53.jpg  \n",
            "  inflating: images/keeshond_54.jpg  \n",
            "  inflating: images/keeshond_55.jpg  \n",
            "  inflating: images/keeshond_56.jpg  \n",
            "  inflating: images/keeshond_57.jpg  \n",
            "  inflating: images/keeshond_58.jpg  \n",
            "  inflating: images/keeshond_59.jpg  \n",
            "  inflating: images/keeshond_6.jpg   \n",
            "  inflating: images/keeshond_60.jpg  \n",
            "  inflating: images/keeshond_61.jpg  \n",
            "  inflating: images/keeshond_62.jpg  \n",
            "  inflating: images/keeshond_63.jpg  \n",
            "  inflating: images/keeshond_64.jpg  \n",
            "  inflating: images/keeshond_65.jpg  \n",
            "  inflating: images/keeshond_66.jpg  \n",
            "  inflating: images/keeshond_67.jpg  \n",
            "  inflating: images/keeshond_68.jpg  \n",
            "  inflating: images/keeshond_69.jpg  \n",
            "  inflating: images/keeshond_7.jpg   \n",
            "  inflating: images/keeshond_70.jpg  \n",
            "  inflating: images/keeshond_71.jpg  \n",
            "  inflating: images/keeshond_72.jpg  \n",
            "  inflating: images/keeshond_73.jpg  \n",
            "  inflating: images/keeshond_74.jpg  \n",
            "  inflating: images/keeshond_75.jpg  \n",
            "  inflating: images/keeshond_76.jpg  \n",
            "  inflating: images/keeshond_77.jpg  \n",
            "  inflating: images/keeshond_78.jpg  \n",
            "  inflating: images/keeshond_79.jpg  \n",
            "  inflating: images/keeshond_8.jpg   \n",
            "  inflating: images/keeshond_80.jpg  \n",
            "  inflating: images/keeshond_81.jpg  \n",
            "  inflating: images/keeshond_82.jpg  \n",
            "  inflating: images/keeshond_83.jpg  \n",
            "  inflating: images/keeshond_84.jpg  \n",
            "  inflating: images/keeshond_85.jpg  \n",
            "  inflating: images/keeshond_86.jpg  \n",
            "  inflating: images/keeshond_87.jpg  \n",
            "  inflating: images/keeshond_88.jpg  \n",
            "  inflating: images/keeshond_89.jpg  \n",
            "  inflating: images/keeshond_9.jpg   \n",
            "  inflating: images/keeshond_90.jpg  \n",
            "  inflating: images/keeshond_91.jpg  \n",
            "  inflating: images/keeshond_92.jpg  \n",
            "  inflating: images/keeshond_93.jpg  \n",
            "  inflating: images/keeshond_94.jpg  \n",
            "  inflating: images/keeshond_95.jpg  \n",
            "  inflating: images/keeshond_96.jpg  \n",
            "  inflating: images/keeshond_97.jpg  \n",
            "  inflating: images/keeshond_98.jpg  \n",
            "  inflating: images/keeshond_99.jpg  \n",
            "  inflating: images/leonberger_1.jpg  \n",
            "  inflating: images/leonberger_10.jpg  \n",
            "  inflating: images/leonberger_100.jpg  \n",
            "  inflating: images/leonberger_101.jpg  \n",
            "  inflating: images/leonberger_102.jpg  \n",
            "  inflating: images/leonberger_103.jpg  \n",
            "  inflating: images/leonberger_104.jpg  \n",
            "  inflating: images/leonberger_105.jpg  \n",
            "  inflating: images/leonberger_106.jpg  \n",
            "  inflating: images/leonberger_107.jpg  \n",
            "  inflating: images/leonberger_108.jpg  \n",
            "  inflating: images/leonberger_109.jpg  \n",
            "  inflating: images/leonberger_11.jpg  \n",
            "  inflating: images/leonberger_110.jpg  \n",
            "  inflating: images/leonberger_111.jpg  \n",
            "  inflating: images/leonberger_112.jpg  \n",
            "  inflating: images/leonberger_113.jpg  \n",
            "  inflating: images/leonberger_114.jpg  \n",
            "  inflating: images/leonberger_115.jpg  \n",
            "  inflating: images/leonberger_116.jpg  \n",
            "  inflating: images/leonberger_117.jpg  \n",
            "  inflating: images/leonberger_118.jpg  \n",
            "  inflating: images/leonberger_119.jpg  \n",
            "  inflating: images/leonberger_12.jpg  \n",
            "  inflating: images/leonberger_120.jpg  \n",
            "  inflating: images/leonberger_121.jpg  \n",
            "  inflating: images/leonberger_122.jpg  \n",
            "  inflating: images/leonberger_123.jpg  \n",
            "  inflating: images/leonberger_124.jpg  \n",
            "  inflating: images/leonberger_125.jpg  \n",
            "  inflating: images/leonberger_126.jpg  \n",
            "  inflating: images/leonberger_127.jpg  \n",
            "  inflating: images/leonberger_128.jpg  \n",
            "  inflating: images/leonberger_129.jpg  \n",
            "  inflating: images/leonberger_13.jpg  \n",
            "  inflating: images/leonberger_130.jpg  \n",
            "  inflating: images/leonberger_131.jpg  \n",
            "  inflating: images/leonberger_132.jpg  \n",
            "  inflating: images/leonberger_133.jpg  \n",
            "  inflating: images/leonberger_134.jpg  \n",
            "  inflating: images/leonberger_135.jpg  \n",
            "  inflating: images/leonberger_136.jpg  \n",
            "  inflating: images/leonberger_137.jpg  \n",
            "  inflating: images/leonberger_138.jpg  \n",
            "  inflating: images/leonberger_139.jpg  \n",
            "  inflating: images/leonberger_14.jpg  \n",
            "  inflating: images/leonberger_140.jpg  \n",
            "  inflating: images/leonberger_141.jpg  \n",
            "  inflating: images/leonberger_142.jpg  \n",
            "  inflating: images/leonberger_143.jpg  \n",
            "  inflating: images/leonberger_144.jpg  \n",
            "  inflating: images/leonberger_145.jpg  \n",
            "  inflating: images/leonberger_146.jpg  \n",
            "  inflating: images/leonberger_147.jpg  \n",
            "  inflating: images/leonberger_148.jpg  \n",
            "  inflating: images/leonberger_149.jpg  \n",
            "  inflating: images/leonberger_15.jpg  \n",
            "  inflating: images/leonberger_150.jpg  \n",
            "  inflating: images/leonberger_151.jpg  \n",
            "  inflating: images/leonberger_152.jpg  \n",
            "  inflating: images/leonberger_153.jpg  \n",
            "  inflating: images/leonberger_154.jpg  \n",
            "  inflating: images/leonberger_155.jpg  \n",
            "  inflating: images/leonberger_156.jpg  \n",
            "  inflating: images/leonberger_157.jpg  \n",
            "  inflating: images/leonberger_158.jpg  \n",
            "  inflating: images/leonberger_159.jpg  \n",
            "  inflating: images/leonberger_16.jpg  \n",
            "  inflating: images/leonberger_160.jpg  \n",
            "  inflating: images/leonberger_161.jpg  \n",
            "  inflating: images/leonberger_162.jpg  \n",
            "  inflating: images/leonberger_163.jpg  \n",
            "  inflating: images/leonberger_164.jpg  \n",
            "  inflating: images/leonberger_165.jpg  \n",
            "  inflating: images/leonberger_166.jpg  \n",
            "  inflating: images/leonberger_167.jpg  \n",
            "  inflating: images/leonberger_168.jpg  \n",
            "  inflating: images/leonberger_169.jpg  \n",
            "  inflating: images/leonberger_17.jpg  \n",
            "  inflating: images/leonberger_170.jpg  \n",
            "  inflating: images/leonberger_171.jpg  \n",
            "  inflating: images/leonberger_172.jpg  \n",
            "  inflating: images/leonberger_173.jpg  \n",
            "  inflating: images/leonberger_174.jpg  \n",
            "  inflating: images/leonberger_175.jpg  \n",
            "  inflating: images/leonberger_176.jpg  \n",
            "  inflating: images/leonberger_177.jpg  \n",
            "  inflating: images/leonberger_178.jpg  \n",
            "  inflating: images/leonberger_179.jpg  \n",
            "  inflating: images/leonberger_18.jpg  \n",
            "  inflating: images/leonberger_180.jpg  \n",
            "  inflating: images/leonberger_181.jpg  \n",
            "  inflating: images/leonberger_182.jpg  \n",
            "  inflating: images/leonberger_183.jpg  \n",
            "  inflating: images/leonberger_184.jpg  \n",
            "  inflating: images/leonberger_185.jpg  \n",
            "  inflating: images/leonberger_186.jpg  \n",
            "  inflating: images/leonberger_187.jpg  \n",
            "  inflating: images/leonberger_188.jpg  \n",
            "  inflating: images/leonberger_189.jpg  \n",
            "  inflating: images/leonberger_19.jpg  \n",
            "  inflating: images/leonberger_190.jpg  \n",
            "  inflating: images/leonberger_191.jpg  \n",
            "  inflating: images/leonberger_192.jpg  \n",
            "  inflating: images/leonberger_193.jpg  \n",
            "  inflating: images/leonberger_194.jpg  \n",
            "  inflating: images/leonberger_195.jpg  \n",
            "  inflating: images/leonberger_196.jpg  \n",
            "  inflating: images/leonberger_197.jpg  \n",
            "  inflating: images/leonberger_198.jpg  \n",
            "  inflating: images/leonberger_199.jpg  \n",
            "  inflating: images/leonberger_2.jpg  \n",
            "  inflating: images/leonberger_20.jpg  \n",
            "  inflating: images/leonberger_200.jpg  \n",
            "  inflating: images/leonberger_21.jpg  \n",
            "  inflating: images/leonberger_22.jpg  \n",
            "  inflating: images/leonberger_23.jpg  \n",
            "  inflating: images/leonberger_24.jpg  \n",
            "  inflating: images/leonberger_25.jpg  \n",
            "  inflating: images/leonberger_26.jpg  \n",
            "  inflating: images/leonberger_27.jpg  \n",
            "  inflating: images/leonberger_28.jpg  \n",
            "  inflating: images/leonberger_29.jpg  \n",
            "  inflating: images/leonberger_3.jpg  \n",
            "  inflating: images/leonberger_30.jpg  \n",
            "  inflating: images/leonberger_31.jpg  \n",
            "  inflating: images/leonberger_32.jpg  \n",
            "  inflating: images/leonberger_33.jpg  \n",
            "  inflating: images/leonberger_34.jpg  \n",
            "  inflating: images/leonberger_35.jpg  \n",
            "  inflating: images/leonberger_36.jpg  \n",
            "  inflating: images/leonberger_37.jpg  \n",
            "  inflating: images/leonberger_38.jpg  \n",
            "  inflating: images/leonberger_39.jpg  \n",
            "  inflating: images/leonberger_4.jpg  \n",
            "  inflating: images/leonberger_40.jpg  \n",
            "  inflating: images/leonberger_41.jpg  \n",
            "  inflating: images/leonberger_42.jpg  \n",
            "  inflating: images/leonberger_43.jpg  \n",
            "  inflating: images/leonberger_44.jpg  \n",
            "  inflating: images/leonberger_45.jpg  \n",
            "  inflating: images/leonberger_46.jpg  \n",
            "  inflating: images/leonberger_47.jpg  \n",
            "  inflating: images/leonberger_48.jpg  \n",
            "  inflating: images/leonberger_49.jpg  \n",
            "  inflating: images/leonberger_5.jpg  \n",
            "  inflating: images/leonberger_50.jpg  \n",
            "  inflating: images/leonberger_51.jpg  \n",
            "  inflating: images/leonberger_52.jpg  \n",
            "  inflating: images/leonberger_53.jpg  \n",
            "  inflating: images/leonberger_54.jpg  \n",
            "  inflating: images/leonberger_55.jpg  \n",
            "  inflating: images/leonberger_56.jpg  \n",
            "  inflating: images/leonberger_57.jpg  \n",
            "  inflating: images/leonberger_58.jpg  \n",
            "  inflating: images/leonberger_59.jpg  \n",
            "  inflating: images/leonberger_6.jpg  \n",
            "  inflating: images/leonberger_60.jpg  \n",
            "  inflating: images/leonberger_61.jpg  \n",
            "  inflating: images/leonberger_62.jpg  \n",
            "  inflating: images/leonberger_63.jpg  \n",
            "  inflating: images/leonberger_64.jpg  \n",
            "  inflating: images/leonberger_65.jpg  \n",
            "  inflating: images/leonberger_66.jpg  \n",
            "  inflating: images/leonberger_67.jpg  \n",
            "  inflating: images/leonberger_68.jpg  \n",
            "  inflating: images/leonberger_69.jpg  \n",
            "  inflating: images/leonberger_7.jpg  \n",
            "  inflating: images/leonberger_70.jpg  \n",
            "  inflating: images/leonberger_71.jpg  \n",
            "  inflating: images/leonberger_72.jpg  \n",
            "  inflating: images/leonberger_73.jpg  \n",
            "  inflating: images/leonberger_74.jpg  \n",
            "  inflating: images/leonberger_75.jpg  \n",
            "  inflating: images/leonberger_76.jpg  \n",
            "  inflating: images/leonberger_77.jpg  \n",
            "  inflating: images/leonberger_78.jpg  \n",
            "  inflating: images/leonberger_79.jpg  \n",
            "  inflating: images/leonberger_8.jpg  \n",
            "  inflating: images/leonberger_80.jpg  \n",
            "  inflating: images/leonberger_81.jpg  \n",
            "  inflating: images/leonberger_82.jpg  \n",
            "  inflating: images/leonberger_83.jpg  \n",
            "  inflating: images/leonberger_84.jpg  \n",
            "  inflating: images/leonberger_85.jpg  \n",
            "  inflating: images/leonberger_86.jpg  \n",
            "  inflating: images/leonberger_87.jpg  \n",
            "  inflating: images/leonberger_88.jpg  \n",
            "  inflating: images/leonberger_89.jpg  \n",
            "  inflating: images/leonberger_9.jpg  \n",
            "  inflating: images/leonberger_90.jpg  \n",
            "  inflating: images/leonberger_91.jpg  \n",
            "  inflating: images/leonberger_92.jpg  \n",
            "  inflating: images/leonberger_93.jpg  \n",
            "  inflating: images/leonberger_94.jpg  \n",
            "  inflating: images/leonberger_95.jpg  \n",
            "  inflating: images/leonberger_96.jpg  \n",
            "  inflating: images/leonberger_97.jpg  \n",
            "  inflating: images/leonberger_98.jpg  \n",
            "  inflating: images/leonberger_99.jpg  \n",
            "  inflating: images/Maine_Coon_1.jpg  \n",
            "  inflating: images/Maine_Coon_10.jpg  \n",
            "  inflating: images/Maine_Coon_100.jpg  \n",
            "  inflating: images/Maine_Coon_101.jpg  \n",
            "  inflating: images/Maine_Coon_102.jpg  \n",
            "  inflating: images/Maine_Coon_103.jpg  \n",
            "  inflating: images/Maine_Coon_104.jpg  \n",
            "  inflating: images/Maine_Coon_105.jpg  \n",
            "  inflating: images/Maine_Coon_106.jpg  \n",
            "  inflating: images/Maine_Coon_107.jpg  \n",
            "  inflating: images/Maine_Coon_108.jpg  \n",
            "  inflating: images/Maine_Coon_109.jpg  \n",
            "  inflating: images/Maine_Coon_110.jpg  \n",
            "  inflating: images/Maine_Coon_111.jpg  \n",
            "  inflating: images/Maine_Coon_112.jpg  \n",
            "  inflating: images/Maine_Coon_115.jpg  \n",
            "  inflating: images/Maine_Coon_116.jpg  \n",
            "  inflating: images/Maine_Coon_117.jpg  \n",
            "  inflating: images/Maine_Coon_119.jpg  \n",
            "  inflating: images/Maine_Coon_121.jpg  \n",
            "  inflating: images/Maine_Coon_123.jpg  \n",
            "  inflating: images/Maine_Coon_124.jpg  \n",
            "  inflating: images/Maine_Coon_126.jpg  \n",
            "  inflating: images/Maine_Coon_127.jpg  \n",
            "  inflating: images/Maine_Coon_128.jpg  \n",
            "  inflating: images/Maine_Coon_129.jpg  \n",
            "  inflating: images/Maine_Coon_13.jpg  \n",
            "  inflating: images/Maine_Coon_131.jpg  \n",
            "  inflating: images/Maine_Coon_132.jpg  \n",
            "  inflating: images/Maine_Coon_133.jpg  \n",
            "  inflating: images/Maine_Coon_134.jpg  \n",
            "  inflating: images/Maine_Coon_135.jpg  \n",
            "  inflating: images/Maine_Coon_136.jpg  \n",
            "  inflating: images/Maine_Coon_137.jpg  \n",
            "  inflating: images/Maine_Coon_138.jpg  \n",
            "  inflating: images/Maine_Coon_139.jpg  \n",
            "  inflating: images/Maine_Coon_14.jpg  \n",
            "  inflating: images/Maine_Coon_140.jpg  \n",
            "  inflating: images/Maine_Coon_141.jpg  \n",
            "  inflating: images/Maine_Coon_142.jpg  \n",
            "  inflating: images/Maine_Coon_143.jpg  \n",
            "  inflating: images/Maine_Coon_144.jpg  \n",
            "  inflating: images/Maine_Coon_145.jpg  \n",
            "  inflating: images/Maine_Coon_146.jpg  \n",
            "  inflating: images/Maine_Coon_147.jpg  \n",
            "  inflating: images/Maine_Coon_148.jpg  \n",
            "  inflating: images/Maine_Coon_149.jpg  \n",
            "  inflating: images/Maine_Coon_150.jpg  \n",
            "  inflating: images/Maine_Coon_151.jpg  \n",
            "  inflating: images/Maine_Coon_152.jpg  \n",
            "  inflating: images/Maine_Coon_153.jpg  \n",
            "  inflating: images/Maine_Coon_154.jpg  \n",
            "  inflating: images/Maine_Coon_155.jpg  \n",
            "  inflating: images/Maine_Coon_157.jpg  \n",
            "  inflating: images/Maine_Coon_158.jpg  \n",
            "  inflating: images/Maine_Coon_159.jpg  \n",
            "  inflating: images/Maine_Coon_16.jpg  \n",
            "  inflating: images/Maine_Coon_160.jpg  \n",
            "  inflating: images/Maine_Coon_161.jpg  \n",
            "  inflating: images/Maine_Coon_162.jpg  \n",
            "  inflating: images/Maine_Coon_163.jpg  \n",
            "  inflating: images/Maine_Coon_164.jpg  \n",
            "  inflating: images/Maine_Coon_167.jpg  \n",
            "  inflating: images/Maine_Coon_168.jpg  \n",
            "  inflating: images/Maine_Coon_169.jpg  \n",
            "  inflating: images/Maine_Coon_17.jpg  \n",
            "  inflating: images/Maine_Coon_170.jpg  \n",
            "  inflating: images/Maine_Coon_171.jpg  \n",
            "  inflating: images/Maine_Coon_173.jpg  \n",
            "  inflating: images/Maine_Coon_174.jpg  \n",
            "  inflating: images/Maine_Coon_175.jpg  \n",
            "  inflating: images/Maine_Coon_176.jpg  \n",
            "  inflating: images/Maine_Coon_18.jpg  \n",
            "  inflating: images/Maine_Coon_180.jpg  \n",
            "  inflating: images/Maine_Coon_182.jpg  \n",
            "  inflating: images/Maine_Coon_184.jpg  \n",
            "  inflating: images/Maine_Coon_186.jpg  \n",
            "  inflating: images/Maine_Coon_187.jpg  \n",
            "  inflating: images/Maine_Coon_189.jpg  \n",
            "  inflating: images/Maine_Coon_19.jpg  \n",
            "  inflating: images/Maine_Coon_191.jpg  \n",
            "  inflating: images/Maine_Coon_192.jpg  \n",
            "  inflating: images/Maine_Coon_193.jpg  \n",
            "  inflating: images/Maine_Coon_194.jpg  \n",
            "  inflating: images/Maine_Coon_195.jpg  \n",
            "  inflating: images/Maine_Coon_196.jpg  \n",
            "  inflating: images/Maine_Coon_197.jpg  \n",
            "  inflating: images/Maine_Coon_2.jpg  \n",
            "  inflating: images/Maine_Coon_201.jpg  \n",
            "  inflating: images/Maine_Coon_203.jpg  \n",
            "  inflating: images/Maine_Coon_204.jpg  \n",
            "  inflating: images/Maine_Coon_205.jpg  \n",
            "  inflating: images/Maine_Coon_206.jpg  \n",
            "  inflating: images/Maine_Coon_207.jpg  \n",
            "  inflating: images/Maine_Coon_208.jpg  \n",
            "  inflating: images/Maine_Coon_21.jpg  \n",
            "  inflating: images/Maine_Coon_210.jpg  \n",
            "  inflating: images/Maine_Coon_211.jpg  \n",
            "  inflating: images/Maine_Coon_213.jpg  \n",
            "  inflating: images/Maine_Coon_214.jpg  \n",
            "  inflating: images/Maine_Coon_217.jpg  \n",
            "  inflating: images/Maine_Coon_219.jpg  \n",
            "  inflating: images/Maine_Coon_222.jpg  \n",
            "  inflating: images/Maine_Coon_227.jpg  \n",
            "  inflating: images/Maine_Coon_23.jpg  \n",
            "  inflating: images/Maine_Coon_231.jpg  \n",
            "  inflating: images/Maine_Coon_238.jpg  \n",
            "  inflating: images/Maine_Coon_239.jpg  \n",
            "  inflating: images/Maine_Coon_24.jpg  \n",
            "  inflating: images/Maine_Coon_241.jpg  \n",
            "  inflating: images/Maine_Coon_242.jpg  \n",
            "  inflating: images/Maine_Coon_244.jpg  \n",
            "  inflating: images/Maine_Coon_245.jpg  \n",
            "  inflating: images/Maine_Coon_246.jpg  \n",
            "  inflating: images/Maine_Coon_247.jpg  \n",
            "  inflating: images/Maine_Coon_249.jpg  \n",
            "  inflating: images/Maine_Coon_25.jpg  \n",
            "  inflating: images/Maine_Coon_253.jpg  \n",
            "  inflating: images/Maine_Coon_254.jpg  \n",
            "  inflating: images/Maine_Coon_26.jpg  \n",
            "  inflating: images/Maine_Coon_262.jpg  \n",
            "  inflating: images/Maine_Coon_263.jpg  \n",
            "  inflating: images/Maine_Coon_264.jpg  \n",
            "  inflating: images/Maine_Coon_265.jpg  \n",
            "  inflating: images/Maine_Coon_266.jpg  \n",
            "  inflating: images/Maine_Coon_267.jpg  \n",
            "  inflating: images/Maine_Coon_268.jpg  \n",
            "  inflating: images/Maine_Coon_269.jpg  \n",
            "  inflating: images/Maine_Coon_27.jpg  \n",
            "  inflating: images/Maine_Coon_270.jpg  \n",
            "  inflating: images/Maine_Coon_271.jpg  \n",
            "  inflating: images/Maine_Coon_272.jpg  \n",
            "  inflating: images/Maine_Coon_28.jpg  \n",
            "  inflating: images/Maine_Coon_29.jpg  \n",
            "  inflating: images/Maine_Coon_3.jpg  \n",
            "  inflating: images/Maine_Coon_30.jpg  \n",
            "  inflating: images/Maine_Coon_31.jpg  \n",
            "  inflating: images/Maine_Coon_32.jpg  \n",
            "  inflating: images/Maine_Coon_33.jpg  \n",
            "  inflating: images/Maine_Coon_34.jpg  \n",
            "  inflating: images/Maine_Coon_35.jpg  \n",
            "  inflating: images/Maine_Coon_36.jpg  \n",
            "  inflating: images/Maine_Coon_37.jpg  \n",
            "  inflating: images/Maine_Coon_38.jpg  \n",
            "  inflating: images/Maine_Coon_39.jpg  \n",
            "  inflating: images/Maine_Coon_41.jpg  \n",
            "  inflating: images/Maine_Coon_42.jpg  \n",
            "  inflating: images/Maine_Coon_43.jpg  \n",
            "  inflating: images/Maine_Coon_44.jpg  \n",
            "  inflating: images/Maine_Coon_46.jpg  \n",
            "  inflating: images/Maine_Coon_47.jpg  \n",
            "  inflating: images/Maine_Coon_48.jpg  \n",
            "  inflating: images/Maine_Coon_49.jpg  \n",
            "  inflating: images/Maine_Coon_5.jpg  \n",
            "  inflating: images/Maine_Coon_50.jpg  \n",
            "  inflating: images/Maine_Coon_51.jpg  \n",
            "  inflating: images/Maine_Coon_52.jpg  \n",
            "  inflating: images/Maine_Coon_53.jpg  \n",
            "  inflating: images/Maine_Coon_54.jpg  \n",
            "  inflating: images/Maine_Coon_55.jpg  \n",
            "  inflating: images/Maine_Coon_56.jpg  \n",
            "  inflating: images/Maine_Coon_57.jpg  \n",
            "  inflating: images/Maine_Coon_58.jpg  \n",
            "  inflating: images/Maine_Coon_6.jpg  \n",
            "  inflating: images/Maine_Coon_60.jpg  \n",
            "  inflating: images/Maine_Coon_61.jpg  \n",
            "  inflating: images/Maine_Coon_63.jpg  \n",
            "  inflating: images/Maine_Coon_64.jpg  \n",
            "  inflating: images/Maine_Coon_66.jpg  \n",
            "  inflating: images/Maine_Coon_67.jpg  \n",
            "  inflating: images/Maine_Coon_68.jpg  \n",
            "  inflating: images/Maine_Coon_69.jpg  \n",
            "  inflating: images/Maine_Coon_7.jpg  \n",
            "  inflating: images/Maine_Coon_70.jpg  \n",
            "  inflating: images/Maine_Coon_71.jpg  \n",
            "  inflating: images/Maine_Coon_72.jpg  \n",
            "  inflating: images/Maine_Coon_75.jpg  \n",
            "  inflating: images/Maine_Coon_76.jpg  \n",
            "  inflating: images/Maine_Coon_77.jpg  \n",
            "  inflating: images/Maine_Coon_78.jpg  \n",
            "  inflating: images/Maine_Coon_79.jpg  \n",
            "  inflating: images/Maine_Coon_8.jpg  \n",
            "  inflating: images/Maine_Coon_80.jpg  \n",
            "  inflating: images/Maine_Coon_81.jpg  \n",
            "  inflating: images/Maine_Coon_82.jpg  \n",
            "  inflating: images/Maine_Coon_83.jpg  \n",
            "  inflating: images/Maine_Coon_84.jpg  \n",
            "  inflating: images/Maine_Coon_85.jpg  \n",
            "  inflating: images/Maine_Coon_87.jpg  \n",
            "  inflating: images/Maine_Coon_89.jpg  \n",
            "  inflating: images/Maine_Coon_9.jpg  \n",
            "  inflating: images/Maine_Coon_91.jpg  \n",
            "  inflating: images/Maine_Coon_92.jpg  \n",
            "  inflating: images/Maine_Coon_93.jpg  \n",
            "  inflating: images/Maine_Coon_94.jpg  \n",
            "  inflating: images/Maine_Coon_95.jpg  \n",
            "  inflating: images/Maine_Coon_96.jpg  \n",
            "  inflating: images/Maine_Coon_97.jpg  \n",
            "  inflating: images/Maine_Coon_98.jpg  \n",
            "  inflating: images/Maine_Coon_99.jpg  \n",
            "  inflating: images/miniature_pinscher_1.jpg  \n",
            "  inflating: images/miniature_pinscher_10.jpg  \n",
            "  inflating: images/miniature_pinscher_100.jpg  \n",
            "  inflating: images/miniature_pinscher_101.jpg  \n",
            "  inflating: images/miniature_pinscher_102.jpg  \n",
            "  inflating: images/miniature_pinscher_103.jpg  \n",
            "  inflating: images/miniature_pinscher_104.jpg  \n",
            "  inflating: images/miniature_pinscher_105.jpg  \n",
            "  inflating: images/miniature_pinscher_106.jpg  \n",
            "  inflating: images/miniature_pinscher_107.jpg  \n",
            "  inflating: images/miniature_pinscher_108.jpg  \n",
            "  inflating: images/miniature_pinscher_109.jpg  \n",
            "  inflating: images/miniature_pinscher_11.jpg  \n",
            "  inflating: images/miniature_pinscher_110.jpg  \n",
            "  inflating: images/miniature_pinscher_111.jpg  \n",
            "  inflating: images/miniature_pinscher_112.jpg  \n",
            "  inflating: images/miniature_pinscher_113.jpg  \n",
            "  inflating: images/miniature_pinscher_114.jpg  \n",
            "  inflating: images/miniature_pinscher_115.jpg  \n",
            "  inflating: images/miniature_pinscher_116.jpg  \n",
            "  inflating: images/miniature_pinscher_117.jpg  \n",
            "  inflating: images/miniature_pinscher_118.jpg  \n",
            "  inflating: images/miniature_pinscher_119.jpg  \n",
            "  inflating: images/miniature_pinscher_12.jpg  \n",
            "  inflating: images/miniature_pinscher_120.jpg  \n",
            "  inflating: images/miniature_pinscher_121.jpg  \n",
            "  inflating: images/miniature_pinscher_122.jpg  \n",
            "  inflating: images/miniature_pinscher_123.jpg  \n",
            "  inflating: images/miniature_pinscher_124.jpg  \n",
            "  inflating: images/miniature_pinscher_125.jpg  \n",
            "  inflating: images/miniature_pinscher_126.jpg  \n",
            "  inflating: images/miniature_pinscher_127.jpg  \n",
            "  inflating: images/miniature_pinscher_128.jpg  \n",
            "  inflating: images/miniature_pinscher_129.jpg  \n",
            "  inflating: images/miniature_pinscher_13.jpg  \n",
            "  inflating: images/miniature_pinscher_130.jpg  \n",
            "  inflating: images/miniature_pinscher_131.jpg  \n",
            "  inflating: images/miniature_pinscher_132.jpg  \n",
            "  inflating: images/miniature_pinscher_133.jpg  \n",
            "  inflating: images/miniature_pinscher_134.jpg  \n",
            "  inflating: images/miniature_pinscher_135.jpg  \n",
            "  inflating: images/miniature_pinscher_136.jpg  \n",
            "  inflating: images/miniature_pinscher_137.jpg  \n",
            "  inflating: images/miniature_pinscher_138.jpg  \n",
            "  inflating: images/miniature_pinscher_139.jpg  \n",
            "  inflating: images/miniature_pinscher_14.jpg  \n",
            "  inflating: images/miniature_pinscher_140.jpg  \n",
            "  inflating: images/miniature_pinscher_141.jpg  \n",
            "  inflating: images/miniature_pinscher_142.jpg  \n",
            "  inflating: images/miniature_pinscher_143.jpg  \n",
            "  inflating: images/miniature_pinscher_144.jpg  \n",
            "  inflating: images/miniature_pinscher_145.jpg  \n",
            "  inflating: images/miniature_pinscher_146.jpg  \n",
            "  inflating: images/miniature_pinscher_147.jpg  \n",
            "  inflating: images/miniature_pinscher_148.jpg  \n",
            "  inflating: images/miniature_pinscher_149.jpg  \n",
            "  inflating: images/miniature_pinscher_15.jpg  \n",
            "  inflating: images/miniature_pinscher_150.jpg  \n",
            "  inflating: images/miniature_pinscher_151.jpg  \n",
            "  inflating: images/miniature_pinscher_152.jpg  \n",
            "  inflating: images/miniature_pinscher_153.jpg  \n",
            "  inflating: images/miniature_pinscher_154.jpg  \n",
            "  inflating: images/miniature_pinscher_155.jpg  \n",
            "  inflating: images/miniature_pinscher_156.jpg  \n",
            "  inflating: images/miniature_pinscher_157.jpg  \n",
            "  inflating: images/miniature_pinscher_158.jpg  \n",
            "  inflating: images/miniature_pinscher_159.jpg  \n",
            "  inflating: images/miniature_pinscher_16.jpg  \n",
            "  inflating: images/miniature_pinscher_160.jpg  \n",
            "  inflating: images/miniature_pinscher_161.jpg  \n",
            "  inflating: images/miniature_pinscher_162.jpg  \n",
            "  inflating: images/miniature_pinscher_163.jpg  \n",
            "  inflating: images/miniature_pinscher_164.jpg  \n",
            "  inflating: images/miniature_pinscher_165.jpg  \n",
            "  inflating: images/miniature_pinscher_166.jpg  \n",
            "  inflating: images/miniature_pinscher_167.jpg  \n",
            "  inflating: images/miniature_pinscher_168.jpg  \n",
            "  inflating: images/miniature_pinscher_169.jpg  \n",
            "  inflating: images/miniature_pinscher_17.jpg  \n",
            "  inflating: images/miniature_pinscher_170.jpg  \n",
            "  inflating: images/miniature_pinscher_171.jpg  \n",
            "  inflating: images/miniature_pinscher_172.jpg  \n",
            "  inflating: images/miniature_pinscher_173.jpg  \n",
            "  inflating: images/miniature_pinscher_174.jpg  \n",
            "  inflating: images/miniature_pinscher_175.jpg  \n",
            "  inflating: images/miniature_pinscher_176.jpg  \n",
            "  inflating: images/miniature_pinscher_177.jpg  \n",
            "  inflating: images/miniature_pinscher_178.jpg  \n",
            "  inflating: images/miniature_pinscher_179.jpg  \n",
            "  inflating: images/miniature_pinscher_18.jpg  \n",
            "  inflating: images/miniature_pinscher_180.jpg  \n",
            "  inflating: images/miniature_pinscher_181.jpg  \n",
            "  inflating: images/miniature_pinscher_182.jpg  \n",
            "  inflating: images/miniature_pinscher_183.jpg  \n",
            "  inflating: images/miniature_pinscher_184.jpg  \n",
            "  inflating: images/miniature_pinscher_185.jpg  \n",
            "  inflating: images/miniature_pinscher_186.jpg  \n",
            "  inflating: images/miniature_pinscher_187.jpg  \n",
            "  inflating: images/miniature_pinscher_188.jpg  \n",
            "  inflating: images/miniature_pinscher_189.jpg  \n",
            "  inflating: images/miniature_pinscher_19.jpg  \n",
            "  inflating: images/miniature_pinscher_190.jpg  \n",
            "  inflating: images/miniature_pinscher_191.jpg  \n",
            "  inflating: images/miniature_pinscher_192.jpg  \n",
            "  inflating: images/miniature_pinscher_193.jpg  \n",
            "  inflating: images/miniature_pinscher_194.jpg  \n",
            "  inflating: images/miniature_pinscher_195.jpg  \n",
            "  inflating: images/miniature_pinscher_196.jpg  \n",
            "  inflating: images/miniature_pinscher_197.jpg  \n",
            "  inflating: images/miniature_pinscher_198.jpg  \n",
            "  inflating: images/miniature_pinscher_199.jpg  \n",
            "  inflating: images/miniature_pinscher_2.jpg  \n",
            "  inflating: images/miniature_pinscher_20.jpg  \n",
            "  inflating: images/miniature_pinscher_200.jpg  \n",
            "  inflating: images/miniature_pinscher_21.jpg  \n",
            "  inflating: images/miniature_pinscher_22.jpg  \n",
            "  inflating: images/miniature_pinscher_23.jpg  \n",
            "  inflating: images/miniature_pinscher_24.jpg  \n",
            "  inflating: images/miniature_pinscher_25.jpg  \n",
            "  inflating: images/miniature_pinscher_26.jpg  \n",
            "  inflating: images/miniature_pinscher_27.jpg  \n",
            "  inflating: images/miniature_pinscher_28.jpg  \n",
            "  inflating: images/miniature_pinscher_29.jpg  \n",
            "  inflating: images/miniature_pinscher_3.jpg  \n",
            "  inflating: images/miniature_pinscher_30.jpg  \n",
            "  inflating: images/miniature_pinscher_31.jpg  \n",
            "  inflating: images/miniature_pinscher_32.jpg  \n",
            "  inflating: images/miniature_pinscher_33.jpg  \n",
            "  inflating: images/miniature_pinscher_34.jpg  \n",
            "  inflating: images/miniature_pinscher_35.jpg  \n",
            "  inflating: images/miniature_pinscher_36.jpg  \n",
            "  inflating: images/miniature_pinscher_37.jpg  \n",
            "  inflating: images/miniature_pinscher_38.jpg  \n",
            "  inflating: images/miniature_pinscher_39.jpg  \n",
            "  inflating: images/miniature_pinscher_4.jpg  \n",
            "  inflating: images/miniature_pinscher_40.jpg  \n",
            "  inflating: images/miniature_pinscher_41.jpg  \n",
            "  inflating: images/miniature_pinscher_42.jpg  \n",
            "  inflating: images/miniature_pinscher_43.jpg  \n",
            "  inflating: images/miniature_pinscher_44.jpg  \n",
            "  inflating: images/miniature_pinscher_45.jpg  \n",
            "  inflating: images/miniature_pinscher_46.jpg  \n",
            "  inflating: images/miniature_pinscher_47.jpg  \n",
            "  inflating: images/miniature_pinscher_48.jpg  \n",
            "  inflating: images/miniature_pinscher_49.jpg  \n",
            "  inflating: images/miniature_pinscher_5.jpg  \n",
            "  inflating: images/miniature_pinscher_50.jpg  \n",
            "  inflating: images/miniature_pinscher_51.jpg  \n",
            "  inflating: images/miniature_pinscher_52.jpg  \n",
            "  inflating: images/miniature_pinscher_53.jpg  \n",
            "  inflating: images/miniature_pinscher_54.jpg  \n",
            "  inflating: images/miniature_pinscher_55.jpg  \n",
            "  inflating: images/miniature_pinscher_56.jpg  \n",
            "  inflating: images/miniature_pinscher_57.jpg  \n",
            "  inflating: images/miniature_pinscher_58.jpg  \n",
            "  inflating: images/miniature_pinscher_59.jpg  \n",
            "  inflating: images/miniature_pinscher_6.jpg  \n",
            "  inflating: images/miniature_pinscher_60.jpg  \n",
            "  inflating: images/miniature_pinscher_61.jpg  \n",
            "  inflating: images/miniature_pinscher_62.jpg  \n",
            "  inflating: images/miniature_pinscher_63.jpg  \n",
            "  inflating: images/miniature_pinscher_64.jpg  \n",
            "  inflating: images/miniature_pinscher_65.jpg  \n",
            "  inflating: images/miniature_pinscher_66.jpg  \n",
            "  inflating: images/miniature_pinscher_67.jpg  \n",
            "  inflating: images/miniature_pinscher_68.jpg  \n",
            "  inflating: images/miniature_pinscher_69.jpg  \n",
            "  inflating: images/miniature_pinscher_7.jpg  \n",
            "  inflating: images/miniature_pinscher_70.jpg  \n",
            "  inflating: images/miniature_pinscher_71.jpg  \n",
            "  inflating: images/miniature_pinscher_72.jpg  \n",
            "  inflating: images/miniature_pinscher_73.jpg  \n",
            "  inflating: images/miniature_pinscher_74.jpg  \n",
            "  inflating: images/miniature_pinscher_75.jpg  \n",
            "  inflating: images/miniature_pinscher_76.jpg  \n",
            "  inflating: images/miniature_pinscher_77.jpg  \n",
            "  inflating: images/miniature_pinscher_78.jpg  \n",
            "  inflating: images/miniature_pinscher_79.jpg  \n",
            "  inflating: images/miniature_pinscher_8.jpg  \n",
            "  inflating: images/miniature_pinscher_80.jpg  \n",
            "  inflating: images/miniature_pinscher_81.jpg  \n",
            "  inflating: images/miniature_pinscher_82.jpg  \n",
            "  inflating: images/miniature_pinscher_83.jpg  \n",
            "  inflating: images/miniature_pinscher_84.jpg  \n",
            "  inflating: images/miniature_pinscher_85.jpg  \n",
            "  inflating: images/miniature_pinscher_86.jpg  \n",
            "  inflating: images/miniature_pinscher_87.jpg  \n",
            "  inflating: images/miniature_pinscher_88.jpg  \n",
            "  inflating: images/miniature_pinscher_89.jpg  \n",
            "  inflating: images/miniature_pinscher_9.jpg  \n",
            "  inflating: images/miniature_pinscher_90.jpg  \n",
            "  inflating: images/miniature_pinscher_91.jpg  \n",
            "  inflating: images/miniature_pinscher_92.jpg  \n",
            "  inflating: images/miniature_pinscher_93.jpg  \n",
            "  inflating: images/miniature_pinscher_94.jpg  \n",
            "  inflating: images/miniature_pinscher_95.jpg  \n",
            "  inflating: images/miniature_pinscher_96.jpg  \n",
            "  inflating: images/miniature_pinscher_97.jpg  \n",
            "  inflating: images/miniature_pinscher_98.jpg  \n",
            "  inflating: images/miniature_pinscher_99.jpg  \n",
            "  inflating: images/newfoundland_1.jpg  \n",
            "  inflating: images/newfoundland_10.jpg  \n",
            "  inflating: images/newfoundland_100.jpg  \n",
            "  inflating: images/newfoundland_101.jpg  \n",
            "  inflating: images/newfoundland_102.jpg  \n",
            "  inflating: images/newfoundland_103.jpg  \n",
            "  inflating: images/newfoundland_104.jpg  \n",
            "  inflating: images/newfoundland_105.jpg  \n",
            "  inflating: images/newfoundland_106.jpg  \n",
            "  inflating: images/newfoundland_107.jpg  \n",
            "  inflating: images/newfoundland_108.jpg  \n",
            "  inflating: images/newfoundland_109.jpg  \n",
            "  inflating: images/newfoundland_11.jpg  \n",
            "  inflating: images/newfoundland_110.jpg  \n",
            "  inflating: images/newfoundland_111.jpg  \n",
            "  inflating: images/newfoundland_112.jpg  \n",
            "  inflating: images/newfoundland_113.jpg  \n",
            "  inflating: images/newfoundland_114.jpg  \n",
            "  inflating: images/newfoundland_115.jpg  \n",
            "  inflating: images/newfoundland_116.jpg  \n",
            "  inflating: images/newfoundland_117.jpg  \n",
            "  inflating: images/newfoundland_118.jpg  \n",
            "  inflating: images/newfoundland_119.jpg  \n",
            "  inflating: images/newfoundland_12.jpg  \n",
            "  inflating: images/newfoundland_120.jpg  \n",
            "  inflating: images/newfoundland_121.jpg  \n",
            "  inflating: images/newfoundland_122.jpg  \n",
            "  inflating: images/newfoundland_123.jpg  \n",
            "  inflating: images/newfoundland_124.jpg  \n",
            "  inflating: images/newfoundland_125.jpg  \n",
            "  inflating: images/newfoundland_126.jpg  \n",
            "  inflating: images/newfoundland_127.jpg  \n",
            "  inflating: images/newfoundland_128.jpg  \n",
            "  inflating: images/newfoundland_129.jpg  \n",
            "  inflating: images/newfoundland_13.jpg  \n",
            "  inflating: images/newfoundland_130.jpg  \n",
            "  inflating: images/newfoundland_131.jpg  \n",
            "  inflating: images/newfoundland_132.jpg  \n",
            "  inflating: images/newfoundland_133.jpg  \n",
            "  inflating: images/newfoundland_134.jpg  \n",
            "  inflating: images/newfoundland_135.jpg  \n",
            "  inflating: images/newfoundland_136.jpg  \n",
            "  inflating: images/newfoundland_137.jpg  \n",
            "  inflating: images/newfoundland_138.jpg  \n",
            "  inflating: images/newfoundland_139.jpg  \n",
            "  inflating: images/newfoundland_14.jpg  \n",
            "  inflating: images/newfoundland_140.jpg  \n",
            "  inflating: images/newfoundland_141.jpg  \n",
            "  inflating: images/newfoundland_142.jpg  \n",
            "  inflating: images/newfoundland_143.jpg  \n",
            "  inflating: images/newfoundland_144.jpg  \n",
            "  inflating: images/newfoundland_145.jpg  \n",
            "  inflating: images/newfoundland_146.jpg  \n",
            "  inflating: images/newfoundland_147.jpg  \n",
            "  inflating: images/newfoundland_148.jpg  \n",
            "  inflating: images/newfoundland_149.jpg  \n",
            "  inflating: images/newfoundland_15.jpg  \n",
            "  inflating: images/newfoundland_150.jpg  \n",
            "  inflating: images/newfoundland_151.jpg  \n",
            "  inflating: images/newfoundland_152.jpg  \n",
            "  inflating: images/newfoundland_153.jpg  \n",
            "  inflating: images/newfoundland_154.jpg  \n",
            "  inflating: images/newfoundland_155.jpg  \n",
            "  inflating: images/newfoundland_156.jpg  \n",
            "  inflating: images/newfoundland_157.jpg  \n",
            "  inflating: images/newfoundland_158.jpg  \n",
            "  inflating: images/newfoundland_159.jpg  \n",
            "  inflating: images/newfoundland_16.jpg  \n",
            "  inflating: images/newfoundland_160.jpg  \n",
            "  inflating: images/newfoundland_161.jpg  \n",
            "  inflating: images/newfoundland_162.jpg  \n",
            "  inflating: images/newfoundland_163.jpg  \n",
            "  inflating: images/newfoundland_164.jpg  \n",
            "  inflating: images/newfoundland_165.jpg  \n",
            "  inflating: images/newfoundland_166.jpg  \n",
            "  inflating: images/newfoundland_167.jpg  \n",
            "  inflating: images/newfoundland_168.jpg  \n",
            "  inflating: images/newfoundland_169.jpg  \n",
            "  inflating: images/newfoundland_17.jpg  \n",
            "  inflating: images/newfoundland_170.jpg  \n",
            "  inflating: images/newfoundland_171.jpg  \n",
            "  inflating: images/newfoundland_172.jpg  \n",
            "  inflating: images/newfoundland_173.jpg  \n",
            "  inflating: images/newfoundland_174.jpg  \n",
            "  inflating: images/newfoundland_175.jpg  \n",
            "  inflating: images/newfoundland_176.jpg  \n",
            "  inflating: images/newfoundland_177.jpg  \n",
            "  inflating: images/newfoundland_178.jpg  \n",
            "  inflating: images/newfoundland_179.jpg  \n",
            "  inflating: images/newfoundland_18.jpg  \n",
            "  inflating: images/newfoundland_180.jpg  \n",
            "  inflating: images/newfoundland_181.jpg  \n",
            "  inflating: images/newfoundland_182.jpg  \n",
            "  inflating: images/newfoundland_183.jpg  \n",
            "  inflating: images/newfoundland_184.jpg  \n",
            "  inflating: images/newfoundland_185.jpg  \n",
            "  inflating: images/newfoundland_186.jpg  \n",
            "  inflating: images/newfoundland_187.jpg  \n",
            "  inflating: images/newfoundland_188.jpg  \n",
            "  inflating: images/newfoundland_189.jpg  \n",
            "  inflating: images/newfoundland_19.jpg  \n",
            "  inflating: images/newfoundland_190.jpg  \n",
            "  inflating: images/newfoundland_191.jpg  \n",
            "  inflating: images/newfoundland_192.jpg  \n",
            "  inflating: images/newfoundland_193.jpg  \n",
            "  inflating: images/newfoundland_194.jpg  \n",
            "  inflating: images/newfoundland_195.jpg  \n",
            "  inflating: images/newfoundland_196.jpg  \n",
            "  inflating: images/newfoundland_197.jpg  \n",
            "  inflating: images/newfoundland_198.jpg  \n",
            "  inflating: images/newfoundland_199.jpg  \n",
            "  inflating: images/newfoundland_2.jpg  \n",
            "  inflating: images/newfoundland_20.jpg  \n",
            "  inflating: images/newfoundland_200.jpg  \n",
            "  inflating: images/newfoundland_21.jpg  \n",
            "  inflating: images/newfoundland_22.jpg  \n",
            "  inflating: images/newfoundland_23.jpg  \n",
            "  inflating: images/newfoundland_24.jpg  \n",
            "  inflating: images/newfoundland_25.jpg  \n",
            "  inflating: images/newfoundland_26.jpg  \n",
            "  inflating: images/newfoundland_27.jpg  \n",
            "  inflating: images/newfoundland_28.jpg  \n",
            "  inflating: images/newfoundland_29.jpg  \n",
            "  inflating: images/newfoundland_3.jpg  \n",
            "  inflating: images/newfoundland_30.jpg  \n",
            "  inflating: images/newfoundland_31.jpg  \n",
            "  inflating: images/newfoundland_32.jpg  \n",
            "  inflating: images/newfoundland_33.jpg  \n",
            "  inflating: images/newfoundland_34.jpg  \n",
            "  inflating: images/newfoundland_35.jpg  \n",
            "  inflating: images/newfoundland_36.jpg  \n",
            "  inflating: images/newfoundland_37.jpg  \n",
            "  inflating: images/newfoundland_38.jpg  \n",
            "  inflating: images/newfoundland_39.jpg  \n",
            "  inflating: images/newfoundland_4.jpg  \n",
            "  inflating: images/newfoundland_40.jpg  \n",
            "  inflating: images/newfoundland_41.jpg  \n",
            "  inflating: images/newfoundland_42.jpg  \n",
            "  inflating: images/newfoundland_43.jpg  \n",
            "  inflating: images/newfoundland_44.jpg  \n",
            "  inflating: images/newfoundland_45.jpg  \n",
            "  inflating: images/newfoundland_46.jpg  \n",
            "  inflating: images/newfoundland_47.jpg  \n",
            "  inflating: images/newfoundland_48.jpg  \n",
            "  inflating: images/newfoundland_49.jpg  \n",
            "  inflating: images/newfoundland_5.jpg  \n",
            "  inflating: images/newfoundland_50.jpg  \n",
            "  inflating: images/newfoundland_51.jpg  \n",
            "  inflating: images/newfoundland_52.jpg  \n",
            "  inflating: images/newfoundland_53.jpg  \n",
            "  inflating: images/newfoundland_54.jpg  \n",
            "  inflating: images/newfoundland_55.jpg  \n",
            "  inflating: images/newfoundland_56.jpg  \n",
            "  inflating: images/newfoundland_57.jpg  \n",
            "  inflating: images/newfoundland_58.jpg  \n",
            "  inflating: images/newfoundland_59.jpg  \n",
            "  inflating: images/newfoundland_6.jpg  \n",
            "  inflating: images/newfoundland_60.jpg  \n",
            "  inflating: images/newfoundland_61.jpg  \n",
            "  inflating: images/newfoundland_62.jpg  \n",
            "  inflating: images/newfoundland_63.jpg  \n",
            "  inflating: images/newfoundland_64.jpg  \n",
            "  inflating: images/newfoundland_65.jpg  \n",
            "  inflating: images/newfoundland_66.jpg  \n",
            "  inflating: images/newfoundland_67.jpg  \n",
            "  inflating: images/newfoundland_68.jpg  \n",
            "  inflating: images/newfoundland_69.jpg  \n",
            "  inflating: images/newfoundland_7.jpg  \n",
            "  inflating: images/newfoundland_70.jpg  \n",
            "  inflating: images/newfoundland_71.jpg  \n",
            "  inflating: images/newfoundland_72.jpg  \n",
            "  inflating: images/newfoundland_73.jpg  \n",
            "  inflating: images/newfoundland_74.jpg  \n",
            "  inflating: images/newfoundland_75.jpg  \n",
            "  inflating: images/newfoundland_76.jpg  \n",
            "  inflating: images/newfoundland_77.jpg  \n",
            "  inflating: images/newfoundland_78.jpg  \n",
            "  inflating: images/newfoundland_79.jpg  \n",
            "  inflating: images/newfoundland_8.jpg  \n",
            "  inflating: images/newfoundland_80.jpg  \n",
            "  inflating: images/newfoundland_81.jpg  \n",
            "  inflating: images/newfoundland_82.jpg  \n",
            "  inflating: images/newfoundland_83.jpg  \n",
            "  inflating: images/newfoundland_84.jpg  \n",
            "  inflating: images/newfoundland_85.jpg  \n",
            "  inflating: images/newfoundland_86.jpg  \n",
            "  inflating: images/newfoundland_87.jpg  \n",
            "  inflating: images/newfoundland_88.jpg  \n",
            "  inflating: images/newfoundland_89.jpg  \n",
            "  inflating: images/newfoundland_9.jpg  \n",
            "  inflating: images/newfoundland_90.jpg  \n",
            "  inflating: images/newfoundland_91.jpg  \n",
            "  inflating: images/newfoundland_92.jpg  \n",
            "  inflating: images/newfoundland_93.jpg  \n",
            "  inflating: images/newfoundland_94.jpg  \n",
            "  inflating: images/newfoundland_95.jpg  \n",
            "  inflating: images/newfoundland_96.jpg  \n",
            "  inflating: images/newfoundland_97.jpg  \n",
            "  inflating: images/newfoundland_98.jpg  \n",
            "  inflating: images/newfoundland_99.jpg  \n",
            "  inflating: images/Persian_1.jpg    \n",
            "  inflating: images/Persian_10.jpg   \n",
            "  inflating: images/Persian_100.jpg  \n",
            "  inflating: images/Persian_101.jpg  \n",
            "  inflating: images/Persian_102.jpg  \n",
            "  inflating: images/Persian_103.jpg  \n",
            "  inflating: images/Persian_104.jpg  \n",
            "  inflating: images/Persian_105.jpg  \n",
            "  inflating: images/Persian_106.jpg  \n",
            "  inflating: images/Persian_107.jpg  \n",
            "  inflating: images/Persian_108.jpg  \n",
            "  inflating: images/Persian_11.jpg   \n",
            "  inflating: images/Persian_111.jpg  \n",
            "  inflating: images/Persian_112.jpg  \n",
            "  inflating: images/Persian_114.jpg  \n",
            "  inflating: images/Persian_115.jpg  \n",
            "  inflating: images/Persian_116.jpg  \n",
            "  inflating: images/Persian_117.jpg  \n",
            "  inflating: images/Persian_118.jpg  \n",
            "  inflating: images/Persian_12.jpg   \n",
            "  inflating: images/Persian_120.jpg  \n",
            "  inflating: images/Persian_121.jpg  \n",
            "  inflating: images/Persian_122.jpg  \n",
            "  inflating: images/Persian_123.jpg  \n",
            "  inflating: images/Persian_125.jpg  \n",
            "  inflating: images/Persian_126.jpg  \n",
            "  inflating: images/Persian_128.jpg  \n",
            "  inflating: images/Persian_129.jpg  \n",
            "  inflating: images/Persian_13.jpg   \n",
            "  inflating: images/Persian_131.jpg  \n",
            "  inflating: images/Persian_132.jpg  \n",
            "  inflating: images/Persian_133.jpg  \n",
            "  inflating: images/Persian_134.jpg  \n",
            "  inflating: images/Persian_135.jpg  \n",
            "  inflating: images/Persian_136.jpg  \n",
            "  inflating: images/Persian_137.jpg  \n",
            "  inflating: images/Persian_138.jpg  \n",
            "  inflating: images/Persian_139.jpg  \n",
            "  inflating: images/Persian_14.jpg   \n",
            "  inflating: images/Persian_140.jpg  \n",
            "  inflating: images/Persian_141.jpg  \n",
            "  inflating: images/Persian_143.jpg  \n",
            "  inflating: images/Persian_144.jpg  \n",
            "  inflating: images/Persian_145.jpg  \n",
            "  inflating: images/Persian_147.jpg  \n",
            "  inflating: images/Persian_149.jpg  \n",
            "  inflating: images/Persian_15.jpg   \n",
            "  inflating: images/Persian_150.jpg  \n",
            "  inflating: images/Persian_152.jpg  \n",
            "  inflating: images/Persian_153.jpg  \n",
            "  inflating: images/Persian_155.jpg  \n",
            "  inflating: images/Persian_156.jpg  \n",
            "  inflating: images/Persian_158.jpg  \n",
            "  inflating: images/Persian_159.jpg  \n",
            "  inflating: images/Persian_16.jpg   \n",
            "  inflating: images/Persian_160.jpg  \n",
            "  inflating: images/Persian_161.jpg  \n",
            "  inflating: images/Persian_162.jpg  \n",
            "  inflating: images/Persian_163.jpg  \n",
            "  inflating: images/Persian_164.jpg  \n",
            "  inflating: images/Persian_165.jpg  \n",
            "  inflating: images/Persian_166.jpg  \n",
            "  inflating: images/Persian_168.jpg  \n",
            "  inflating: images/Persian_169.jpg  \n",
            "  inflating: images/Persian_17.jpg   \n",
            "  inflating: images/Persian_170.jpg  \n",
            "  inflating: images/Persian_171.jpg  \n",
            "  inflating: images/Persian_172.jpg  \n",
            "  inflating: images/Persian_173.jpg  \n",
            "  inflating: images/Persian_174.jpg  \n",
            "  inflating: images/Persian_175.jpg  \n",
            "  inflating: images/Persian_176.jpg  \n",
            "  inflating: images/Persian_179.jpg  \n",
            "  inflating: images/Persian_18.jpg   \n",
            "  inflating: images/Persian_180.jpg  \n",
            "  inflating: images/Persian_181.jpg  \n",
            "  inflating: images/Persian_182.jpg  \n",
            "  inflating: images/Persian_183.jpg  \n",
            "  inflating: images/Persian_184.jpg  \n",
            "  inflating: images/Persian_185.jpg  \n",
            "  inflating: images/Persian_186.jpg  \n",
            "  inflating: images/Persian_187.jpg  \n",
            "  inflating: images/Persian_188.jpg  \n",
            "  inflating: images/Persian_189.jpg  \n",
            "  inflating: images/Persian_19.jpg   \n",
            "  inflating: images/Persian_190.jpg  \n",
            "  inflating: images/Persian_191.jpg  \n",
            "  inflating: images/Persian_192.jpg  \n",
            "  inflating: images/Persian_193.jpg  \n",
            "  inflating: images/Persian_194.jpg  \n",
            "  inflating: images/Persian_195.jpg  \n",
            "  inflating: images/Persian_196.jpg  \n",
            "  inflating: images/Persian_197.jpg  \n",
            "  inflating: images/Persian_2.jpg    \n",
            "  inflating: images/Persian_20.jpg   \n",
            "  inflating: images/Persian_200.jpg  \n",
            "  inflating: images/Persian_201.jpg  \n",
            "  inflating: images/Persian_202.jpg  \n",
            "  inflating: images/Persian_206.jpg  \n",
            "  inflating: images/Persian_21.jpg   \n",
            "  inflating: images/Persian_213.jpg  \n",
            "  inflating: images/Persian_217.jpg  \n",
            "  inflating: images/Persian_22.jpg   \n",
            "  inflating: images/Persian_221.jpg  \n",
            "  inflating: images/Persian_224.jpg  \n",
            "  inflating: images/Persian_228.jpg  \n",
            "  inflating: images/Persian_233.jpg  \n",
            "  inflating: images/Persian_239.jpg  \n",
            "  inflating: images/Persian_25.jpg   \n",
            "  inflating: images/Persian_255.jpg  \n",
            "  inflating: images/Persian_256.jpg  \n",
            "  inflating: images/Persian_257.jpg  \n",
            "  inflating: images/Persian_258.jpg  \n",
            "  inflating: images/Persian_259.jpg  \n",
            "  inflating: images/Persian_26.jpg   \n",
            "  inflating: images/Persian_260.jpg  \n",
            "  inflating: images/Persian_261.jpg  \n",
            "  inflating: images/Persian_262.jpg  \n",
            "  inflating: images/Persian_263.jpg  \n",
            "  inflating: images/Persian_264.jpg  \n",
            "  inflating: images/Persian_265.jpg  \n",
            "  inflating: images/Persian_266.jpg  \n",
            "  inflating: images/Persian_267.jpg  \n",
            "  inflating: images/Persian_268.jpg  \n",
            "  inflating: images/Persian_269.jpg  \n",
            "  inflating: images/Persian_27.jpg   \n",
            "  inflating: images/Persian_270.jpg  \n",
            "  inflating: images/Persian_271.jpg  \n",
            "  inflating: images/Persian_272.jpg  \n",
            "  inflating: images/Persian_273.jpg  \n",
            "  inflating: images/Persian_28.jpg   \n",
            "  inflating: images/Persian_29.jpg   \n",
            "  inflating: images/Persian_3.jpg    \n",
            "  inflating: images/Persian_30.jpg   \n",
            "  inflating: images/Persian_31.jpg   \n",
            "  inflating: images/Persian_32.jpg   \n",
            "  inflating: images/Persian_34.jpg   \n",
            "  inflating: images/Persian_36.jpg   \n",
            "  inflating: images/Persian_37.jpg   \n",
            "  inflating: images/Persian_38.jpg   \n",
            "  inflating: images/Persian_39.jpg   \n",
            "  inflating: images/Persian_4.jpg    \n",
            "  inflating: images/Persian_40.jpg   \n",
            "  inflating: images/Persian_41.jpg   \n",
            "  inflating: images/Persian_42.jpg   \n",
            "  inflating: images/Persian_43.jpg   \n",
            "  inflating: images/Persian_44.jpg   \n",
            "  inflating: images/Persian_45.jpg   \n",
            "  inflating: images/Persian_46.jpg   \n",
            "  inflating: images/Persian_47.jpg   \n",
            "  inflating: images/Persian_49.jpg   \n",
            "  inflating: images/Persian_5.jpg    \n",
            "  inflating: images/Persian_51.jpg   \n",
            "  inflating: images/Persian_52.jpg   \n",
            "  inflating: images/Persian_53.jpg   \n",
            "  inflating: images/Persian_54.jpg   \n",
            "  inflating: images/Persian_55.jpg   \n",
            "  inflating: images/Persian_56.jpg   \n",
            "  inflating: images/Persian_58.jpg   \n",
            "  inflating: images/Persian_59.jpg   \n",
            "  inflating: images/Persian_6.jpg    \n",
            "  inflating: images/Persian_60.jpg   \n",
            "  inflating: images/Persian_61.jpg   \n",
            "  inflating: images/Persian_62.jpg   \n",
            "  inflating: images/Persian_63.jpg   \n",
            "  inflating: images/Persian_64.jpg   \n",
            "  inflating: images/Persian_65.jpg   \n",
            "  inflating: images/Persian_66.jpg   \n",
            "  inflating: images/Persian_67.jpg   \n",
            "  inflating: images/Persian_68.jpg   \n",
            "  inflating: images/Persian_69.jpg   \n",
            "  inflating: images/Persian_7.jpg    \n",
            "  inflating: images/Persian_70.jpg   \n",
            "  inflating: images/Persian_71.jpg   \n",
            "  inflating: images/Persian_72.jpg   \n",
            "  inflating: images/Persian_74.jpg   \n",
            "  inflating: images/Persian_75.jpg   \n",
            "  inflating: images/Persian_76.jpg   \n",
            "  inflating: images/Persian_77.jpg   \n",
            "  inflating: images/Persian_78.jpg   \n",
            "  inflating: images/Persian_79.jpg   \n",
            "  inflating: images/Persian_8.jpg    \n",
            "  inflating: images/Persian_80.jpg   \n",
            "  inflating: images/Persian_81.jpg   \n",
            "  inflating: images/Persian_82.jpg   \n",
            "  inflating: images/Persian_83.jpg   \n",
            "  inflating: images/Persian_84.jpg   \n",
            "  inflating: images/Persian_85.jpg   \n",
            "  inflating: images/Persian_86.jpg   "
          ]
        }
      ],
      "source": [
        "!unzip drive/MyDrive/Pets-data/images.zip\n",
        "!cp -r drive/MyDrive/Pets-data/annotations .\n",
        "!ls"
      ]
    },
    {
      "cell_type": "code",
      "execution_count": 1,
      "metadata": {
        "colab": {
          "base_uri": "https://localhost:8080/"
        },
        "id": "a-DgbbjjqB6o",
        "outputId": "4b7df972-5fcb-4d62-a096-adc065759b34"
      },
      "outputs": [
        {
          "name": "stdout",
          "output_type": "stream",
          "text": [
            "Mounted at /content/drive\n"
          ]
        }
      ],
      "source": [
        "from google.colab import drive\n",
        "drive.mount('/content/drive')"
      ]
    },
    {
      "cell_type": "code",
      "execution_count": 3,
      "metadata": {
        "id": "4ZFIkQokqENb"
      },
      "outputs": [],
      "source": [
        "import os\n",
        "import yaml\n",
        "from typing import Tuple, List\n",
        "\n",
        "import torch\n",
        "import torch.nn.functional as F\n",
        "import torchvision\n",
        "from tqdm import tqdm\n",
        "from PIL import Image\n",
        "import torch.nn as nn\n",
        "from pydantic import BaseModel\n",
        "import matplotlib.pyplot as plt\n",
        "from torchvision import transforms\n",
        "from torch.utils.data import Dataset, DataLoader\n",
        "from sklearn.model_selection import train_test_split\n",
        "import numpy as np"
      ]
    },
    {
      "cell_type": "code",
      "execution_count": 72,
      "metadata": {
        "id": "ue8DGLNjqFoY"
      },
      "outputs": [],
      "source": [
        "# Define constants\n",
        "\n",
        "CONFIG_FILE_PATH = 'config-mixmatch.yaml'\n",
        "IMAGE_COL_IDX = 0\n",
        "CLASS_ID_COL_IDX = 1\n",
        "SPECIES_COL_IDX = 2\n",
        "POSSIBLE_NUM_CLASSES = {2, 37}\n",
        "T = 0.5\n",
        "ALPHA=0.75\n",
        "LAMBDA_U  = 100 / 37"
      ]
    },
    {
      "cell_type": "code",
      "execution_count": 5,
      "metadata": {
        "id": "_ijqv1jpqHPc"
      },
      "outputs": [],
      "source": [
        "class AdamOptimizerConfig(BaseModel):\n",
        "    lr: float\n",
        "    weight_decay: float"
      ]
    },
    {
      "cell_type": "code",
      "execution_count": 6,
      "metadata": {
        "id": "oBGz4qw_qIs1"
      },
      "outputs": [],
      "source": [
        "class Config(BaseModel):\n",
        "    device: str\n",
        "    num_classes: int\n",
        "    batch_size: int\n",
        "    max_num_epochs: int\n",
        "    patience: int\n",
        "    adam_optimizer_config: AdamOptimizerConfig\n",
        "    num_batch_norm_layers_to_train_params: int\n",
        "    num_batch_norm_layers_to_update_running_stats: int\n",
        "    train_earlier_layers_delay: int\n",
        "    n_hidden_layers_to_train: int\n",
        "    labelled_data_ratio: float"
      ]
    },
    {
      "cell_type": "code",
      "execution_count": 78,
      "metadata": {
        "id": "9DLAgyNJqKXp"
      },
      "outputs": [],
      "source": [
        "with open(CONFIG_FILE_PATH, encoding='utf-8') as f:\n",
        "    config_dict = yaml.load(f, Loader=yaml.FullLoader)\n",
        "\n",
        "config = Config.model_validate(config_dict)\n",
        "\n",
        "assert config.num_classes in POSSIBLE_NUM_CLASSES\n",
        "assert 0 <= config.num_batch_norm_layers_to_train_params <= 36  # 36 batch norm layers in resnet34\n",
        "assert 0 <= config.num_batch_norm_layers_to_update_running_stats <= 36  # 36 batch norm layers in resnet34"
      ]
    },
    {
      "cell_type": "code",
      "execution_count": 8,
      "metadata": {
        "id": "RwJuQyvvxsl6"
      },
      "outputs": [],
      "source": [
        "# K = 2\n",
        "class TransformTwice(nn.Module):\n",
        "    def __init__(self, transformation):\n",
        "        super().__init__()\n",
        "        self.transformation = transformation\n",
        "\n",
        "    def __call__(self, data):\n",
        "        return self.transformation(data), self.transformation(data)"
      ]
    },
    {
      "cell_type": "code",
      "execution_count": 9,
      "metadata": {
        "id": "EkRmU3ItqM2B"
      },
      "outputs": [],
      "source": [
        "class LabelledImageDataset(Dataset):\n",
        "    def __init__(self, filenames: List[str], labels: List[int], use_augmentations: bool) -> None:\n",
        "        self.filenames = filenames\n",
        "        self.labels = labels\n",
        "        # self.transformation = torchvision.models.ResNet34_Weights.IMAGENET1K_V1.transforms()\n",
        "        self.transformation = (\n",
        "            transforms.Compose([\n",
        "                torchvision.models.ResNet34_Weights.IMAGENET1K_V1.transforms(),\n",
        "                # transforms.RandomCrop((what size, what other size)),\n",
        "                transforms.RandomHorizontalFlip(),\n",
        "                # transforms.RandomRotation((-10, 10)),\n",
        "                # transforms.RandomErasing(),\n",
        "            ])\n",
        "            if use_augmentations\n",
        "            else torchvision.models.ResNet34_Weights.IMAGENET1K_V1.transforms()\n",
        "        )\n",
        "\n",
        "    def __len__(self) -> int:\n",
        "        return len(self.filenames)\n",
        "\n",
        "    def __getitem__(self, idx: int) -> Tuple[torch.Tensor, torch.Tensor]:\n",
        "        image = Image.open(os.path.join('images', f'{self.filenames[idx]}.jpg')).convert('RGB')\n",
        "        label = self.labels[idx]\n",
        "\n",
        "        transformed_img = self.transformation(image)\n",
        "\n",
        "        return transformed_img.to(config.device), torch.tensor(label).to(config.device)"
      ]
    },
    {
      "cell_type": "code",
      "execution_count": 10,
      "metadata": {
        "id": "CvaT1RlFqRxu"
      },
      "outputs": [],
      "source": [
        "class UnlabelledImageDataset(Dataset):\n",
        "    def __init__(self, filenames: List[str], use_augmentations: bool) -> None:\n",
        "        self.filenames = filenames\n",
        "        # self.transformation = torchvision.models.ResNet34_Weights.IMAGENET1K_V1.transforms()\n",
        "        self.transformation = (\n",
        "            transforms.Compose([\n",
        "                torchvision.models.ResNet34_Weights.IMAGENET1K_V1.transforms(),\n",
        "                # transforms.RandomCrop((what size, what other size)),\n",
        "                TransformTwice(transforms.RandomHorizontalFlip()),\n",
        "                # transforms.RandomRotation((-10, 10)),\n",
        "                # transforms.RandomErasing(),\n",
        "            ])\n",
        "            if use_augmentations\n",
        "            else torchvision.models.ResNet34_Weights.IMAGENET1K_V1.transforms()\n",
        "        )\n",
        "\n",
        "    def __len__(self) -> int:\n",
        "        return len(self.filenames)\n",
        "\n",
        "    def __getitem__(self, idx: int) -> Tuple[torch.Tensor, torch.Tensor]:\n",
        "        image = Image.open(os.path.join('images', f'{self.filenames[idx]}.jpg')).convert('RGB')\n",
        "\n",
        "        transformed_img, transformed_img_2 = self.transformation(image)\n",
        "\n",
        "        return transformed_img.to(config.device), transformed_img_2.to(config.device)"
      ]
    },
    {
      "cell_type": "code",
      "execution_count": 11,
      "metadata": {
        "id": "fVgDOSF6qTXJ"
      },
      "outputs": [],
      "source": [
        "def get_image_names_and_labels(annotations_file_path: str, num_classes: int) -> Tuple[List[str], List[int]]:\n",
        "    filenames: List[str] = []\n",
        "    labels: List[int] = []\n",
        "\n",
        "    with open(annotations_file_path, encoding='utf-8') as f:\n",
        "        lines = f.readlines()\n",
        "\n",
        "    label_col_idx = SPECIES_COL_IDX if num_classes == 2 else CLASS_ID_COL_IDX\n",
        "\n",
        "    for line in lines:\n",
        "        line_split = line.split()\n",
        "        filenames.append(line_split[IMAGE_COL_IDX])\n",
        "        labels.append(int(line_split[label_col_idx]) - 1)\n",
        "\n",
        "    return filenames, labels"
      ]
    },
    {
      "cell_type": "code",
      "execution_count": 12,
      "metadata": {
        "id": "KYJDMrCnqUqG"
      },
      "outputs": [],
      "source": [
        "def get_batch_norm_layers(model: nn.Module) -> List[nn.Module]:\n",
        "    return [\n",
        "        module\n",
        "        for module in model.modules()\n",
        "        if isinstance(module, nn.BatchNorm2d)\n",
        "    ]"
      ]
    },
    {
      "cell_type": "code",
      "execution_count": 13,
      "metadata": {
        "id": "0tKAcH4UqWvH"
      },
      "outputs": [],
      "source": [
        "def get_pretrained_model_with_trainable_last_layer(num_batch_norm_layers_to_train_params: int) -> nn.Module:\n",
        "    model = torchvision.models.resnet34(weights=torchvision.models.ResNet34_Weights.IMAGENET1K_V1)\n",
        "\n",
        "    for param in model.parameters():\n",
        "        param.requires_grad = False\n",
        "\n",
        "    batch_norm_layers = get_batch_norm_layers(model)\n",
        "    batch_norm_layers_to_train_params = batch_norm_layers[-num_batch_norm_layers_to_train_params:] if num_batch_norm_layers_to_train_params else []\n",
        "\n",
        "    for batch_norm_layer in batch_norm_layers_to_train_params:\n",
        "        for param in batch_norm_layer.parameters():\n",
        "            param.requires_grad = True\n",
        "\n",
        "    model.fc = nn.Linear(in_features=model.fc.in_features, out_features=config.num_classes)\n",
        "\n",
        "    return model.to(config.device)"
      ]
    },
    {
      "cell_type": "code",
      "execution_count": 14,
      "metadata": {
        "id": "_u2PpOgAqZ5v"
      },
      "outputs": [],
      "source": [
        "def make_hidden_layers_trainable(model: nn.Module, number_of_hidden_layers_to_train: int) -> nn.Module:\n",
        "    trainable_layers = [layer for layer in model.modules() if not isinstance(layer, torchvision.models.resnet.ResNet) and not isinstance(layer, torchvision.models.resnet.BasicBlock) and not isinstance(layer, nn.Sequential) and not isinstance(layer, nn.Sequential) and len(list(layer.parameters())) > 0]\n",
        "    trainable_layers = list(reversed(trainable_layers[:-1]))\n",
        "\n",
        "    for l in trainable_layers[:number_of_hidden_layers_to_train]:\n",
        "        for p in l.parameters():\n",
        "            p.requires_grad = True\n",
        "\n",
        "    return model"
      ]
    },
    {
      "cell_type": "code",
      "execution_count": 15,
      "metadata": {
        "id": "ANC6uOoPqb4i"
      },
      "outputs": [],
      "source": [
        "def get_model_accuracy(model: nn.Module, data_loader: DataLoader) -> float:\n",
        "    correct_predictions_cnt = 0\n",
        "    total_predictions_cnt = 0\n",
        "    model.eval()\n",
        "    with torch.no_grad():\n",
        "        for inputs, labels in tqdm(data_loader, desc='Computing accuracy'):\n",
        "            outputs = model(inputs)\n",
        "            correct_predictions_cnt += (torch.argmax(outputs, axis=1) == labels).sum()\n",
        "            total_predictions_cnt += len(outputs)\n",
        "    return correct_predictions_cnt / total_predictions_cnt"
      ]
    },
    {
      "cell_type": "code",
      "execution_count": 82,
      "metadata": {
        "id": "8P3w9B6L6eTt"
      },
      "outputs": [],
      "source": [
        "def mix_up(X_1, X_2, Y_1, Y_2):\n",
        "    assert X_1.shape == X_2.shape, 'mix_up: inputs must have same size'\n",
        "    X = []\n",
        "    Y = []\n",
        "    for i in range(len(X_1)):\n",
        "        x_1 = X_1[i]\n",
        "        x_2 = X_2[i]\n",
        "        y_1 = Y_1[i]\n",
        "        y_2 = Y_2[i]\n",
        "        l = np.random.beta(ALPHA, ALPHA)\n",
        "        l = max(l, (1-l))\n",
        "        x = l * x_1 + (1-l) * x_2\n",
        "        y = l * y_1 + (1-l) * y_2\n",
        "\n",
        "        X.append(x)\n",
        "        Y.append(y)\n",
        "    return torch.stack(X), torch.stack(Y)"
      ]
    },
    {
      "cell_type": "code",
      "execution_count": 17,
      "metadata": {
        "id": "9nVtbGQxaXq9"
      },
      "outputs": [],
      "source": [
        "def linear_rampup(epoch):\n",
        "    return float(min(epoch / config.max_num_epochs, 100))"
      ]
    },
    {
      "cell_type": "code",
      "execution_count": 84,
      "metadata": {
        "id": "PtlLiQaeZ93c"
      },
      "outputs": [],
      "source": [
        "class SemiLoss(object):\n",
        "    def __call__(self, outputs_x, targets_x, outputs_u, targets_u, epoch):\n",
        "        probs_u = torch.softmax(outputs_u, dim=1)\n",
        "\n",
        "        Lx = -torch.mean(torch.sum(F.log_softmax(outputs_x, dim=1) * targets_x, dim=1))\n",
        "        Lu = torch.mean((probs_u - targets_u)**2)\n",
        "\n",
        "        return Lx, Lu, LAMBDA_U * linear_rampup(epoch)"
      ]
    },
    {
      "cell_type": "code",
      "execution_count": 64,
      "metadata": {
        "id": "GWrvHelqqgYU"
      },
      "outputs": [],
      "source": [
        "def infinite_batch_generator(loader: DataLoader):\n",
        "    while True:\n",
        "        for batch in loader:\n",
        "            yield batch\n",
        "\n",
        "\n",
        "def train_single_epoch(\n",
        "        model: nn.Module,\n",
        "        train_data_loader: DataLoader,\n",
        "        unlabelled_train_data_loader: DataLoader,\n",
        "        criterion: SemiLoss,\n",
        "        optimizer: torch.optim.Optimizer,\n",
        "        num_batch_norm_layers_to_update_running_stats: int,\n",
        "        epoch: int,\n",
        "        ) -> float:\n",
        "    model.train()\n",
        "    batch_norm_layers = get_batch_norm_layers(model)\n",
        "    batch_norm_layers_to_not_update_running_stats = (\n",
        "        batch_norm_layers[:-num_batch_norm_layers_to_update_running_stats]\n",
        "        if num_batch_norm_layers_to_update_running_stats\n",
        "        else batch_norm_layers\n",
        "    )\n",
        "    for batch_norm_layer in batch_norm_layers_to_not_update_running_stats:\n",
        "        batch_norm_layer.eval()\n",
        "    train_loss_sum = 0.0\n",
        "    train_samples_cnt = 0\n",
        "\n",
        "    unlabelled_generator = infinite_batch_generator(unlabelled_train_data_loader)\n",
        "\n",
        "    for labelled_inputs, labelled_targets in tqdm(train_data_loader, desc='Training model'):\n",
        "\n",
        "        labelled_targets = F.one_hot(labelled_targets, config.num_classes)\n",
        "        unlabelled_inputs_1, unlabelled_inputs_2 = next(unlabelled_generator)\n",
        "        unlabelled_inputs = torch.cat([unlabelled_inputs_1, unlabelled_inputs_2])\n",
        "\n",
        "        # Calculated the pseudo label for each of the augmented unlabeled data point\n",
        "        with torch.no_grad():\n",
        "            u_o_1 = model(unlabelled_inputs_1)\n",
        "            u_o_2 = model(unlabelled_inputs_2)\n",
        "            unlabelled_targets = (F.softmax(u_o_1, dim=1) + F.softmax(u_o_2, dim=1)) / 2\n",
        "            unlabelled_targets = unlabelled_targets**(1/T)\n",
        "            unlabelled_targets = unlabelled_targets / unlabelled_targets.sum(dim=1, keepdim=True)\n",
        "\n",
        "        all_inputs = torch.cat([labelled_inputs, unlabelled_inputs_1, unlabelled_inputs_2])\n",
        "        all_targets = torch.cat([labelled_targets, unlabelled_targets, unlabelled_targets])\n",
        "        idxs = np.random.permutation(len(all_inputs))\n",
        "        all_inputs = all_inputs[idxs]\n",
        "        all_targets = all_targets[idxs]\n",
        "\n",
        "        X, targets_X = mix_up(labelled_inputs, all_inputs[:len(labelled_inputs)], labelled_targets, all_targets[:len(labelled_inputs)])\n",
        "        U, targets_U = mix_up(unlabelled_inputs, all_inputs[len(labelled_inputs):], torch.cat([unlabelled_targets, unlabelled_targets]), all_targets[len(labelled_inputs):])\n",
        "\n",
        "        outputs_X = model(X)\n",
        "        outputs_U = model(U)\n",
        "\n",
        "        LX, LU, lamb_u = criterion(outputs_X, targets_X, outputs_U, targets_U, epoch)\n",
        "\n",
        "        optimizer.zero_grad()\n",
        "        loss = LX + lamb_u * LU\n",
        "\n",
        "        loss.backward()\n",
        "        optimizer.step()\n",
        "        train_loss_sum += loss.item() * (len(outputs_X) + len(outputs_U))\n",
        "        train_samples_cnt += len(outputs_X) + len(outputs_U)\n",
        "\n",
        "    return train_loss_sum / train_samples_cnt"
      ]
    },
    {
      "cell_type": "code",
      "execution_count": 20,
      "metadata": {
        "id": "E1dMuSYEqiGk"
      },
      "outputs": [],
      "source": [
        "def save_checkpoint(model: nn.Module, optimizer: torch.optim.Optimizer) -> Tuple[nn.Module, torch.optim.Optimizer]:\n",
        "    checkpoint = {\n",
        "        'model_state_dict': model.state_dict(),\n",
        "        'optimizer_state_dict': optimizer.state_dict(),\n",
        "    }\n",
        "    torch.save(checkpoint, 'checkpoint.pt')"
      ]
    },
    {
      "cell_type": "code",
      "execution_count": 21,
      "metadata": {
        "id": "eIMQWIWdqjng"
      },
      "outputs": [],
      "source": [
        "def load_checkpoint(model: nn.Module, optimizer: torch.optim.Optimizer) -> None:\n",
        "    checkpoint = torch.load('checkpoint.pt')\n",
        "    model.load_state_dict(checkpoint['model_state_dict'])\n",
        "    optimizer.load_state_dict(checkpoint['optimizer_state_dict'])"
      ]
    },
    {
      "cell_type": "code",
      "execution_count": 69,
      "metadata": {
        "id": "onXgk_1LqlwT"
      },
      "outputs": [],
      "source": [
        "filenames_trainval, labels_trainval = get_image_names_and_labels('annotations/trainval.txt', num_classes=config.num_classes)\n",
        "filenames_test, labels_test = get_image_names_and_labels('annotations/test.txt', num_classes=config.num_classes)\n",
        "filenames_train, filenames_val, labels_train, labels_val = train_test_split(filenames_trainval, labels_trainval, test_size=0.2, stratify=labels_trainval)\n",
        "\n",
        "filenames_train, unlabelled_filenames_train, labels_train, _ = train_test_split(filenames_train, labels_train, train_size=config.labelled_data_ratio, stratify=labels_train)\n",
        "dataset_train = LabelledImageDataset(filenames_train, labels_train, use_augmentations=True)\n",
        "unlabelled_dataset_train = UnlabelledImageDataset(unlabelled_filenames_train, use_augmentations=True)\n",
        "\n",
        "dataset_val = LabelledImageDataset(filenames_val, labels_val, use_augmentations=False)\n",
        "dataset_test = LabelledImageDataset(filenames_test, labels_test, use_augmentations=False)\n",
        "\n",
        "unlabelled_train_data_loader = DataLoader(unlabelled_dataset_train, batch_size=config.batch_size, shuffle=True)\n",
        "train_data_loader = DataLoader(dataset_train, batch_size=config.batch_size, shuffle=True)\n",
        "val_data_loader = DataLoader(dataset_val, batch_size=config.batch_size, shuffle=False)\n",
        "test_data_loader = DataLoader(dataset_test, batch_size=config.batch_size, shuffle=False)"
      ]
    },
    {
      "cell_type": "code",
      "execution_count": 54,
      "metadata": {
        "id": "xNm13T8YqqeN"
      },
      "outputs": [],
      "source": [
        "# Train using pseudo labelling\n",
        "def train_model():\n",
        "    model = get_pretrained_model_with_trainable_last_layer(config.num_batch_norm_layers_to_train_params)\n",
        "\n",
        "    criterion = SemiLoss()\n",
        "    optimizer = torch.optim.Adam(model.parameters(), lr=config.adam_optimizer_config.lr, weight_decay=config.adam_optimizer_config.weight_decay)\n",
        "\n",
        "    max_val_accuracy = float('-inf')\n",
        "    argmax_epoch = -1\n",
        "\n",
        "    for epoch in range(config.max_num_epochs):\n",
        "        print(f'Epoch #{epoch}:')\n",
        "        train_loss = train_single_epoch(model, train_data_loader, unlabelled_train_data_loader, criterion, optimizer, config.num_batch_norm_layers_to_update_running_stats, epoch)\n",
        "        print(f'Train loss: {train_loss}')\n",
        "        val_accuracy = get_model_accuracy(model, val_data_loader)\n",
        "        if val_accuracy > max_val_accuracy:\n",
        "            print(f'Validation accuracy: {100 * val_accuracy:.2f}% (new best)')\n",
        "            max_val_accuracy = val_accuracy\n",
        "            argmax_epoch = epoch\n",
        "            save_checkpoint(model, optimizer)\n",
        "            print('Checkpoint saved')\n",
        "        else:\n",
        "            print(f'Validation accuracy: {100 * val_accuracy:.2f}% (worse than {100 * max_val_accuracy:.2f}% of epoch {argmax_epoch})')\n",
        "            if epoch > argmax_epoch + config.patience:\n",
        "                print(f'Early stopping')\n",
        "                break\n",
        "        # Start training earlier layers\n",
        "        if epoch == config.train_earlier_layers_delay and config.n_hidden_layers_to_train > 0:\n",
        "            print (f'Making last {config.n_hidden_layers_to_train} hidden layers trainable')\n",
        "            make_hidden_layers_trainable(model, config.n_hidden_layers_to_train)\n",
        "            optimizer = torch.optim.Adam(model.parameters(), lr=config.adam_optimizer_config.lr / 100, weight_decay=config.adam_optimizer_config.weight_decay)\n",
        "        print()\n",
        "    return model, optimizer"
      ]
    },
    {
      "cell_type": "code",
      "execution_count": 85,
      "metadata": {
        "colab": {
          "base_uri": "https://localhost:8080/"
        },
        "id": "dKXzWiGxqsnA",
        "outputId": "5fafe2b2-dfce-4418-a505-287d5815ebfd"
      },
      "outputs": [
        {
          "name": "stdout",
          "output_type": "stream",
          "text": [
            "Epoch #0:\n"
          ]
        },
        {
          "name": "stderr",
          "output_type": "stream",
          "text": [
            "Training model: 100%|██████████| 5/5 [00:03<00:00,  1.33it/s]\n"
          ]
        },
        {
          "name": "stdout",
          "output_type": "stream",
          "text": [
            "Train loss: 3.835814155398906\n"
          ]
        },
        {
          "name": "stderr",
          "output_type": "stream",
          "text": [
            "Computing accuracy: 100%|██████████| 12/12 [00:04<00:00,  2.97it/s]\n"
          ]
        },
        {
          "name": "stdout",
          "output_type": "stream",
          "text": [
            "Validation accuracy: 0.41% (new best)\n",
            "Checkpoint saved\n",
            "\n",
            "Epoch #1:\n"
          ]
        },
        {
          "name": "stderr",
          "output_type": "stream",
          "text": [
            "Training model: 100%|██████████| 5/5 [00:03<00:00,  1.38it/s]\n"
          ]
        },
        {
          "name": "stdout",
          "output_type": "stream",
          "text": [
            "Train loss: 3.7713509953762276\n"
          ]
        },
        {
          "name": "stderr",
          "output_type": "stream",
          "text": [
            "Computing accuracy: 100%|██████████| 12/12 [00:03<00:00,  3.07it/s]\n"
          ]
        },
        {
          "name": "stdout",
          "output_type": "stream",
          "text": [
            "Validation accuracy: 0.95% (new best)\n",
            "Checkpoint saved\n",
            "\n",
            "Epoch #2:\n"
          ]
        },
        {
          "name": "stderr",
          "output_type": "stream",
          "text": [
            "Training model: 100%|██████████| 5/5 [00:03<00:00,  1.33it/s]\n"
          ]
        },
        {
          "name": "stdout",
          "output_type": "stream",
          "text": [
            "Train loss: 3.699663447108463\n"
          ]
        },
        {
          "name": "stderr",
          "output_type": "stream",
          "text": [
            "Computing accuracy: 100%|██████████| 12/12 [00:03<00:00,  3.09it/s]\n"
          ]
        },
        {
          "name": "stdout",
          "output_type": "stream",
          "text": [
            "Validation accuracy: 1.36% (new best)\n",
            "Checkpoint saved\n",
            "\n",
            "Epoch #3:\n"
          ]
        },
        {
          "name": "stderr",
          "output_type": "stream",
          "text": [
            "Training model: 100%|██████████| 5/5 [00:03<00:00,  1.38it/s]\n"
          ]
        },
        {
          "name": "stdout",
          "output_type": "stream",
          "text": [
            "Train loss: 3.656218297986964\n"
          ]
        },
        {
          "name": "stderr",
          "output_type": "stream",
          "text": [
            "Computing accuracy: 100%|██████████| 12/12 [00:03<00:00,  3.07it/s]\n"
          ]
        },
        {
          "name": "stdout",
          "output_type": "stream",
          "text": [
            "Validation accuracy: 2.04% (new best)\n",
            "Checkpoint saved\n",
            "\n",
            "Epoch #4:\n"
          ]
        },
        {
          "name": "stderr",
          "output_type": "stream",
          "text": [
            "Training model: 100%|██████████| 5/5 [00:03<00:00,  1.28it/s]\n"
          ]
        },
        {
          "name": "stdout",
          "output_type": "stream",
          "text": [
            "Train loss: 3.612832657019638\n"
          ]
        },
        {
          "name": "stderr",
          "output_type": "stream",
          "text": [
            "Computing accuracy: 100%|██████████| 12/12 [00:03<00:00,  3.11it/s]\n"
          ]
        },
        {
          "name": "stdout",
          "output_type": "stream",
          "text": [
            "Validation accuracy: 2.85% (new best)\n",
            "Checkpoint saved\n",
            "\n",
            "Epoch #5:\n"
          ]
        },
        {
          "name": "stderr",
          "output_type": "stream",
          "text": [
            "Training model: 100%|██████████| 5/5 [00:03<00:00,  1.37it/s]\n"
          ]
        },
        {
          "name": "stdout",
          "output_type": "stream",
          "text": [
            "Train loss: 3.5616315192277734\n"
          ]
        },
        {
          "name": "stderr",
          "output_type": "stream",
          "text": [
            "Computing accuracy: 100%|██████████| 12/12 [00:04<00:00,  3.00it/s]\n"
          ]
        },
        {
          "name": "stdout",
          "output_type": "stream",
          "text": [
            "Validation accuracy: 5.30% (new best)\n",
            "Checkpoint saved\n",
            "\n",
            "Epoch #6:\n"
          ]
        },
        {
          "name": "stderr",
          "output_type": "stream",
          "text": [
            "Training model: 100%|██████████| 5/5 [00:03<00:00,  1.30it/s]\n"
          ]
        },
        {
          "name": "stdout",
          "output_type": "stream",
          "text": [
            "Train loss: 3.5200153750066328\n"
          ]
        },
        {
          "name": "stderr",
          "output_type": "stream",
          "text": [
            "Computing accuracy: 100%|██████████| 12/12 [00:03<00:00,  3.13it/s]\n"
          ]
        },
        {
          "name": "stdout",
          "output_type": "stream",
          "text": [
            "Validation accuracy: 7.47% (new best)\n",
            "Checkpoint saved\n",
            "\n",
            "Epoch #7:\n"
          ]
        },
        {
          "name": "stderr",
          "output_type": "stream",
          "text": [
            "Training model: 100%|██████████| 5/5 [00:03<00:00,  1.36it/s]\n"
          ]
        },
        {
          "name": "stdout",
          "output_type": "stream",
          "text": [
            "Train loss: 3.4950220722713103\n"
          ]
        },
        {
          "name": "stderr",
          "output_type": "stream",
          "text": [
            "Computing accuracy: 100%|██████████| 12/12 [00:04<00:00,  2.85it/s]\n"
          ]
        },
        {
          "name": "stdout",
          "output_type": "stream",
          "text": [
            "Validation accuracy: 9.65% (new best)\n",
            "Checkpoint saved\n",
            "\n",
            "Epoch #8:\n"
          ]
        },
        {
          "name": "stderr",
          "output_type": "stream",
          "text": [
            "Training model: 100%|██████████| 5/5 [00:03<00:00,  1.35it/s]\n"
          ]
        },
        {
          "name": "stdout",
          "output_type": "stream",
          "text": [
            "Train loss: 3.4518090284866236\n"
          ]
        },
        {
          "name": "stderr",
          "output_type": "stream",
          "text": [
            "Computing accuracy: 100%|██████████| 12/12 [00:03<00:00,  3.01it/s]\n"
          ]
        },
        {
          "name": "stdout",
          "output_type": "stream",
          "text": [
            "Validation accuracy: 11.55% (new best)\n",
            "Checkpoint saved\n",
            "\n",
            "Epoch #9:\n"
          ]
        },
        {
          "name": "stderr",
          "output_type": "stream",
          "text": [
            "Training model: 100%|██████████| 5/5 [00:03<00:00,  1.34it/s]\n"
          ]
        },
        {
          "name": "stdout",
          "output_type": "stream",
          "text": [
            "Train loss: 3.3986455684555676\n"
          ]
        },
        {
          "name": "stderr",
          "output_type": "stream",
          "text": [
            "Computing accuracy: 100%|██████████| 12/12 [00:03<00:00,  3.04it/s]\n"
          ]
        },
        {
          "name": "stdout",
          "output_type": "stream",
          "text": [
            "Validation accuracy: 14.54% (new best)\n",
            "Checkpoint saved\n",
            "\n",
            "Epoch #10:\n"
          ]
        },
        {
          "name": "stderr",
          "output_type": "stream",
          "text": [
            "Training model: 100%|██████████| 5/5 [00:03<00:00,  1.37it/s]\n"
          ]
        },
        {
          "name": "stdout",
          "output_type": "stream",
          "text": [
            "Train loss: 3.379344442416565\n"
          ]
        },
        {
          "name": "stderr",
          "output_type": "stream",
          "text": [
            "Computing accuracy: 100%|██████████| 12/12 [00:03<00:00,  3.09it/s]\n"
          ]
        },
        {
          "name": "stdout",
          "output_type": "stream",
          "text": [
            "Validation accuracy: 16.58% (new best)\n",
            "Checkpoint saved\n",
            "\n",
            "Epoch #11:\n"
          ]
        },
        {
          "name": "stderr",
          "output_type": "stream",
          "text": [
            "Training model: 100%|██████████| 5/5 [00:03<00:00,  1.33it/s]\n"
          ]
        },
        {
          "name": "stdout",
          "output_type": "stream",
          "text": [
            "Train loss: 3.3721437489960895\n"
          ]
        },
        {
          "name": "stderr",
          "output_type": "stream",
          "text": [
            "Computing accuracy: 100%|██████████| 12/12 [00:03<00:00,  3.03it/s]\n"
          ]
        },
        {
          "name": "stdout",
          "output_type": "stream",
          "text": [
            "Validation accuracy: 19.16% (new best)\n",
            "Checkpoint saved\n",
            "\n",
            "Epoch #12:\n"
          ]
        },
        {
          "name": "stderr",
          "output_type": "stream",
          "text": [
            "Training model: 100%|██████████| 5/5 [00:03<00:00,  1.37it/s]\n"
          ]
        },
        {
          "name": "stdout",
          "output_type": "stream",
          "text": [
            "Train loss: 3.3257622606493933\n"
          ]
        },
        {
          "name": "stderr",
          "output_type": "stream",
          "text": [
            "Computing accuracy: 100%|██████████| 12/12 [00:03<00:00,  3.03it/s]\n"
          ]
        },
        {
          "name": "stdout",
          "output_type": "stream",
          "text": [
            "Validation accuracy: 22.01% (new best)\n",
            "Checkpoint saved\n",
            "\n",
            "Epoch #13:\n"
          ]
        },
        {
          "name": "stderr",
          "output_type": "stream",
          "text": [
            "Training model: 100%|██████████| 5/5 [00:03<00:00,  1.29it/s]\n"
          ]
        },
        {
          "name": "stdout",
          "output_type": "stream",
          "text": [
            "Train loss: 3.283907150558537\n"
          ]
        },
        {
          "name": "stderr",
          "output_type": "stream",
          "text": [
            "Computing accuracy: 100%|██████████| 12/12 [00:03<00:00,  3.08it/s]\n"
          ]
        },
        {
          "name": "stdout",
          "output_type": "stream",
          "text": [
            "Validation accuracy: 24.18% (new best)\n",
            "Checkpoint saved\n",
            "\n",
            "Epoch #14:\n"
          ]
        },
        {
          "name": "stderr",
          "output_type": "stream",
          "text": [
            "Training model: 100%|██████████| 5/5 [00:03<00:00,  1.38it/s]\n"
          ]
        },
        {
          "name": "stdout",
          "output_type": "stream",
          "text": [
            "Train loss: 3.245514411742478\n"
          ]
        },
        {
          "name": "stderr",
          "output_type": "stream",
          "text": [
            "Computing accuracy: 100%|██████████| 12/12 [00:04<00:00,  2.90it/s]\n"
          ]
        },
        {
          "name": "stdout",
          "output_type": "stream",
          "text": [
            "Validation accuracy: 26.36% (new best)\n",
            "Checkpoint saved\n",
            "\n",
            "Epoch #15:\n"
          ]
        },
        {
          "name": "stderr",
          "output_type": "stream",
          "text": [
            "Training model: 100%|██████████| 5/5 [00:03<00:00,  1.36it/s]\n"
          ]
        },
        {
          "name": "stdout",
          "output_type": "stream",
          "text": [
            "Train loss: 3.217567342251731\n"
          ]
        },
        {
          "name": "stderr",
          "output_type": "stream",
          "text": [
            "Computing accuracy: 100%|██████████| 12/12 [00:03<00:00,  3.10it/s]\n"
          ]
        },
        {
          "name": "stdout",
          "output_type": "stream",
          "text": [
            "Validation accuracy: 28.12% (new best)\n",
            "Checkpoint saved\n",
            "\n",
            "Epoch #16:\n"
          ]
        },
        {
          "name": "stderr",
          "output_type": "stream",
          "text": [
            "Training model: 100%|██████████| 5/5 [00:03<00:00,  1.34it/s]\n"
          ]
        },
        {
          "name": "stdout",
          "output_type": "stream",
          "text": [
            "Train loss: 3.1684401647947587\n"
          ]
        },
        {
          "name": "stderr",
          "output_type": "stream",
          "text": [
            "Computing accuracy: 100%|██████████| 12/12 [00:04<00:00,  2.94it/s]\n"
          ]
        },
        {
          "name": "stdout",
          "output_type": "stream",
          "text": [
            "Validation accuracy: 30.43% (new best)\n",
            "Checkpoint saved\n",
            "\n",
            "Epoch #17:\n"
          ]
        },
        {
          "name": "stderr",
          "output_type": "stream",
          "text": [
            "Training model: 100%|██████████| 5/5 [00:03<00:00,  1.39it/s]\n"
          ]
        },
        {
          "name": "stdout",
          "output_type": "stream",
          "text": [
            "Train loss: 3.1347414349590688\n"
          ]
        },
        {
          "name": "stderr",
          "output_type": "stream",
          "text": [
            "Computing accuracy: 100%|██████████| 12/12 [00:03<00:00,  3.07it/s]\n"
          ]
        },
        {
          "name": "stdout",
          "output_type": "stream",
          "text": [
            "Validation accuracy: 31.93% (new best)\n",
            "Checkpoint saved\n",
            "\n",
            "Epoch #18:\n"
          ]
        },
        {
          "name": "stderr",
          "output_type": "stream",
          "text": [
            "Training model: 100%|██████████| 5/5 [00:03<00:00,  1.31it/s]\n"
          ]
        },
        {
          "name": "stdout",
          "output_type": "stream",
          "text": [
            "Train loss: 3.1167890657959965\n"
          ]
        },
        {
          "name": "stderr",
          "output_type": "stream",
          "text": [
            "Computing accuracy: 100%|██████████| 12/12 [00:03<00:00,  3.04it/s]\n"
          ]
        },
        {
          "name": "stdout",
          "output_type": "stream",
          "text": [
            "Validation accuracy: 34.24% (new best)\n",
            "Checkpoint saved\n",
            "\n",
            "Epoch #19:\n"
          ]
        },
        {
          "name": "stderr",
          "output_type": "stream",
          "text": [
            "Training model: 100%|██████████| 5/5 [00:03<00:00,  1.38it/s]\n"
          ]
        },
        {
          "name": "stdout",
          "output_type": "stream",
          "text": [
            "Train loss: 3.0968400992979586\n"
          ]
        },
        {
          "name": "stderr",
          "output_type": "stream",
          "text": [
            "Computing accuracy: 100%|██████████| 12/12 [00:03<00:00,  3.11it/s]\n"
          ]
        },
        {
          "name": "stdout",
          "output_type": "stream",
          "text": [
            "Validation accuracy: 36.96% (new best)\n",
            "Checkpoint saved\n",
            "\n",
            "Epoch #20:\n"
          ]
        },
        {
          "name": "stderr",
          "output_type": "stream",
          "text": [
            "Training model: 100%|██████████| 5/5 [00:03<00:00,  1.26it/s]\n"
          ]
        },
        {
          "name": "stdout",
          "output_type": "stream",
          "text": [
            "Train loss: 3.0683884656403766\n"
          ]
        },
        {
          "name": "stderr",
          "output_type": "stream",
          "text": [
            "Computing accuracy: 100%|██████████| 12/12 [00:04<00:00,  2.99it/s]\n"
          ]
        },
        {
          "name": "stdout",
          "output_type": "stream",
          "text": [
            "Validation accuracy: 38.32% (new best)\n",
            "Checkpoint saved\n",
            "\n",
            "Epoch #21:\n"
          ]
        },
        {
          "name": "stderr",
          "output_type": "stream",
          "text": [
            "Training model: 100%|██████████| 5/5 [00:03<00:00,  1.32it/s]\n"
          ]
        },
        {
          "name": "stdout",
          "output_type": "stream",
          "text": [
            "Train loss: 3.044094238853046\n"
          ]
        },
        {
          "name": "stderr",
          "output_type": "stream",
          "text": [
            "Computing accuracy: 100%|██████████| 12/12 [00:04<00:00,  2.97it/s]\n"
          ]
        },
        {
          "name": "stdout",
          "output_type": "stream",
          "text": [
            "Validation accuracy: 40.90% (new best)\n",
            "Checkpoint saved\n",
            "\n",
            "Epoch #22:\n"
          ]
        },
        {
          "name": "stderr",
          "output_type": "stream",
          "text": [
            "Training model: 100%|██████████| 5/5 [00:03<00:00,  1.33it/s]\n"
          ]
        },
        {
          "name": "stdout",
          "output_type": "stream",
          "text": [
            "Train loss: 3.0047813268494044\n"
          ]
        },
        {
          "name": "stderr",
          "output_type": "stream",
          "text": [
            "Computing accuracy: 100%|██████████| 12/12 [00:03<00:00,  3.11it/s]\n"
          ]
        },
        {
          "name": "stdout",
          "output_type": "stream",
          "text": [
            "Validation accuracy: 42.53% (new best)\n",
            "Checkpoint saved\n",
            "\n",
            "Epoch #23:\n"
          ]
        },
        {
          "name": "stderr",
          "output_type": "stream",
          "text": [
            "Training model: 100%|██████████| 5/5 [00:03<00:00,  1.36it/s]\n"
          ]
        },
        {
          "name": "stdout",
          "output_type": "stream",
          "text": [
            "Train loss: 2.9327989701795882\n"
          ]
        },
        {
          "name": "stderr",
          "output_type": "stream",
          "text": [
            "Computing accuracy: 100%|██████████| 12/12 [00:04<00:00,  2.89it/s]\n"
          ]
        },
        {
          "name": "stdout",
          "output_type": "stream",
          "text": [
            "Validation accuracy: 43.75% (new best)\n",
            "Checkpoint saved\n",
            "\n",
            "Epoch #24:\n"
          ]
        },
        {
          "name": "stderr",
          "output_type": "stream",
          "text": [
            "Training model: 100%|██████████| 5/5 [00:03<00:00,  1.35it/s]\n"
          ]
        },
        {
          "name": "stdout",
          "output_type": "stream",
          "text": [
            "Train loss: 2.9079558190748065\n"
          ]
        },
        {
          "name": "stderr",
          "output_type": "stream",
          "text": [
            "Computing accuracy: 100%|██████████| 12/12 [00:03<00:00,  3.06it/s]\n"
          ]
        },
        {
          "name": "stdout",
          "output_type": "stream",
          "text": [
            "Validation accuracy: 44.97% (new best)\n",
            "Checkpoint saved\n",
            "\n",
            "Epoch #25:\n"
          ]
        },
        {
          "name": "stderr",
          "output_type": "stream",
          "text": [
            "Training model: 100%|██████████| 5/5 [00:03<00:00,  1.36it/s]\n"
          ]
        },
        {
          "name": "stdout",
          "output_type": "stream",
          "text": [
            "Train loss: 2.8891456510065967\n"
          ]
        },
        {
          "name": "stderr",
          "output_type": "stream",
          "text": [
            "Computing accuracy: 100%|██████████| 12/12 [00:03<00:00,  3.04it/s]\n"
          ]
        },
        {
          "name": "stdout",
          "output_type": "stream",
          "text": [
            "Validation accuracy: 46.47% (new best)\n",
            "Checkpoint saved\n",
            "\n",
            "Epoch #26:\n"
          ]
        },
        {
          "name": "stderr",
          "output_type": "stream",
          "text": [
            "Training model: 100%|██████████| 5/5 [00:03<00:00,  1.38it/s]\n"
          ]
        },
        {
          "name": "stdout",
          "output_type": "stream",
          "text": [
            "Train loss: 2.881136145275206\n"
          ]
        },
        {
          "name": "stderr",
          "output_type": "stream",
          "text": [
            "Computing accuracy: 100%|██████████| 12/12 [00:03<00:00,  3.08it/s]\n"
          ]
        },
        {
          "name": "stdout",
          "output_type": "stream",
          "text": [
            "Validation accuracy: 47.83% (new best)\n",
            "Checkpoint saved\n",
            "\n",
            "Epoch #27:\n"
          ]
        },
        {
          "name": "stderr",
          "output_type": "stream",
          "text": [
            "Training model: 100%|██████████| 5/5 [00:03<00:00,  1.33it/s]\n"
          ]
        },
        {
          "name": "stdout",
          "output_type": "stream",
          "text": [
            "Train loss: 2.8412470460193315\n"
          ]
        },
        {
          "name": "stderr",
          "output_type": "stream",
          "text": [
            "Computing accuracy: 100%|██████████| 12/12 [00:04<00:00,  2.97it/s]\n"
          ]
        },
        {
          "name": "stdout",
          "output_type": "stream",
          "text": [
            "Validation accuracy: 48.78% (new best)\n",
            "Checkpoint saved\n",
            "\n",
            "Epoch #28:\n"
          ]
        },
        {
          "name": "stderr",
          "output_type": "stream",
          "text": [
            "Training model: 100%|██████████| 5/5 [00:03<00:00,  1.35it/s]\n"
          ]
        },
        {
          "name": "stdout",
          "output_type": "stream",
          "text": [
            "Train loss: 2.78569320948272\n"
          ]
        },
        {
          "name": "stderr",
          "output_type": "stream",
          "text": [
            "Computing accuracy: 100%|██████████| 12/12 [00:03<00:00,  3.01it/s]\n"
          ]
        },
        {
          "name": "stdout",
          "output_type": "stream",
          "text": [
            "Validation accuracy: 50.14% (new best)\n",
            "Checkpoint saved\n",
            "\n",
            "Epoch #29:\n"
          ]
        },
        {
          "name": "stderr",
          "output_type": "stream",
          "text": [
            "Training model: 100%|██████████| 5/5 [00:03<00:00,  1.34it/s]\n"
          ]
        },
        {
          "name": "stdout",
          "output_type": "stream",
          "text": [
            "Train loss: 2.8116392910608132\n"
          ]
        },
        {
          "name": "stderr",
          "output_type": "stream",
          "text": [
            "Computing accuracy: 100%|██████████| 12/12 [00:03<00:00,  3.09it/s]\n"
          ]
        },
        {
          "name": "stdout",
          "output_type": "stream",
          "text": [
            "Validation accuracy: 51.36% (new best)\n",
            "Checkpoint saved\n",
            "\n",
            "Epoch #30:\n"
          ]
        },
        {
          "name": "stderr",
          "output_type": "stream",
          "text": [
            "Training model: 100%|██████████| 5/5 [00:03<00:00,  1.37it/s]\n"
          ]
        },
        {
          "name": "stdout",
          "output_type": "stream",
          "text": [
            "Train loss: 2.8133136929996008\n"
          ]
        },
        {
          "name": "stderr",
          "output_type": "stream",
          "text": [
            "Computing accuracy: 100%|██████████| 12/12 [00:04<00:00,  3.00it/s]\n"
          ]
        },
        {
          "name": "stdout",
          "output_type": "stream",
          "text": [
            "Validation accuracy: 51.77% (new best)\n",
            "Checkpoint saved\n",
            "\n",
            "Epoch #31:\n"
          ]
        },
        {
          "name": "stderr",
          "output_type": "stream",
          "text": [
            "Training model: 100%|██████████| 5/5 [00:03<00:00,  1.31it/s]\n"
          ]
        },
        {
          "name": "stdout",
          "output_type": "stream",
          "text": [
            "Train loss: 2.733879998613476\n"
          ]
        },
        {
          "name": "stderr",
          "output_type": "stream",
          "text": [
            "Computing accuracy: 100%|██████████| 12/12 [00:03<00:00,  3.03it/s]\n"
          ]
        },
        {
          "name": "stdout",
          "output_type": "stream",
          "text": [
            "Validation accuracy: 52.99% (new best)\n",
            "Checkpoint saved\n",
            "\n",
            "Epoch #32:\n"
          ]
        },
        {
          "name": "stderr",
          "output_type": "stream",
          "text": [
            "Training model: 100%|██████████| 5/5 [00:03<00:00,  1.36it/s]\n"
          ]
        },
        {
          "name": "stdout",
          "output_type": "stream",
          "text": [
            "Train loss: 2.689682535236857\n"
          ]
        },
        {
          "name": "stderr",
          "output_type": "stream",
          "text": [
            "Computing accuracy: 100%|██████████| 12/12 [00:04<00:00,  2.96it/s]\n"
          ]
        },
        {
          "name": "stdout",
          "output_type": "stream",
          "text": [
            "Validation accuracy: 54.21% (new best)\n",
            "Checkpoint saved\n",
            "\n",
            "Epoch #33:\n"
          ]
        },
        {
          "name": "stderr",
          "output_type": "stream",
          "text": [
            "Training model: 100%|██████████| 5/5 [00:03<00:00,  1.39it/s]\n"
          ]
        },
        {
          "name": "stdout",
          "output_type": "stream",
          "text": [
            "Train loss: 2.6713509406471663\n"
          ]
        },
        {
          "name": "stderr",
          "output_type": "stream",
          "text": [
            "Computing accuracy: 100%|██████████| 12/12 [00:03<00:00,  3.10it/s]\n"
          ]
        },
        {
          "name": "stdout",
          "output_type": "stream",
          "text": [
            "Validation accuracy: 55.98% (new best)\n",
            "Checkpoint saved\n",
            "\n",
            "Epoch #34:\n"
          ]
        },
        {
          "name": "stderr",
          "output_type": "stream",
          "text": [
            "Training model: 100%|██████████| 5/5 [00:03<00:00,  1.33it/s]\n"
          ]
        },
        {
          "name": "stdout",
          "output_type": "stream",
          "text": [
            "Train loss: 2.6592654497771497\n"
          ]
        },
        {
          "name": "stderr",
          "output_type": "stream",
          "text": [
            "Computing accuracy: 100%|██████████| 12/12 [00:04<00:00,  2.97it/s]\n"
          ]
        },
        {
          "name": "stdout",
          "output_type": "stream",
          "text": [
            "Validation accuracy: 56.39% (new best)\n",
            "Checkpoint saved\n",
            "\n",
            "Epoch #35:\n"
          ]
        },
        {
          "name": "stderr",
          "output_type": "stream",
          "text": [
            "Training model: 100%|██████████| 5/5 [00:03<00:00,  1.41it/s]\n"
          ]
        },
        {
          "name": "stdout",
          "output_type": "stream",
          "text": [
            "Train loss: 2.6115344265033142\n"
          ]
        },
        {
          "name": "stderr",
          "output_type": "stream",
          "text": [
            "Computing accuracy: 100%|██████████| 12/12 [00:03<00:00,  3.11it/s]\n"
          ]
        },
        {
          "name": "stdout",
          "output_type": "stream",
          "text": [
            "Validation accuracy: 57.74% (new best)\n",
            "Checkpoint saved\n",
            "\n",
            "Epoch #36:\n"
          ]
        },
        {
          "name": "stderr",
          "output_type": "stream",
          "text": [
            "Training model: 100%|██████████| 5/5 [00:03<00:00,  1.28it/s]\n"
          ]
        },
        {
          "name": "stdout",
          "output_type": "stream",
          "text": [
            "Train loss: 2.606995176196864\n"
          ]
        },
        {
          "name": "stderr",
          "output_type": "stream",
          "text": [
            "Computing accuracy: 100%|██████████| 12/12 [00:03<00:00,  3.07it/s]\n"
          ]
        },
        {
          "name": "stdout",
          "output_type": "stream",
          "text": [
            "Validation accuracy: 58.42% (new best)\n",
            "Checkpoint saved\n",
            "\n",
            "Epoch #37:\n"
          ]
        },
        {
          "name": "stderr",
          "output_type": "stream",
          "text": [
            "Training model: 100%|██████████| 5/5 [00:03<00:00,  1.36it/s]\n"
          ]
        },
        {
          "name": "stdout",
          "output_type": "stream",
          "text": [
            "Train loss: 2.5842985387022033\n"
          ]
        },
        {
          "name": "stderr",
          "output_type": "stream",
          "text": [
            "Computing accuracy: 100%|██████████| 12/12 [00:04<00:00,  2.98it/s]\n"
          ]
        },
        {
          "name": "stdout",
          "output_type": "stream",
          "text": [
            "Validation accuracy: 59.24% (new best)\n",
            "Checkpoint saved\n",
            "\n",
            "Epoch #38:\n"
          ]
        },
        {
          "name": "stderr",
          "output_type": "stream",
          "text": [
            "Training model: 100%|██████████| 5/5 [00:03<00:00,  1.32it/s]\n"
          ]
        },
        {
          "name": "stdout",
          "output_type": "stream",
          "text": [
            "Train loss: 2.563556744659228\n"
          ]
        },
        {
          "name": "stderr",
          "output_type": "stream",
          "text": [
            "Computing accuracy: 100%|██████████| 12/12 [00:03<00:00,  3.08it/s]\n"
          ]
        },
        {
          "name": "stdout",
          "output_type": "stream",
          "text": [
            "Validation accuracy: 60.05% (new best)\n",
            "Checkpoint saved\n",
            "\n",
            "Epoch #39:\n"
          ]
        },
        {
          "name": "stderr",
          "output_type": "stream",
          "text": [
            "Training model: 100%|██████████| 5/5 [00:03<00:00,  1.39it/s]\n"
          ]
        },
        {
          "name": "stdout",
          "output_type": "stream",
          "text": [
            "Train loss: 2.5670157867529664\n"
          ]
        },
        {
          "name": "stderr",
          "output_type": "stream",
          "text": [
            "Computing accuracy: 100%|██████████| 12/12 [00:04<00:00,  2.89it/s]\n"
          ]
        },
        {
          "name": "stdout",
          "output_type": "stream",
          "text": [
            "Validation accuracy: 61.28% (new best)\n",
            "Checkpoint saved\n",
            "\n",
            "Epoch #40:\n"
          ]
        },
        {
          "name": "stderr",
          "output_type": "stream",
          "text": [
            "Training model: 100%|██████████| 5/5 [00:03<00:00,  1.35it/s]\n"
          ]
        },
        {
          "name": "stdout",
          "output_type": "stream",
          "text": [
            "Train loss: 2.5628995338905547\n"
          ]
        },
        {
          "name": "stderr",
          "output_type": "stream",
          "text": [
            "Computing accuracy: 100%|██████████| 12/12 [00:03<00:00,  3.11it/s]\n"
          ]
        },
        {
          "name": "stdout",
          "output_type": "stream",
          "text": [
            "Validation accuracy: 61.82% (new best)\n",
            "Checkpoint saved\n",
            "\n",
            "Epoch #41:\n"
          ]
        },
        {
          "name": "stderr",
          "output_type": "stream",
          "text": [
            "Training model: 100%|██████████| 5/5 [00:03<00:00,  1.32it/s]\n"
          ]
        },
        {
          "name": "stdout",
          "output_type": "stream",
          "text": [
            "Train loss: 2.516821665222691\n"
          ]
        },
        {
          "name": "stderr",
          "output_type": "stream",
          "text": [
            "Computing accuracy: 100%|██████████| 12/12 [00:04<00:00,  2.97it/s]\n"
          ]
        },
        {
          "name": "stdout",
          "output_type": "stream",
          "text": [
            "Validation accuracy: 62.77% (new best)\n",
            "Checkpoint saved\n",
            "\n",
            "Epoch #42:\n"
          ]
        },
        {
          "name": "stderr",
          "output_type": "stream",
          "text": [
            "Training model: 100%|██████████| 5/5 [00:03<00:00,  1.36it/s]\n"
          ]
        },
        {
          "name": "stdout",
          "output_type": "stream",
          "text": [
            "Train loss: 2.502012673996756\n"
          ]
        },
        {
          "name": "stderr",
          "output_type": "stream",
          "text": [
            "Computing accuracy: 100%|██████████| 12/12 [00:03<00:00,  3.07it/s]\n"
          ]
        },
        {
          "name": "stdout",
          "output_type": "stream",
          "text": [
            "Validation accuracy: 63.32% (new best)\n",
            "Checkpoint saved\n",
            "\n",
            "Epoch #43:\n"
          ]
        },
        {
          "name": "stderr",
          "output_type": "stream",
          "text": [
            "Training model: 100%|██████████| 5/5 [00:03<00:00,  1.27it/s]\n"
          ]
        },
        {
          "name": "stdout",
          "output_type": "stream",
          "text": [
            "Train loss: 2.453954422499434\n"
          ]
        },
        {
          "name": "stderr",
          "output_type": "stream",
          "text": [
            "Computing accuracy: 100%|██████████| 12/12 [00:04<00:00,  2.95it/s]\n"
          ]
        },
        {
          "name": "stdout",
          "output_type": "stream",
          "text": [
            "Validation accuracy: 64.13% (new best)\n",
            "Checkpoint saved\n",
            "\n",
            "Epoch #44:\n"
          ]
        },
        {
          "name": "stderr",
          "output_type": "stream",
          "text": [
            "Training model: 100%|██████████| 5/5 [00:03<00:00,  1.35it/s]\n"
          ]
        },
        {
          "name": "stdout",
          "output_type": "stream",
          "text": [
            "Train loss: 2.4382129593630673\n"
          ]
        },
        {
          "name": "stderr",
          "output_type": "stream",
          "text": [
            "Computing accuracy: 100%|██████████| 12/12 [00:03<00:00,  3.01it/s]\n"
          ]
        },
        {
          "name": "stdout",
          "output_type": "stream",
          "text": [
            "Validation accuracy: 64.54% (new best)\n",
            "Checkpoint saved\n",
            "\n",
            "Epoch #45:\n"
          ]
        },
        {
          "name": "stderr",
          "output_type": "stream",
          "text": [
            "Training model: 100%|██████████| 5/5 [00:03<00:00,  1.30it/s]\n"
          ]
        },
        {
          "name": "stdout",
          "output_type": "stream",
          "text": [
            "Train loss: 2.460491997782117\n"
          ]
        },
        {
          "name": "stderr",
          "output_type": "stream",
          "text": [
            "Computing accuracy: 100%|██████████| 12/12 [00:03<00:00,  3.08it/s]\n"
          ]
        },
        {
          "name": "stdout",
          "output_type": "stream",
          "text": [
            "Validation accuracy: 65.76% (new best)\n",
            "Checkpoint saved\n",
            "\n",
            "Epoch #46:\n"
          ]
        },
        {
          "name": "stderr",
          "output_type": "stream",
          "text": [
            "Training model: 100%|██████████| 5/5 [00:03<00:00,  1.38it/s]\n"
          ]
        },
        {
          "name": "stdout",
          "output_type": "stream",
          "text": [
            "Train loss: 2.33708451442596\n"
          ]
        },
        {
          "name": "stderr",
          "output_type": "stream",
          "text": [
            "Computing accuracy: 100%|██████████| 12/12 [00:04<00:00,  2.94it/s]\n"
          ]
        },
        {
          "name": "stdout",
          "output_type": "stream",
          "text": [
            "Validation accuracy: 66.98% (new best)\n",
            "Checkpoint saved\n",
            "\n",
            "Epoch #47:\n"
          ]
        },
        {
          "name": "stderr",
          "output_type": "stream",
          "text": [
            "Training model: 100%|██████████| 5/5 [00:03<00:00,  1.37it/s]\n"
          ]
        },
        {
          "name": "stdout",
          "output_type": "stream",
          "text": [
            "Train loss: 2.390115344294644\n"
          ]
        },
        {
          "name": "stderr",
          "output_type": "stream",
          "text": [
            "Computing accuracy: 100%|██████████| 12/12 [00:03<00:00,  3.09it/s]\n"
          ]
        },
        {
          "name": "stdout",
          "output_type": "stream",
          "text": [
            "Validation accuracy: 67.12% (new best)\n",
            "Checkpoint saved\n",
            "\n",
            "Epoch #48:\n"
          ]
        },
        {
          "name": "stderr",
          "output_type": "stream",
          "text": [
            "Training model: 100%|██████████| 5/5 [00:03<00:00,  1.31it/s]\n"
          ]
        },
        {
          "name": "stdout",
          "output_type": "stream",
          "text": [
            "Train loss: 2.3187775106450474\n"
          ]
        },
        {
          "name": "stderr",
          "output_type": "stream",
          "text": [
            "Computing accuracy: 100%|██████████| 12/12 [00:04<00:00,  2.98it/s]\n"
          ]
        },
        {
          "name": "stdout",
          "output_type": "stream",
          "text": [
            "Validation accuracy: 67.53% (new best)\n",
            "Checkpoint saved\n",
            "\n",
            "Epoch #49:\n"
          ]
        },
        {
          "name": "stderr",
          "output_type": "stream",
          "text": [
            "Training model: 100%|██████████| 5/5 [00:03<00:00,  1.36it/s]\n"
          ]
        },
        {
          "name": "stdout",
          "output_type": "stream",
          "text": [
            "Train loss: 2.3398548402929205\n"
          ]
        },
        {
          "name": "stderr",
          "output_type": "stream",
          "text": [
            "Computing accuracy: 100%|██████████| 12/12 [00:03<00:00,  3.06it/s]\n"
          ]
        },
        {
          "name": "stdout",
          "output_type": "stream",
          "text": [
            "Validation accuracy: 67.93% (new best)\n",
            "Checkpoint saved\n",
            "\n",
            "Epoch #50:\n"
          ]
        },
        {
          "name": "stderr",
          "output_type": "stream",
          "text": [
            "Training model: 100%|██████████| 5/5 [00:03<00:00,  1.27it/s]\n"
          ]
        },
        {
          "name": "stdout",
          "output_type": "stream",
          "text": [
            "Train loss: 2.2482933584576754\n"
          ]
        },
        {
          "name": "stderr",
          "output_type": "stream",
          "text": [
            "Computing accuracy: 100%|██████████| 12/12 [00:03<00:00,  3.07it/s]\n"
          ]
        },
        {
          "name": "stdout",
          "output_type": "stream",
          "text": [
            "Validation accuracy: 69.43% (new best)\n",
            "Checkpoint saved\n",
            "\n",
            "Epoch #51:\n"
          ]
        },
        {
          "name": "stderr",
          "output_type": "stream",
          "text": [
            "Training model: 100%|██████████| 5/5 [00:03<00:00,  1.35it/s]\n"
          ]
        },
        {
          "name": "stdout",
          "output_type": "stream",
          "text": [
            "Train loss: 2.3090271970189358\n"
          ]
        },
        {
          "name": "stderr",
          "output_type": "stream",
          "text": [
            "Computing accuracy: 100%|██████████| 12/12 [00:03<00:00,  3.05it/s]\n"
          ]
        },
        {
          "name": "stdout",
          "output_type": "stream",
          "text": [
            "Validation accuracy: 70.24% (new best)\n",
            "Checkpoint saved\n",
            "\n",
            "Epoch #52:\n"
          ]
        },
        {
          "name": "stderr",
          "output_type": "stream",
          "text": [
            "Training model: 100%|██████████| 5/5 [00:03<00:00,  1.34it/s]\n"
          ]
        },
        {
          "name": "stdout",
          "output_type": "stream",
          "text": [
            "Train loss: 2.27155037661436\n"
          ]
        },
        {
          "name": "stderr",
          "output_type": "stream",
          "text": [
            "Computing accuracy: 100%|██████████| 12/12 [00:03<00:00,  3.08it/s]\n"
          ]
        },
        {
          "name": "stdout",
          "output_type": "stream",
          "text": [
            "Validation accuracy: 70.65% (new best)\n",
            "Checkpoint saved\n",
            "\n",
            "Epoch #53:\n"
          ]
        },
        {
          "name": "stderr",
          "output_type": "stream",
          "text": [
            "Training model: 100%|██████████| 5/5 [00:03<00:00,  1.37it/s]\n"
          ]
        },
        {
          "name": "stdout",
          "output_type": "stream",
          "text": [
            "Train loss: 2.2339763207404975\n"
          ]
        },
        {
          "name": "stderr",
          "output_type": "stream",
          "text": [
            "Computing accuracy: 100%|██████████| 12/12 [00:04<00:00,  2.95it/s]\n"
          ]
        },
        {
          "name": "stdout",
          "output_type": "stream",
          "text": [
            "Validation accuracy: 70.52% (worse than 70.65% of epoch 52)\n",
            "\n",
            "Epoch #54:\n"
          ]
        },
        {
          "name": "stderr",
          "output_type": "stream",
          "text": [
            "Training model: 100%|██████████| 5/5 [00:03<00:00,  1.35it/s]\n"
          ]
        },
        {
          "name": "stdout",
          "output_type": "stream",
          "text": [
            "Train loss: 2.2829534057886747\n"
          ]
        },
        {
          "name": "stderr",
          "output_type": "stream",
          "text": [
            "Computing accuracy: 100%|██████████| 12/12 [00:03<00:00,  3.03it/s]\n"
          ]
        },
        {
          "name": "stdout",
          "output_type": "stream",
          "text": [
            "Validation accuracy: 71.20% (new best)\n",
            "Checkpoint saved\n",
            "\n",
            "Epoch #55:\n"
          ]
        },
        {
          "name": "stderr",
          "output_type": "stream",
          "text": [
            "Training model: 100%|██████████| 5/5 [00:03<00:00,  1.35it/s]\n"
          ]
        },
        {
          "name": "stdout",
          "output_type": "stream",
          "text": [
            "Train loss: 2.188066730662638\n"
          ]
        },
        {
          "name": "stderr",
          "output_type": "stream",
          "text": [
            "Computing accuracy: 100%|██████████| 12/12 [00:04<00:00,  2.91it/s]\n"
          ]
        },
        {
          "name": "stdout",
          "output_type": "stream",
          "text": [
            "Validation accuracy: 71.60% (new best)\n",
            "Checkpoint saved\n",
            "\n",
            "Epoch #56:\n"
          ]
        },
        {
          "name": "stderr",
          "output_type": "stream",
          "text": [
            "Training model: 100%|██████████| 5/5 [00:03<00:00,  1.38it/s]\n"
          ]
        },
        {
          "name": "stdout",
          "output_type": "stream",
          "text": [
            "Train loss: 2.2266112941235496\n"
          ]
        },
        {
          "name": "stderr",
          "output_type": "stream",
          "text": [
            "Computing accuracy: 100%|██████████| 12/12 [00:03<00:00,  3.10it/s]\n"
          ]
        },
        {
          "name": "stdout",
          "output_type": "stream",
          "text": [
            "Validation accuracy: 71.88% (new best)\n",
            "Checkpoint saved\n",
            "\n",
            "Epoch #57:\n"
          ]
        },
        {
          "name": "stderr",
          "output_type": "stream",
          "text": [
            "Training model: 100%|██████████| 5/5 [00:03<00:00,  1.34it/s]\n"
          ]
        },
        {
          "name": "stdout",
          "output_type": "stream",
          "text": [
            "Train loss: 2.146974084208813\n"
          ]
        },
        {
          "name": "stderr",
          "output_type": "stream",
          "text": [
            "Computing accuracy: 100%|██████████| 12/12 [00:03<00:00,  3.07it/s]\n"
          ]
        },
        {
          "name": "stdout",
          "output_type": "stream",
          "text": [
            "Validation accuracy: 72.55% (new best)\n",
            "Checkpoint saved\n",
            "\n",
            "Epoch #58:\n"
          ]
        },
        {
          "name": "stderr",
          "output_type": "stream",
          "text": [
            "Training model: 100%|██████████| 5/5 [00:03<00:00,  1.40it/s]\n"
          ]
        },
        {
          "name": "stdout",
          "output_type": "stream",
          "text": [
            "Train loss: 2.1354440310271956\n"
          ]
        },
        {
          "name": "stderr",
          "output_type": "stream",
          "text": [
            "Computing accuracy: 100%|██████████| 12/12 [00:03<00:00,  3.08it/s]\n"
          ]
        },
        {
          "name": "stdout",
          "output_type": "stream",
          "text": [
            "Validation accuracy: 72.55% (worse than 72.55% of epoch 57)\n",
            "\n",
            "Epoch #59:\n"
          ]
        },
        {
          "name": "stderr",
          "output_type": "stream",
          "text": [
            "Training model: 100%|██████████| 5/5 [00:03<00:00,  1.27it/s]\n"
          ]
        },
        {
          "name": "stdout",
          "output_type": "stream",
          "text": [
            "Train loss: 2.1909031893507573\n"
          ]
        },
        {
          "name": "stderr",
          "output_type": "stream",
          "text": [
            "Computing accuracy: 100%|██████████| 12/12 [00:03<00:00,  3.04it/s]\n"
          ]
        },
        {
          "name": "stdout",
          "output_type": "stream",
          "text": [
            "Validation accuracy: 73.64% (new best)\n",
            "Checkpoint saved\n",
            "\n",
            "Epoch #60:\n"
          ]
        },
        {
          "name": "stderr",
          "output_type": "stream",
          "text": [
            "Training model: 100%|██████████| 5/5 [00:03<00:00,  1.36it/s]\n"
          ]
        },
        {
          "name": "stdout",
          "output_type": "stream",
          "text": [
            "Train loss: 2.1258525766703507\n"
          ]
        },
        {
          "name": "stderr",
          "output_type": "stream",
          "text": [
            "Computing accuracy: 100%|██████████| 12/12 [00:03<00:00,  3.02it/s]\n"
          ]
        },
        {
          "name": "stdout",
          "output_type": "stream",
          "text": [
            "Validation accuracy: 74.18% (new best)\n",
            "Checkpoint saved\n",
            "\n",
            "Epoch #61:\n"
          ]
        },
        {
          "name": "stderr",
          "output_type": "stream",
          "text": [
            "Training model: 100%|██████████| 5/5 [00:03<00:00,  1.30it/s]\n"
          ]
        },
        {
          "name": "stdout",
          "output_type": "stream",
          "text": [
            "Train loss: 2.108522460087974\n"
          ]
        },
        {
          "name": "stderr",
          "output_type": "stream",
          "text": [
            "Computing accuracy: 100%|██████████| 12/12 [00:03<00:00,  3.06it/s]\n"
          ]
        },
        {
          "name": "stdout",
          "output_type": "stream",
          "text": [
            "Validation accuracy: 74.73% (new best)\n",
            "Checkpoint saved\n",
            "\n",
            "Epoch #62:\n"
          ]
        },
        {
          "name": "stderr",
          "output_type": "stream",
          "text": [
            "Training model: 100%|██████████| 5/5 [00:03<00:00,  1.37it/s]\n"
          ]
        },
        {
          "name": "stdout",
          "output_type": "stream",
          "text": [
            "Train loss: 2.103926956781228\n"
          ]
        },
        {
          "name": "stderr",
          "output_type": "stream",
          "text": [
            "Computing accuracy: 100%|██████████| 12/12 [00:04<00:00,  2.82it/s]\n"
          ]
        },
        {
          "name": "stdout",
          "output_type": "stream",
          "text": [
            "Validation accuracy: 75.27% (new best)\n",
            "Checkpoint saved\n",
            "\n",
            "Epoch #63:\n"
          ]
        },
        {
          "name": "stderr",
          "output_type": "stream",
          "text": [
            "Training model: 100%|██████████| 5/5 [00:03<00:00,  1.33it/s]\n"
          ]
        },
        {
          "name": "stdout",
          "output_type": "stream",
          "text": [
            "Train loss: 2.136442939270232\n"
          ]
        },
        {
          "name": "stderr",
          "output_type": "stream",
          "text": [
            "Computing accuracy: 100%|██████████| 12/12 [00:03<00:00,  3.08it/s]\n"
          ]
        },
        {
          "name": "stdout",
          "output_type": "stream",
          "text": [
            "Validation accuracy: 75.14% (worse than 75.27% of epoch 62)\n",
            "\n",
            "Epoch #64:\n"
          ]
        },
        {
          "name": "stderr",
          "output_type": "stream",
          "text": [
            "Training model: 100%|██████████| 5/5 [00:03<00:00,  1.37it/s]\n"
          ]
        },
        {
          "name": "stdout",
          "output_type": "stream",
          "text": [
            "Train loss: 2.0644681509863387\n"
          ]
        },
        {
          "name": "stderr",
          "output_type": "stream",
          "text": [
            "Computing accuracy: 100%|██████████| 12/12 [00:04<00:00,  2.91it/s]\n"
          ]
        },
        {
          "name": "stdout",
          "output_type": "stream",
          "text": [
            "Validation accuracy: 75.54% (new best)\n",
            "Checkpoint saved\n",
            "\n",
            "Epoch #65:\n"
          ]
        },
        {
          "name": "stderr",
          "output_type": "stream",
          "text": [
            "Training model: 100%|██████████| 5/5 [00:03<00:00,  1.36it/s]\n"
          ]
        },
        {
          "name": "stdout",
          "output_type": "stream",
          "text": [
            "Train loss: 2.059056255495778\n"
          ]
        },
        {
          "name": "stderr",
          "output_type": "stream",
          "text": [
            "Computing accuracy: 100%|██████████| 12/12 [00:03<00:00,  3.08it/s]\n"
          ]
        },
        {
          "name": "stdout",
          "output_type": "stream",
          "text": [
            "Validation accuracy: 75.68% (new best)\n",
            "Checkpoint saved\n",
            "\n",
            "Epoch #66:\n"
          ]
        },
        {
          "name": "stderr",
          "output_type": "stream",
          "text": [
            "Training model: 100%|██████████| 5/5 [00:03<00:00,  1.32it/s]\n"
          ]
        },
        {
          "name": "stdout",
          "output_type": "stream",
          "text": [
            "Train loss: 2.0800815654770974\n"
          ]
        },
        {
          "name": "stderr",
          "output_type": "stream",
          "text": [
            "Computing accuracy: 100%|██████████| 12/12 [00:03<00:00,  3.06it/s]\n"
          ]
        },
        {
          "name": "stdout",
          "output_type": "stream",
          "text": [
            "Validation accuracy: 76.36% (new best)\n",
            "Checkpoint saved\n",
            "\n",
            "Epoch #67:\n"
          ]
        },
        {
          "name": "stderr",
          "output_type": "stream",
          "text": [
            "Training model: 100%|██████████| 5/5 [00:03<00:00,  1.38it/s]\n"
          ]
        },
        {
          "name": "stdout",
          "output_type": "stream",
          "text": [
            "Train loss: 2.0634006463485814\n"
          ]
        },
        {
          "name": "stderr",
          "output_type": "stream",
          "text": [
            "Computing accuracy: 100%|██████████| 12/12 [00:03<00:00,  3.11it/s]\n"
          ]
        },
        {
          "name": "stdout",
          "output_type": "stream",
          "text": [
            "Validation accuracy: 77.04% (new best)\n",
            "Checkpoint saved\n",
            "\n",
            "Epoch #68:\n"
          ]
        },
        {
          "name": "stderr",
          "output_type": "stream",
          "text": [
            "Training model: 100%|██████████| 5/5 [00:03<00:00,  1.28it/s]\n"
          ]
        },
        {
          "name": "stdout",
          "output_type": "stream",
          "text": [
            "Train loss: 2.006056353162647\n"
          ]
        },
        {
          "name": "stderr",
          "output_type": "stream",
          "text": [
            "Computing accuracy: 100%|██████████| 12/12 [00:03<00:00,  3.06it/s]\n"
          ]
        },
        {
          "name": "stdout",
          "output_type": "stream",
          "text": [
            "Validation accuracy: 77.58% (new best)\n",
            "Checkpoint saved\n",
            "\n",
            "Epoch #69:\n"
          ]
        },
        {
          "name": "stderr",
          "output_type": "stream",
          "text": [
            "Training model: 100%|██████████| 5/5 [00:03<00:00,  1.38it/s]\n"
          ]
        },
        {
          "name": "stdout",
          "output_type": "stream",
          "text": [
            "Train loss: 2.026038217340343\n"
          ]
        },
        {
          "name": "stderr",
          "output_type": "stream",
          "text": [
            "Computing accuracy: 100%|██████████| 12/12 [00:03<00:00,  3.02it/s]\n"
          ]
        },
        {
          "name": "stdout",
          "output_type": "stream",
          "text": [
            "Validation accuracy: 77.58% (worse than 77.58% of epoch 68)\n",
            "\n",
            "Epoch #70:\n"
          ]
        },
        {
          "name": "stderr",
          "output_type": "stream",
          "text": [
            "Training model: 100%|██████████| 5/5 [00:03<00:00,  1.35it/s]\n"
          ]
        },
        {
          "name": "stdout",
          "output_type": "stream",
          "text": [
            "Train loss: 2.0532021453600113\n"
          ]
        },
        {
          "name": "stderr",
          "output_type": "stream",
          "text": [
            "Computing accuracy: 100%|██████████| 12/12 [00:03<00:00,  3.07it/s]\n"
          ]
        },
        {
          "name": "stdout",
          "output_type": "stream",
          "text": [
            "Validation accuracy: 77.45% (worse than 77.58% of epoch 68)\n",
            "\n",
            "Epoch #71:\n"
          ]
        },
        {
          "name": "stderr",
          "output_type": "stream",
          "text": [
            "Training model: 100%|██████████| 5/5 [00:03<00:00,  1.38it/s]\n"
          ]
        },
        {
          "name": "stdout",
          "output_type": "stream",
          "text": [
            "Train loss: 2.0926134759915205\n"
          ]
        },
        {
          "name": "stderr",
          "output_type": "stream",
          "text": [
            "Computing accuracy: 100%|██████████| 12/12 [00:03<00:00,  3.01it/s]\n"
          ]
        },
        {
          "name": "stdout",
          "output_type": "stream",
          "text": [
            "Validation accuracy: 76.90% (worse than 77.58% of epoch 68)\n",
            "\n",
            "Epoch #72:\n"
          ]
        },
        {
          "name": "stderr",
          "output_type": "stream",
          "text": [
            "Training model: 100%|██████████| 5/5 [00:03<00:00,  1.39it/s]\n"
          ]
        },
        {
          "name": "stdout",
          "output_type": "stream",
          "text": [
            "Train loss: 2.0060486420829493\n"
          ]
        },
        {
          "name": "stderr",
          "output_type": "stream",
          "text": [
            "Computing accuracy: 100%|██████████| 12/12 [00:03<00:00,  3.10it/s]\n"
          ]
        },
        {
          "name": "stdout",
          "output_type": "stream",
          "text": [
            "Validation accuracy: 77.45% (worse than 77.58% of epoch 68)\n",
            "\n",
            "Epoch #73:\n"
          ]
        },
        {
          "name": "stderr",
          "output_type": "stream",
          "text": [
            "Training model: 100%|██████████| 5/5 [00:03<00:00,  1.38it/s]\n"
          ]
        },
        {
          "name": "stdout",
          "output_type": "stream",
          "text": [
            "Train loss: 1.9477800891537227\n"
          ]
        },
        {
          "name": "stderr",
          "output_type": "stream",
          "text": [
            "Computing accuracy: 100%|██████████| 12/12 [00:04<00:00,  2.90it/s]\n"
          ]
        },
        {
          "name": "stdout",
          "output_type": "stream",
          "text": [
            "Validation accuracy: 77.58% (worse than 77.58% of epoch 68)\n",
            "\n",
            "Epoch #74:\n"
          ]
        },
        {
          "name": "stderr",
          "output_type": "stream",
          "text": [
            "Training model: 100%|██████████| 5/5 [00:03<00:00,  1.37it/s]\n"
          ]
        },
        {
          "name": "stdout",
          "output_type": "stream",
          "text": [
            "Train loss: 2.0501764560920015\n"
          ]
        },
        {
          "name": "stderr",
          "output_type": "stream",
          "text": [
            "Computing accuracy: 100%|██████████| 12/12 [00:03<00:00,  3.09it/s]\n"
          ]
        },
        {
          "name": "stdout",
          "output_type": "stream",
          "text": [
            "Validation accuracy: 77.85% (new best)\n",
            "Checkpoint saved\n",
            "\n",
            "Epoch #75:\n"
          ]
        },
        {
          "name": "stderr",
          "output_type": "stream",
          "text": [
            "Training model: 100%|██████████| 5/5 [00:03<00:00,  1.32it/s]\n"
          ]
        },
        {
          "name": "stdout",
          "output_type": "stream",
          "text": [
            "Train loss: 1.9996656526590058\n"
          ]
        },
        {
          "name": "stderr",
          "output_type": "stream",
          "text": [
            "Computing accuracy: 100%|██████████| 12/12 [00:04<00:00,  2.98it/s]\n"
          ]
        },
        {
          "name": "stdout",
          "output_type": "stream",
          "text": [
            "Validation accuracy: 78.12% (new best)\n",
            "Checkpoint saved\n",
            "\n",
            "Epoch #76:\n"
          ]
        },
        {
          "name": "stderr",
          "output_type": "stream",
          "text": [
            "Training model: 100%|██████████| 5/5 [00:03<00:00,  1.37it/s]\n"
          ]
        },
        {
          "name": "stdout",
          "output_type": "stream",
          "text": [
            "Train loss: 1.933818515414089\n"
          ]
        },
        {
          "name": "stderr",
          "output_type": "stream",
          "text": [
            "Computing accuracy: 100%|██████████| 12/12 [00:03<00:00,  3.09it/s]\n"
          ]
        },
        {
          "name": "stdout",
          "output_type": "stream",
          "text": [
            "Validation accuracy: 78.40% (new best)\n",
            "Checkpoint saved\n",
            "\n",
            "Epoch #77:\n"
          ]
        },
        {
          "name": "stderr",
          "output_type": "stream",
          "text": [
            "Training model: 100%|██████████| 5/5 [00:03<00:00,  1.33it/s]\n"
          ]
        },
        {
          "name": "stdout",
          "output_type": "stream",
          "text": [
            "Train loss: 1.8926560442248554\n"
          ]
        },
        {
          "name": "stderr",
          "output_type": "stream",
          "text": [
            "Computing accuracy: 100%|██████████| 12/12 [00:03<00:00,  3.06it/s]\n"
          ]
        },
        {
          "name": "stdout",
          "output_type": "stream",
          "text": [
            "Validation accuracy: 79.48% (new best)\n",
            "Checkpoint saved\n",
            "\n",
            "Epoch #78:\n"
          ]
        },
        {
          "name": "stderr",
          "output_type": "stream",
          "text": [
            "Training model: 100%|██████████| 5/5 [00:03<00:00,  1.40it/s]\n"
          ]
        },
        {
          "name": "stdout",
          "output_type": "stream",
          "text": [
            "Train loss: 1.8622574265049152\n"
          ]
        },
        {
          "name": "stderr",
          "output_type": "stream",
          "text": [
            "Computing accuracy: 100%|██████████| 12/12 [00:03<00:00,  3.05it/s]\n"
          ]
        },
        {
          "name": "stdout",
          "output_type": "stream",
          "text": [
            "Validation accuracy: 79.48% (worse than 79.48% of epoch 77)\n",
            "\n",
            "Epoch #79:\n"
          ]
        },
        {
          "name": "stderr",
          "output_type": "stream",
          "text": [
            "Training model: 100%|██████████| 5/5 [00:03<00:00,  1.30it/s]\n"
          ]
        },
        {
          "name": "stdout",
          "output_type": "stream",
          "text": [
            "Train loss: 2.0154649537431606\n"
          ]
        },
        {
          "name": "stderr",
          "output_type": "stream",
          "text": [
            "Computing accuracy: 100%|██████████| 12/12 [00:03<00:00,  3.09it/s]\n"
          ]
        },
        {
          "name": "stdout",
          "output_type": "stream",
          "text": [
            "Validation accuracy: 80.16% (new best)\n",
            "Checkpoint saved\n",
            "\n",
            "Epoch #80:\n"
          ]
        },
        {
          "name": "stderr",
          "output_type": "stream",
          "text": [
            "Training model: 100%|██████████| 5/5 [00:03<00:00,  1.31it/s]\n"
          ]
        },
        {
          "name": "stdout",
          "output_type": "stream",
          "text": [
            "Train loss: 1.9549874963290685\n"
          ]
        },
        {
          "name": "stderr",
          "output_type": "stream",
          "text": [
            "Computing accuracy: 100%|██████████| 12/12 [00:04<00:00,  2.98it/s]\n"
          ]
        },
        {
          "name": "stdout",
          "output_type": "stream",
          "text": [
            "Validation accuracy: 80.57% (new best)\n",
            "Checkpoint saved\n",
            "\n",
            "Epoch #81:\n"
          ]
        },
        {
          "name": "stderr",
          "output_type": "stream",
          "text": [
            "Training model: 100%|██████████| 5/5 [00:03<00:00,  1.30it/s]\n"
          ]
        },
        {
          "name": "stdout",
          "output_type": "stream",
          "text": [
            "Train loss: 1.8599644031463394\n"
          ]
        },
        {
          "name": "stderr",
          "output_type": "stream",
          "text": [
            "Computing accuracy: 100%|██████████| 12/12 [00:03<00:00,  3.06it/s]\n"
          ]
        },
        {
          "name": "stdout",
          "output_type": "stream",
          "text": [
            "Validation accuracy: 80.71% (new best)\n",
            "Checkpoint saved\n",
            "\n",
            "Epoch #82:\n"
          ]
        },
        {
          "name": "stderr",
          "output_type": "stream",
          "text": [
            "Training model: 100%|██████████| 5/5 [00:03<00:00,  1.33it/s]\n"
          ]
        },
        {
          "name": "stdout",
          "output_type": "stream",
          "text": [
            "Train loss: 1.9165314275141192\n"
          ]
        },
        {
          "name": "stderr",
          "output_type": "stream",
          "text": [
            "Computing accuracy: 100%|██████████| 12/12 [00:04<00:00,  2.99it/s]\n"
          ]
        },
        {
          "name": "stdout",
          "output_type": "stream",
          "text": [
            "Validation accuracy: 81.11% (new best)\n",
            "Checkpoint saved\n",
            "\n",
            "Epoch #83:\n"
          ]
        },
        {
          "name": "stderr",
          "output_type": "stream",
          "text": [
            "Training model: 100%|██████████| 5/5 [00:03<00:00,  1.37it/s]\n"
          ]
        },
        {
          "name": "stdout",
          "output_type": "stream",
          "text": [
            "Train loss: 1.8986855957186453\n"
          ]
        },
        {
          "name": "stderr",
          "output_type": "stream",
          "text": [
            "Computing accuracy: 100%|██████████| 12/12 [00:03<00:00,  3.09it/s]\n"
          ]
        },
        {
          "name": "stdout",
          "output_type": "stream",
          "text": [
            "Validation accuracy: 81.25% (new best)\n",
            "Checkpoint saved\n",
            "\n",
            "Epoch #84:\n"
          ]
        },
        {
          "name": "stderr",
          "output_type": "stream",
          "text": [
            "Training model: 100%|██████████| 5/5 [00:03<00:00,  1.33it/s]\n"
          ]
        },
        {
          "name": "stdout",
          "output_type": "stream",
          "text": [
            "Train loss: 1.8750490601108722\n"
          ]
        },
        {
          "name": "stderr",
          "output_type": "stream",
          "text": [
            "Computing accuracy: 100%|██████████| 12/12 [00:03<00:00,  3.03it/s]\n"
          ]
        },
        {
          "name": "stdout",
          "output_type": "stream",
          "text": [
            "Validation accuracy: 81.79% (new best)\n",
            "Checkpoint saved\n",
            "\n",
            "Epoch #85:\n"
          ]
        },
        {
          "name": "stderr",
          "output_type": "stream",
          "text": [
            "Training model: 100%|██████████| 5/5 [00:03<00:00,  1.37it/s]\n"
          ]
        },
        {
          "name": "stdout",
          "output_type": "stream",
          "text": [
            "Train loss: 1.862957124281236\n"
          ]
        },
        {
          "name": "stderr",
          "output_type": "stream",
          "text": [
            "Computing accuracy: 100%|██████████| 12/12 [00:03<00:00,  3.04it/s]\n"
          ]
        },
        {
          "name": "stdout",
          "output_type": "stream",
          "text": [
            "Validation accuracy: 81.79% (worse than 81.79% of epoch 84)\n",
            "\n",
            "Epoch #86:\n"
          ]
        },
        {
          "name": "stderr",
          "output_type": "stream",
          "text": [
            "Training model: 100%|██████████| 5/5 [00:03<00:00,  1.27it/s]\n"
          ]
        },
        {
          "name": "stdout",
          "output_type": "stream",
          "text": [
            "Train loss: 1.858899795524058\n"
          ]
        },
        {
          "name": "stderr",
          "output_type": "stream",
          "text": [
            "Computing accuracy: 100%|██████████| 12/12 [00:03<00:00,  3.07it/s]\n"
          ]
        },
        {
          "name": "stdout",
          "output_type": "stream",
          "text": [
            "Validation accuracy: 81.93% (new best)\n",
            "Checkpoint saved\n",
            "\n",
            "Epoch #87:\n"
          ]
        },
        {
          "name": "stderr",
          "output_type": "stream",
          "text": [
            "Training model: 100%|██████████| 5/5 [00:03<00:00,  1.38it/s]\n"
          ]
        },
        {
          "name": "stdout",
          "output_type": "stream",
          "text": [
            "Train loss: 1.7909204673971302\n"
          ]
        },
        {
          "name": "stderr",
          "output_type": "stream",
          "text": [
            "Computing accuracy: 100%|██████████| 12/12 [00:03<00:00,  3.07it/s]\n"
          ]
        },
        {
          "name": "stdout",
          "output_type": "stream",
          "text": [
            "Validation accuracy: 82.20% (new best)\n",
            "Checkpoint saved\n",
            "\n",
            "Epoch #88:\n"
          ]
        },
        {
          "name": "stderr",
          "output_type": "stream",
          "text": [
            "Training model: 100%|██████████| 5/5 [00:03<00:00,  1.35it/s]\n"
          ]
        },
        {
          "name": "stdout",
          "output_type": "stream",
          "text": [
            "Train loss: 1.8870048140050002\n"
          ]
        },
        {
          "name": "stderr",
          "output_type": "stream",
          "text": [
            "Computing accuracy: 100%|██████████| 12/12 [00:03<00:00,  3.12it/s]\n"
          ]
        },
        {
          "name": "stdout",
          "output_type": "stream",
          "text": [
            "Validation accuracy: 82.20% (worse than 82.20% of epoch 87)\n",
            "\n",
            "Epoch #89:\n"
          ]
        },
        {
          "name": "stderr",
          "output_type": "stream",
          "text": [
            "Training model: 100%|██████████| 5/5 [00:03<00:00,  1.40it/s]\n"
          ]
        },
        {
          "name": "stdout",
          "output_type": "stream",
          "text": [
            "Train loss: 1.8563139134862439\n"
          ]
        },
        {
          "name": "stderr",
          "output_type": "stream",
          "text": [
            "Computing accuracy: 100%|██████████| 12/12 [00:03<00:00,  3.03it/s]\n"
          ]
        },
        {
          "name": "stdout",
          "output_type": "stream",
          "text": [
            "Validation accuracy: 81.93% (worse than 82.20% of epoch 87)\n",
            "\n",
            "Epoch #90:\n"
          ]
        },
        {
          "name": "stderr",
          "output_type": "stream",
          "text": [
            "Training model: 100%|██████████| 5/5 [00:03<00:00,  1.36it/s]\n"
          ]
        },
        {
          "name": "stdout",
          "output_type": "stream",
          "text": [
            "Train loss: 1.861458995868103\n"
          ]
        },
        {
          "name": "stderr",
          "output_type": "stream",
          "text": [
            "Computing accuracy: 100%|██████████| 12/12 [00:03<00:00,  3.13it/s]\n"
          ]
        },
        {
          "name": "stdout",
          "output_type": "stream",
          "text": [
            "Validation accuracy: 82.20% (worse than 82.20% of epoch 87)\n",
            "\n",
            "Epoch #91:\n"
          ]
        },
        {
          "name": "stderr",
          "output_type": "stream",
          "text": [
            "Training model: 100%|██████████| 5/5 [00:03<00:00,  1.38it/s]\n"
          ]
        },
        {
          "name": "stdout",
          "output_type": "stream",
          "text": [
            "Train loss: 1.782632561005668\n"
          ]
        },
        {
          "name": "stderr",
          "output_type": "stream",
          "text": [
            "Computing accuracy: 100%|██████████| 12/12 [00:04<00:00,  2.87it/s]\n"
          ]
        },
        {
          "name": "stdout",
          "output_type": "stream",
          "text": [
            "Validation accuracy: 82.07% (worse than 82.20% of epoch 87)\n",
            "\n",
            "Epoch #92:\n"
          ]
        },
        {
          "name": "stderr",
          "output_type": "stream",
          "text": [
            "Training model: 100%|██████████| 5/5 [00:03<00:00,  1.37it/s]\n"
          ]
        },
        {
          "name": "stdout",
          "output_type": "stream",
          "text": [
            "Train loss: 1.8605401342379715\n"
          ]
        },
        {
          "name": "stderr",
          "output_type": "stream",
          "text": [
            "Computing accuracy: 100%|██████████| 12/12 [00:03<00:00,  3.09it/s]\n"
          ]
        },
        {
          "name": "stdout",
          "output_type": "stream",
          "text": [
            "Validation accuracy: 82.47% (new best)\n",
            "Checkpoint saved\n",
            "\n",
            "Epoch #93:\n"
          ]
        },
        {
          "name": "stderr",
          "output_type": "stream",
          "text": [
            "Training model: 100%|██████████| 5/5 [00:03<00:00,  1.28it/s]\n"
          ]
        },
        {
          "name": "stdout",
          "output_type": "stream",
          "text": [
            "Train loss: 1.8167389069685844\n"
          ]
        },
        {
          "name": "stderr",
          "output_type": "stream",
          "text": [
            "Computing accuracy: 100%|██████████| 12/12 [00:03<00:00,  3.04it/s]\n"
          ]
        },
        {
          "name": "stdout",
          "output_type": "stream",
          "text": [
            "Validation accuracy: 82.74% (new best)\n",
            "Checkpoint saved\n",
            "\n",
            "Epoch #94:\n"
          ]
        },
        {
          "name": "stderr",
          "output_type": "stream",
          "text": [
            "Training model: 100%|██████████| 5/5 [00:03<00:00,  1.40it/s]\n"
          ]
        },
        {
          "name": "stdout",
          "output_type": "stream",
          "text": [
            "Train loss: 1.7447626470753672\n"
          ]
        },
        {
          "name": "stderr",
          "output_type": "stream",
          "text": [
            "Computing accuracy: 100%|██████████| 12/12 [00:03<00:00,  3.11it/s]\n"
          ]
        },
        {
          "name": "stdout",
          "output_type": "stream",
          "text": [
            "Validation accuracy: 82.74% (worse than 82.74% of epoch 93)\n",
            "\n",
            "Epoch #95:\n"
          ]
        },
        {
          "name": "stderr",
          "output_type": "stream",
          "text": [
            "Training model: 100%|██████████| 5/5 [00:03<00:00,  1.34it/s]\n"
          ]
        },
        {
          "name": "stdout",
          "output_type": "stream",
          "text": [
            "Train loss: 1.911753203424703\n"
          ]
        },
        {
          "name": "stderr",
          "output_type": "stream",
          "text": [
            "Computing accuracy: 100%|██████████| 12/12 [00:03<00:00,  3.09it/s]\n"
          ]
        },
        {
          "name": "stdout",
          "output_type": "stream",
          "text": [
            "Validation accuracy: 83.29% (new best)\n",
            "Checkpoint saved\n",
            "\n",
            "Epoch #96:\n"
          ]
        },
        {
          "name": "stderr",
          "output_type": "stream",
          "text": [
            "Training model: 100%|██████████| 5/5 [00:03<00:00,  1.38it/s]\n"
          ]
        },
        {
          "name": "stdout",
          "output_type": "stream",
          "text": [
            "Train loss: 1.7970804933307003\n"
          ]
        },
        {
          "name": "stderr",
          "output_type": "stream",
          "text": [
            "Computing accuracy: 100%|██████████| 12/12 [00:03<00:00,  3.03it/s]\n"
          ]
        },
        {
          "name": "stdout",
          "output_type": "stream",
          "text": [
            "Validation accuracy: 83.97% (new best)\n",
            "Checkpoint saved\n",
            "\n",
            "Epoch #97:\n"
          ]
        },
        {
          "name": "stderr",
          "output_type": "stream",
          "text": [
            "Training model: 100%|██████████| 5/5 [00:03<00:00,  1.32it/s]\n"
          ]
        },
        {
          "name": "stdout",
          "output_type": "stream",
          "text": [
            "Train loss: 1.812612549651103\n"
          ]
        },
        {
          "name": "stderr",
          "output_type": "stream",
          "text": [
            "Computing accuracy: 100%|██████████| 12/12 [00:03<00:00,  3.13it/s]\n"
          ]
        },
        {
          "name": "stdout",
          "output_type": "stream",
          "text": [
            "Validation accuracy: 83.97% (worse than 83.97% of epoch 96)\n",
            "\n",
            "Epoch #98:\n"
          ]
        },
        {
          "name": "stderr",
          "output_type": "stream",
          "text": [
            "Training model: 100%|██████████| 5/5 [00:03<00:00,  1.35it/s]\n"
          ]
        },
        {
          "name": "stdout",
          "output_type": "stream",
          "text": [
            "Train loss: 1.8359340661598222\n"
          ]
        },
        {
          "name": "stderr",
          "output_type": "stream",
          "text": [
            "Computing accuracy: 100%|██████████| 12/12 [00:03<00:00,  3.01it/s]\n"
          ]
        },
        {
          "name": "stdout",
          "output_type": "stream",
          "text": [
            "Validation accuracy: 84.38% (new best)\n",
            "Checkpoint saved\n",
            "\n",
            "Epoch #99:\n"
          ]
        },
        {
          "name": "stderr",
          "output_type": "stream",
          "text": [
            "Training model: 100%|██████████| 5/5 [00:03<00:00,  1.27it/s]\n"
          ]
        },
        {
          "name": "stdout",
          "output_type": "stream",
          "text": [
            "Train loss: 1.8462357829929164\n"
          ]
        },
        {
          "name": "stderr",
          "output_type": "stream",
          "text": [
            "Computing accuracy: 100%|██████████| 12/12 [00:03<00:00,  3.10it/s]\n"
          ]
        },
        {
          "name": "stdout",
          "output_type": "stream",
          "text": [
            "Validation accuracy: 84.51% (new best)\n",
            "Checkpoint saved\n",
            "\n",
            "Epoch #100:\n"
          ]
        },
        {
          "name": "stderr",
          "output_type": "stream",
          "text": [
            "Training model: 100%|██████████| 5/5 [00:03<00:00,  1.34it/s]\n"
          ]
        },
        {
          "name": "stdout",
          "output_type": "stream",
          "text": [
            "Train loss: 1.7820098463932503\n"
          ]
        },
        {
          "name": "stderr",
          "output_type": "stream",
          "text": [
            "Computing accuracy: 100%|██████████| 12/12 [00:04<00:00,  2.92it/s]\n"
          ]
        },
        {
          "name": "stdout",
          "output_type": "stream",
          "text": [
            "Validation accuracy: 84.51% (worse than 84.51% of epoch 99)\n",
            "\n",
            "Epoch #101:\n"
          ]
        },
        {
          "name": "stderr",
          "output_type": "stream",
          "text": [
            "Training model: 100%|██████████| 5/5 [00:03<00:00,  1.39it/s]\n"
          ]
        },
        {
          "name": "stdout",
          "output_type": "stream",
          "text": [
            "Train loss: 1.8047990362445088\n"
          ]
        },
        {
          "name": "stderr",
          "output_type": "stream",
          "text": [
            "Computing accuracy: 100%|██████████| 12/12 [00:03<00:00,  3.07it/s]\n"
          ]
        },
        {
          "name": "stdout",
          "output_type": "stream",
          "text": [
            "Validation accuracy: 83.83% (worse than 84.51% of epoch 99)\n",
            "\n",
            "Epoch #102:\n"
          ]
        },
        {
          "name": "stderr",
          "output_type": "stream",
          "text": [
            "Training model: 100%|██████████| 5/5 [00:03<00:00,  1.29it/s]\n"
          ]
        },
        {
          "name": "stdout",
          "output_type": "stream",
          "text": [
            "Train loss: 1.823029711363913\n"
          ]
        },
        {
          "name": "stderr",
          "output_type": "stream",
          "text": [
            "Computing accuracy: 100%|██████████| 12/12 [00:04<00:00,  3.00it/s]\n"
          ]
        },
        {
          "name": "stdout",
          "output_type": "stream",
          "text": [
            "Validation accuracy: 84.10% (worse than 84.51% of epoch 99)\n",
            "\n",
            "Epoch #103:\n"
          ]
        },
        {
          "name": "stderr",
          "output_type": "stream",
          "text": [
            "Training model: 100%|██████████| 5/5 [00:03<00:00,  1.38it/s]\n"
          ]
        },
        {
          "name": "stdout",
          "output_type": "stream",
          "text": [
            "Train loss: 1.716457885133633\n"
          ]
        },
        {
          "name": "stderr",
          "output_type": "stream",
          "text": [
            "Computing accuracy: 100%|██████████| 12/12 [00:03<00:00,  3.12it/s]\n"
          ]
        },
        {
          "name": "stdout",
          "output_type": "stream",
          "text": [
            "Validation accuracy: 83.83% (worse than 84.51% of epoch 99)\n",
            "\n",
            "Epoch #104:\n"
          ]
        },
        {
          "name": "stderr",
          "output_type": "stream",
          "text": [
            "Training model: 100%|██████████| 5/5 [00:03<00:00,  1.35it/s]\n"
          ]
        },
        {
          "name": "stdout",
          "output_type": "stream",
          "text": [
            "Train loss: 1.7858235557788955\n"
          ]
        },
        {
          "name": "stderr",
          "output_type": "stream",
          "text": [
            "Computing accuracy: 100%|██████████| 12/12 [00:03<00:00,  3.08it/s]\n"
          ]
        },
        {
          "name": "stdout",
          "output_type": "stream",
          "text": [
            "Validation accuracy: 83.83% (worse than 84.51% of epoch 99)\n",
            "\n",
            "Epoch #105:\n"
          ]
        },
        {
          "name": "stderr",
          "output_type": "stream",
          "text": [
            "Training model: 100%|██████████| 5/5 [00:03<00:00,  1.38it/s]\n"
          ]
        },
        {
          "name": "stdout",
          "output_type": "stream",
          "text": [
            "Train loss: 1.7396734312208613\n"
          ]
        },
        {
          "name": "stderr",
          "output_type": "stream",
          "text": [
            "Computing accuracy: 100%|██████████| 12/12 [00:03<00:00,  3.05it/s]\n"
          ]
        },
        {
          "name": "stdout",
          "output_type": "stream",
          "text": [
            "Validation accuracy: 83.97% (worse than 84.51% of epoch 99)\n",
            "\n",
            "Epoch #106:\n"
          ]
        },
        {
          "name": "stderr",
          "output_type": "stream",
          "text": [
            "Training model: 100%|██████████| 5/5 [00:03<00:00,  1.32it/s]\n"
          ]
        },
        {
          "name": "stdout",
          "output_type": "stream",
          "text": [
            "Train loss: 1.7725620578647425\n"
          ]
        },
        {
          "name": "stderr",
          "output_type": "stream",
          "text": [
            "Computing accuracy: 100%|██████████| 12/12 [00:03<00:00,  3.11it/s]\n"
          ]
        },
        {
          "name": "stdout",
          "output_type": "stream",
          "text": [
            "Validation accuracy: 84.10% (worse than 84.51% of epoch 99)\n",
            "\n",
            "Epoch #107:\n"
          ]
        },
        {
          "name": "stderr",
          "output_type": "stream",
          "text": [
            "Training model: 100%|██████████| 5/5 [00:03<00:00,  1.36it/s]\n"
          ]
        },
        {
          "name": "stdout",
          "output_type": "stream",
          "text": [
            "Train loss: 1.7014520880496986\n"
          ]
        },
        {
          "name": "stderr",
          "output_type": "stream",
          "text": [
            "Computing accuracy: 100%|██████████| 12/12 [00:04<00:00,  2.95it/s]\n"
          ]
        },
        {
          "name": "stdout",
          "output_type": "stream",
          "text": [
            "Validation accuracy: 84.24% (worse than 84.51% of epoch 99)\n",
            "\n",
            "Epoch #108:\n"
          ]
        },
        {
          "name": "stderr",
          "output_type": "stream",
          "text": [
            "Training model: 100%|██████████| 5/5 [00:03<00:00,  1.35it/s]\n"
          ]
        },
        {
          "name": "stdout",
          "output_type": "stream",
          "text": [
            "Train loss: 1.7240018096674687\n"
          ]
        },
        {
          "name": "stderr",
          "output_type": "stream",
          "text": [
            "Computing accuracy: 100%|██████████| 12/12 [00:03<00:00,  3.07it/s]\n"
          ]
        },
        {
          "name": "stdout",
          "output_type": "stream",
          "text": [
            "Validation accuracy: 84.65% (new best)\n",
            "Checkpoint saved\n",
            "\n",
            "Epoch #109:\n"
          ]
        },
        {
          "name": "stderr",
          "output_type": "stream",
          "text": [
            "Training model: 100%|██████████| 5/5 [00:03<00:00,  1.38it/s]\n"
          ]
        },
        {
          "name": "stdout",
          "output_type": "stream",
          "text": [
            "Train loss: 1.7842029463300357\n"
          ]
        },
        {
          "name": "stderr",
          "output_type": "stream",
          "text": [
            "Computing accuracy: 100%|██████████| 12/12 [00:04<00:00,  2.94it/s]\n"
          ]
        },
        {
          "name": "stdout",
          "output_type": "stream",
          "text": [
            "Validation accuracy: 84.51% (worse than 84.65% of epoch 108)\n",
            "\n",
            "Epoch #110:\n"
          ]
        },
        {
          "name": "stderr",
          "output_type": "stream",
          "text": [
            "Training model: 100%|██████████| 5/5 [00:03<00:00,  1.36it/s]\n"
          ]
        },
        {
          "name": "stdout",
          "output_type": "stream",
          "text": [
            "Train loss: 1.6438334286851086\n"
          ]
        },
        {
          "name": "stderr",
          "output_type": "stream",
          "text": [
            "Computing accuracy: 100%|██████████| 12/12 [00:03<00:00,  3.10it/s]\n"
          ]
        },
        {
          "name": "stdout",
          "output_type": "stream",
          "text": [
            "Validation accuracy: 84.92% (new best)\n",
            "Checkpoint saved\n",
            "\n",
            "Epoch #111:\n"
          ]
        },
        {
          "name": "stderr",
          "output_type": "stream",
          "text": [
            "Training model: 100%|██████████| 5/5 [00:03<00:00,  1.38it/s]\n"
          ]
        },
        {
          "name": "stdout",
          "output_type": "stream",
          "text": [
            "Train loss: 1.8056457734465343\n"
          ]
        },
        {
          "name": "stderr",
          "output_type": "stream",
          "text": [
            "Computing accuracy: 100%|██████████| 12/12 [00:03<00:00,  3.00it/s]\n"
          ]
        },
        {
          "name": "stdout",
          "output_type": "stream",
          "text": [
            "Validation accuracy: 84.78% (worse than 84.92% of epoch 110)\n",
            "\n",
            "Epoch #112:\n"
          ]
        },
        {
          "name": "stderr",
          "output_type": "stream",
          "text": [
            "Training model: 100%|██████████| 5/5 [00:03<00:00,  1.38it/s]\n"
          ]
        },
        {
          "name": "stdout",
          "output_type": "stream",
          "text": [
            "Train loss: 1.6534678611816636\n"
          ]
        },
        {
          "name": "stderr",
          "output_type": "stream",
          "text": [
            "Computing accuracy: 100%|██████████| 12/12 [00:03<00:00,  3.09it/s]\n"
          ]
        },
        {
          "name": "stdout",
          "output_type": "stream",
          "text": [
            "Validation accuracy: 84.78% (worse than 84.92% of epoch 110)\n",
            "\n",
            "Epoch #113:\n"
          ]
        },
        {
          "name": "stderr",
          "output_type": "stream",
          "text": [
            "Training model: 100%|██████████| 5/5 [00:03<00:00,  1.38it/s]\n"
          ]
        },
        {
          "name": "stdout",
          "output_type": "stream",
          "text": [
            "Train loss: 1.7232109336322075\n"
          ]
        },
        {
          "name": "stderr",
          "output_type": "stream",
          "text": [
            "Computing accuracy: 100%|██████████| 12/12 [00:03<00:00,  3.07it/s]\n"
          ]
        },
        {
          "name": "stdout",
          "output_type": "stream",
          "text": [
            "Validation accuracy: 84.78% (worse than 84.92% of epoch 110)\n",
            "\n",
            "Epoch #114:\n"
          ]
        },
        {
          "name": "stderr",
          "output_type": "stream",
          "text": [
            "Training model: 100%|██████████| 5/5 [00:03<00:00,  1.35it/s]\n"
          ]
        },
        {
          "name": "stdout",
          "output_type": "stream",
          "text": [
            "Train loss: 1.693025268119714\n"
          ]
        },
        {
          "name": "stderr",
          "output_type": "stream",
          "text": [
            "Computing accuracy: 100%|██████████| 12/12 [00:03<00:00,  3.10it/s]\n"
          ]
        },
        {
          "name": "stdout",
          "output_type": "stream",
          "text": [
            "Validation accuracy: 84.92% (worse than 84.92% of epoch 110)\n",
            "\n",
            "Epoch #115:\n"
          ]
        },
        {
          "name": "stderr",
          "output_type": "stream",
          "text": [
            "Training model: 100%|██████████| 5/5 [00:03<00:00,  1.29it/s]\n"
          ]
        },
        {
          "name": "stdout",
          "output_type": "stream",
          "text": [
            "Train loss: 1.6861064980321063\n"
          ]
        },
        {
          "name": "stderr",
          "output_type": "stream",
          "text": [
            "Computing accuracy: 100%|██████████| 12/12 [00:03<00:00,  3.09it/s]\n"
          ]
        },
        {
          "name": "stdout",
          "output_type": "stream",
          "text": [
            "Validation accuracy: 84.92% (worse than 84.92% of epoch 110)\n",
            "\n",
            "Epoch #116:\n"
          ]
        },
        {
          "name": "stderr",
          "output_type": "stream",
          "text": [
            "Training model: 100%|██████████| 5/5 [00:03<00:00,  1.37it/s]\n"
          ]
        },
        {
          "name": "stdout",
          "output_type": "stream",
          "text": [
            "Train loss: 1.6853008224315766\n"
          ]
        },
        {
          "name": "stderr",
          "output_type": "stream",
          "text": [
            "Computing accuracy: 100%|██████████| 12/12 [00:03<00:00,  3.04it/s]\n"
          ]
        },
        {
          "name": "stdout",
          "output_type": "stream",
          "text": [
            "Validation accuracy: 85.19% (new best)\n",
            "Checkpoint saved\n",
            "\n",
            "Epoch #117:\n"
          ]
        },
        {
          "name": "stderr",
          "output_type": "stream",
          "text": [
            "Training model: 100%|██████████| 5/5 [00:03<00:00,  1.30it/s]\n"
          ]
        },
        {
          "name": "stdout",
          "output_type": "stream",
          "text": [
            "Train loss: 1.7040941306814648\n"
          ]
        },
        {
          "name": "stderr",
          "output_type": "stream",
          "text": [
            "Computing accuracy: 100%|██████████| 12/12 [00:03<00:00,  3.10it/s]\n"
          ]
        },
        {
          "name": "stdout",
          "output_type": "stream",
          "text": [
            "Validation accuracy: 85.05% (worse than 85.19% of epoch 116)\n",
            "\n",
            "Epoch #118:\n"
          ]
        },
        {
          "name": "stderr",
          "output_type": "stream",
          "text": [
            "Training model: 100%|██████████| 5/5 [00:03<00:00,  1.33it/s]\n"
          ]
        },
        {
          "name": "stdout",
          "output_type": "stream",
          "text": [
            "Train loss: 1.6387885589415818\n"
          ]
        },
        {
          "name": "stderr",
          "output_type": "stream",
          "text": [
            "Computing accuracy: 100%|██████████| 12/12 [00:04<00:00,  2.96it/s]\n"
          ]
        },
        {
          "name": "stdout",
          "output_type": "stream",
          "text": [
            "Validation accuracy: 85.05% (worse than 85.19% of epoch 116)\n",
            "\n",
            "Epoch #119:\n"
          ]
        },
        {
          "name": "stderr",
          "output_type": "stream",
          "text": [
            "Training model: 100%|██████████| 5/5 [00:03<00:00,  1.37it/s]\n"
          ]
        },
        {
          "name": "stdout",
          "output_type": "stream",
          "text": [
            "Train loss: 1.6376218989778637\n"
          ]
        },
        {
          "name": "stderr",
          "output_type": "stream",
          "text": [
            "Computing accuracy: 100%|██████████| 12/12 [00:03<00:00,  3.11it/s]\n"
          ]
        },
        {
          "name": "stdout",
          "output_type": "stream",
          "text": [
            "Validation accuracy: 85.19% (worse than 85.19% of epoch 116)\n",
            "\n",
            "Epoch #120:\n"
          ]
        },
        {
          "name": "stderr",
          "output_type": "stream",
          "text": [
            "Training model: 100%|██████████| 5/5 [00:03<00:00,  1.39it/s]\n"
          ]
        },
        {
          "name": "stdout",
          "output_type": "stream",
          "text": [
            "Train loss: 1.6260876058255835\n"
          ]
        },
        {
          "name": "stderr",
          "output_type": "stream",
          "text": [
            "Computing accuracy: 100%|██████████| 12/12 [00:04<00:00,  2.88it/s]\n"
          ]
        },
        {
          "name": "stdout",
          "output_type": "stream",
          "text": [
            "Validation accuracy: 84.92% (worse than 85.19% of epoch 116)\n",
            "\n",
            "Epoch #121:\n"
          ]
        },
        {
          "name": "stderr",
          "output_type": "stream",
          "text": [
            "Training model: 100%|██████████| 5/5 [00:03<00:00,  1.38it/s]\n"
          ]
        },
        {
          "name": "stdout",
          "output_type": "stream",
          "text": [
            "Train loss: 1.6481593574140005\n"
          ]
        },
        {
          "name": "stderr",
          "output_type": "stream",
          "text": [
            "Computing accuracy: 100%|██████████| 12/12 [00:03<00:00,  3.07it/s]\n"
          ]
        },
        {
          "name": "stdout",
          "output_type": "stream",
          "text": [
            "Validation accuracy: 84.78% (worse than 85.19% of epoch 116)\n",
            "\n",
            "Epoch #122:\n"
          ]
        },
        {
          "name": "stderr",
          "output_type": "stream",
          "text": [
            "Training model: 100%|██████████| 5/5 [00:03<00:00,  1.35it/s]\n"
          ]
        },
        {
          "name": "stdout",
          "output_type": "stream",
          "text": [
            "Train loss: 1.693514717467592\n"
          ]
        },
        {
          "name": "stderr",
          "output_type": "stream",
          "text": [
            "Computing accuracy: 100%|██████████| 12/12 [00:04<00:00,  2.96it/s]\n"
          ]
        },
        {
          "name": "stdout",
          "output_type": "stream",
          "text": [
            "Validation accuracy: 84.78% (worse than 85.19% of epoch 116)\n",
            "\n",
            "Epoch #123:\n"
          ]
        },
        {
          "name": "stderr",
          "output_type": "stream",
          "text": [
            "Training model: 100%|██████████| 5/5 [00:03<00:00,  1.40it/s]\n"
          ]
        },
        {
          "name": "stdout",
          "output_type": "stream",
          "text": [
            "Train loss: 1.6113258531313126\n"
          ]
        },
        {
          "name": "stderr",
          "output_type": "stream",
          "text": [
            "Computing accuracy: 100%|██████████| 12/12 [00:03<00:00,  3.12it/s]\n"
          ]
        },
        {
          "name": "stdout",
          "output_type": "stream",
          "text": [
            "Validation accuracy: 85.05% (worse than 85.19% of epoch 116)\n",
            "\n",
            "Epoch #124:\n"
          ]
        },
        {
          "name": "stderr",
          "output_type": "stream",
          "text": [
            "Training model: 100%|██████████| 5/5 [00:03<00:00,  1.31it/s]\n"
          ]
        },
        {
          "name": "stdout",
          "output_type": "stream",
          "text": [
            "Train loss: 1.702502635867999\n"
          ]
        },
        {
          "name": "stderr",
          "output_type": "stream",
          "text": [
            "Computing accuracy: 100%|██████████| 12/12 [00:03<00:00,  3.06it/s]\n"
          ]
        },
        {
          "name": "stdout",
          "output_type": "stream",
          "text": [
            "Validation accuracy: 84.92% (worse than 85.19% of epoch 116)\n",
            "\n",
            "Epoch #125:\n"
          ]
        },
        {
          "name": "stderr",
          "output_type": "stream",
          "text": [
            "Training model: 100%|██████████| 5/5 [00:03<00:00,  1.34it/s]\n"
          ]
        },
        {
          "name": "stdout",
          "output_type": "stream",
          "text": [
            "Train loss: 1.5868542018232816\n"
          ]
        },
        {
          "name": "stderr",
          "output_type": "stream",
          "text": [
            "Computing accuracy: 100%|██████████| 12/12 [00:03<00:00,  3.10it/s]\n"
          ]
        },
        {
          "name": "stdout",
          "output_type": "stream",
          "text": [
            "Validation accuracy: 85.05% (worse than 85.19% of epoch 116)\n",
            "\n",
            "Epoch #126:\n"
          ]
        },
        {
          "name": "stderr",
          "output_type": "stream",
          "text": [
            "Training model: 100%|██████████| 5/5 [00:03<00:00,  1.35it/s]\n"
          ]
        },
        {
          "name": "stdout",
          "output_type": "stream",
          "text": [
            "Train loss: 1.652242701365044\n"
          ]
        },
        {
          "name": "stderr",
          "output_type": "stream",
          "text": [
            "Computing accuracy: 100%|██████████| 12/12 [00:03<00:00,  3.09it/s]\n"
          ]
        },
        {
          "name": "stdout",
          "output_type": "stream",
          "text": [
            "Validation accuracy: 85.46% (new best)\n",
            "Checkpoint saved\n",
            "\n",
            "Epoch #127:\n"
          ]
        },
        {
          "name": "stderr",
          "output_type": "stream",
          "text": [
            "Training model: 100%|██████████| 5/5 [00:03<00:00,  1.37it/s]\n"
          ]
        },
        {
          "name": "stdout",
          "output_type": "stream",
          "text": [
            "Train loss: 1.6758443390276498\n"
          ]
        },
        {
          "name": "stderr",
          "output_type": "stream",
          "text": [
            "Computing accuracy: 100%|██████████| 12/12 [00:03<00:00,  3.02it/s]\n"
          ]
        },
        {
          "name": "stdout",
          "output_type": "stream",
          "text": [
            "Validation accuracy: 85.60% (new best)\n",
            "Checkpoint saved\n",
            "\n",
            "Epoch #128:\n"
          ]
        },
        {
          "name": "stderr",
          "output_type": "stream",
          "text": [
            "Training model: 100%|██████████| 5/5 [00:03<00:00,  1.34it/s]\n"
          ]
        },
        {
          "name": "stdout",
          "output_type": "stream",
          "text": [
            "Train loss: 1.5971960638524123\n"
          ]
        },
        {
          "name": "stderr",
          "output_type": "stream",
          "text": [
            "Computing accuracy: 100%|██████████| 12/12 [00:03<00:00,  3.07it/s]\n"
          ]
        },
        {
          "name": "stdout",
          "output_type": "stream",
          "text": [
            "Validation accuracy: 85.87% (new best)\n",
            "Checkpoint saved\n",
            "\n",
            "Epoch #129:\n"
          ]
        },
        {
          "name": "stderr",
          "output_type": "stream",
          "text": [
            "Training model: 100%|██████████| 5/5 [00:03<00:00,  1.39it/s]\n"
          ]
        },
        {
          "name": "stdout",
          "output_type": "stream",
          "text": [
            "Train loss: 1.7263670110600409\n"
          ]
        },
        {
          "name": "stderr",
          "output_type": "stream",
          "text": [
            "Computing accuracy: 100%|██████████| 12/12 [00:04<00:00,  2.87it/s]\n"
          ]
        },
        {
          "name": "stdout",
          "output_type": "stream",
          "text": [
            "Validation accuracy: 85.87% (worse than 85.87% of epoch 128)\n",
            "\n",
            "Epoch #130:\n"
          ]
        },
        {
          "name": "stderr",
          "output_type": "stream",
          "text": [
            "Training model: 100%|██████████| 5/5 [00:03<00:00,  1.37it/s]\n"
          ]
        },
        {
          "name": "stdout",
          "output_type": "stream",
          "text": [
            "Train loss: 1.6723111893431277\n"
          ]
        },
        {
          "name": "stderr",
          "output_type": "stream",
          "text": [
            "Computing accuracy: 100%|██████████| 12/12 [00:03<00:00,  3.12it/s]\n"
          ]
        },
        {
          "name": "stdout",
          "output_type": "stream",
          "text": [
            "Validation accuracy: 85.87% (worse than 85.87% of epoch 128)\n",
            "\n",
            "Epoch #131:\n"
          ]
        },
        {
          "name": "stderr",
          "output_type": "stream",
          "text": [
            "Training model: 100%|██████████| 5/5 [00:03<00:00,  1.34it/s]\n"
          ]
        },
        {
          "name": "stdout",
          "output_type": "stream",
          "text": [
            "Train loss: 1.6152358215932416\n"
          ]
        },
        {
          "name": "stderr",
          "output_type": "stream",
          "text": [
            "Computing accuracy: 100%|██████████| 12/12 [00:04<00:00,  2.94it/s]\n"
          ]
        },
        {
          "name": "stdout",
          "output_type": "stream",
          "text": [
            "Validation accuracy: 86.01% (new best)\n",
            "Checkpoint saved\n",
            "\n",
            "Epoch #132:\n"
          ]
        },
        {
          "name": "stderr",
          "output_type": "stream",
          "text": [
            "Training model: 100%|██████████| 5/5 [00:03<00:00,  1.37it/s]\n"
          ]
        },
        {
          "name": "stdout",
          "output_type": "stream",
          "text": [
            "Train loss: 1.6809071544916778\n"
          ]
        },
        {
          "name": "stderr",
          "output_type": "stream",
          "text": [
            "Computing accuracy: 100%|██████████| 12/12 [00:03<00:00,  3.12it/s]\n"
          ]
        },
        {
          "name": "stdout",
          "output_type": "stream",
          "text": [
            "Validation accuracy: 86.01% (worse than 86.01% of epoch 131)\n",
            "\n",
            "Epoch #133:\n"
          ]
        },
        {
          "name": "stderr",
          "output_type": "stream",
          "text": [
            "Training model: 100%|██████████| 5/5 [00:03<00:00,  1.35it/s]\n"
          ]
        },
        {
          "name": "stdout",
          "output_type": "stream",
          "text": [
            "Train loss: 1.6293444967882535\n"
          ]
        },
        {
          "name": "stderr",
          "output_type": "stream",
          "text": [
            "Computing accuracy: 100%|██████████| 12/12 [00:03<00:00,  3.06it/s]\n"
          ]
        },
        {
          "name": "stdout",
          "output_type": "stream",
          "text": [
            "Validation accuracy: 85.87% (worse than 86.01% of epoch 131)\n",
            "\n",
            "Epoch #134:\n"
          ]
        },
        {
          "name": "stderr",
          "output_type": "stream",
          "text": [
            "Training model: 100%|██████████| 5/5 [00:03<00:00,  1.38it/s]\n"
          ]
        },
        {
          "name": "stdout",
          "output_type": "stream",
          "text": [
            "Train loss: 1.577826249778143\n"
          ]
        },
        {
          "name": "stderr",
          "output_type": "stream",
          "text": [
            "Computing accuracy: 100%|██████████| 12/12 [00:03<00:00,  3.07it/s]\n"
          ]
        },
        {
          "name": "stdout",
          "output_type": "stream",
          "text": [
            "Validation accuracy: 85.87% (worse than 86.01% of epoch 131)\n",
            "\n",
            "Epoch #135:\n"
          ]
        },
        {
          "name": "stderr",
          "output_type": "stream",
          "text": [
            "Training model: 100%|██████████| 5/5 [00:03<00:00,  1.30it/s]\n"
          ]
        },
        {
          "name": "stdout",
          "output_type": "stream",
          "text": [
            "Train loss: 1.6889874192325665\n"
          ]
        },
        {
          "name": "stderr",
          "output_type": "stream",
          "text": [
            "Computing accuracy: 100%|██████████| 12/12 [00:03<00:00,  3.11it/s]\n"
          ]
        },
        {
          "name": "stdout",
          "output_type": "stream",
          "text": [
            "Validation accuracy: 85.73% (worse than 86.01% of epoch 131)\n",
            "\n",
            "Epoch #136:\n"
          ]
        },
        {
          "name": "stderr",
          "output_type": "stream",
          "text": [
            "Training model: 100%|██████████| 5/5 [00:03<00:00,  1.38it/s]\n"
          ]
        },
        {
          "name": "stdout",
          "output_type": "stream",
          "text": [
            "Train loss: 1.662631997970238\n"
          ]
        },
        {
          "name": "stderr",
          "output_type": "stream",
          "text": [
            "Computing accuracy: 100%|██████████| 12/12 [00:04<00:00,  2.99it/s]\n"
          ]
        },
        {
          "name": "stdout",
          "output_type": "stream",
          "text": [
            "Validation accuracy: 85.33% (worse than 86.01% of epoch 131)\n",
            "\n",
            "Epoch #137:\n"
          ]
        },
        {
          "name": "stderr",
          "output_type": "stream",
          "text": [
            "Training model: 100%|██████████| 5/5 [00:03<00:00,  1.34it/s]\n"
          ]
        },
        {
          "name": "stdout",
          "output_type": "stream",
          "text": [
            "Train loss: 1.5758552826956969\n"
          ]
        },
        {
          "name": "stderr",
          "output_type": "stream",
          "text": [
            "Computing accuracy: 100%|██████████| 12/12 [00:03<00:00,  3.10it/s]\n"
          ]
        },
        {
          "name": "stdout",
          "output_type": "stream",
          "text": [
            "Validation accuracy: 85.87% (worse than 86.01% of epoch 131)\n",
            "\n",
            "Epoch #138:\n"
          ]
        },
        {
          "name": "stderr",
          "output_type": "stream",
          "text": [
            "Training model: 100%|██████████| 5/5 [00:03<00:00,  1.38it/s]\n"
          ]
        },
        {
          "name": "stdout",
          "output_type": "stream",
          "text": [
            "Train loss: 1.6106746791516944\n"
          ]
        },
        {
          "name": "stderr",
          "output_type": "stream",
          "text": [
            "Computing accuracy: 100%|██████████| 12/12 [00:04<00:00,  2.94it/s]\n"
          ]
        },
        {
          "name": "stdout",
          "output_type": "stream",
          "text": [
            "Validation accuracy: 85.60% (worse than 86.01% of epoch 131)\n",
            "\n",
            "Epoch #139:\n"
          ]
        },
        {
          "name": "stderr",
          "output_type": "stream",
          "text": [
            "Training model: 100%|██████████| 5/5 [00:03<00:00,  1.33it/s]\n"
          ]
        },
        {
          "name": "stdout",
          "output_type": "stream",
          "text": [
            "Train loss: 1.5784761413006507\n"
          ]
        },
        {
          "name": "stderr",
          "output_type": "stream",
          "text": [
            "Computing accuracy: 100%|██████████| 12/12 [00:03<00:00,  3.12it/s]\n"
          ]
        },
        {
          "name": "stdout",
          "output_type": "stream",
          "text": [
            "Validation accuracy: 85.87% (worse than 86.01% of epoch 131)\n",
            "\n",
            "Epoch #140:\n"
          ]
        },
        {
          "name": "stderr",
          "output_type": "stream",
          "text": [
            "Training model: 100%|██████████| 5/5 [00:03<00:00,  1.39it/s]\n"
          ]
        },
        {
          "name": "stdout",
          "output_type": "stream",
          "text": [
            "Train loss: 1.623160371943766\n"
          ]
        },
        {
          "name": "stderr",
          "output_type": "stream",
          "text": [
            "Computing accuracy: 100%|██████████| 12/12 [00:04<00:00,  2.95it/s]\n"
          ]
        },
        {
          "name": "stdout",
          "output_type": "stream",
          "text": [
            "Validation accuracy: 86.01% (worse than 86.01% of epoch 131)\n",
            "\n",
            "Epoch #141:\n"
          ]
        },
        {
          "name": "stderr",
          "output_type": "stream",
          "text": [
            "Training model: 100%|██████████| 5/5 [00:03<00:00,  1.37it/s]\n"
          ]
        },
        {
          "name": "stdout",
          "output_type": "stream",
          "text": [
            "Train loss: 1.641321647345892\n"
          ]
        },
        {
          "name": "stderr",
          "output_type": "stream",
          "text": [
            "Computing accuracy: 100%|██████████| 12/12 [00:03<00:00,  3.09it/s]\n"
          ]
        },
        {
          "name": "stdout",
          "output_type": "stream",
          "text": [
            "Validation accuracy: 85.87% (worse than 86.01% of epoch 131)\n",
            "\n",
            "Epoch #142:\n"
          ]
        },
        {
          "name": "stderr",
          "output_type": "stream",
          "text": [
            "Training model: 100%|██████████| 5/5 [00:03<00:00,  1.38it/s]\n"
          ]
        },
        {
          "name": "stdout",
          "output_type": "stream",
          "text": [
            "Train loss: 1.6344549571676479\n"
          ]
        },
        {
          "name": "stderr",
          "output_type": "stream",
          "text": [
            "Computing accuracy: 100%|██████████| 12/12 [00:03<00:00,  3.01it/s]\n"
          ]
        },
        {
          "name": "stdout",
          "output_type": "stream",
          "text": [
            "Validation accuracy: 85.60% (worse than 86.01% of epoch 131)\n",
            "\n",
            "Epoch #143:\n"
          ]
        },
        {
          "name": "stderr",
          "output_type": "stream",
          "text": [
            "Training model: 100%|██████████| 5/5 [00:03<00:00,  1.37it/s]\n"
          ]
        },
        {
          "name": "stdout",
          "output_type": "stream",
          "text": [
            "Train loss: 1.6136227225848898\n"
          ]
        },
        {
          "name": "stderr",
          "output_type": "stream",
          "text": [
            "Computing accuracy: 100%|██████████| 12/12 [00:03<00:00,  3.10it/s]\n"
          ]
        },
        {
          "name": "stdout",
          "output_type": "stream",
          "text": [
            "Validation accuracy: 85.60% (worse than 86.01% of epoch 131)\n",
            "\n",
            "Epoch #144:\n"
          ]
        },
        {
          "name": "stderr",
          "output_type": "stream",
          "text": [
            "Training model: 100%|██████████| 5/5 [00:03<00:00,  1.33it/s]\n"
          ]
        },
        {
          "name": "stdout",
          "output_type": "stream",
          "text": [
            "Train loss: 1.6161598763578198\n"
          ]
        },
        {
          "name": "stderr",
          "output_type": "stream",
          "text": [
            "Computing accuracy: 100%|██████████| 12/12 [00:03<00:00,  3.06it/s]\n"
          ]
        },
        {
          "name": "stdout",
          "output_type": "stream",
          "text": [
            "Validation accuracy: 85.60% (worse than 86.01% of epoch 131)\n",
            "\n",
            "Epoch #145:\n"
          ]
        },
        {
          "name": "stderr",
          "output_type": "stream",
          "text": [
            "Training model: 100%|██████████| 5/5 [00:03<00:00,  1.37it/s]\n"
          ]
        },
        {
          "name": "stdout",
          "output_type": "stream",
          "text": [
            "Train loss: 1.5612930947759167\n"
          ]
        },
        {
          "name": "stderr",
          "output_type": "stream",
          "text": [
            "Computing accuracy: 100%|██████████| 12/12 [00:03<00:00,  3.09it/s]\n"
          ]
        },
        {
          "name": "stdout",
          "output_type": "stream",
          "text": [
            "Validation accuracy: 86.14% (new best)\n",
            "Checkpoint saved\n",
            "\n",
            "Epoch #146:\n"
          ]
        },
        {
          "name": "stderr",
          "output_type": "stream",
          "text": [
            "Training model: 100%|██████████| 5/5 [00:03<00:00,  1.31it/s]\n"
          ]
        },
        {
          "name": "stdout",
          "output_type": "stream",
          "text": [
            "Train loss: 1.5394224750408523\n"
          ]
        },
        {
          "name": "stderr",
          "output_type": "stream",
          "text": [
            "Computing accuracy: 100%|██████████| 12/12 [00:03<00:00,  3.11it/s]\n"
          ]
        },
        {
          "name": "stdout",
          "output_type": "stream",
          "text": [
            "Validation accuracy: 86.14% (worse than 86.14% of epoch 145)\n",
            "\n",
            "Epoch #147:\n"
          ]
        },
        {
          "name": "stderr",
          "output_type": "stream",
          "text": [
            "Training model: 100%|██████████| 5/5 [00:03<00:00,  1.39it/s]\n"
          ]
        },
        {
          "name": "stdout",
          "output_type": "stream",
          "text": [
            "Train loss: 1.5635245762749452\n"
          ]
        },
        {
          "name": "stderr",
          "output_type": "stream",
          "text": [
            "Computing accuracy: 100%|██████████| 12/12 [00:03<00:00,  3.02it/s]\n"
          ]
        },
        {
          "name": "stdout",
          "output_type": "stream",
          "text": [
            "Validation accuracy: 86.55% (new best)\n",
            "Checkpoint saved\n",
            "\n",
            "Epoch #148:\n"
          ]
        },
        {
          "name": "stderr",
          "output_type": "stream",
          "text": [
            "Training model: 100%|██████████| 5/5 [00:03<00:00,  1.34it/s]\n"
          ]
        },
        {
          "name": "stdout",
          "output_type": "stream",
          "text": [
            "Train loss: 1.5648727294464437\n"
          ]
        },
        {
          "name": "stderr",
          "output_type": "stream",
          "text": [
            "Computing accuracy: 100%|██████████| 12/12 [00:03<00:00,  3.08it/s]\n"
          ]
        },
        {
          "name": "stdout",
          "output_type": "stream",
          "text": [
            "Validation accuracy: 86.82% (new best)\n",
            "Checkpoint saved\n",
            "\n",
            "Epoch #149:\n"
          ]
        },
        {
          "name": "stderr",
          "output_type": "stream",
          "text": [
            "Training model: 100%|██████████| 5/5 [00:03<00:00,  1.36it/s]\n"
          ]
        },
        {
          "name": "stdout",
          "output_type": "stream",
          "text": [
            "Train loss: 1.5699427199312654\n"
          ]
        },
        {
          "name": "stderr",
          "output_type": "stream",
          "text": [
            "Computing accuracy: 100%|██████████| 12/12 [00:04<00:00,  2.95it/s]\n"
          ]
        },
        {
          "name": "stdout",
          "output_type": "stream",
          "text": [
            "Validation accuracy: 86.82% (worse than 86.82% of epoch 148)\n",
            "\n",
            "Epoch #150:\n"
          ]
        },
        {
          "name": "stderr",
          "output_type": "stream",
          "text": [
            "Training model: 100%|██████████| 5/5 [00:03<00:00,  1.37it/s]\n"
          ]
        },
        {
          "name": "stdout",
          "output_type": "stream",
          "text": [
            "Train loss: 1.564193327881284\n"
          ]
        },
        {
          "name": "stderr",
          "output_type": "stream",
          "text": [
            "Computing accuracy: 100%|██████████| 12/12 [00:03<00:00,  3.10it/s]\n"
          ]
        },
        {
          "name": "stdout",
          "output_type": "stream",
          "text": [
            "Validation accuracy: 86.41% (worse than 86.82% of epoch 148)\n",
            "\n",
            "Epoch #151:\n"
          ]
        },
        {
          "name": "stderr",
          "output_type": "stream",
          "text": [
            "Training model: 100%|██████████| 5/5 [00:03<00:00,  1.35it/s]\n"
          ]
        },
        {
          "name": "stdout",
          "output_type": "stream",
          "text": [
            "Train loss: 1.567689276609482\n"
          ]
        },
        {
          "name": "stderr",
          "output_type": "stream",
          "text": [
            "Computing accuracy: 100%|██████████| 12/12 [00:04<00:00,  2.92it/s]\n"
          ]
        },
        {
          "name": "stdout",
          "output_type": "stream",
          "text": [
            "Validation accuracy: 86.68% (worse than 86.82% of epoch 148)\n",
            "\n",
            "Epoch #152:\n"
          ]
        },
        {
          "name": "stderr",
          "output_type": "stream",
          "text": [
            "Training model: 100%|██████████| 5/5 [00:03<00:00,  1.39it/s]\n"
          ]
        },
        {
          "name": "stdout",
          "output_type": "stream",
          "text": [
            "Train loss: 1.5843437450600895\n"
          ]
        },
        {
          "name": "stderr",
          "output_type": "stream",
          "text": [
            "Computing accuracy: 100%|██████████| 12/12 [00:03<00:00,  3.11it/s]\n"
          ]
        },
        {
          "name": "stdout",
          "output_type": "stream",
          "text": [
            "Validation accuracy: 86.82% (worse than 86.82% of epoch 148)\n",
            "\n",
            "Epoch #153:\n"
          ]
        },
        {
          "name": "stderr",
          "output_type": "stream",
          "text": [
            "Training model: 100%|██████████| 5/5 [00:03<00:00,  1.37it/s]\n"
          ]
        },
        {
          "name": "stdout",
          "output_type": "stream",
          "text": [
            "Train loss: 1.5673721017878366\n"
          ]
        },
        {
          "name": "stderr",
          "output_type": "stream",
          "text": [
            "Computing accuracy: 100%|██████████| 12/12 [00:03<00:00,  3.00it/s]\n"
          ]
        },
        {
          "name": "stdout",
          "output_type": "stream",
          "text": [
            "Validation accuracy: 86.82% (worse than 86.82% of epoch 148)\n",
            "\n",
            "Epoch #154:\n"
          ]
        },
        {
          "name": "stderr",
          "output_type": "stream",
          "text": [
            "Training model: 100%|██████████| 5/5 [00:03<00:00,  1.35it/s]\n"
          ]
        },
        {
          "name": "stdout",
          "output_type": "stream",
          "text": [
            "Train loss: 1.5411798976983964\n"
          ]
        },
        {
          "name": "stderr",
          "output_type": "stream",
          "text": [
            "Computing accuracy: 100%|██████████| 12/12 [00:03<00:00,  3.11it/s]\n"
          ]
        },
        {
          "name": "stdout",
          "output_type": "stream",
          "text": [
            "Validation accuracy: 86.96% (new best)\n",
            "Checkpoint saved\n",
            "\n",
            "Epoch #155:\n"
          ]
        },
        {
          "name": "stderr",
          "output_type": "stream",
          "text": [
            "Training model: 100%|██████████| 5/5 [00:03<00:00,  1.32it/s]\n"
          ]
        },
        {
          "name": "stdout",
          "output_type": "stream",
          "text": [
            "Train loss: 1.601182894737358\n"
          ]
        },
        {
          "name": "stderr",
          "output_type": "stream",
          "text": [
            "Computing accuracy: 100%|██████████| 12/12 [00:03<00:00,  3.04it/s]\n"
          ]
        },
        {
          "name": "stdout",
          "output_type": "stream",
          "text": [
            "Validation accuracy: 87.09% (new best)\n",
            "Checkpoint saved\n",
            "\n",
            "Epoch #156:\n"
          ]
        },
        {
          "name": "stderr",
          "output_type": "stream",
          "text": [
            "Training model: 100%|██████████| 5/5 [00:03<00:00,  1.39it/s]\n"
          ]
        },
        {
          "name": "stdout",
          "output_type": "stream",
          "text": [
            "Train loss: 1.4801230869660795\n"
          ]
        },
        {
          "name": "stderr",
          "output_type": "stream",
          "text": [
            "Computing accuracy: 100%|██████████| 12/12 [00:03<00:00,  3.07it/s]\n"
          ]
        },
        {
          "name": "stdout",
          "output_type": "stream",
          "text": [
            "Validation accuracy: 87.09% (worse than 87.09% of epoch 155)\n",
            "\n",
            "Epoch #157:\n"
          ]
        },
        {
          "name": "stderr",
          "output_type": "stream",
          "text": [
            "Training model: 100%|██████████| 5/5 [00:03<00:00,  1.29it/s]\n"
          ]
        },
        {
          "name": "stdout",
          "output_type": "stream",
          "text": [
            "Train loss: 1.5053575163990323\n"
          ]
        },
        {
          "name": "stderr",
          "output_type": "stream",
          "text": [
            "Computing accuracy: 100%|██████████| 12/12 [00:03<00:00,  3.09it/s]\n"
          ]
        },
        {
          "name": "stdout",
          "output_type": "stream",
          "text": [
            "Validation accuracy: 87.36% (new best)\n",
            "Checkpoint saved\n",
            "\n",
            "Epoch #158:\n"
          ]
        },
        {
          "name": "stderr",
          "output_type": "stream",
          "text": [
            "Training model: 100%|██████████| 5/5 [00:03<00:00,  1.36it/s]\n"
          ]
        },
        {
          "name": "stdout",
          "output_type": "stream",
          "text": [
            "Train loss: 1.527313491517012\n"
          ]
        },
        {
          "name": "stderr",
          "output_type": "stream",
          "text": [
            "Computing accuracy: 100%|██████████| 12/12 [00:03<00:00,  3.00it/s]\n"
          ]
        },
        {
          "name": "stdout",
          "output_type": "stream",
          "text": [
            "Validation accuracy: 87.09% (worse than 87.36% of epoch 157)\n",
            "\n",
            "Epoch #159:\n"
          ]
        },
        {
          "name": "stderr",
          "output_type": "stream",
          "text": [
            "Training model: 100%|██████████| 5/5 [00:03<00:00,  1.31it/s]\n"
          ]
        },
        {
          "name": "stdout",
          "output_type": "stream",
          "text": [
            "Train loss: 1.5561212405913392\n"
          ]
        },
        {
          "name": "stderr",
          "output_type": "stream",
          "text": [
            "Computing accuracy: 100%|██████████| 12/12 [00:03<00:00,  3.10it/s]\n"
          ]
        },
        {
          "name": "stdout",
          "output_type": "stream",
          "text": [
            "Validation accuracy: 86.82% (worse than 87.36% of epoch 157)\n",
            "\n",
            "Epoch #160:\n"
          ]
        },
        {
          "name": "stderr",
          "output_type": "stream",
          "text": [
            "Training model: 100%|██████████| 5/5 [00:03<00:00,  1.37it/s]\n"
          ]
        },
        {
          "name": "stdout",
          "output_type": "stream",
          "text": [
            "Train loss: 1.481409560689579\n"
          ]
        },
        {
          "name": "stderr",
          "output_type": "stream",
          "text": [
            "Computing accuracy: 100%|██████████| 12/12 [00:04<00:00,  2.94it/s]\n"
          ]
        },
        {
          "name": "stdout",
          "output_type": "stream",
          "text": [
            "Validation accuracy: 86.82% (worse than 87.36% of epoch 157)\n",
            "\n",
            "Epoch #161:\n"
          ]
        },
        {
          "name": "stderr",
          "output_type": "stream",
          "text": [
            "Training model: 100%|██████████| 5/5 [00:03<00:00,  1.36it/s]\n"
          ]
        },
        {
          "name": "stdout",
          "output_type": "stream",
          "text": [
            "Train loss: 1.5520396666557426\n"
          ]
        },
        {
          "name": "stderr",
          "output_type": "stream",
          "text": [
            "Computing accuracy: 100%|██████████| 12/12 [00:03<00:00,  3.09it/s]\n"
          ]
        },
        {
          "name": "stdout",
          "output_type": "stream",
          "text": [
            "Validation accuracy: 86.82% (worse than 87.36% of epoch 157)\n",
            "\n",
            "Epoch #162:\n"
          ]
        },
        {
          "name": "stderr",
          "output_type": "stream",
          "text": [
            "Training model: 100%|██████████| 5/5 [00:03<00:00,  1.38it/s]\n"
          ]
        },
        {
          "name": "stdout",
          "output_type": "stream",
          "text": [
            "Train loss: 1.5569573286003424\n"
          ]
        },
        {
          "name": "stderr",
          "output_type": "stream",
          "text": [
            "Computing accuracy: 100%|██████████| 12/12 [00:04<00:00,  2.93it/s]\n"
          ]
        },
        {
          "name": "stdout",
          "output_type": "stream",
          "text": [
            "Validation accuracy: 87.09% (worse than 87.36% of epoch 157)\n",
            "\n",
            "Epoch #163:\n"
          ]
        },
        {
          "name": "stderr",
          "output_type": "stream",
          "text": [
            "Training model: 100%|██████████| 5/5 [00:03<00:00,  1.38it/s]\n"
          ]
        },
        {
          "name": "stdout",
          "output_type": "stream",
          "text": [
            "Train loss: 1.5317539104302385\n"
          ]
        },
        {
          "name": "stderr",
          "output_type": "stream",
          "text": [
            "Computing accuracy: 100%|██████████| 12/12 [00:03<00:00,  3.11it/s]\n"
          ]
        },
        {
          "name": "stdout",
          "output_type": "stream",
          "text": [
            "Validation accuracy: 86.96% (worse than 87.36% of epoch 157)\n",
            "\n",
            "Epoch #164:\n"
          ]
        },
        {
          "name": "stderr",
          "output_type": "stream",
          "text": [
            "Training model: 100%|██████████| 5/5 [00:03<00:00,  1.32it/s]\n"
          ]
        },
        {
          "name": "stdout",
          "output_type": "stream",
          "text": [
            "Train loss: 1.5834541644988784\n"
          ]
        },
        {
          "name": "stderr",
          "output_type": "stream",
          "text": [
            "Computing accuracy: 100%|██████████| 12/12 [00:03<00:00,  3.02it/s]\n"
          ]
        },
        {
          "name": "stdout",
          "output_type": "stream",
          "text": [
            "Validation accuracy: 87.09% (worse than 87.36% of epoch 157)\n",
            "\n",
            "Epoch #165:\n"
          ]
        },
        {
          "name": "stderr",
          "output_type": "stream",
          "text": [
            "Training model: 100%|██████████| 5/5 [00:03<00:00,  1.39it/s]\n"
          ]
        },
        {
          "name": "stdout",
          "output_type": "stream",
          "text": [
            "Train loss: 1.517590656525573\n"
          ]
        },
        {
          "name": "stderr",
          "output_type": "stream",
          "text": [
            "Computing accuracy: 100%|██████████| 12/12 [00:03<00:00,  3.11it/s]\n"
          ]
        },
        {
          "name": "stdout",
          "output_type": "stream",
          "text": [
            "Validation accuracy: 87.23% (worse than 87.36% of epoch 157)\n",
            "\n",
            "Epoch #166:\n"
          ]
        },
        {
          "name": "stderr",
          "output_type": "stream",
          "text": [
            "Training model: 100%|██████████| 5/5 [00:03<00:00,  1.29it/s]\n"
          ]
        },
        {
          "name": "stdout",
          "output_type": "stream",
          "text": [
            "Train loss: 1.5759688506034508\n"
          ]
        },
        {
          "name": "stderr",
          "output_type": "stream",
          "text": [
            "Computing accuracy: 100%|██████████| 12/12 [00:03<00:00,  3.04it/s]\n"
          ]
        },
        {
          "name": "stdout",
          "output_type": "stream",
          "text": [
            "Validation accuracy: 87.23% (worse than 87.36% of epoch 157)\n",
            "\n",
            "Epoch #167:\n"
          ]
        },
        {
          "name": "stderr",
          "output_type": "stream",
          "text": [
            "Training model: 100%|██████████| 5/5 [00:03<00:00,  1.37it/s]\n"
          ]
        },
        {
          "name": "stdout",
          "output_type": "stream",
          "text": [
            "Train loss: 1.5912349349170987\n"
          ]
        },
        {
          "name": "stderr",
          "output_type": "stream",
          "text": [
            "Computing accuracy: 100%|██████████| 12/12 [00:03<00:00,  3.01it/s]\n"
          ]
        },
        {
          "name": "stdout",
          "output_type": "stream",
          "text": [
            "Validation accuracy: 87.23% (worse than 87.36% of epoch 157)\n",
            "\n",
            "Epoch #168:\n"
          ]
        },
        {
          "name": "stderr",
          "output_type": "stream",
          "text": [
            "Training model: 100%|██████████| 5/5 [00:03<00:00,  1.35it/s]\n"
          ]
        },
        {
          "name": "stdout",
          "output_type": "stream",
          "text": [
            "Train loss: 1.5165331718497919\n"
          ]
        },
        {
          "name": "stderr",
          "output_type": "stream",
          "text": [
            "Computing accuracy: 100%|██████████| 12/12 [00:03<00:00,  3.11it/s]\n"
          ]
        },
        {
          "name": "stdout",
          "output_type": "stream",
          "text": [
            "Validation accuracy: 87.36% (worse than 87.36% of epoch 157)\n",
            "\n",
            "Epoch #169:\n"
          ]
        },
        {
          "name": "stderr",
          "output_type": "stream",
          "text": [
            "Training model: 100%|██████████| 5/5 [00:03<00:00,  1.39it/s]\n"
          ]
        },
        {
          "name": "stdout",
          "output_type": "stream",
          "text": [
            "Train loss: 1.5323612059464546\n"
          ]
        },
        {
          "name": "stderr",
          "output_type": "stream",
          "text": [
            "Computing accuracy: 100%|██████████| 12/12 [00:03<00:00,  3.03it/s]\n"
          ]
        },
        {
          "name": "stdout",
          "output_type": "stream",
          "text": [
            "Validation accuracy: 87.50% (new best)\n",
            "Checkpoint saved\n",
            "\n",
            "Epoch #170:\n"
          ]
        },
        {
          "name": "stderr",
          "output_type": "stream",
          "text": [
            "Training model: 100%|██████████| 5/5 [00:03<00:00,  1.35it/s]\n"
          ]
        },
        {
          "name": "stdout",
          "output_type": "stream",
          "text": [
            "Train loss: 1.49456193794275\n"
          ]
        },
        {
          "name": "stderr",
          "output_type": "stream",
          "text": [
            "Computing accuracy: 100%|██████████| 12/12 [00:03<00:00,  3.11it/s]\n"
          ]
        },
        {
          "name": "stdout",
          "output_type": "stream",
          "text": [
            "Validation accuracy: 87.36% (worse than 87.50% of epoch 169)\n",
            "\n",
            "Epoch #171:\n"
          ]
        },
        {
          "name": "stderr",
          "output_type": "stream",
          "text": [
            "Training model: 100%|██████████| 5/5 [00:03<00:00,  1.36it/s]\n"
          ]
        },
        {
          "name": "stdout",
          "output_type": "stream",
          "text": [
            "Train loss: 1.5953426874168934\n"
          ]
        },
        {
          "name": "stderr",
          "output_type": "stream",
          "text": [
            "Computing accuracy: 100%|██████████| 12/12 [00:04<00:00,  2.98it/s]\n"
          ]
        },
        {
          "name": "stdout",
          "output_type": "stream",
          "text": [
            "Validation accuracy: 87.64% (new best)\n",
            "Checkpoint saved\n",
            "\n",
            "Epoch #172:\n"
          ]
        },
        {
          "name": "stderr",
          "output_type": "stream",
          "text": [
            "Training model: 100%|██████████| 5/5 [00:03<00:00,  1.39it/s]\n"
          ]
        },
        {
          "name": "stdout",
          "output_type": "stream",
          "text": [
            "Train loss: 1.5847626319534007\n"
          ]
        },
        {
          "name": "stderr",
          "output_type": "stream",
          "text": [
            "Computing accuracy: 100%|██████████| 12/12 [00:03<00:00,  3.10it/s]\n"
          ]
        },
        {
          "name": "stdout",
          "output_type": "stream",
          "text": [
            "Validation accuracy: 87.36% (worse than 87.64% of epoch 171)\n",
            "\n",
            "Epoch #173:\n"
          ]
        },
        {
          "name": "stderr",
          "output_type": "stream",
          "text": [
            "Training model: 100%|██████████| 5/5 [00:03<00:00,  1.30it/s]\n"
          ]
        },
        {
          "name": "stdout",
          "output_type": "stream",
          "text": [
            "Train loss: 1.533133038361527\n"
          ]
        },
        {
          "name": "stderr",
          "output_type": "stream",
          "text": [
            "Computing accuracy: 100%|██████████| 12/12 [00:04<00:00,  2.98it/s]\n"
          ]
        },
        {
          "name": "stdout",
          "output_type": "stream",
          "text": [
            "Validation accuracy: 87.36% (worse than 87.64% of epoch 171)\n",
            "\n",
            "Epoch #174:\n"
          ]
        },
        {
          "name": "stderr",
          "output_type": "stream",
          "text": [
            "Training model: 100%|██████████| 5/5 [00:03<00:00,  1.36it/s]\n"
          ]
        },
        {
          "name": "stdout",
          "output_type": "stream",
          "text": [
            "Train loss: 1.5646906629109025\n"
          ]
        },
        {
          "name": "stderr",
          "output_type": "stream",
          "text": [
            "Computing accuracy: 100%|██████████| 12/12 [00:03<00:00,  3.12it/s]\n"
          ]
        },
        {
          "name": "stdout",
          "output_type": "stream",
          "text": [
            "Validation accuracy: 87.64% (worse than 87.64% of epoch 171)\n",
            "\n",
            "Epoch #175:\n"
          ]
        },
        {
          "name": "stderr",
          "output_type": "stream",
          "text": [
            "Training model: 100%|██████████| 5/5 [00:03<00:00,  1.32it/s]\n"
          ]
        },
        {
          "name": "stdout",
          "output_type": "stream",
          "text": [
            "Train loss: 1.5129580290976121\n"
          ]
        },
        {
          "name": "stderr",
          "output_type": "stream",
          "text": [
            "Computing accuracy: 100%|██████████| 12/12 [00:03<00:00,  3.05it/s]\n"
          ]
        },
        {
          "name": "stdout",
          "output_type": "stream",
          "text": [
            "Validation accuracy: 87.91% (new best)\n",
            "Checkpoint saved\n",
            "\n",
            "Epoch #176:\n"
          ]
        },
        {
          "name": "stderr",
          "output_type": "stream",
          "text": [
            "Training model: 100%|██████████| 5/5 [00:03<00:00,  1.36it/s]\n"
          ]
        },
        {
          "name": "stdout",
          "output_type": "stream",
          "text": [
            "Train loss: 1.478963765648754\n"
          ]
        },
        {
          "name": "stderr",
          "output_type": "stream",
          "text": [
            "Computing accuracy: 100%|██████████| 12/12 [00:03<00:00,  3.11it/s]\n"
          ]
        },
        {
          "name": "stdout",
          "output_type": "stream",
          "text": [
            "Validation accuracy: 87.64% (worse than 87.91% of epoch 175)\n",
            "\n",
            "Epoch #177:\n"
          ]
        },
        {
          "name": "stderr",
          "output_type": "stream",
          "text": [
            "Training model: 100%|██████████| 5/5 [00:03<00:00,  1.31it/s]\n"
          ]
        },
        {
          "name": "stdout",
          "output_type": "stream",
          "text": [
            "Train loss: 1.5389961218680763\n"
          ]
        },
        {
          "name": "stderr",
          "output_type": "stream",
          "text": [
            "Computing accuracy: 100%|██████████| 12/12 [00:03<00:00,  3.10it/s]\n"
          ]
        },
        {
          "name": "stdout",
          "output_type": "stream",
          "text": [
            "Validation accuracy: 87.77% (worse than 87.91% of epoch 175)\n",
            "\n",
            "Epoch #178:\n"
          ]
        },
        {
          "name": "stderr",
          "output_type": "stream",
          "text": [
            "Training model: 100%|██████████| 5/5 [00:03<00:00,  1.39it/s]\n"
          ]
        },
        {
          "name": "stdout",
          "output_type": "stream",
          "text": [
            "Train loss: 1.5776229987052575\n"
          ]
        },
        {
          "name": "stderr",
          "output_type": "stream",
          "text": [
            "Computing accuracy: 100%|██████████| 12/12 [00:03<00:00,  3.10it/s]\n"
          ]
        },
        {
          "name": "stdout",
          "output_type": "stream",
          "text": [
            "Validation accuracy: 87.91% (worse than 87.91% of epoch 175)\n",
            "\n",
            "Epoch #179:\n"
          ]
        },
        {
          "name": "stderr",
          "output_type": "stream",
          "text": [
            "Training model: 100%|██████████| 5/5 [00:03<00:00,  1.33it/s]\n"
          ]
        },
        {
          "name": "stdout",
          "output_type": "stream",
          "text": [
            "Train loss: 1.4905097476930638\n"
          ]
        },
        {
          "name": "stderr",
          "output_type": "stream",
          "text": [
            "Computing accuracy: 100%|██████████| 12/12 [00:03<00:00,  3.12it/s]\n"
          ]
        },
        {
          "name": "stdout",
          "output_type": "stream",
          "text": [
            "Validation accuracy: 87.77% (worse than 87.91% of epoch 175)\n",
            "\n",
            "Epoch #180:\n"
          ]
        },
        {
          "name": "stderr",
          "output_type": "stream",
          "text": [
            "Training model: 100%|██████████| 5/5 [00:03<00:00,  1.40it/s]\n"
          ]
        },
        {
          "name": "stdout",
          "output_type": "stream",
          "text": [
            "Train loss: 1.545053504774351\n"
          ]
        },
        {
          "name": "stderr",
          "output_type": "stream",
          "text": [
            "Computing accuracy: 100%|██████████| 12/12 [00:04<00:00,  2.93it/s]\n"
          ]
        },
        {
          "name": "stdout",
          "output_type": "stream",
          "text": [
            "Validation accuracy: 87.23% (worse than 87.91% of epoch 175)\n",
            "\n",
            "Epoch #181:\n"
          ]
        },
        {
          "name": "stderr",
          "output_type": "stream",
          "text": [
            "Training model: 100%|██████████| 5/5 [00:03<00:00,  1.33it/s]\n"
          ]
        },
        {
          "name": "stdout",
          "output_type": "stream",
          "text": [
            "Train loss: 1.465631828318316\n"
          ]
        },
        {
          "name": "stderr",
          "output_type": "stream",
          "text": [
            "Computing accuracy: 100%|██████████| 12/12 [00:03<00:00,  3.11it/s]\n"
          ]
        },
        {
          "name": "stdout",
          "output_type": "stream",
          "text": [
            "Validation accuracy: 87.09% (worse than 87.91% of epoch 175)\n",
            "\n",
            "Epoch #182:\n"
          ]
        },
        {
          "name": "stderr",
          "output_type": "stream",
          "text": [
            "Training model: 100%|██████████| 5/5 [00:03<00:00,  1.38it/s]\n"
          ]
        },
        {
          "name": "stdout",
          "output_type": "stream",
          "text": [
            "Train loss: 1.5271694923110897\n"
          ]
        },
        {
          "name": "stderr",
          "output_type": "stream",
          "text": [
            "Computing accuracy: 100%|██████████| 12/12 [00:04<00:00,  2.92it/s]\n"
          ]
        },
        {
          "name": "stdout",
          "output_type": "stream",
          "text": [
            "Validation accuracy: 86.96% (worse than 87.91% of epoch 175)\n",
            "\n",
            "Epoch #183:\n"
          ]
        },
        {
          "name": "stderr",
          "output_type": "stream",
          "text": [
            "Training model: 100%|██████████| 5/5 [00:03<00:00,  1.39it/s]\n"
          ]
        },
        {
          "name": "stdout",
          "output_type": "stream",
          "text": [
            "Train loss: 1.6277302271293623\n"
          ]
        },
        {
          "name": "stderr",
          "output_type": "stream",
          "text": [
            "Computing accuracy: 100%|██████████| 12/12 [00:03<00:00,  3.14it/s]\n"
          ]
        },
        {
          "name": "stdout",
          "output_type": "stream",
          "text": [
            "Validation accuracy: 87.23% (worse than 87.91% of epoch 175)\n",
            "\n",
            "Epoch #184:\n"
          ]
        },
        {
          "name": "stderr",
          "output_type": "stream",
          "text": [
            "Training model: 100%|██████████| 5/5 [00:03<00:00,  1.36it/s]\n"
          ]
        },
        {
          "name": "stdout",
          "output_type": "stream",
          "text": [
            "Train loss: 1.522694318401737\n"
          ]
        },
        {
          "name": "stderr",
          "output_type": "stream",
          "text": [
            "Computing accuracy: 100%|██████████| 12/12 [00:03<00:00,  3.02it/s]\n"
          ]
        },
        {
          "name": "stdout",
          "output_type": "stream",
          "text": [
            "Validation accuracy: 87.23% (worse than 87.91% of epoch 175)\n",
            "\n",
            "Epoch #185:\n"
          ]
        },
        {
          "name": "stderr",
          "output_type": "stream",
          "text": [
            "Training model: 100%|██████████| 5/5 [00:03<00:00,  1.38it/s]\n"
          ]
        },
        {
          "name": "stdout",
          "output_type": "stream",
          "text": [
            "Train loss: 1.5110756791888773\n"
          ]
        },
        {
          "name": "stderr",
          "output_type": "stream",
          "text": [
            "Computing accuracy: 100%|██████████| 12/12 [00:03<00:00,  3.10it/s]\n"
          ]
        },
        {
          "name": "stdout",
          "output_type": "stream",
          "text": [
            "Validation accuracy: 86.96% (worse than 87.91% of epoch 175)\n",
            "\n",
            "Epoch #186:\n"
          ]
        },
        {
          "name": "stderr",
          "output_type": "stream",
          "text": [
            "Training model: 100%|██████████| 5/5 [00:03<00:00,  1.37it/s]\n"
          ]
        },
        {
          "name": "stdout",
          "output_type": "stream",
          "text": [
            "Train loss: 1.4856668284414156\n"
          ]
        },
        {
          "name": "stderr",
          "output_type": "stream",
          "text": [
            "Computing accuracy: 100%|██████████| 12/12 [00:04<00:00,  3.00it/s]\n"
          ]
        },
        {
          "name": "stdout",
          "output_type": "stream",
          "text": [
            "Validation accuracy: 87.23% (worse than 87.91% of epoch 175)\n",
            "\n",
            "Epoch #187:\n"
          ]
        },
        {
          "name": "stderr",
          "output_type": "stream",
          "text": [
            "Training model: 100%|██████████| 5/5 [00:03<00:00,  1.34it/s]\n"
          ]
        },
        {
          "name": "stdout",
          "output_type": "stream",
          "text": [
            "Train loss: 1.5437294597033515\n"
          ]
        },
        {
          "name": "stderr",
          "output_type": "stream",
          "text": [
            "Computing accuracy: 100%|██████████| 12/12 [00:03<00:00,  3.09it/s]\n"
          ]
        },
        {
          "name": "stdout",
          "output_type": "stream",
          "text": [
            "Validation accuracy: 87.23% (worse than 87.91% of epoch 175)\n",
            "\n",
            "Epoch #188:\n"
          ]
        },
        {
          "name": "stderr",
          "output_type": "stream",
          "text": [
            "Training model: 100%|██████████| 5/5 [00:03<00:00,  1.31it/s]\n"
          ]
        },
        {
          "name": "stdout",
          "output_type": "stream",
          "text": [
            "Train loss: 1.5072445818392572\n"
          ]
        },
        {
          "name": "stderr",
          "output_type": "stream",
          "text": [
            "Computing accuracy: 100%|██████████| 12/12 [00:03<00:00,  3.09it/s]\n"
          ]
        },
        {
          "name": "stdout",
          "output_type": "stream",
          "text": [
            "Validation accuracy: 87.50% (worse than 87.91% of epoch 175)\n",
            "\n",
            "Epoch #189:\n"
          ]
        },
        {
          "name": "stderr",
          "output_type": "stream",
          "text": [
            "Training model: 100%|██████████| 5/5 [00:03<00:00,  1.38it/s]\n"
          ]
        },
        {
          "name": "stdout",
          "output_type": "stream",
          "text": [
            "Train loss: 1.4993262252664667\n"
          ]
        },
        {
          "name": "stderr",
          "output_type": "stream",
          "text": [
            "Computing accuracy: 100%|██████████| 12/12 [00:03<00:00,  3.07it/s]\n"
          ]
        },
        {
          "name": "stdout",
          "output_type": "stream",
          "text": [
            "Validation accuracy: 87.91% (worse than 87.91% of epoch 175)\n",
            "\n",
            "Epoch #190:\n"
          ]
        },
        {
          "name": "stderr",
          "output_type": "stream",
          "text": [
            "Training model: 100%|██████████| 5/5 [00:03<00:00,  1.34it/s]\n"
          ]
        },
        {
          "name": "stdout",
          "output_type": "stream",
          "text": [
            "Train loss: 1.4724388865383076\n"
          ]
        },
        {
          "name": "stderr",
          "output_type": "stream",
          "text": [
            "Computing accuracy: 100%|██████████| 12/12 [00:03<00:00,  3.13it/s]\n"
          ]
        },
        {
          "name": "stdout",
          "output_type": "stream",
          "text": [
            "Validation accuracy: 87.91% (worse than 87.91% of epoch 175)\n",
            "\n",
            "Epoch #191:\n"
          ]
        },
        {
          "name": "stderr",
          "output_type": "stream",
          "text": [
            "Training model: 100%|██████████| 5/5 [00:03<00:00,  1.39it/s]\n"
          ]
        },
        {
          "name": "stdout",
          "output_type": "stream",
          "text": [
            "Train loss: 1.4931503799793806\n"
          ]
        },
        {
          "name": "stderr",
          "output_type": "stream",
          "text": [
            "Computing accuracy: 100%|██████████| 12/12 [00:04<00:00,  2.98it/s]\n"
          ]
        },
        {
          "name": "stdout",
          "output_type": "stream",
          "text": [
            "Validation accuracy: 88.04% (new best)\n",
            "Checkpoint saved\n",
            "\n",
            "Epoch #192:\n"
          ]
        },
        {
          "name": "stderr",
          "output_type": "stream",
          "text": [
            "Training model: 100%|██████████| 5/5 [00:03<00:00,  1.36it/s]\n"
          ]
        },
        {
          "name": "stdout",
          "output_type": "stream",
          "text": [
            "Train loss: 1.4620581193960709\n"
          ]
        },
        {
          "name": "stderr",
          "output_type": "stream",
          "text": [
            "Computing accuracy: 100%|██████████| 12/12 [00:03<00:00,  3.06it/s]\n"
          ]
        },
        {
          "name": "stdout",
          "output_type": "stream",
          "text": [
            "Validation accuracy: 87.91% (worse than 88.04% of epoch 191)\n",
            "\n",
            "Epoch #193:\n"
          ]
        },
        {
          "name": "stderr",
          "output_type": "stream",
          "text": [
            "Training model: 100%|██████████| 5/5 [00:03<00:00,  1.34it/s]\n"
          ]
        },
        {
          "name": "stdout",
          "output_type": "stream",
          "text": [
            "Train loss: 1.4738901465556862\n"
          ]
        },
        {
          "name": "stderr",
          "output_type": "stream",
          "text": [
            "Computing accuracy: 100%|██████████| 12/12 [00:04<00:00,  2.92it/s]\n"
          ]
        },
        {
          "name": "stdout",
          "output_type": "stream",
          "text": [
            "Validation accuracy: 88.04% (worse than 88.04% of epoch 191)\n",
            "\n",
            "Epoch #194:\n"
          ]
        },
        {
          "name": "stderr",
          "output_type": "stream",
          "text": [
            "Training model: 100%|██████████| 5/5 [00:03<00:00,  1.36it/s]\n"
          ]
        },
        {
          "name": "stdout",
          "output_type": "stream",
          "text": [
            "Train loss: 1.517765070437364\n"
          ]
        },
        {
          "name": "stderr",
          "output_type": "stream",
          "text": [
            "Computing accuracy: 100%|██████████| 12/12 [00:03<00:00,  3.08it/s]\n"
          ]
        },
        {
          "name": "stdout",
          "output_type": "stream",
          "text": [
            "Validation accuracy: 87.77% (worse than 88.04% of epoch 191)\n",
            "\n",
            "Epoch #195:\n"
          ]
        },
        {
          "name": "stderr",
          "output_type": "stream",
          "text": [
            "Training model: 100%|██████████| 5/5 [00:03<00:00,  1.36it/s]\n"
          ]
        },
        {
          "name": "stdout",
          "output_type": "stream",
          "text": [
            "Train loss: 1.5449280825621055\n"
          ]
        },
        {
          "name": "stderr",
          "output_type": "stream",
          "text": [
            "Computing accuracy: 100%|██████████| 12/12 [00:03<00:00,  3.01it/s]\n"
          ]
        },
        {
          "name": "stdout",
          "output_type": "stream",
          "text": [
            "Validation accuracy: 87.64% (worse than 88.04% of epoch 191)\n",
            "\n",
            "Epoch #196:\n"
          ]
        },
        {
          "name": "stderr",
          "output_type": "stream",
          "text": [
            "Training model: 100%|██████████| 5/5 [00:03<00:00,  1.39it/s]\n"
          ]
        },
        {
          "name": "stdout",
          "output_type": "stream",
          "text": [
            "Train loss: 1.4676075037848004\n"
          ]
        },
        {
          "name": "stderr",
          "output_type": "stream",
          "text": [
            "Computing accuracy: 100%|██████████| 12/12 [00:03<00:00,  3.11it/s]\n"
          ]
        },
        {
          "name": "stdout",
          "output_type": "stream",
          "text": [
            "Validation accuracy: 87.50% (worse than 88.04% of epoch 191)\n",
            "\n",
            "Epoch #197:\n"
          ]
        },
        {
          "name": "stderr",
          "output_type": "stream",
          "text": [
            "Training model: 100%|██████████| 5/5 [00:03<00:00,  1.37it/s]\n"
          ]
        },
        {
          "name": "stdout",
          "output_type": "stream",
          "text": [
            "Train loss: 1.4146578523791067\n"
          ]
        },
        {
          "name": "stderr",
          "output_type": "stream",
          "text": [
            "Computing accuracy: 100%|██████████| 12/12 [00:03<00:00,  3.05it/s]\n"
          ]
        },
        {
          "name": "stdout",
          "output_type": "stream",
          "text": [
            "Validation accuracy: 87.36% (worse than 88.04% of epoch 191)\n",
            "\n",
            "Epoch #198:\n"
          ]
        },
        {
          "name": "stderr",
          "output_type": "stream",
          "text": [
            "Training model: 100%|██████████| 5/5 [00:03<00:00,  1.39it/s]\n"
          ]
        },
        {
          "name": "stdout",
          "output_type": "stream",
          "text": [
            "Train loss: 1.4558429118142138\n"
          ]
        },
        {
          "name": "stderr",
          "output_type": "stream",
          "text": [
            "Computing accuracy: 100%|██████████| 12/12 [00:03<00:00,  3.04it/s]\n"
          ]
        },
        {
          "name": "stdout",
          "output_type": "stream",
          "text": [
            "Validation accuracy: 87.23% (worse than 88.04% of epoch 191)\n",
            "\n",
            "Epoch #199:\n"
          ]
        },
        {
          "name": "stderr",
          "output_type": "stream",
          "text": [
            "Training model: 100%|██████████| 5/5 [00:04<00:00,  1.24it/s]\n"
          ]
        },
        {
          "name": "stdout",
          "output_type": "stream",
          "text": [
            "Train loss: 1.424257148511915\n"
          ]
        },
        {
          "name": "stderr",
          "output_type": "stream",
          "text": [
            "Computing accuracy: 100%|██████████| 12/12 [00:03<00:00,  3.04it/s]"
          ]
        },
        {
          "name": "stdout",
          "output_type": "stream",
          "text": [
            "Validation accuracy: 87.50% (worse than 88.04% of epoch 191)\n",
            "\n"
          ]
        },
        {
          "name": "stderr",
          "output_type": "stream",
          "text": [
            "\n"
          ]
        }
      ],
      "source": [
        "# Train the model\n",
        "model, optimizer = train_model()\n"
      ]
    },
    {
      "cell_type": "code",
      "execution_count": 86,
      "metadata": {
        "colab": {
          "base_uri": "https://localhost:8080/"
        },
        "id": "k3RkV005quy6",
        "outputId": "0838222e-b0f2-4e6e-a225-3f85c432f40c"
      },
      "outputs": [
        {
          "name": "stdout",
          "output_type": "stream",
          "text": [
            "Checkpoint loaded\n"
          ]
        },
        {
          "name": "stderr",
          "output_type": "stream",
          "text": [
            "Computing accuracy:  98%|█████████▊| 57/58 [00:21<00:00,  2.62it/s]/usr/local/lib/python3.10/dist-packages/torch/nn/modules/conv.py:456: UserWarning: Plan failed with a cudnnException: CUDNN_BACKEND_EXECUTION_PLAN_DESCRIPTOR: cudnnFinalize Descriptor Failed cudnn_status: CUDNN_STATUS_NOT_SUPPORTED (Triggered internally at ../aten/src/ATen/native/cudnn/Conv_v8.cpp:919.)\n",
            "  return F.conv2d(input, weight, bias, self.stride,\n",
            "Computing accuracy: 100%|██████████| 58/58 [00:21<00:00,  2.72it/s]"
          ]
        },
        {
          "name": "stdout",
          "output_type": "stream",
          "text": [
            "Test accuracy: 84.82%\n"
          ]
        },
        {
          "name": "stderr",
          "output_type": "stream",
          "text": [
            "\n"
          ]
        }
      ],
      "source": [
        "load_checkpoint(model, optimizer)\n",
        "print('Checkpoint loaded')\n",
        "\n",
        "test_accuracy = get_model_accuracy(model, test_data_loader)\n",
        "\n",
        "print(f'Test accuracy: {100 * test_accuracy:.2f}%')"
      ]
    }
  ],
  "metadata": {
    "accelerator": "GPU",
    "colab": {
      "gpuType": "A100",
      "machine_shape": "hm",
      "provenance": []
    },
    "kernelspec": {
      "display_name": "Python 3",
      "name": "python3"
    },
    "language_info": {
      "name": "python"
    }
  },
  "nbformat": 4,
  "nbformat_minor": 0
}
